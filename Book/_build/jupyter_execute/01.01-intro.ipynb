{
 "cells": [
  {
   "cell_type": "markdown",
   "metadata": {},
   "source": [
    "(whywhywhy)=\n",
    "# Why do we learn statistics?\n",
    "\n",
    "> \"Thou shalt not answer questionnaires  \n",
    "Or quizzes upon World Affairs,\n",
    "\n",
    "> Nor with compliance  \n",
    "Take any test. Thou shalt not sit  \n",
    "With statisticians nor commit\"\n",
    "\n",
    "> -- W.H. Auden [^note1]\n",
    "\n",
    "## On the psychology of statistics\n",
    "\n",
    "To the surprise of many students, statistics is a fairly significant part of a psychological education. To the surprise of no-one, statistics is very rarely the *favourite* part of one's psychological education. After all, if you really loved the idea of doing statistics, you'd probably be enrolled in a statistics class right now, not a psychology class. So, not surprisingly, there's a pretty large proportion of the student base that isn't happy about the fact that psychology has so much statistics in it. In view of this, I thought that the right place to start might be to answer some of the more common questions that people have about stats...\n",
    "\n",
    "A big part of this issue at hand relates to the very idea of statistics. What is it? What's it there for? And why are scientists so bloody obsessed with it? These are all good questions, when you think about it. So let's start with the last one. As a group, scientists seem to be bizarrely fixated on running statistical tests on everything. In fact, we use statistics so often that we sometimes forget to explain to people why we do. It's a kind of article of faith among scientists -- and especially social scientists -- that your findings can't be trusted until you've done some stats. Undergraduate students might be forgiven for thinking that we're all completely mad, because no-one takes the time to answer one very simple question:\n",
    "\n",
    ">*Why do you do statistics? Why don't scientists just use **common sense?***\n",
    "\n",
    "It's a naive question in some ways, but most good questions are. There's a lot of good answers to it, [^note2] but for my money, the best answer is a really simple one: we don't trust ourselves enough. We worry that we're human, and susceptible to all of the biases, temptations and frailties that humans suffer from. Much of statistics is basically a safeguard. Using \"common sense\" to evaluate evidence means trusting gut instincts, relying on verbal arguments and on using the raw power of human reason to come up with the right answer. Most scientists don't think this approach is likely to work.\n",
    "\n",
    "In fact, come to think of it, this sounds a lot like a psychological question to me, and since I do work in a psychology department, it seems like a good idea to dig a little deeper here. Is it really plausible to think that this \"common sense\" approach is very trustworthy? Verbal arguments have to be constructed in language, and all languages have biases -- some things are harder to say than others, and not necessarily because they're false (e.g., quantum electrodynamics is a good theory, but hard to explain in words). The instincts of our \"gut\" aren't designed to solve scientific problems, they're designed to handle day to day inferences -- and given that biological evolution is slower than cultural change, we should say that they're designed to solve the day to day problems for a *different world* than the one we live in. Most fundamentally, reasoning sensibly requires people to engage in \"induction\", making wise guesses and going beyond the immediate evidence of the senses to make generalisations about the world. If you think that you can do that without being influenced by various distractors, well, I have a bridge in Brooklyn I'd like to sell you. Heck, as the next section shows, we can't even solve \"deductive\" problems (ones where no guessing is required) without being influenced by our pre-existing biases.\n",
    "\n",
    "\n",
    "### The curse of belief bias\n",
    "\n",
    "People are mostly pretty smart. We're certainly smarter than the other species that we share the planet with (though many people might disagree). Our minds are quite amazing things, and we seem to be capable of the most incredible feats of thought and reason. That doesn't make us perfect though. And among the many things that psychologists have shown over the years is that we really do find it hard to be neutral, to evaluate evidence impartially and without being swayed by pre-existing biases. A good example of this is the ***belief bias effect*** in logical reasoning: if you ask people to decide whether a particular argument is logically valid (i.e., conclusion would be true if the premises were true), we tend to be influenced by the believability of the conclusion, even when we shouldn't. For instance, here's a valid argument where the conclusion is believable:\n",
    "\n",
    ">No cigarettes are inexpensive (Premise 1) \\\n",
    ">Some addictive things are inexpensive (Premise 2)\\\n",
    ">Therefore, some addictive things are not cigarettes (Conclusion)\n",
    "\n",
    "And here's a valid argument where the conclusion is not believable:\n",
    "\n",
    ">No addictive things are inexpensive (Premise 1)\\\n",
    ">Some cigarettes are inexpensive (Premise 2)\\\n",
    ">Therefore, some cigarettes are not addictive (Conclusion)\n",
    "\n",
    "The logical *structure* of argument \\#2 is identical to the structure of argument \\#1, and they're both valid. However, in the second argument, there are good reasons to think that premise 1 is incorrect, and as a result it's probably the case that the conclusion is also incorrect. But that's entirely irrelevant to the topic at hand: an argument is deductively valid if the conclusion is a logical consequence of the premises. That is, a valid argument doesn't have to involve true statements.\n",
    "\n",
    "On the other hand, here's an invalid argument that has a believable conclusion:\n",
    "\n",
    ">No addictive things are inexpensive (Premise 1)\\\n",
    ">Some cigarettes are inexpensive (Premise 2)\\\n",
    ">Therefore, some addictive things are not cigarettes (Conclusion)\n",
    "\n",
    "And finally, an invalid argument with an unbelievable conclusion:\n",
    "\n",
    ">No cigarettes are inexpensive (Premise 1)\\\n",
    ">Some addictive things are inexpensive (Premise 2)\\\n",
    ">Therefore, some cigarettes are not addictive (Conclusion)\n",
    "\n",
    "Now, suppose that people really are perfectly able to set aside their pre-existing biases about what is true and what isn't, and purely evaluate an argument on its logical merits. We'd expect 100% of people to say that the valid arguments are valid, and 0% of people to say that the invalid arguments are valid. So if you ran an experiment looking at this, you'd expect to see data like this:\n",
    "\n",
    "\n",
    "|                   | conclusion feels true| conclusion feels false |\n",
    "|------------------ |:--------------------:|:----------------------:|\n",
    "|argument is valid  |100% say \"valid\"      |100% say \"valid\"        |\n",
    "|argument is invalid|0% say \"valid\"        |0% say \"valid\"          |\n",
    "\n",
    "If the psychological data looked like this (or even a good approximation to this), we might feel safe in just trusting our gut instincts. That is, it'd be perfectly okay just to let scientists evaluate data based on their common sense, and not bother with all this murky statistics stuff. However, you guys have taken psych classes, and by now you probably know where this is going...\n",
    "\n",
    "In a classic study, {cite}`Evans1983` ran an experiment looking at exactly this. What they found is that when pre-existing biases (i.e., beliefs) were in agreement with the structure of the data, everything went the way you'd hope: \n",
    "\n",
    "\n",
    "|                   | conclusion feels true| conclusion feels false |\n",
    "|------------------ |:--------------------:|:----------------------:|\n",
    "|argument is valid  |92% say \"valid\"       |                        |\n",
    "|argument is invalid|                      |8% say \"valid\"          |\n",
    "\n",
    "Not perfect, but that's pretty good. But look what happens when our intuitive feelings about the truth of the conclusion run against the logical structure of the argument:\n",
    "\n",
    "|                   | conclusion feels true| conclusion feels false |\n",
    "|------------------ |:--------------------:|:----------------------:|\n",
    "|argument is valid  |92% say \"valid\"       |**46% say \"valid\"**     |\n",
    "|argument is invalid|**92% say \"valid\"**   |8% say \"valid\"          |\n",
    "\n",
    "Oh dear, that's not as good. Apparently, when people are presented with a strong argument that contradicts our pre-existing beliefs, we find it pretty hard to even perceive it to be a strong argument (people only did so 46% of the time). Even worse, when people are presented with a weak argument that agrees with our pre-existing biases, almost no-one can see that the argument is weak (people got that one wrong 92% of the time!)[^note3]\n",
    "\n",
    "If you think about it, it's not as if these data are horribly damning. Overall, people did do better than chance at compensating for their prior biases, since about 60% of people's judgements were correct (you'd expect 50% by chance). Even so, if you were a professional \"evaluator of evidence\", and someone came along and offered you a magic tool that improves your chances of making the right decision from 60% to (say) 95%, you'd probably jump at it, right? Of course you would. Thankfully, we actually do have a tool that can do this. But it's not magic, it's statistics. So that's reason \\#1 why scientists love statistics. It's just *too easy* for us to \"believe what we want to believe\"; so if we want to \"believe in the data\" instead, we're going to need a bit of help to keep our personal biases under control. That's what statistics does: it helps keep us honest.\n",
    "\n",
    "\n",
    "\n",
    "## The cautionary tale of Simpson's paradox\n",
    "\n",
    "The following is a true story (I think...). In 1973, the University of California, Berkeley had some worries about the admissions of students into their postgraduate courses. Specifically, the thing that caused the problem was the gender breakdown of their admissions, which looked like this...\n",
    "\n",
    "|       | Number of applicants | Percent admitted |\n",
    "|-------|:--------------------:|:----------------:|\n",
    "|Males  |8442                  |46%               |\n",
    "|Females|4321                  |35%               |\n",
    "\n",
    "...and they were worried about being sued. [^note4] Given that there were nearly 13,000 applicants, a difference of 9% in admission rates between males and females is just way too big to be a coincidence. Pretty compelling data, right? And if I were to say to you that these data *actually* reflect a weak bias in favour of women (sort of!), you'd probably think that I was either crazy or sexist. \n",
    "\n",
    "Oddly, it's actually sort of true ...when people started looking more carefully at the admissions data they told a rather different story {cite}`Bickel1975`. Specifically, when they looked at it on a department by department basis, it turned out that most of the departments actually had a slightly *higher* success rate for female applicants than for male applicants.  shows the admission figures for the six largest departments (with the names of the departments removed for privacy reasons):\n",
    "\n",
    "[^note1]: The quote comes from Auden's 1946 poem *Under Which Lyre: A Reactionary Tract for the Times*, delivered as part of a commencement address at Harvard University. The history of the poem is kind of interesting: http://harvardmagazine.com/2007/11/a-poets-warning.html\n",
    "\n",
    "[^note2]: Including the suggestion that common sense is in short supply among scientists.\n",
    "\n",
    "[^note3]: In my more cynical moments I feel like this fact alone explains 95% of what I read on the internet.\n",
    "\n",
    "[^note4]: Earlier versions of these notes incorrectly suggested that they actually were sued -- apparently that's not true. There's a nice commentary on this here: https://www.refsmmat.com/posts/2016-05-08-simpsons-paradox-berkeley.html. A big thank you to Wilfried Van Hirtum for pointing this out to me!"
   ]
  },
  {
   "cell_type": "code",
   "execution_count": 1,
   "metadata": {
    "tags": [
     "hide-input"
    ]
   },
   "outputs": [
    {
     "data": {
      "text/html": [
       "<div>\n",
       "<style scoped>\n",
       "    .dataframe tbody tr th:only-of-type {\n",
       "        vertical-align: middle;\n",
       "    }\n",
       "\n",
       "    .dataframe tbody tr th {\n",
       "        vertical-align: top;\n",
       "    }\n",
       "\n",
       "    .dataframe thead th {\n",
       "        text-align: right;\n",
       "    }\n",
       "</style>\n",
       "<table border=\"1\" class=\"dataframe\">\n",
       "  <thead>\n",
       "    <tr style=\"text-align: right;\">\n",
       "      <th></th>\n",
       "      <th>Department</th>\n",
       "      <th>Male Applicants</th>\n",
       "      <th>Male Percent Admitted</th>\n",
       "      <th>Female Applicants</th>\n",
       "      <th>Female Percent Admitted</th>\n",
       "    </tr>\n",
       "  </thead>\n",
       "  <tbody>\n",
       "    <tr>\n",
       "      <th>0</th>\n",
       "      <td>A</td>\n",
       "      <td>825</td>\n",
       "      <td>62%</td>\n",
       "      <td>108</td>\n",
       "      <td>82%</td>\n",
       "    </tr>\n",
       "    <tr>\n",
       "      <th>1</th>\n",
       "      <td>B</td>\n",
       "      <td>560</td>\n",
       "      <td>63%</td>\n",
       "      <td>25</td>\n",
       "      <td>68%</td>\n",
       "    </tr>\n",
       "    <tr>\n",
       "      <th>2</th>\n",
       "      <td>C</td>\n",
       "      <td>325</td>\n",
       "      <td>37%</td>\n",
       "      <td>593</td>\n",
       "      <td>34%</td>\n",
       "    </tr>\n",
       "    <tr>\n",
       "      <th>3</th>\n",
       "      <td>D</td>\n",
       "      <td>417</td>\n",
       "      <td>33%</td>\n",
       "      <td>375</td>\n",
       "      <td>35%</td>\n",
       "    </tr>\n",
       "    <tr>\n",
       "      <th>4</th>\n",
       "      <td>E</td>\n",
       "      <td>191</td>\n",
       "      <td>28%</td>\n",
       "      <td>393</td>\n",
       "      <td>24%</td>\n",
       "    </tr>\n",
       "    <tr>\n",
       "      <th>5</th>\n",
       "      <td>F</td>\n",
       "      <td>272</td>\n",
       "      <td>6%</td>\n",
       "      <td>341</td>\n",
       "      <td>7%</td>\n",
       "    </tr>\n",
       "  </tbody>\n",
       "</table>\n",
       "</div>"
      ],
      "text/plain": [
       "  Department  Male Applicants Male Percent Admitted  Female Applicants  \\\n",
       "0          A              825                   62%                108   \n",
       "1          B              560                   63%                 25   \n",
       "2          C              325                   37%                593   \n",
       "3          D              417                   33%                375   \n",
       "4          E              191                   28%                393   \n",
       "5          F              272                    6%                341   \n",
       "\n",
       "  Female Percent Admitted  \n",
       "0                     82%  \n",
       "1                     68%  \n",
       "2                     34%  \n",
       "3                     35%  \n",
       "4                     24%  \n",
       "5                      7%  "
      ]
     },
     "metadata": {
      "scrapbook": {
       "mime_prefix": "application/papermill.record/",
       "name": "berkley-table"
      }
     },
     "output_type": "display_data"
    }
   ],
   "source": [
    "from myst_nb import glue\n",
    "import pandas as pd\n",
    "\n",
    "data = {'Department': ['A', 'B', 'C', 'D', 'E', 'F'],\n",
    "       'Male Applicants': [825,560,325,417,191,272],\n",
    "       'Male Percent Admitted': ['62%','63%','37%','33%','28%','6%'],\n",
    "       'Female Applicants': [108,25,593,375,393,341],\n",
    "       'Female Percent Admitted': ['82%','68%','34%','35%','24%','7%']}\n",
    "\n",
    "df = pd.DataFrame(data)\n",
    "\n",
    "glue(\"berkley-table\", df, display=False)"
   ]
  },
  {
   "cell_type": "markdown",
   "metadata": {},
   "source": [
    "```{glue:figure} berkley-table\n",
    ":figwidth: 600px\n",
    ":name: fig-berkleytable\n",
    "\n",
    "Admission figures for the six largest departments by gender\n",
    "```"
   ]
  },
  {
   "cell_type": "markdown",
   "metadata": {},
   "source": [
    "Remarkably, most departments had a *higher* rate of admissions for females than for males! Yet the overall rate of admission across the university for females was *lower* than for males. How can this be? How can both of these statements be true at the same time?\n",
    "\n",
    "Here's what's going on. Firstly, notice that the departments are *not* equal to one another in terms of their admission percentages: some departments (e.g., engineering, chemistry) tended to admit a high percentage of the qualified applicants, whereas others (e.g., English) tended to reject most of the candidates, even if they were high quality. So, among the six departments shown above, notice that department A is the most generous, followed by B, C, D, E and F in that order. Next, notice that males and females tended to apply to different departments. If we rank the departments in terms of the total number of male applicants, we get **A**>**B**>D>C>F>E (the \"easy\" departments are in bold). On the whole, males tended to apply to the departments that had high admission rates. Now compare this to how the female applicants distributed themselves. Ranking the departments in terms of the total number of female applicants produces a quite different ordering C>E>D>F>**A**>**B**. In other words, what these data seem to be suggesting is that the female applicants tended to apply to \"harder\" departments. And in fact, if we look at the figure below, we see that this trend is systematic, and quite striking. This effect is known as Simpson's paradox. It's not common, but it does happen in real life, and most people are very surprised by it when they first encounter it, and many people refuse to even believe that it's real. It is very real. And while there are lots of very subtle statistical lessons buried in there, I want to use it to make a much more important point ...doing research is hard, and there are *lots* of subtle, counterintuitive traps lying in wait for the unwary.  That's reason #2 why scientists love statistics, and why we teach research methods. Because science is hard, and the truth is sometimes cunningly hidden in the nooks and crannies of complicated data."
   ]
  },
  {
   "cell_type": "code",
   "execution_count": 2,
   "metadata": {
    "tags": [
     "hide-input"
    ]
   },
   "outputs": [
    {
     "data": {
      "text/plain": [
       "<seaborn.axisgrid.FacetGrid at 0x104b97eb0>"
      ]
     },
     "metadata": {
      "scrapbook": {
       "mime_prefix": "application/papermill.record/",
       "name": "berkely-fig"
      }
     },
     "output_type": "display_data"
    },
    {
     "data": {
      "image/png": "[encoded data removed]",
      "text/plain": [
       "<Figure size 424.125x360 with 1 Axes>"
      ]
     },
     "metadata": {
      "filenames": {
       "image/png": "/Users/ethan/Documents/GitHub/pythonbook/Book/_build/jupyter_execute/01.01-intro_4_1.png"
      },
      "needs_background": "light"
     },
     "output_type": "display_data"
    }
   ],
   "source": [
    "from myst_nb import glue\n",
    "import os\n",
    "import pandas as pd\n",
    "from pathlib import Path\n",
    "\n",
    "cwd = os.getcwd()\n",
    "os.chdir(str(Path(cwd).parents[0]) + '/Data')\n",
    "\n",
    "df_berkely = pd.read_csv('berkeley2.csv')\n",
    "\n",
    "\n",
    "import seaborn as sns\n",
    "\n",
    "# Plot Berkely data\n",
    "berkelyplot = sns.lmplot(\n",
    "    data = df_berkely,\n",
    "    x = \"women.apply\", y = \"total.admit\",\n",
    "    hue = \"depart.size\"\n",
    ")\n",
    "\n",
    "\n",
    "berkelyplot.set(xlabel =\"Pecentage of Female Applicants\", \n",
    "                ylabel = \"Admission rate (both genders)\")\n",
    "\n",
    "glue(\"berkely-fig\", berkelyplot, display=False)"
   ]
  },
  {
   "cell_type": "markdown",
   "metadata": {},
   "source": [
    "```{glue:figure} berkely_fig\n",
    ":figwidth: 600px\n",
    ":name: fig-berkely\n",
    "\n",
    "The Berkeley 1973 college admissions data. This figure plots the admission rate for the 85 departments that had at least one female applicant, as a function of the percentage of applicants that were female. Based on data from {cite}`Bickel1975`.\n",
    "```"
   ]
  },
  {
   "cell_type": "markdown",
   "metadata": {},
   "source": [
    "Before leaving this topic entirely, I want to point out something else really critical that is often overlooked in a research methods class. Statistics only solves *part* of the problem. Remember that we started all this with the concern that Berkeley's admissions processes might be unfairly biased against female applicants. When we looked at the \"aggregated\" data, it did seem like the university was discriminating against women, but when we \"disaggregate\" and looked at the individual behaviour of all the departments, it turned out that the actual departments were, if anything, slightly biased in favour of women. The gender bias in total admissions was caused by the fact that women tended to self-select for harder departments.  From a legal perspective, that would probably put the university in the clear. Postgraduate admissions are determined at the level of the individual department (and there are good reasons to do that), and at the level of individual departments, the decisions are more or less unbiased (the weak bias in favour of females at that level is small, and not consistent across departments). Since the university can't dictate which departments people choose to apply to, and the decision making takes place at the level of the department, it can hardly be held accountable for any biases that those choices produce. \n",
    "\n",
    "That was the basis for my somewhat glib remarks earlier, but that's not exactly the whole story, is it? After all, if we're interested in this from a more sociological and psychological perspective, we might want to ask *why* there are such strong gender differences in applications. Why do males tend to apply to engineering more often than females, and why is this reversed for the English department? And why is it it the case that the departments that tend to have a female-application bias tend to have lower overall admission rates than those departments that have a male-application bias? Might this not still reflect a gender bias, even though every single department is itself unbiased? It might. Suppose, hypothetically, that males preferred to apply to \"hard sciences\" and females prefer \"humanities\". And suppose further that the reason the humanities departments have low admission rates is  because the government doesn't want to fund the humanities (Ph.D. places, for instance, are often tied to government funded research projects). Does that constitute a gender bias? Or just an unenlightened view of the value of the humanities? What if someone at a high level in the government cut the humanities funds because they felt that the humanities are \"useless chick stuff\". That seems pretty *blatantly* gender biased. None of this falls within the purview of statistics, but it matters to the research project. If you're interested in the overall structural effects of subtle gender biases, then you probably want to look at *both* the aggregated and disaggregated data. If you're interested in the decision making process at Berkeley itself then you're probably only interested in the disaggregated data. \n",
    "\n",
    "In short there are a lot of critical questions that you can't answer with statistics, but the answers to those questions will have a huge impact on how you analyse and interpret data. And this is the reason why you should always think of statistics as a *tool* to help you learn about your data, no more and no less. It's a powerful tool to that end, but there's no substitute for careful thought.\n",
    "\n",
    "\n",
    "## Statistics in psychology\n",
    "\n",
    "I hope that the discussion above helped explain why science in general is so focused on statistics. But I'm guessing that you have a lot more questions about what role statistics plays in psychology, and specifically why psychology classes always devote so many lectures to stats. So here's my attempt to answer a few of them...\n",
    "\n",
    "\n",
    "**Why does psychology have so much statistics?**\n",
    "\n",
    "  To be perfectly honest, there's a few different reasons, some of which are better than others. The most important reason is that psychology is a statistical science. What I mean by that is that the \"things\" that we study are *people*. Real, complicated, gloriously messy, infuriatingly perverse people. The \"things\" of physics include objects like electrons, and while there are all sorts of complexities that arise in physics, electrons don't have minds of their own. They don't have opinions, they don't differ from each other in weird and arbitrary ways, they don't get bored in the middle of an experiment, and they don't get angry at the experimenter and then deliberately try to sabotage the data set (not that I've ever done that...). At a fundamental level, psychology is harder than physics. [^note5]\n",
    "\n",
    "  Basically, we teach statistics to you as psychologists because you need to be better at stats than physicists. There's actually a saying used sometimes in physics, to the effect that \"if your experiment needs statistics, you should have done a better experiment\". They have the luxury of being able to say that because their objects of study are pathetically simple in comparison to the vast mess that confronts social scientists. It's not just psychology, really: most social sciences are desperately reliant on statistics. Not because we're bad experimenters, but because we've picked a harder problem to solve. We teach you stats because you really, really need it.\n",
    "\n",
    "**Can't someone else do the statistics?**\n",
    "\n",
    "To some extent, but not completely. It's true that you don't need to become a fully trained statistician just to do psychology, but you do need to reach a certain level of statistical competence. In my view, there's three reasons that every psychological researcher ought to be able to do basic statistics:\n",
    "\n",
    "\n",
    "  - Firstly, there's the fundamental reason: statistics is deeply intertwined with  research design. If you want to be good at designing psychological studies, you need to  at least understand the basics of stats. \n",
    "  - Secondly, if you want to be good at the psychological side of the research, then you  need to be able to understand the psychological literature, right? But almost every  paper in the psychological literature reports the results of statistical analyses. So if you really want to understand the psychology, you need to be able to understand what  other people did with their data. And that means understanding a certain amount of statistics.\n",
    "  - Thirdly, there's a big practical problem with being dependent on other people to do all your statistics: statistical analysis is *expensive*. If you ever get bored and want  to look up how much the Australian government charges for university fees, you'll notice something interesting: statistics is designated as a \"national priority\" category, and  so the fees are much, much lower than for any other area of study. This is because there's a massive shortage of statisticians out there. So, from your perspective as a psychological researcher, the laws of supply and demand aren't exactly on your side here! As a result, in almost any real life situation where you want to do psychological research, the cruel facts will be that you don't have enough money to afford a  statistician. So the economics of the situation mean that you have to be pretty  self-sufficient. \n",
    "\n",
    "Note that a lot of these reasons generalise beyond researchers. If you want to be a practicing psychologist and stay on top of the field, it helps to be able to read the scientific literature, which relies pretty heavily on statistics. \n",
    "\n",
    "**I don't care about jobs, research, or clinical work. Do I need statistics?**\n",
    "\n",
    "Okay, now you're just messing with me. Still, I think it should matter to you too. Statistics should matter to you in the same way that statistics should matter to *everyone*: we live in the 21st century, and data are *everywhere*. Frankly, given the world in which we live these days, a basic knowledge of statistics is pretty damn close to a survival tool! Which is the topic of the next section...\n",
    "\n",
    "\n",
    "\n",
    "## Statistics in everyday life\n",
    "\n",
    ">\"We are drowning in information,    \n",
    "> but we are starved for knowledge\"\n",
    ">\n",
    ">-Various authors, original probably John Naisbitt\n",
    "\n",
    "\n",
    "When I started writing up my lecture notes I took the 20 most recent news articles posted to the ABC news website. Of those 20 articles, it turned out that 8 of them involved a discussion of something that I would call a statistical topic; 6 of those made a mistake. The most common error, if you're curious, was failing to report baseline data (e.g., the article mentions that 5% of people in situation X have some characteristic Y, but doesn't say how common the characteristic is for everyone else!) The point I'm trying to make here isn't that journalists are bad at statistics (though they almost always are), it's that a  basic knowledge of statistics is very helpful for trying to figure out when someone else is either making a mistake or even lying to you. In fact, one of the biggest things that a knowledge of statistics does to you is cause you to get angry at the newspaper or the internet on a far more frequent basis: you can find a good example of this in Section \\@ref(housingpriceexample). In later versions of this book I'll try to include more anecdotes along those lines. \n",
    "\n",
    "\n",
    "## There's more to research methods than statistics\n",
    "\n",
    "So far, most of what I've talked about is statistics, and so you'd be forgiven for thinking that statistics is all I care about in life. To be fair, you wouldn't be far wrong, but research methodology is a broader concept than statistics. So most research methods  courses will cover a lot of topics that relate much more to the pragmatics of research design, and in particular the issues that you encounter when trying to do research with humans. However, about 99% of student *fears* relate to the statistics part of the course, so I've focused on the stats in this discussion, and hopefully I've convinced you that statistics matters, and more importantly, that it's not to be feared.  That being said, it's pretty typical for introductory research methods classes to be very stats-heavy. This is not (usually) because the lecturers are evil people. Quite the contrary, in fact. Introductory classes focus a lot on the statistics because you almost always find yourself needing statistics before you need the other research methods training. Why? Because almost all of your assignments in other classes will rely on statistical training, to a much greater extent than they rely on other methodological tools. It's not common for undergraduate  assignments to require you to design your own study from the ground up (in which case you would need to know a lot about research design), but it *is* common for assignments to ask you to analyse and interpret data that were collected in a study that someone else designed (in which case you need statistics). In that sense, from the perspective of allowing you to do well in all your other classes, the statistics is more urgent. \n",
    "\n",
    "But note that \"urgent\" is different from \"important\" -- they both matter. I really do want to stress that research design is just as important as data analysis, and this book does spend a fair amount of time on it. However, while statistics has a kind of universality, and provides a set of core tools that are useful for most types of psychological research, the research methods side isn't quite so universal. There are some general principles that everyone should think about, but a lot of research design is very idiosyncratic, and is specific to the area of research that you want to engage in. To the extent that it's the details that matter, those details don't usually show up in an introductory stats and research methods class.\n",
    "\n",
    "[^note5]: Which might explain why physics is just a teensy bit further advanced as a science than we are."
   ]
  },
  {
   "cell_type": "code",
   "execution_count": null,
   "metadata": {},
   "outputs": [],
   "source": []
  }
 ],
 "metadata": {
  "celltoolbar": "Tags",
  "kernelspec": {
   "display_name": "Python 3 (ipykernel)",
   "language": "python",
   "name": "python3"
  },
  "language_info": {
   "codemirror_mode": {
    "name": "ipython",
    "version": 3
   },
   "file_extension": ".py",
   "mimetype": "text/x-python",
   "name": "python",
   "nbconvert_exporter": "python",
   "pygments_lexer": "ipython3",
   "version": "3.10.4"
  }
 },
 "nbformat": 4,
 "nbformat_minor": 4
}