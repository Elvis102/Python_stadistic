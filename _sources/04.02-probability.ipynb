{
 "cells": [
  {
   "cell_type": "markdown",
   "id": "protective-result",
   "metadata": {},
   "source": [
    "(probability)=\n",
    "# Introduction to Probability\n",
    "\n",
    ">*[God] has afforded us only the twilight ... of Probability.* \n",
    ">\n",
    "> -- John Locke\n",
    "\n",
    "Up to this point in the book, we've discussed some of the key ideas in experimental design, and we've talked a little about how you can summarise a data set.  To a lot of people, this is all there is to statistics: it's about calculating averages, collecting all the numbers, drawing pictures, and putting them all in a report somewhere. Kind of like stamp collecting, but with numbers. However, statistics covers much more than that. In fact, descriptive statistics is one of the smallest parts of statistics, and one of the least powerful. The bigger and more useful part of statistics is that it provides tools that let you make *inferences* about data. \n",
    "\n",
    "Once you start thinking about statistics in these terms -- that statistics is there to help us draw inferences from data -- you start seeing examples of it everywhere. For instance, here's a tiny extract from a newspaper article in the Sydney Morning Herald (30 Oct 2010):\n",
    "\n",
    "> \"I have a tough job,\" the Premier said in response to a poll which found her government is now the most unpopular Labor administration in polling history, with a primary vote of just 23 per cent.\n",
    "\n",
    "This kind of remark is entirely unremarkable in the papers or in everyday life, but let's have a think about what it entails. A polling company has conducted a survey, usually a pretty big one because they can afford it. I'm too lazy to track down the original survey, so let's just imagine that they called 1000 NSW voters at random, and 230 (23\\%) of those claimed that they intended to vote for the ALP. For the 2010 Federal election, the Australian Electoral Commission reported 4,610,795 enrolled voters in NSW; so the opinions of the remaining 4,609,795 voters (about 99.98\\% of voters) remain unknown to us. Even assuming that no-one lied to the polling company the only thing we can say with 100\\% confidence is that the true ALP primary vote is somewhere between 230/4610795 (about 0.005\\%) and 4610025/4610795 (about 99.83\\%). So, on what basis is it legitimate for the polling company, the newspaper, and the readership to conclude that the ALP primary vote is only about 23\\%?\n",
    "\n",
    "The answer to the question is pretty obvious: if I call 1000 people at random, and 230 of them say they intend to vote for the ALP, then it seems very unlikely that these are the *only* 230 people out of the entire voting public who actually intend to do so. In other words, we assume that the data collected by the polling company is pretty representative of the population at large. But how representative? Would we be surprised to discover that the true ALP primary vote is actually 24\\%? 29\\%? 37\\%? At this point everyday intuition starts to break down a bit. No-one would be surprised by 24\\%, and everybody would be surprised by 37\\%, but it's a bit hard to say whether 29\\% is plausible. We need some more powerful tools than just looking at the numbers and guessing.\n",
    "\n",
    "**_Inferential statistics_** provides the tools that we need to answer these sorts of questions, and since these kinds of questions lie at the heart of the scientific enterprise, they take up the lions share of every introductory course on statistics and research methods. However, the theory of statistical inference is built on top of **_probability theory_**. And it is to probability theory that we must now turn. This discussion of probability theory is basically background: there's not a lot of statistics per se in this chapter, and you don't need to understand this material in as much depth as the other chapters in this part of the book. Nevertheless, because probability theory does underpin so much of statistics, it's worth covering some of the basics. "
   ]
  },
  {
   "cell_type": "markdown",
   "id": "synthetic-simpson",
   "metadata": {},
   "source": [
    "(probstats)=\n",
    "## How are probability and statistics different?\n",
    "\n",
    "Before we start talking about probability theory, it's helpful to spend a moment thinking about the relationship between probability and statistics. The two disciplines are closely related but they're not identical. Probability theory is \"the doctrine of chances\". It's a branch of mathematics that tells you how often different kinds of events will happen. For example, all of these questions are things you can answer using probability theory:\n",
    "\n",
    "- What are the chances of a fair coin coming up heads 10 times in a row?\n",
    "- If I roll two six sided dice, how likely is it that I'll roll two sixes?\n",
    "- How likely is it that five cards drawn from a perfectly shuffled deck will all be hearts?\n",
    "- What are the chances that I'll win the lottery?\n",
    "\n",
    "\n",
    "\n",
    "Notice that all of these questions have something in common. In each case the \"truth of the world\" is known, and my question relates to the \"what kind of events\" will happen. In the first question I *know* that the coin is fair, so there's a 50\\% chance that any individual coin flip will come up heads. In the second question, I *know* that the chance of rolling a 6 on a single die is 1 in 6. In the third question I *know* that the deck is shuffled properly. And in the fourth question, I *know* that the lottery follows specific rules. You get the idea. The critical point is that probabilistic questions start with a known **_model_** of the world, and we use that model to do some calculations. The underlying model can be quite simple. For instance, in the coin flipping example, we can write down the model like this:\n",
    "\n",
    "$$\n",
    "P(\\mbox{heads}) = 0.5\n",
    "$$\n",
    "which you can read as \"the probability of heads is 0.5\". As we'll see later, in the same way that percentages are numbers that range from 0\\% to 100\\%, probabilities are just numbers that range from 0 to 1. When using this probability model to answer the first question, I don't actually know exactly what's going to happen. Maybe I'll get 10 heads, like the question says. But maybe I'll get three heads. That's the key thing: in probability theory, the *model* is known, but the *data* are not.\n",
    "\n",
    "So that's probability. What about statistics? Statistical questions work the other way around. In statistics, we *do not* know the truth about the world. All we have is the data, and it is from the data that we want to *learn* the truth about the world. Statistical questions tend to look more like these:\n",
    "\n",
    "- If my friend flips a coin 10 times and gets 10 heads, are they playing a trick on me?\n",
    "- If five cards off the top of the deck are all hearts, how likely is it that the deck was shuffled? \n",
    "- If the lottery commissioner's spouse wins the lottery, how likely is it that the lottery was rigged?\n",
    "\n",
    "\n",
    "\n",
    "This time around, the only thing we have are data. What I *know* is that I saw my friend flip the coin 10 times and it came up heads every time. And what I want to **_infer_** is whether or not I should conclude that what I just saw was actually a fair coin being flipped 10 times in a row, or whether I should suspect that my friend is playing a trick on me. The data I have look like this:\n",
    "```\n",
    "H H H H H H H H H H H\n",
    "```\n",
    "and what I'm trying to do is work out which \"model of the world\" I should put my trust in. If the coin is fair, then the model I should adopt is one that says that the probability of heads is 0.5; that is, $P(\\mbox{heads}) = 0.5$. If the coin is not fair, then I should conclude that the probability of heads is *not* 0.5, which we would write as $P(\\mbox{heads}) \\neq 0.5$. In other words, the statistical inference problem is to figure out which of these probability models is right. Clearly, the statistical question isn't the same as the probability question, but they're deeply connected to one another. Because of this, a good introduction to statistical theory will start with a discussion of what probability is and how it works.\n",
    "\n",
    "(probmeaning)=\n",
    "## What does probability mean?\n",
    "\n",
    "Let's start with the first of these questions. What is \"probability\"? It might seem surprising to you, but while statisticians and mathematicians (mostly) agree on what the *rules* of probability are, there's much less of a consensus on what the word really *means*. It seems weird because we're all very comfortable using words like \"chance\", \"likely\", \"possible\" and \"probable\", and it doesn't seem like it should be a very difficult question to answer. If you had to explain \"probability\" to a five year old, you could do a pretty good job. But if you've ever had that experience in real life, you might walk away from the conversation feeling like you didn't quite get it right, and that (like many everyday concepts) it turns out that you don't *really* know what it's all about. \n",
    "\n",
    "So I'll have a go at it. Let's suppose I want to bet on a soccer game between two teams of robots, *Arduino Arsenal* and *C Milan*. After thinking about it, I decide that there is an 80\\% probability that *Arduino Arsenal* winning. What do I mean by that? Here are three possibilities...\n",
    "\n",
    "- They're robot teams, so I can make them play over and over again, and if I did that, *Arduino Arsenal* would win 8 out of every 10 games on average.\n",
    "- For any given game, I would only agree that betting on this game is only \"fair\" if a 1 dollar bet on *C Milan* gives a 5 dollar payoff (i.e. I get my 1 dollar back plus a 4 dollar reward for being correct), as would a 4 dollar bet on *Arduino Arsenal* (i.e., my 4 dollar bet plus a 1 dollar reward). \n",
    "- My subjective \"belief\" or \"confidence\" in an *Arduino Arsenal* victory is four times as strong as my belief in a *C Milan* victory.\n",
    "\n",
    "Each of these seems sensible. However they're not identical, and not every statistician would endorse all of them. The reason is that there are different statistical ideologies (yes, really!) and depending on which one you subscribe to, you might say that some of those statements are meaningless or irrelevant. In this section, I give a brief introduction the two main approaches that exist in the literature. These are by no means the only approaches, but they're the two big ones. \n",
    "\n",
    "\n",
    "### The frequentist view\n",
    "\n",
    "The first of the two major approaches to probability, and the more dominant one in statistics, is referred to as the **_frequentist view_**, and it defines probability as a **_long-run frequency_**. Suppose we were to try flipping a fair coin, over and over again. By definition, this is a coin that has $P(H) = 0.5$. What might we observe? One possibility is that the first 20 flips might look like this:\n",
    "```\n",
    "T,H,H,H,H,T,T,H,H,H,H,T,H,H,T,T,T,T,T,H\n",
    "```\n",
    "In this case 11 of these 20 coin flips (55\\%) came up heads. Now suppose that I'd been keeping a running tally of the number of heads (which I'll call $N_H$) that I've seen, across the first $N$ flips, and calculate the proportion of heads $N_H / N$ every time. Here's what I'd get (I did literally flip coins to produce this!):"
   ]
  },
  {
   "cell_type": "code",
   "execution_count": 53,
   "id": "shaped-skating",
   "metadata": {},
   "outputs": [
    {
     "data": {
      "text/html": [
       "<div>\n",
       "<style scoped>\n",
       "    .dataframe tbody tr th:only-of-type {\n",
       "        vertical-align: middle;\n",
       "    }\n",
       "\n",
       "    .dataframe tbody tr th {\n",
       "        vertical-align: top;\n",
       "    }\n",
       "\n",
       "    .dataframe thead th {\n",
       "        text-align: right;\n",
       "    }\n",
       "</style>\n",
       "<table border=\"1\" class=\"dataframe\">\n",
       "  <thead>\n",
       "    <tr style=\"text-align: right;\">\n",
       "      <th></th>\n",
       "      <th>Number_of_flips</th>\n",
       "      <th>Number_of_heads</th>\n",
       "      <th>Proportion</th>\n",
       "    </tr>\n",
       "  </thead>\n",
       "  <tbody>\n",
       "    <tr>\n",
       "      <th>0</th>\n",
       "      <td>1</td>\n",
       "      <td>0</td>\n",
       "      <td>0.00</td>\n",
       "    </tr>\n",
       "    <tr>\n",
       "      <th>1</th>\n",
       "      <td>2</td>\n",
       "      <td>1</td>\n",
       "      <td>0.50</td>\n",
       "    </tr>\n",
       "    <tr>\n",
       "      <th>2</th>\n",
       "      <td>3</td>\n",
       "      <td>2</td>\n",
       "      <td>0.67</td>\n",
       "    </tr>\n",
       "    <tr>\n",
       "      <th>3</th>\n",
       "      <td>4</td>\n",
       "      <td>3</td>\n",
       "      <td>0.75</td>\n",
       "    </tr>\n",
       "    <tr>\n",
       "      <th>4</th>\n",
       "      <td>5</td>\n",
       "      <td>4</td>\n",
       "      <td>0.80</td>\n",
       "    </tr>\n",
       "    <tr>\n",
       "      <th>5</th>\n",
       "      <td>6</td>\n",
       "      <td>4</td>\n",
       "      <td>0.67</td>\n",
       "    </tr>\n",
       "    <tr>\n",
       "      <th>6</th>\n",
       "      <td>7</td>\n",
       "      <td>4</td>\n",
       "      <td>0.57</td>\n",
       "    </tr>\n",
       "    <tr>\n",
       "      <th>7</th>\n",
       "      <td>8</td>\n",
       "      <td>5</td>\n",
       "      <td>0.63</td>\n",
       "    </tr>\n",
       "    <tr>\n",
       "      <th>8</th>\n",
       "      <td>9</td>\n",
       "      <td>6</td>\n",
       "      <td>0.67</td>\n",
       "    </tr>\n",
       "    <tr>\n",
       "      <th>9</th>\n",
       "      <td>10</td>\n",
       "      <td>7</td>\n",
       "      <td>0.70</td>\n",
       "    </tr>\n",
       "    <tr>\n",
       "      <th>10</th>\n",
       "      <td>11</td>\n",
       "      <td>8</td>\n",
       "      <td>0.73</td>\n",
       "    </tr>\n",
       "    <tr>\n",
       "      <th>11</th>\n",
       "      <td>12</td>\n",
       "      <td>8</td>\n",
       "      <td>0.67</td>\n",
       "    </tr>\n",
       "    <tr>\n",
       "      <th>12</th>\n",
       "      <td>13</td>\n",
       "      <td>9</td>\n",
       "      <td>0.69</td>\n",
       "    </tr>\n",
       "    <tr>\n",
       "      <th>13</th>\n",
       "      <td>14</td>\n",
       "      <td>10</td>\n",
       "      <td>0.71</td>\n",
       "    </tr>\n",
       "    <tr>\n",
       "      <th>14</th>\n",
       "      <td>15</td>\n",
       "      <td>10</td>\n",
       "      <td>0.67</td>\n",
       "    </tr>\n",
       "    <tr>\n",
       "      <th>15</th>\n",
       "      <td>16</td>\n",
       "      <td>10</td>\n",
       "      <td>0.63</td>\n",
       "    </tr>\n",
       "    <tr>\n",
       "      <th>16</th>\n",
       "      <td>17</td>\n",
       "      <td>10</td>\n",
       "      <td>0.59</td>\n",
       "    </tr>\n",
       "    <tr>\n",
       "      <th>17</th>\n",
       "      <td>18</td>\n",
       "      <td>10</td>\n",
       "      <td>0.56</td>\n",
       "    </tr>\n",
       "    <tr>\n",
       "      <th>18</th>\n",
       "      <td>19</td>\n",
       "      <td>10</td>\n",
       "      <td>0.53</td>\n",
       "    </tr>\n",
       "    <tr>\n",
       "      <th>19</th>\n",
       "      <td>20</td>\n",
       "      <td>11</td>\n",
       "      <td>0.55</td>\n",
       "    </tr>\n",
       "  </tbody>\n",
       "</table>\n",
       "</div>"
      ],
      "text/plain": [
       "    Number_of_flips  Number_of_heads  Proportion\n",
       "0                 1                0        0.00\n",
       "1                 2                1        0.50\n",
       "2                 3                2        0.67\n",
       "3                 4                3        0.75\n",
       "4                 5                4        0.80\n",
       "5                 6                4        0.67\n",
       "6                 7                4        0.57\n",
       "7                 8                5        0.63\n",
       "8                 9                6        0.67\n",
       "9                10                7        0.70\n",
       "10               11                8        0.73\n",
       "11               12                8        0.67\n",
       "12               13                9        0.69\n",
       "13               14               10        0.71\n",
       "14               15               10        0.67\n",
       "15               16               10        0.63\n",
       "16               17               10        0.59\n",
       "17               18               10        0.56\n",
       "18               19               10        0.53\n",
       "19               20               11        0.55"
      ]
     },
     "execution_count": 53,
     "metadata": {},
     "output_type": "execute_result"
    }
   ],
   "source": [
    "import pandas as pd\n",
    "number_of_flips = [1 , 2 , 3 , 4 , 5 , 6 , 7 , 8 , 9 , 10, 11 , 12 , 13 , 14 , 15 , 16 , 17 , 18 , 19 , 20]\n",
    "number_of_heads = [0 , 1 , 2 , 3 , 4 , 4 , 4 , 5 , 6 , 7,  8  ,  8 ,  9 , 10 , 10 , 10 , 10 , 10 , 10 , 11] \n",
    "proportion = [.00 , .50 , .67 , .75 , .80 , .67 , .57 , .63 , .67 , .70, .73 , .67 , .69 , .71 , .67 ,  .63 , .59 , .56 , .53 , .55]\n",
    "\n",
    "df = pd.DataFrame(\n",
    "    {'Number_of_flips': number_of_flips,\n",
    "     'Number_of_heads': number_of_heads,\n",
    "     'Proportion': proportion\n",
    "    })\n",
    "\n",
    "df"
   ]
  },
  {
   "cell_type": "markdown",
   "id": "adjustable-nancy",
   "metadata": {},
   "source": [
    "Notice that at the start of the sequence, the *proportion* of heads fluctuates wildly, starting at .00 and rising as high as .80. Later on, one gets the impression that it dampens out a bit, with more and more of the values actually being pretty close to the \"right\" answer of .50. This is the frequentist definition of probability in a nutshell: flip a fair coin over and over again, and as $N$ grows large (approaches infinity, denoted $N\\rightarrow \\infty$), the proportion of heads will converge to 50\\%. There are some subtle technicalities that the mathematicians care about, but qualitatively speaking, that's how the frequentists define probability. Unfortunately, I don't have an infinite number of coins, or the infinite patience required to flip a coin an infinite number of times. However, I do have a computer, and computers excel at mindless repetitive tasks. So I asked my computer to simulate flipping a coin 1000 times, and then drew a picture of what happens to the proportion $N_H / N$ as $N$ increases. Actually, I did it four times, just to make sure it wasn't a fluke. The results are shown in {numref}`fig-frequentist_probability`. As you can see, the *proportion of observed heads* eventually stops fluctuating, and settles down; when it does, the number at which it finally settles is the true probability of heads."
   ]
  },
  {
   "cell_type": "code",
   "execution_count": 69,
   "id": "dental-tours",
   "metadata": {
    "tags": [
     "hide-input"
    ]
   },
   "outputs": [
    {
     "data": {
      "application/papermill.record/text/plain": "<AxesSubplot:xlabel='flips', ylabel='proportion_heads'>"
     },
     "metadata": {
      "scrapbook": {
       "mime_prefix": "application/papermill.record/",
       "name": "frequentist_probability_fig"
      }
     },
     "output_type": "display_data"
    }
   ],
   "source": [
    "import random\n",
    "import numpy as np\n",
    "import pandas as pd\n",
    "import seaborn as sns\n",
    "import matplotlib.pyplot as plt\n",
    "from myst_nb import glue\n",
    "\n",
    "\n",
    "def coin_flips(n):\n",
    "    n = n\n",
    "    heads = [random.uniform(0,1) for i in range(n)]\n",
    "    heads = [1 if i > 0.5 else 0 for i in heads]\n",
    "    flips = np.arange(1,n+1)\n",
    "    proportion = (np.cumsum(heads)/flips)\n",
    "\n",
    "    df = pd.DataFrame(\n",
    "        {'flips': flips,\n",
    "         'proportion_heads': proportion\n",
    "        })\n",
    "\n",
    "    #ax = sns. lineplot(x=df['flips'], y=df['proportion_heads'])\n",
    "    return(df)\n",
    "\n",
    "n = 1000\n",
    "\n",
    "run1 = coin_flips(n)\n",
    "run2 = coin_flips(n)\n",
    "run3 = coin_flips(n)\n",
    "run4 = coin_flips(n)\n",
    "\n",
    "\n",
    "df = pd.concat([run1, run2, run3, run4], axis=0)\n",
    "\n",
    "runs = ['run1']*n + ['run2']*n + ['run3']*n + ['run4']*1000\n",
    "\n",
    "df['runs'] = runs\n",
    "\n",
    "\n",
    "ax = sns.lineplot(data = df, x = 'flips', y = 'proportion_heads', hue = 'runs')\n",
    "\n",
    "glue(\"frequentist_probability_fig\", ax, display=False)"
   ]
  },
  {
   "cell_type": "markdown",
   "id": "spanish-cambridge",
   "metadata": {},
   "source": [
    "```{glue:figure} frequentist_probability_fig\n",
    ":figwidth: 600px\n",
    ":name: fig-frequentist_probability\n",
    "\n",
    "An illustration of how frequentist probability works. If you flip a fair coin over and over again, the proportion of heads that you’ve seen eventually settles down, and converges to the true probability of 0.5. Each line shows the result of one of four different simulated experiments: in each case, we pretend we flipped a coin 1000 times, and kept track of the proportion of flips that were heads as we went along. Although none of these sequences actually ended up with an exact value of .5, if we’d extended the experiment for an infinite number of coin flips they would have.\n",
    "```\n",
    "\n"
   ]
  },
  {
   "cell_type": "markdown",
   "id": "referenced-termination",
   "metadata": {},
   "source": [
    "The frequentist definition of probability has some desirable characteristics. Firstly, it is objective: the probability of an event is *necessarily* grounded in the world. The only way that probability statements can make sense is if they refer to (a sequence of) events that occur in the physical universe. [^note1] Secondly, it is unambiguous: any two people watching the same sequence of events unfold, trying to calculate the probability of an event, must inevitably come up with the same answer. However, it also has undesirable characteristics. Firstly, infinite sequences don't exist in the physical world. Suppose you picked up a coin from your pocket and started to flip it. Every time it lands, it impacts on the ground. Each impact wears the coin down a bit; eventually, the coin will be destroyed. \n",
    "\n",
    "So, one might ask whether it really makes sense to pretend that an \"infinite\" sequence of coin flips is even a meaningful concept, or an objective one. We can't say that an \"infinite sequence\" of events is a real thing in the physical universe, because the physical universe doesn't allow infinite anything.  More seriously, the frequentist definition has a narrow scope. There are lots of things out there that human beings are happy to assign probability to in everyday language, but cannot (even in theory) be mapped onto a hypothetical sequence of events. For instance, if a meteorologist comes on TV and says, \"the probability of rain in Adelaide on 2 November 2048 is 60\\%\" we humans are happy to accept this. But it's not clear how to define this in frequentist terms. There's only one city of Adelaide, and only 2 November 2048. There's no infinite sequence of events here, just a once-off thing. Frequentist probability genuinely *forbids* us from making probability statements about a single event. From the frequentist perspective, it will either rain tomorrow or it will not; there is no \"probability\" that attaches to a single non-repeatable event. \n",
    "\n",
    "Now, it should be said that there are some very clever tricks that frequentists can use to get around this. One possibility is that what the meteorologist means is something like this: \"There is a category of days for which I predict a 60\\% chance of rain; if we look only across those days for which I make this prediction, then on 60\\% of those days it will actually rain\". It's very weird and counterintuitive to think of it this way, but you do see frequentists do this sometimes. And it *will* come up [later in this book](ci).\n",
    "\n",
    "[^note1]: This doesn't mean that frequentists can't make hypothetical statements, of course; it's just that if you want to make a statement about probability, then it must be possible to redescribe that statement in terms of a sequence of potentially observable events, and the relative frequencies of different outcomes that appear within that sequence."
   ]
  },
  {
   "cell_type": "markdown",
   "id": "greenhouse-roulette",
   "metadata": {},
   "source": [
    "### The Bayesian view\n",
    "\n",
    "The **_Bayesian view_** of probability is often called the subjectivist view, and it is a minority view among statisticians, but one that has been steadily gaining traction for the last several decades [^note2]. There are many flavours of Bayesianism, making hard to say exactly what \"the\" Bayesian view is. The most common way of thinking about subjective probability is to define the probability of an event as the **_degree of belief_** that an intelligent and rational agent assigns to that truth of that event. From that perspective, probabilities don't exist in the world, but rather in the thoughts and assumptions of people and other intelligent beings.\n",
    "\n",
    "However, in order for this approach to work, we need some way of operationalising \"degree of belief\". One way that you can do this is to formalise it in terms of \"rational gambling\", though there are many other ways. Suppose that I believe that there's a 60\\% probability of rain tomorrow. If someone offers me a bet: if it rains tomorrow, then I win 5 dollars, but if it doesn't rain then I lose 5 dollars. Clearly, from my perspective, this is a pretty good bet. On the other hand, if I think that the probability of rain is only 40\\%, then it's a bad bet to take. Thus, we can operationalise the notion of a \"subjective probability\" in terms of what bets I'm willing to accept. \n",
    "\n",
    "What are the advantages and disadvantages to the Bayesian approach? The main advantage is that it allows you to assign probabilities to any event you want to. You don't need to be limited to those events that are repeatable. The main disadvantage (to many people) is that we can't be purely objective -- specifying a probability requires us to specify an entity that has the relevant degree of belief. This entity might be a human, an alien, a robot, or even a statistician, but there has to be an intelligent agent out there that believes in things. To many people this is uncomfortable: it seems to make probability arbitrary. While the Bayesian approach does require that the agent in question be rational (i.e., obey the rules of probability), it does allow everyone to have their own beliefs; I can believe the coin is fair and you don't have to, even though we're both rational. The frequentist view doesn't allow any two observers to attribute different probabilities to the same event: when that happens, then at least one of them must be wrong. The Bayesian view does not prevent this from occurring. Two observers with different background knowledge can legitimately hold different beliefs about the same event. In short, where the frequentist view is sometimes considered to be too narrow (forbids lots of things that that we want to assign probabilities to), the Bayesian view is sometimes thought to be too broad (allows too many differences between observers). \n",
    "\n",
    "[^note2]: Translator's note: This is even more true today than when *Learning Statistics with R* was originally published. Bayesian methods are becoming increasingly common and less controversial in many fields."
   ]
  },
  {
   "cell_type": "markdown",
   "id": "dramatic-respondent",
   "metadata": {},
   "source": [
    "### What's the difference? And who is right?\n",
    "\n",
    "Now that you've seen each of these two views independently, it's useful to make sure you can compare the two. Go back to the hypothetical robot soccer game at the start of the section. What do you think a frequentist and a Bayesian would say about these three statements? Which statement would a frequentist say is the correct definition of probability? Which one would a Bayesian do? Would some of these statements be meaningless to a frequentist or a Bayesian? If you've understood the two perspectives, you should have some sense of how to answer those questions.\n",
    "\n",
    "Okay, assuming you understand the difference, you might be wondering which of them is *right*? Honestly, I don't know that there is a right answer. As far as I can tell there's nothing mathematically incorrect about the way frequentists think about sequences of events, and there's nothing mathematically incorrect about the way that Bayesians define the beliefs of a rational agent. In fact, when you dig down into the details, Bayesians and frequentists actually agree about a lot of things. Many frequentist methods lead to decisions that Bayesians agree a rational agent would make. Many Bayesian methods have very good frequentist properties. \n",
    "\n",
    "For the most part, I'm a pragmatist so I'll use any statistical method that I trust. As it turns out, that makes me prefer Bayesian methods, for reasons I'll explain towards the end of the book, but I'm not fundamentally opposed to frequentist methods. Not everyone is quite so relaxed. For instance, consider Sir Ronald Fisher, one of the towering figures of 20th century statistics and a vehement opponent to all things Bayesian, whose paper on the mathematical foundations of statistics referred to Bayesian probability as \"an impenetrable jungle [that] arrests progress towards precision of statistical concepts\" {cite}`Fisher1922b`. Or the psychologist Paul Meehl, who suggests that relying on frequentist methods could turn you into \"a potent but sterile intellectual rake who leaves in his merry path a long train of ravished maidens but no viable scientific offspring\" {cite}`Meehl1967`. The history of statistics, as you might gather, is not devoid of entertainment.\n",
    "\n",
    "In any case, while I personally prefer the Bayesian view, the majority of statistical analyses are based on the frequentist approach. My reasoning is pragmatic: the goal of this book is to cover roughly the same territory as a typical undergraduate stats class in psychology, and if you want to understand the statistical tools used by most psychologists, you'll need a good grasp of frequentist methods. I promise you that this isn't wasted effort. Even if you end up wanting to switch to the Bayesian perspective, you really should read through at least one book on the \"orthodox\" frequentist view. Besides, I won't completely ignore the Bayesian perspective. Every now and then I'll add some commentary from a Bayesian point of view, and I'll revisit the topic in more depth in the chapter on [Bayesian Statistics](bayes).\n",
    "\n",
    "\n",
    " "
   ]
  },
  {
   "cell_type": "markdown",
   "id": "green-shirt",
   "metadata": {},
   "source": [
    " \n",
    " \n",
    "(basicprobability)=\n",
    "## Basic probability theory\n",
    "\n",
    "Ideological arguments between Bayesians and frequentists notwithstanding, it turns out that people mostly agree on the rules that probabilities should obey. There are lots of different ways of arriving at these rules. The most commonly used approach is based on the work of Andrey Kolmogorov, one of the great Soviet mathematicians of the 20th century. I won't go into a lot of detail, but I'll try to give you a bit of a sense of how it works. And in order to do so, I'm going to have to talk about my pants.\n",
    "\n",
    "### Introducing probability distributions\n",
    "\n",
    "One of the disturbing truths about my life is that I only own 5 pairs of pants: three pairs of jeans, the bottom half of a suit, and a pair of tracksuit pants. Even sadder, I've given them names: I call them $X_1$, $X_2$, $X_3$, $X_4$ and $X_5$. I really do: that's why they call me Mister Imaginative. Now, on any given day, I pick out exactly one of pair of pants to wear. Not even I'm so stupid as to try to wear two pairs of pants, and thanks to years of training I never go outside without wearing pants anymore. If I were to describe this situation using the language of probability theory, I would refer to each pair of pants (i.e., each $X$) as an **_elementary event_**. The key characteristic of elementary events is that every time we make an observation (e.g., every time I put on a pair of pants), then the outcome will be one and only one of these events. Like I said, these days I always wear exactly one pair of pants, so my pants satisfy this constraint. Similarly, the set of all possible events is called a **_sample space_**. Granted, some people would call it a \"wardrobe\", but that's because they're refusing to think about my pants in probabilistic terms. Sad.  \n",
    "\n",
    "Okay, now that we have a sample space (a wardrobe), which is built from lots of possible elementary events (pants), what we want to do is assign a **_probability_** of one of these elementary events. For an event $X$, the probability of that event $P(X)$ is a number that lies between 0 and 1. The bigger the value of $P(X)$, the more likely the event is to occur. So, for example, if $P(X) = 0$, it means the event $X$ is impossible (i.e., I never wear those pants). On the other hand, if $P(X) = 1$ it means that event $X$ is certain to occur (i.e., I always wear those pants). For probability values in the middle, it means that I sometimes wear those pants. For instance, if $P(X) = 0.5$ it means that I wear those pants half of the time. \n",
    "\n",
    "At this point, we're almost done. The last thing we need to recognise is that \"something always happens\". Every time I put on pants, I really do end up wearing pants (crazy, right?). What this somewhat trite statement means, in probabilistic terms, is that the probabilities of the elementary events need to add up to 1. This is known as the **_law of total probability_**, not that any of us really care. More importantly, if these requirements are satisfied, then what we have is a **_probability distribution_**. For example, this is an example of a probability distribution\n",
    "\n",
    "|Which pants |Blue jeans    |Grey jeans    |Black jeans   |Black suit   |Blue tracksuit |\n",
    "|:-----------|:-------------|:-------------|:-------------|:------------|:--------------|\n",
    "|Label       |$X_1$         |$X_2$         |$X_3$         |$X_4$        |$X_5$          |\n",
    "|Probability |$P(X_1) = .5$ |$P(X_2) = .3$ |$P(X_3) = .1$ |$P(X_4) = 0$ |$P(X_5) = .1$  |\n",
    "\n",
    "Each of the events has a probability that lies between 0 and 1, and if we add up the probability of all events, they sum to 1. Awesome. We can even draw a nice bar graph to visualise this distribution, as shown in {numref}`fig-pants`. And at this point, we've all achieved something. You've learned what a probability distribution is, and I've finally managed to find a way to create a graph that focuses entirely on my pants. Everyone wins!"
   ]
  },
  {
   "cell_type": "code",
   "execution_count": 8,
   "id": "editorial-metabolism",
   "metadata": {},
   "outputs": [
    {
     "data": {
      "application/papermill.record/text/plain": "<AxesSubplot:xlabel='eventNames', ylabel='probabilities'>"
     },
     "metadata": {
      "scrapbook": {
       "mime_prefix": "application/papermill.record/",
       "name": "pants-fig"
      }
     },
     "output_type": "display_data"
    },
    {
     "data": {
      "image/png": "[encoded data removed]",
      "text/plain": [
       "<Figure size 432x288 with 1 Axes>"
      ]
     },
     "metadata": {
      "needs_background": "light"
     },
     "output_type": "display_data"
    }
   ],
   "source": [
    "from myst_nb import glue\n",
    "import pandas as pd\n",
    "import seaborn as sns\n",
    "\n",
    "df = pd.DataFrame(\n",
    "    {'probabilities': [.5, .3, .1, 0, .1],\n",
    "     'eventNames': [\"Blue jeans\", \"Grey jeans\", \"Black jeans\", \"Black suit\", \"Blue track\"],\n",
    "    }) \n",
    "\n",
    "fig = sns.barplot(x='eventNames', y='probabilities', data=df)\n",
    "glue(\"pants-fig\", fig, display=False)"
   ]
  },
  {
   "cell_type": "markdown",
   "id": "loving-porter",
   "metadata": {},
   "source": [
    "```{glue:figure} pants_fig\n",
    ":figwidth: 600px\n",
    ":name: fig-pants\n",
    "\n",
    "A visual depiction of the “pants” probability distribution. There are five “elementary events”, corresponding to the five pairs of pants that I own. Each event has some probability of occurring: this probability is a number between 0 to 1. The sum of these probabilities is 1.\n",
    "```\n",
    "\n"
   ]
  },
  {
   "cell_type": "markdown",
   "id": "verified-silence",
   "metadata": {},
   "source": [
    "The only other thing that I need to point out is that probability theory allows you to talk about **_non elementary events_** as well as elementary ones. The easiest way to illustrate the concept is with an example. In the pants example, it's perfectly legitimate to refer to the probability that I wear jeans. In this scenario, the \"Dan wears jeans\" event said to have happened as long as the elementary event that actually did occur is one of the appropriate ones; in this case \"blue jeans\", \"black jeans\" or \"grey jeans\". In mathematical terms, we defined the \"jeans\" event $E$ to correspond to the set of elementary events $(X_1, X_2, X_3)$. If any of these elementary events occurs, then $E$ is also said to have occurred. Having decided to write down the definition of the $E$ this way, it's pretty straightforward to state what the probability $P(E)$ is: we just add everything up. In this particular case\n",
    "\n",
    "$$\n",
    "P(E) = P(X_1) + P(X_2) + P(X_3)\n",
    "$$ \n",
    "\n",
    "and, since the probabilities of blue, grey and black jeans respectively are .5, .3 and .1, the probability that I wear jeans is equal to .9. \n",
    "\n",
    "At this point you might be thinking that this is all terribly obvious and simple and you'd be right. All we've really done is wrap some basic mathematics around a few common sense intuitions. However, from these simple beginnings it's possible to construct some extremely powerful mathematical tools. I'm definitely not going to go into the details in this book, but what I will do is list some of the other rules that probabilities satisfy, in the table below. These rules can be derived from the simple assumptions that I've outlined above, and they are important if you want to understand probability theory a bit more deeply, but since we don't actually use these rules for anything in this book, I won't do so here.\n",
    "\n",
    "|English     |Notation      |Formula                     |\n",
    "|:-----------|:------------ |:---------------------------|\n",
    "|Not $A$     |$P(\\neg A)$   |$1-P(A)$                    |\n",
    "|$A$ or $B$  |$P(A \\cup B)$ |$P(A) + P(B) - P(A \\cap B)$ |\n",
    "|$A$ and $B$ |$P(A \\cap B)$ |$P(A|B) P(B)$               |\n"
   ]
  },
  {
   "cell_type": "markdown",
   "id": "congressional-guarantee",
   "metadata": {},
   "source": [
    "(binomial)=\n",
    "\n",
    "## The binomial distribution\n",
    "As you might imagine, probability distributions vary enormously, and there's an enormous range of distributions out there. However, they aren't all equally important. In fact, the vast majority of the content in this book relies on one of five distributions: the binomial distribution, the normal distribution, the $t$ distribution, the $\\chi^2$ (\"chi-square\") distribution and the $F$ distribution. Given this, what I'll do over the next few sections is provide a brief introduction to all five of these, paying special attention to the binomial and the normal. I'll start with the binomial distribution, since it's the simplest of the five.\n",
    "\n",
    "### Introducing the binomial\n",
    "\n",
    "The theory of probability originated in the attempt to describe how games of chance work, so it seems fitting that our discussion of the **_binomial distribution_** should involve a discussion of rolling dice and flipping coins. Let's imagine a simple \"experiment\": in my hot little hand I'm holding 20 identical six-sided dice. On one face of each die there's a picture of a skull; the other five faces are all blank. If I proceed to roll all 20 dice, what's the probability that I'll get exactly 4 skulls? Assuming that the dice are fair, we know that the chance of any one die coming up skulls is 1 in 6; to say this another way, the skull probability for a single die is approximately $0.167$. This is enough information to answer our question, so let's have a look at how it's done. \n",
    "\n",
    "As usual, we'll want to introduce some names and some notation. We'll let $N$ denote the number of dice rolls in our experiment; which is often referred to as the **_size parameter_** of our binomial distribution. We'll also use $\\theta$ to refer to the the probability that a single die comes up skulls, a quantity that is usually called the **_success probability_** of the binomial.[^note3] Finally, we'll use $X$ to refer to the results of our experiment, namely the number of skulls I get when I roll the dice. Since the actual value of $X$ is due to chance, we refer to it as a **_random variable_**. In any case, now that we have all this terminology and notation, we can use it to state the problem a little more precisely. The quantity that we want to calculate is the probability that $X = 4$ given that we know that $\\theta = .167$ and $N=20$. The general \"form\" of the thing I'm interested in calculating could be written as \n",
    "\n",
    "$$\n",
    "P(X \\ | \\ \\theta, N)\n",
    "$$\n",
    "\n",
    "and we're interested in the special case where $X=4$, $\\theta = .167$ and $N=20$. \n",
    "There's only one more piece of notation I want to refer to before moving on to discuss the solution to the problem. If I want to say that $X$ is generated randomly from a binomial distribution with parameters $\\theta$ and $N$, the notation I would use is as follows:\n",
    "\n",
    "$$\n",
    "X \\sim \\mbox{Binomial}(\\theta, N)\n",
    "$$ \n",
    "\n",
    "Yeah, yeah. I know what you're thinking: notation, notation, notation. Really, who cares? Very few readers of this book are here for the notation, so I should probably move on and talk about how to use the binomial distribution. I've included the formula for the binomial distribution below, since some readers may want to play with it themselves, but since most people probably don't care that much and because we don't need the formula in this book, I won't talk about it in any detail. Instead, I just want to show you what the binomial distribution looks like. To that end, {numref}`fig-skulls` plots the binomial probabilities for all possible values of $X$ for our dice rolling experiment, from $X=0$ (no skulls) all the way up to $X=20$ (all skulls). Note that this is basically a bar chart, and is no different to the \"pants probability\" plot I drew in {numref}`fig-pants`. On the horizontal axis we have all the possible events, and on the vertical axis we can read off the probability of each of those events. So, the probability of rolling 4 skulls out of 20 times is about 0.20 (the actual answer is 0.2022036, as we'll see in a moment). In other words, you'd expect that to happen about 20\\% of the times you repeated this experiment.\n",
    "\n",
    "[^note3]: Note that the term \"success\" is pretty arbitrary, and doesn't actually imply that the outcome is something to be desired. If $\\theta$ referred to the probability that any one passenger gets injured in a bus crash, I'd still call it the success probability, but that doesn't mean I want people to get hurt in bus crashes!"
   ]
  },
  {
   "cell_type": "code",
   "execution_count": 6,
   "id": "original-hacker",
   "metadata": {},
   "outputs": [
    {
     "data": {
      "application/papermill.record/text/plain": "<AxesSubplot:ylabel='Count'>"
     },
     "metadata": {
      "scrapbook": {
       "mime_prefix": "application/papermill.record/",
       "name": "skulls-fig"
      }
     },
     "output_type": "display_data"
    },
    {
     "data": {
      "image/png": "[encoded data removed]",
      "text/plain": [
       "<Figure size 432x288 with 1 Axes>"
      ]
     },
     "metadata": {
      "needs_background": "light"
     },
     "output_type": "display_data"
    }
   ],
   "source": [
    "from myst_nb import glue\n",
    "from numpy import random\n",
    "import matplotlib.pyplot as plt\n",
    "import seaborn as sns\n",
    "\n",
    "x = random.binomial(n=20, p=1/6, size=1000)\n",
    "\n",
    "skulls = sns.histplot(x, bins=20,binwidth=1)\n",
    "skulls.set(xlim=(0,20))\n",
    "\n",
    "glue(\"skulls-fig\", skulls, display=False)"
   ]
  },
  {
   "cell_type": "markdown",
   "id": "verbal-weekend",
   "metadata": {},
   "source": [
    "```{glue:figure} skulls_fig\n",
    ":figwidth: 600px\n",
    ":name: fig-skulls\n",
    "\n",
    "The binomial distribution with size parameter of N = 20 and an underlying success probability of θ = 1/6. Each vertical bar depicts the probability of one specific outcome (i.e., one possible value of X). Because this is a probability distribution, each of the probabilities must be a number between 0 and 1, and the heights of the bars must sum to 1 as well.\n",
    "```\n",
    "\n"
   ]
  },
  {
   "cell_type": "markdown",
   "id": "tracked-burden",
   "metadata": {},
   "source": [
    "Below, you can see the formulas for the binomial and normal distributions. We don't really use these formulas for anything in this book, but they're pretty important for more advanced work, so I thought it might be best to put them here anyway. In the equation for the binomial, $X!$ is the factorial function (i.e., multiply all whole numbers from 1 to $X$), and for the normal distribution \\\"exp\\\" refers to the exponential function. If these equations don't make a lot of sense to you, don't worry too much about them.\n",
    "\n"
   ]
  },
  {
   "cell_type": "markdown",
   "id": "ready-jewel",
   "metadata": {},
   "source": [
    "(binomial_normal_formulas)=\n",
    "\n",
    "The formula for the binomial distribution looks like this:\n",
    "\n",
    "$$\n",
    "P(X | \\theta, N) = \\frac{N!}{X! (N-X)!}  \\theta^X (1-\\theta)^{N-X}\n",
    "$$ \n",
    "\n",
    "\n",
    "\n",
    "and the formula for the normal distribution looks like this:\n",
    "\n",
    "$$\n",
    "P(X | \\mu, \\sigma) = \\frac{1}{\\sqrt{2\\pi}\\sigma} \\exp \\left( -\\frac{(X - \\mu)^2}{2\\sigma^2} \\right)\n",
    "$$"
   ]
  },
  {
   "cell_type": "markdown",
   "id": "mediterranean-content",
   "metadata": {},
   "source": [
    "### Working with the binomial distribution in Python\n",
    "\n",
    "\n",
    "Although some people find it handy to know the above formulas, most people just want to know how to use the distributions without worrying too much about the maths. To that end, the `numpy` module has a method called `random.binomial` that calculates binomial probabilities for us. The arguments to the function are \n",
    "\n",
    "- `n`. This is a number, or vector of numbers, specifying the outcomes whose probability you're trying to calculate.\n",
    "- `prob`. This is the success probability for any one trial in the experiment.\n",
    "- `size`. This is a number telling Python the size of the experiment.\n",
    "\n",
    "\n",
    "So, in order to calculate the probability of getting `n = 4` skulls, from an experiment of `size = 20` trials, in which the probability of getting a skull on any one trial is `prob = 1/6` ... well, the command I would use is simply this:\n",
    "\n",
    "`random.binomial(n=4, p=1/6, size=20)`\n",
    "\n",
    "To give you a feel for how the binomial distribution changes when we alter the values of $\\theta$ and $N$, let's suppose that instead of rolling dice, I'm actually flipping coins. This time around, my experiment involves flipping a fair coin repeatedly, and the outcome that I'm interested in is the number of heads that I observe. In this scenario, the success probability is now $\\theta = 1/2$. Suppose I were to flip the coin $N=20$ times. In this example, I've changed the success probability, but kept the size of the experiment the same. What does this do to our binomial distribution? Well, as {numref}`binomial-fig` shows, the main effect of this is to shift the whole distribution, as you'd expect. Okay, what if we flipped a coin $N=100$ times? Well, in that case, the distribution stays roughly in the middle, but there's a bit more variability in the possible outcomes. "
   ]
  },
  {
   "cell_type": "code",
   "execution_count": 79,
   "id": "negative-demonstration",
   "metadata": {
    "tags": [
     "hide-input"
    ]
   },
   "outputs": [
    {
     "data": {
      "application/papermill.record/image/png": "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\n",
      "application/papermill.record/text/plain": "<Figure size 1080x360 with 2 Axes>"
     },
     "metadata": {
      "scrapbook": {
       "mime_prefix": "application/papermill.record/",
       "name": "fig-binomial"
      }
     },
     "output_type": "display_data"
    }
   ],
   "source": [
    "%matplotlib agg\n",
    "\n",
    "from myst_nb import glue\n",
    "from numpy import random\n",
    "import matplotlib.pyplot as plt\n",
    "import seaborn as sns\n",
    "\n",
    "\n",
    "x_20 = random.binomial(n=20, p=1/2, size=1000)\n",
    "x_100 = random.binomial(n=100, p=1/2, size=1000)\n",
    "\n",
    "fig, axes = plt.subplots(1, 2, figsize=(15, 5))\n",
    "fig.suptitle('Coin Flips')\n",
    "\n",
    "# 20 flips\n",
    "sns.histplot(x_20, bins=20,binwidth=1,ax=axes[0])\n",
    "axes[0].set_title('20 flips')\n",
    "axes[0].set(xlim=(0,20))\n",
    "\n",
    "# 100 flips\n",
    "sns.histplot(x_100, bins=20,binwidth=1, ax=axes[1])\n",
    "axes[1].set_title('100 flips')\n",
    "axes[1].set(xlim=(0,100))\n",
    "\n",
    "\n",
    "glue(\"fig-binomial\", fig, display=False)"
   ]
  },
  {
   "cell_type": "markdown",
   "id": "approved-stuart",
   "metadata": {},
   "source": [
    "```{glue:figure} fig-binomial\n",
    ":figwidth: 600px\n",
    ":name: binomial-fig\n",
    "\n",
    "The binomial distribution with size parameter of N = 20 and an underlying success probability of θ = 1/2. Compare these plots to those in {numref}`fig-skulls`, which also had a size parameter of N = 20 and an underlying success probability of θ = 1/6.\n",
    "```"
   ]
  },
  {
   "cell_type": "markdown",
   "id": "objective-proceeding",
   "metadata": {},
   "source": [
    "At this point, I should probably explain what `random.binom` is actually doing. What's random about it, anyway? I thought the binomial distribution was a known quantity? What the `random.binom` method does is to take the input arguments (`N`, `p`, and `size`), and simulate an experiment that can be reduced to counts of \"successes\" (whatever that means in the context of the experiment. Python generates random outcomes from the binomial distribution, given the input arguments. So, for instance, suppose I were to repeat my die rolling experiment 10000 times. Since we know that for each roll, there is a 1/6 chance of \"success\", I could get Python to simulate the results of these experiments by using the following command:\n",
    "\n",
    "`random.binomial(n=20, p=1/6, size=1000)`\n",
    "\n",
    "If you re-run the code generating the figures above, you will see that they change slightly each time. After all, they represent the results of simulated experiments. The overall pattern will stay the same, however. Most of the time, I will roll somewhere between 1 to 5 skulls. There are a lot of subtleties associated with random number generation using a computer, [^note4] but for the purposes of this book we don't need to worry too much about them.\n",
    "\n",
    "[^note4]: Since computers are  deterministic machines, they can't actually produce truly random behaviour. Instead, what they do is take advantage of various mathematical functions that share a lot of similarities with true randomness. What this means is that any random numbers generated on a computer are *pseudorandom*, and the quality of those numbers depends on the specific method used. But for our purposes, we can just think of these numbers as random.\n"
   ]
  },
  {
   "cell_type": "markdown",
   "id": "frequent-draft",
   "metadata": {},
   "source": [
    "(normal)=\n",
    "## The normal distribution\n",
    "\n",
    "While the binomial distribution is conceptually the simplest distribution to understand, it's not the most important one. That particular honour goes to the **_normal distribution_**, which is also referred to as \"the bell curve\" or a \"Gaussian distribution\". A normal distribution is described using two parameters, the mean of the distribution $\\mu$ and the standard deviation of the distribution $\\sigma$. The notation that we sometimes use to say that a variable $X$ is normally distributed is as follows:\n",
    "\n",
    "$$\n",
    "X \\sim \\mbox{Normal}(\\mu,\\sigma)\n",
    "$$\n",
    "\n",
    "Of course, that's just notation. It doesn't tell us anything interesting about the normal distribution itself. As was the case with the binomial distribution, I have included the formula for the normal distribution in this book, because I think it's important enough that everyone who learns statistics should at least look at it, but since this is an introductory text I don't want to focus on it, so I've just quietly put them in the text [above](binomial_normal_formulas).\n",
    "\n",
    "Instead of focusing on the maths, let's try to get a sense for what it means for a variable to be normally distributed. To that end, have a look at Figure \\@ref(fig:normdist), which plots a normal distribution with mean $\\mu = 0$ and standard deviation $\\sigma = 1$. You can see where the name \"bell curve\" comes from: it looks a bit like a bell. Notice that, unlike the plots that I drew to illustrate the binomial distribution, the picture of the normal distribution in Figure \\@ref(fig:normdist) shows a smooth curve instead of \"histogram-like\" bars. This isn't an arbitrary choice: the normal distribution is continuous, whereas the binomial is discrete. For instance, in the die rolling example from the last section, it was possible to get 3 skulls or 4 skulls, but impossible to get 3.9 skulls. The figures that I drew in the previous section reflected this fact: in Figure \\@ref(fig:binomial1), for instance, there's a bar located at $X=3$ and another one at $X=4$, but there's nothing in between. Continuous quantities don't have this constraint. For instance, suppose we're talking about the weather. The temperature on a pleasant Spring day could be 23 degrees, 24 degrees, 23.9 degrees, or anything in between since temperature is a continuous variable, and so a normal distribution might be quite appropriate for describing Spring temperatures.^[In practice, the normal distribution is so handy that people tend to use it even when the variable isn't actually continuous. As long as there are enough categories (e.g., Likert scale responses to a questionnaire), it's pretty standard practice to use the normal distribution as an approximation. This works out much better in practice than you'd think.] "
   ]
  },
  {
   "cell_type": "code",
   "execution_count": 98,
   "id": "innovative-worse",
   "metadata": {
    "tags": [
     "hide-input"
    ]
   },
   "outputs": [
    {
     "data": {
      "application/papermill.record/text/plain": "<AxesSubplot:xlabel='Observed Value', ylabel='Probability Density'>"
     },
     "metadata": {
      "scrapbook": {
       "mime_prefix": "application/papermill.record/",
       "name": "normal_fig"
      }
     },
     "output_type": "display_data"
    },
    {
     "data": {
      "image/png": "[encoded data removed]",
      "text/plain": [
       "<Figure size 432x288 with 1 Axes>"
      ]
     },
     "metadata": {
      "needs_background": "light"
     },
     "output_type": "display_data"
    }
   ],
   "source": [
    "%matplotlib inline\n",
    "from myst_nb import glue\n",
    "import numpy as np\n",
    "import scipy.stats as stats\n",
    "import seaborn as sns\n",
    "\n",
    "\n",
    "mu = 0\n",
    "variance = 1\n",
    "sigma = np.sqrt(variance)\n",
    "x = np.linspace(mu - 3*sigma, mu + 3*sigma, 100)\n",
    "fig = sns.lineplot(x = x, y = stats.norm.pdf(x, mu, sigma))\n",
    "plt.xlabel('Observed Value')\n",
    "plt.ylabel('Probability Density')\n",
    "\n",
    "sns.despine()\n",
    "\n",
    "glue(\"normal_fig\", fig, display=False)"
   ]
  },
  {
   "cell_type": "markdown",
   "id": "orange-florida",
   "metadata": {},
   "source": [
    " ```{glue:figure} normal_fig\n",
    ":figwidth: 600px\n",
    ":name: fig-normal\n",
    "\n",
    "The normal distribution with mean $mu = 0$ and standard deviation $sigma = 1$. The $x$-axis corresponds to the value of some variable, and the $y$-axis tells us something about how likely we are to observe that value. However, notice that the $y$-axis is labelled \\\"Probability Density\\\" and not \\\"Probability\\\". There is a subtle and somewhat frustrating characteristic of continuous distributions that makes the $y$ axis behave a bit oddly: the height of the curve here isn't actually the probability of observing a particular $x$ value. On the other hand, it *is* true that the heights of the curve tells you which $x$ values are more likely (the higher ones!).\n",
    "```"
   ]
  },
  {
   "cell_type": "markdown",
   "id": "tired-colony",
   "metadata": {},
   "source": [
    "With this in mind, let's see if we can't get an intuition for how the normal distribution works. Firstly, let's have a look at what happens when we play around with the parameters of the distribution. To that end, {numref}`fig-two-normals` plots normal distributions that have different means, but have the same standard deviation. As you might expect, all of these distributions have the same \"width\". The only difference between them is that they've been shifted to the left or to the right. In every other respect they're identical. "
   ]
  },
  {
   "cell_type": "code",
   "execution_count": 146,
   "id": "fossil-bouquet",
   "metadata": {
    "tags": [
     "hide-input"
    ]
   },
   "outputs": [
    {
     "data": {
      "image/png": "[encoded data removed]",
      "text/plain": [
       "<Figure size 432x288 with 2 Axes>"
      ]
     },
     "metadata": {
      "needs_background": "light"
     },
     "output_type": "display_data"
    }
   ],
   "source": [
    "%matplotlib inline\n",
    "from myst_nb import glue\n",
    "import numpy as np\n",
    "import scipy.stats as stats\n",
    "import pandas as pd\n",
    "import seaborn as sns\n",
    "\n",
    "\n",
    "mu = 0\n",
    "variance = 1\n",
    "sigma = np.sqrt(variance)\n",
    "x = np.linspace(1, 10, 100)\n",
    "y1 = stats.norm.pdf(x, 4, sigma)\n",
    "y2 = stats.norm.pdf(x, 7, sigma)\n",
    "\n",
    "\n",
    "fig = sns.lineplot(x = x, y = y1)\n",
    "ax2=fig.twinx()\n",
    "ax2.tick_params(left=False, labelleft=False, top=False, labeltop=False,\n",
    "                   right=False, labelright=False, bottom=False, labelbottom=False)\n",
    "\n",
    "\n",
    "\n",
    "sns.lineplot(x = x, y = y2, ax=ax2, linestyle='--')\n",
    "sns.despine()\n",
    "\n",
    "#glue(\"two-normals_fig\", fig, display=False)"
   ]
  },
  {
   "cell_type": "markdown",
   "id": "proved-modeling",
   "metadata": {},
   "source": [
    " ```{glue:figure} two-normals_fig\n",
    ":figwidth: 600px\n",
    ":name: fig-two-normals\n",
    "\n",
    "An illustration of what happens when you change the mean of a normal distribution. The solid line depicts a normal distribution with a mean of $mu=4$. The dashed line shows a normal distribution with a mean of $mu=7$. In both cases, the standard deviation is $sigma=1$. Not surprisingly, the two distributions have the same shape, but the dashed line is shifted to the right.\n",
    "\n",
    "```"
   ]
  },
  {
   "cell_type": "markdown",
   "id": "respective-emission",
   "metadata": {},
   "source": [
    "In contrast, if we increase the standard deviation while keeping the mean constant, the peak of the distribution stays in the same place, but the distribution gets wider, as you can see in {numref}`fig-two-normals2`. Notice, though, that when we widen the distribution, the height of the peak shrinks. This has to happen: in the same way that the heights of the bars that we used to draw a discrete binomial distribution have to *sum* to 1, the total *area under the curve* for the normal distribution must equal 1. "
   ]
  },
  {
   "cell_type": "code",
   "execution_count": 182,
   "id": "developed-portuguese",
   "metadata": {
    "tags": [
     "hide-input"
    ]
   },
   "outputs": [
    {
     "ename": "AttributeError",
     "evalue": "'AxesSubplot' object has no attribute 'xlabel'",
     "output_type": "error",
     "traceback": [
      "\u001b[0;31m---------------------------------------------------------------------------\u001b[0m",
      "\u001b[0;31mAttributeError\u001b[0m                            Traceback (most recent call last)",
      "\u001b[0;32m<ipython-input-182-93c96e58d890>\u001b[0m in \u001b[0;36m<module>\u001b[0;34m\u001b[0m\n\u001b[1;32m     25\u001b[0m \u001b[0;34m\u001b[0m\u001b[0m\n\u001b[1;32m     26\u001b[0m \u001b[0msns\u001b[0m\u001b[0;34m.\u001b[0m\u001b[0mlineplot\u001b[0m\u001b[0;34m(\u001b[0m\u001b[0mx\u001b[0m \u001b[0;34m=\u001b[0m \u001b[0mx\u001b[0m\u001b[0;34m,\u001b[0m \u001b[0my\u001b[0m \u001b[0;34m=\u001b[0m \u001b[0my2\u001b[0m\u001b[0;34m,\u001b[0m \u001b[0max\u001b[0m\u001b[0;34m=\u001b[0m\u001b[0max2\u001b[0m\u001b[0;34m,\u001b[0m \u001b[0mlinestyle\u001b[0m\u001b[0;34m=\u001b[0m\u001b[0;34m'--'\u001b[0m\u001b[0;34m)\u001b[0m\u001b[0;34m\u001b[0m\u001b[0;34m\u001b[0m\u001b[0m\n\u001b[0;32m---> 27\u001b[0;31m \u001b[0mfig\u001b[0m\u001b[0;34m.\u001b[0m\u001b[0mxlabel\u001b[0m\u001b[0;34m(\u001b[0m\u001b[0;34m'Observed Value'\u001b[0m\u001b[0;34m)\u001b[0m\u001b[0;34m\u001b[0m\u001b[0;34m\u001b[0m\u001b[0m\n\u001b[0m\u001b[1;32m     28\u001b[0m \u001b[0mfig\u001b[0m\u001b[0;34m.\u001b[0m\u001b[0mylabel\u001b[0m\u001b[0;34m(\u001b[0m\u001b[0;34m'Probability Density'\u001b[0m\u001b[0;34m)\u001b[0m\u001b[0;34m\u001b[0m\u001b[0;34m\u001b[0m\u001b[0m\n\u001b[1;32m     29\u001b[0m \u001b[0msns\u001b[0m\u001b[0;34m.\u001b[0m\u001b[0mdespine\u001b[0m\u001b[0;34m(\u001b[0m\u001b[0;34m)\u001b[0m\u001b[0;34m\u001b[0m\u001b[0;34m\u001b[0m\u001b[0m\n",
      "\u001b[0;31mAttributeError\u001b[0m: 'AxesSubplot' object has no attribute 'xlabel'"
     ]
    },
    {
     "data": {
      "image/png": "[encoded data removed]",
      "text/plain": [
       "<Figure size 432x288 with 2 Axes>"
      ]
     },
     "metadata": {
      "needs_background": "light"
     },
     "output_type": "display_data"
    }
   ],
   "source": [
    "%matplotlib inline\n",
    "from myst_nb import glue\n",
    "import numpy as np\n",
    "import scipy.stats as stats\n",
    "import pandas as pd\n",
    "import seaborn as sns\n",
    "\n",
    "\n",
    "mu = 5\n",
    "\n",
    "variance = 1\n",
    "sigma = np.sqrt(variance)\n",
    "x = np.linspace(1, 10, 100)\n",
    "y1 = stats.norm.pdf(x, mu, 1)\n",
    "\n",
    "variance = 2\n",
    "sigma = np.sqrt(variance)\n",
    "y2 = stats.norm.pdf(x, mu, 2)\n",
    "\n",
    "\n",
    "fig = sns.lineplot(x = x, y = y1)\n",
    "ax2=fig.twiny()\n",
    "ax2.tick_params(left=False, labelleft=False, top=False, labeltop=False,\n",
    "                   right=False, labelright=False, bottom=False, labelbottom=False)\n",
    "\n",
    "\n",
    "\n",
    "sns.lineplot(x = x, y = y2, ax=ax2, linestyle='--')\n",
    "sns.despine()\n",
    "\n",
    "glue(\"two-normals_fig2\", fig, display=False)"
   ]
  },
  {
   "cell_type": "markdown",
   "id": "quiet-buffalo",
   "metadata": {},
   "source": [
    " ```{glue:figure} two-normals_fig2\n",
    ":figwidth: 600px\n",
    ":name: fig-two-normals2\n",
    "\n",
    "An illustration of what happens when you change the the standard deviation of a normal distribution. Both distributions plotted in this figure have a mean of μ “ 5, but they have different standard deviations. The solid line plots a distribution with standard deviation σ “ 1, and the dashed line shows a distribution with standard deviation σ “ 2. As a consequence, both distributions are “centred” on the same spot, but the dashed line is wider than the solid one.\n",
    "```\n"
   ]
  },
  {
   "cell_type": "markdown",
   "id": "brazilian-account",
   "metadata": {},
   "source": [
    "Before moving on, I want to point out one important characteristic of the normal distribution. Irrespective of what the actual mean and standard deviation are, 68.3\\% of the area falls within 1 standard deviation of the mean. Similarly, 95.4\\% of the distribution falls within 2 standard deviations of the mean, and 99.7\\% of the distribution is within 3 standard deviations. This idea is illustrated in {numref}`fig-sdnorm` and {numref}`fig-sdnorm2`."
   ]
  },
  {
   "cell_type": "code",
   "execution_count": 185,
   "id": "lesbian-street",
   "metadata": {
    "tags": [
     "hide-input"
    ]
   },
   "outputs": [
    {
     "data": {
      "application/papermill.record/image/png": "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\n",
      "application/papermill.record/text/plain": "<Figure size 1080x360 with 2 Axes>"
     },
     "metadata": {
      "scrapbook": {
       "mime_prefix": "application/papermill.record/",
       "name": "sdnorm_fig"
      }
     },
     "output_type": "display_data"
    }
   ],
   "source": [
    "%matplotlib agg\n",
    "from myst_nb import glue\n",
    "import numpy as np\n",
    "import scipy.stats as stats\n",
    "import seaborn as sns\n",
    "\n",
    "fig, axes = plt.subplots(1, 2, figsize=(15, 5), sharey=False)\n",
    "\n",
    "mu = 0\n",
    "variance = 1\n",
    "sigma = np.sqrt(variance)\n",
    "x = np.linspace(mu - 3*sigma, mu + 3*sigma, 100)\n",
    "sns.lineplot(x = x, y = stats.norm.pdf(x, mu, sigma), ax=axes[0])\n",
    "plt.xlabel('Observed Value')\n",
    "plt.ylabel('Probability Density')\n",
    "\n",
    "sns.lineplot(x = x, y = stats.norm.pdf(x, mu, sigma), ax=axes[1])\n",
    "\n",
    "\n",
    "x_fill1 = np.arange(-1, 1, 0.001)\n",
    "x_fill2 = np.arange(-2, 2, 0.001)\n",
    "\n",
    "y_fill1 = stats.norm.pdf(x_fill1,0,1)\n",
    "y_fill2 = stats.norm.pdf(x_fill2,0,1)\n",
    "\n",
    "axes[0].fill_between(x_fill1,y_fill1,0, alpha=0.2, color='blue')\n",
    "axes[1].fill_between(x_fill2,y_fill2,0, alpha=0.2, color='blue')\n",
    "\n",
    "axes[0].set_title(\"Shaded Area = 68.3%\")\n",
    "axes[1].set_title(\"Shaded Area = 95.4%\")\n",
    "\n",
    "sns.despine()\n",
    "\n",
    "glue(\"sdnorm_fig\", fig, display=False)"
   ]
  },
  {
   "cell_type": "markdown",
   "id": "competent-confusion",
   "metadata": {},
   "source": [
    " ```{glue:figure} sdnorm_fig\n",
    ":figwidth: 600px\n",
    ":name: fig-sdnorm\n",
    "\n",
    "The area under the curve tells you the probability that an observation falls within a particular range. The solid lines plot normal distributions with mean $mu=0$ and standard deviation $sigma=1$ The shaded areas illustrate \\\"areas under the curve\\\" for two important cases. On the left, we can see that there is a 68.3% chance that an observation will fall within one standard deviation of the mean. On the right, we see that there is a 95.4% chance that an observation will fall within two standard deviations of the mean.\n",
    "```\n"
   ]
  },
  {
   "cell_type": "code",
   "execution_count": 187,
   "id": "postal-convenience",
   "metadata": {
    "tags": [
     "hide-input"
    ]
   },
   "outputs": [
    {
     "data": {
      "application/papermill.record/image/png": "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\n",
      "application/papermill.record/text/plain": "<Figure size 1080x360 with 2 Axes>"
     },
     "metadata": {
      "scrapbook": {
       "mime_prefix": "application/papermill.record/",
       "name": "sdnorm_fig2"
      }
     },
     "output_type": "display_data"
    }
   ],
   "source": [
    "%matplotlib agg\n",
    "from myst_nb import glue\n",
    "import numpy as np\n",
    "import scipy.stats as stats\n",
    "import seaborn as sns\n",
    "\n",
    "fig, axes = plt.subplots(1, 2, figsize=(15, 5), sharey=False)\n",
    "\n",
    "mu = 0\n",
    "variance = 1\n",
    "sigma = np.sqrt(variance)\n",
    "x = np.linspace(mu - 3*sigma, mu + 3*sigma, 100)\n",
    "sns.lineplot(x = x, y = stats.norm.pdf(x, mu, sigma), ax=axes[0])\n",
    "plt.xlabel('Observed Value')\n",
    "plt.ylabel('Probability Density')\n",
    "\n",
    "sns.lineplot(x = x, y = stats.norm.pdf(x, mu, sigma), ax=axes[1])\n",
    "\n",
    "\n",
    "x_fill1 = np.arange(-4, -1, 0.001)\n",
    "x_fill2 = np.arange(-1, 0, 0.001)\n",
    "\n",
    "y_fill1 = stats.norm.pdf(x_fill1,0,1)\n",
    "y_fill2 = stats.norm.pdf(x_fill2,0,1)\n",
    "\n",
    "axes[0].fill_between(x_fill1,y_fill1,0, alpha=0.2, color='blue')\n",
    "axes[1].fill_between(x_fill2,y_fill2,0, alpha=0.2, color='blue')\n",
    "\n",
    "axes[0].set_title(\"Shaded Area = 15.9%\")\n",
    "axes[1].set_title(\"Shaded Area = 34.1%\")\n",
    "\n",
    "sns.despine()\n",
    "\n",
    "glue(\"sdnorm_fig2\", fig, display=False)"
   ]
  },
  {
   "cell_type": "markdown",
   "id": "generic-celtic",
   "metadata": {},
   "source": [
    " ```{glue:figure} sdnorm_fig2\n",
    ":figwidth: 600px\n",
    ":name: fig-sdnorm2\n",
    "\n",
    "Two more examples of the \\\"area under the curve idea\\\". There is a 15.9% chance that an observation is one standard deviation below the mean or smaller (left), and a 34.1% chance that the observation is greater than one standard deviation below the mean but still below the mean (right). Notice that if you add these two numbers together you get 15.9% + 34.1% = 50%. For normally distributed data, there is a 50% chance that an observation falls below the mean. And of course that also implies that there is a 50% chance that it falls above the mean.\n",
    "```\n",
    "\n"
   ]
  },
  {
   "cell_type": "markdown",
   "id": "sticky-driver",
   "metadata": {},
   "source": [
    "(density)=\n",
    "\n",
    "### Probability density\n",
    "\n",
    "There's something I've been trying to hide throughout my discussion of the normal distribution, something that some introductory textbooks omit completely. They might be right to do so: this \"thing\" that I'm hiding is weird and counterintuitive even by the admittedly distorted standards that apply in statistics. Fortunately, it's not something that you need to understand at a deep level in order to do basic statistics: rather, it's something that starts to become important later on when you move beyond the basics. So, if it doesn't make complete sense, don't worry: try to make sure that you follow the gist of it.\n",
    "\n",
    "Throughout my discussion of the normal distribution, there's been one or two things that don't quite make sense. Perhaps you noticed that the $y$-axis in these figures is labelled \"Probability Density\" rather than density. Maybe you noticed that I used $p(X)$ instead of $P(X)$ when giving the formula for the normal distribution. Maybe you're wondering why R uses the \"d\" prefix for functions like `dnorm()`. And maybe, just maybe, you've been playing around with the `dnorm()` function, and you accidentally typed in a command like this:\n",
    "```{r}\n",
    "dnorm( x = 1, mean = 1, sd = 0.1 )\n",
    "```\n",
    "And if you've done the last part, you're probably very confused. I've asked R to calculate the probability that `x = 1`, for a normally distributed variable with `mean = 1` and standard deviation `sd = 0.1`; and it tells me that the probability is 3.99. But, as we discussed earlier, probabilities *can't* be larger than 1. So either I've made a mistake, or that's not a probability. \n",
    "\n",
    "As it turns out, the second answer is correct. What we've calculated here isn't actually a probability: it's something else. To understand what that something is, you have to spend a little time thinking about what it really *means* to say that $X$ is a continuous variable. Let's say we're talking about the temperature outside. The thermometer tells me it's 23 degrees, but I know that's not really true. It's not *exactly* 23 degrees. Maybe it's 23.1 degrees, I think to myself. But I know that that's not really true either, because it might actually be 23.09 degrees. But, I know that... well, you get the idea. The tricky thing with genuinely continuous quantities is that you never really know exactly what they are.\n",
    "\n",
    "Now think about what this implies when we talk about probabilities. Suppose that tomorrow's maximum temperature is sampled from a normal distribution with mean 23 and standard deviation 1. What's the probability that the temperature will be *exactly* 23 degrees? The answer is \"zero\", or possibly, \"a number so close to zero that it might as well be zero\". Why is this? It's like trying to throw a dart at an infinitely small dart board: no matter how good your aim, you'll never hit it. In real life you'll never get a value of exactly 23. It'll always be something like 23.1 or 22.99998 or something. In other words, it's completely meaningless to talk about the probability that the temperature is exactly 23 degrees. However, in everyday language, if I told you that it was 23 degrees outside and it turned out to be 22.9998 degrees, you probably wouldn't call me a liar. Because in everyday language, \"23 degrees\" usually means something like \"somewhere between 22.5 and 23.5 degrees\". And while it doesn't feel very meaningful to ask about the probability that the temperature is exactly 23 degrees, it does seem sensible to ask about the probability that the temperature lies between 22.5 and 23.5, or between 20 and 30, or any other range of temperatures. \n",
    "\n",
    "The point of this discussion is to make clear that, when we're talking about continuous distributions, it's not meaningful to talk about the probability of a specific value. However, what we *can* talk about is the probability that the value lies within a particular range of values. To find out the probability associated with a particular range, what you need to do is calculate the \"area under the curve\". We've seen this concept already: in Figure \\@ref(fig:sdnorm1), the shaded areas shown depict genuine probabilities (e.g., in the left hand panel of Figure \\@ref(fig:sdnorm1) it shows the probability of observing a value that falls within 1 standard deviation of the mean). \n",
    "\n",
    "Okay, so that explains part of the story. I've explained a little bit about how continuous probability distributions should be interpreted (i.e., area under the curve is the key thing), but I haven't actually explained what the `dnorm()` function actually calculates. Equivalently, what does the formula for $p(x)$ that I described earlier actually mean? Obviously, $p(x)$ doesn't describe a probability, but what is it? The name for this quantity $p(x)$ is a **_probability density_**, and in terms of the plots we've been drawing, it corresponds to the *height* of the curve. The densities themselves aren't meaningful in and of themselves: but they're \"rigged\" to ensure that the *area* under the curve is always interpretable as genuine probabilities. To be honest, that's about as much as you really need to know for now.^[For those readers who know a little calculus, I'll give a slightly more precise explanation. In the same way that probabilities are non-negative numbers that must sum to 1, probability densities are non-negative numbers that must integrate to 1 (where the integral is taken across all possible values of $X$). To calculate the probability that $X$ falls between $a$ and $b$ we calculate the definite integral of the density function over the corresponding range, $\\int_a^b p(x) \\ dx$. If you don't remember or never learned calculus, don't worry about this. It's not needed for this book.]\n",
    "\n",
    "\n",
    "\n",
    "\n",
    "## Other useful distributions{#otherdists}\n",
    "\n",
    "The normal distribution is the distribution that statistics makes most use of (for reasons to be discussed shortly), and the binomial distribution is a very useful one for lots of purposes. But the world of statistics is filled with probability distributions, some of which we'll run into in passing. In particular, the three that will appear in this book are the $t$ distribution, the $\\chi^2$ distribution and the $F$ distribution. I won't give formulas for any of these, or talk about them in too much detail, but I will show you some pictures. \n",
    "\n",
    "-  The **_$t$ distribution_** is a continuous distribution that looks very similar to a normal distribution, but has heavier tails: see Figure \\@ref(fig:tdist). This distribution tends to arise in situations where you think that the data actually follow a normal distribution, but you don't know the mean or standard deviation. As you might expect, the relevant R functions are `dt()`, `pt()`, `qt()` and `rt()`, and we'll run into this distribution again in Chapter \\@ref(ttest). \n",
    "\n",
    "```{r tdist, fig.cap=\"A $t$ distribution with 3 degrees of freedom (solid line). It looks similar to a normal distribution, but it's not quite the same. For comparison purposes, I've plotted a standard normal distribution as the dashed line. Note that the \\\"tails\\\" of the $t$ distribution are \\\"heavier\\\" (i.e., extend further outwards) than the tails of the normal distribution? That's the important difference between the two. \", echo=FALSE}\n",
    "xval <- seq(-5,5,.01)\n",
    "\tyval <- dt( xval, df=3)\n",
    "\tplot( \txval, yval, lwd=3, ylab=\"Probability Density\", xlab=\"Observed Value\",\n",
    "\t\t\tframe.plot = FALSE, col=ifelse(colour,emphCol,\"black\"), type=\"l\", ylim=c(0,.4)\n",
    "\t)\n",
    "\tlines( xval, dnorm(xval,0,1), lty=2, col=emphGrey)\n",
    "\n",
    "```\n",
    "\n",
    "- The **_$\\chi^2$ distribution_** is another distribution that turns up in lots of different places. The situation in which we'll see it is when doing categorical data analysis (Chapter \\@ref(chisquare)), but it's one of those things that actually pops up all over the place. When you dig into the maths (and who doesn't love doing that?), it turns out that the main reason why the $\\chi^2$ distribution turns up all over the place is that, if you have a bunch of variables that are normally distributed, square their values and then add them up (a procedure referred to as taking a \"sum of squares\"), this sum has a $\\chi^2$ distribution. You'd be amazed how often this fact turns out to be useful. Anyway, here's what a $\\chi^2$ distribution looks like: Figure \\@ref(fig:chisqdist).  Once again, the R commands for this one are pretty predictable: `dchisq()`,  `pchisq()`,  `qchisq()`, `rchisq()`.\n",
    "\n",
    "```{r chisqdist, fig.cap=\"A $chi^2$ distribution with 3 degrees of freedom. Notice that the observed values must always be greater than zero, and that the distribution is pretty skewed. These are the key features of a chi-square distribution.\", echo=FALSE}\n",
    "\txval <- seq(0,10,.01)\n",
    "\tyval <- dchisq( xval, df=3)\n",
    "\tplot( \txval, yval, lwd=3, ylab=\"Probability Density\", xlab=\"Observed Value\",\n",
    "\t\t\tframe.plot = FALSE, col=ifelse(colour,emphCol,\"black\"), type=\"l\"\n",
    "\t)\n",
    "\n",
    "```\n",
    "\n",
    "- The **_$F$ distribution_** looks a bit like a $\\chi^2$ distribution, and it arises whenever you need to compare two $\\chi^2$ distributions to one another. Admittedly, this doesn't exactly sound like something that any sane person would want to do, but it turns out to be very important in real world data analysis. Remember when I said that $\\chi^2$ turns out to be the key distribution when we're taking a \"sum of squares\"? Well, what that means is if you want to compare two different \"sums of squares\", you're probably talking about something that has an $F$ distribution. Of course, as yet I still haven't given you an example of anything that involves a sum of squares, but I will... in Chapter \\@ref(anova). And that's where we'll run into the $F$ distribution. Oh, and here's a picture: Figure \\@ref(fig:Fdist). And of course we can get R to do things with $F$ distributions just by using the commands `df()`, `pf()`, `qf()` and `rf()`.\n",
    "\n",
    "```{r Fdist, fig.cap=\"An $F$ distribution with 3 and 5 degrees of freedom. Qualitatively speaking, it looks pretty similar to a chi-square distribution, but they're not quite the same in general.\", echo=FALSE}\n",
    "\t# draw the plot\n",
    "\txval <- seq(0,10,.01)\n",
    "\tyval <- df( xval, df1=3, df2=5)\n",
    "\tplot( \txval, yval, lwd=3, ylab=\"Probability Density\", xlab=\"Observed Value\",\n",
    "\t\t\tframe.plot = FALSE, col=ifelse(colour,emphCol,\"black\"), type=\"l\"\n",
    "\t)\n",
    "\n",
    "```\n",
    "\n",
    "\n",
    "Because these distributions are all tightly related to the normal distribution and to each other, and because they are will turn out to be the important distributions when doing inferential statistics later in this book, I think it's useful to do a little demonstration using R, just to \"convince ourselves\" that these distributions really are related to each other in the way that they're supposed to be. First, we'll use the `rnorm()` function to generate 1000 normally-distributed observations: \n",
    "```{r}\n",
    "normal.a <- rnorm( n=1000, mean=0, sd=1 )  \n",
    "print(head(normal.a))\n",
    "```\n",
    "So the `normal.a` variable contains 1000 numbers that are normally distributed, and have mean 0 and standard deviation 1, and the actual print out of these numbers goes on for rather a long time. Note that, because the default parameters of the `rnorm()` function are `mean=0` and `sd=1`, I could have shortened the command to `rnorm( n=1000 )`. In any case, what we can do is use the `hist()` function to draw a histogram of the data, like so:\n",
    "```{r eval=FALSE}\n",
    "hist( normal.a ) \n",
    "```\n",
    "\n",
    "If you do this, you should see something similar to Figure \\@ref(fig:variaterelations). Your plot won't look quite as pretty as the one in the figure, of course, because I've played around with all the formatting (see Chapter \\@ref(graphics)), and I've also plotted the true distribution of the data as a solid black line (i.e., a normal distribution with mean 0 and standard deviation 1) so that you can compare the data that we just generated to the true distribution. \n",
    "\n",
    "```{r variaterelations, echo=FALSE, fig.cap=\"A histogram of different distributions with some advanced formatting\"}\n",
    "old_par<-par()\n",
    "par(mfrow=c(2,2))\n",
    "\t# generate the data \n",
    "\tn <- 1000\n",
    "\tnormal.a <- rnorm( n )\n",
    "\tnormal.b <- rnorm( n )\n",
    "\tnormal.c <- rnorm( n )\n",
    "\tchi.sq.3 <- (normal.a)^2 + (normal.b)^2 + (normal.c)^2\t\n",
    "\tnormal.d <- rnorm( n )\n",
    "\tt.3 <- normal.d / sqrt( chi.sq.3 / 3 )\n",
    "\tchi.sq.20 <- rchisq( n, 20)\n",
    "\tF.3.20 <- (chi.sq.3 / 3) / (chi.sq.20 / 20)\n",
    "\t\n",
    "\t# histogram for the normal data\n",
    "\tbw <- .25\n",
    "\thist( \tnormal.a, seq(min(normal.a)-bw,max(normal.a)+bw,bw),\n",
    "\t\t\tfreq=FALSE, xlim=c(-4,4), \n",
    "\t\t\tcol=ifelse(colour,emphColLight,emphGrey),\n",
    "\t \t\tborder=\"white\", ylim=c(0,.45), axes=FALSE,\n",
    "\t\t\txlab=\"\",ylab=\"\", main=\"Simulated Normal Data\",\n",
    "\t\t\tfont.main = 1\n",
    "\t \t\t)\n",
    "\tlines( x<-seq(-4,4,.1), dnorm(x), lwd=3, col=\"black\"  )\n",
    "\taxis(1)\n",
    "\t\n",
    "\tbw<- .5\n",
    "\thist( \tchi.sq.3, seq(0,max(chi.sq.3)+bw,bw),\n",
    "\t\t\tfreq=FALSE, xlim=c(0,16), \n",
    "\t\t\tcol=ifelse(colour,emphColLight,emphGrey),\n",
    "\t \t\tborder=\"white\", axes=FALSE, ylim=c(0,.25),\n",
    "\t\t\txlab=\"\",ylab=\"\", main=\"Simulated Chi-Square Data\",\n",
    "\t\t\tfont.main=1\n",
    "\t \t\t)\n",
    "\tlines( x<-seq(0,16,.1), dchisq(x,3), lwd=3, col=\"black\"  )\t\n",
    "\taxis(1)\n",
    "\t# histogram for the t data\n",
    "\tbw <- .3\n",
    "\thist( \tt.3, seq(min(t.3)-bw,max(t.3)+bw,bw),\n",
    "\t\t\tfreq=FALSE, xlim=c(-5,5), \n",
    "\t\t\tcol=ifelse(colour,emphColLight,emphGrey),\n",
    "\t \t\tborder=\"white\", axes=FALSE, ylim=c(0,.4),\n",
    "\t\t\txlab=\"\",ylab=\"\", main=\"Simulated t Data\",\n",
    "\t\t\tfont.main = 1\n",
    "\t \t\t)\n",
    "\tlines( x<-seq(-4,4,.1), dt(x,3), lwd=3, col=\"black\"  )\n",
    "\taxis(1)\t\n",
    "\t\n",
    "\t# histogram for the F dist data\n",
    "\tbw <- .2\n",
    "\thist( \tF.3.20, seq(0,max(F.3.20)+bw,bw),\n",
    "\t\t\tfreq=FALSE, xlim=c(0,6), \n",
    "\t\t\tcol=ifelse(colour,emphColLight,emphGrey),\n",
    "\t \t\tborder=\"white\", axes=FALSE, ylim=c(0,.7),\n",
    "\t\t\txlab=\"\",ylab=\"\", main=\"Simulated F Data\",\n",
    "\t\t\tfont.main=1\n",
    "\t \t\t)\n",
    "\tlines( x<-seq(0,6,.01), df(x,3,20), lwd=3, col=\"black\"  )\t\n",
    "\taxis(1)\n",
    "\n",
    "par(mfrow=c(1,1))\n",
    "```\n",
    "\n",
    "\n",
    "In the previous example all I did was generate lots of normally distributed observations using `rnorm()` and then compared those to the true probability distribution in the figure (using `dnorm()` to generate the black line in the figure, but I didn't show the commmands for that). Now let's try something trickier. We'll try to generate some observations that follow a chi-square distribution with 3 degrees of freedom, but instead of using `rchisq()`, we'll start with variables that are normally distributed, and see if we can exploit the known relationships between normal and chi-square distributions to do the work. As I mentioned earlier, a chi-square distribution with $k$ degrees of freedom is what you get when you take $k$ normally-distributed variables (with mean 0 and standard deviation 1), square them, and add them up. Since we want a chi-square distribution with 3 degrees of freedom, we'll need to supplement our `normal.a` data with two more sets of normally-distributed observations, imaginatively named `normal.b` and `normal.c`:\n",
    "```{r}\n",
    "normal.b <- rnorm( n=1000 )  # another set of normally distributed data\n",
    "normal.c <- rnorm( n=1000 )  # and another!\n",
    "```\n",
    "Now that we've done that, the theory says we should square these and add them together, like this\n",
    "```{r}\n",
    "chi.sq.3 <- (normal.a)^2 + (normal.b)^2 + (normal.c)^2\t\n",
    "```\n",
    "and the resulting `chi.sq.3` variable should contain 1000 observations that follow a chi-square distribution with 3 degrees of freedom. You can use the `hist()` function to have a look at these observations yourself, using a command like this,\n",
    "```{r eval=FALSE}\n",
    "hist( chi.sq.3 )  \n",
    "```\n",
    "and you should obtain a result that looks pretty similar to the chi-square plot in Figure \\@ref(fig:variaterelations). Once again, the plot that I've drawn is a little fancier: in addition to the histogram of `chi.sq.3`, I've also plotted a chi-square distribution with 3 degrees of freedom. It's pretty clear that -- even though I used `rnorm()` to do all the work rather than `rchisq()` -- the observations stored in the `chi.sq.3` variable really do follow a chi-square distribution. Admittedly, this probably doesn't seem all that interesting right now, but later on when we start encountering the chi-square distribution in Chapter \\@ref(chisquare), it will be useful to understand the fact that these distributions are related to one another. \n",
    "\n",
    "We can extend this demonstration to the $t$ distribution and the $F$ distribution. Earlier, I implied that the $t$ distribution is related to the normal distribution when the standard deviation is unknown. That's certainly true, and that's the what we'll see later on in  Chapter \\@ref(ttest), but there's a somewhat more precise relationship between the normal, chi-square and $t$ distributions. Suppose we \"scale\" our chi-square data by dividing it by the degrees of freedom, like so\n",
    "```{r}\n",
    "scaled.chi.sq.3 <- chi.sq.3 / 3\n",
    "```\n",
    "We then take a set of normally distributed variables and divide them by (the square root of) our scaled chi-square variable which had $df=3$, and the result is a $t$ distribution with 3 degrees of freedom. If we plot the histogram of `t.3`, we end up with something that looks very similar to the t distribution in Figure \\@ref(fig:variaterelations). \n",
    "```{r eval=FALSE}\n",
    "normal.d <- rnorm( n=1000 )                # yet another set of normally distributed data\n",
    "t.3 <- normal.d / sqrt( scaled.chi.sq.3 )  # divide by square root of scaled chi-square to get t\n",
    "hist (t.3)\n",
    "```\n",
    "\n",
    "Similarly, we can obtain an $F$ distribution by taking the ratio between two scaled chi-square distributions. Suppose, for instance, we wanted to generate data from an $F$ distribution with 3 and 20 degrees of freedom. We could do this using `df()`, but we could also do the same thing by generating two chi-square variables, one with 3 degrees of freedom, and the other with 20 degrees of freedom. As the example with `chi.sq.3` illustrates, we can actually do this using `rnorm()` if we really want to, but this time I'll take a short cut:\n",
    "```{r eval = FALSE}\n",
    "chi.sq.20 <- rchisq( 1000, 20)                 # generate chi square data with df = 20...\n",
    "scaled.chi.sq.20 <- chi.sq.20 / 20             # scale the chi square variable...\n",
    "F.3.20 <-  scaled.chi.sq.3  / scaled.chi.sq.20 # take the ratio of the two chi squares...\n",
    "hist( F.3.20 )                                 # ... and draw a picture\n",
    "```\n",
    "The resulting `F.3.20` variable does in fact store variables that follow an $F$ distribution with 3 and 20 degrees of freedom. This is illustrated in Figure \\@ref(fig:variaterelations), which plots the histgram of the observations stored in `F.3.20` against the true $F$ distribution with $df_1 = 3$ and $df_2 = 20$. Again, they match. \n",
    "\n",
    "Okay, time to wrap this section up. We've seen three new distributions: $\\chi^2$, $t$ and $F$. They're all continuous distributions, and they're all closely related to the normal distribution. I've talked a little bit about the precise nature of this relationship, and shown you some R commands that illustrate this relationship. The key thing for our purposes, however, is not that you have a deep understanding of all these different distributions, nor that you remember the precise relationships between them. The main thing is that you grasp the basic idea that these distributions are all deeply related to one another, and to the normal distribution. Later on in this book, we're going to run into data that are normally distributed, or at least assumed to be normally distributed. What I want you to understand right now is that, if you make the assumption that your data are normally distributed, you shouldn't be surprised to see $\\chi^2$, $t$ and $F$ distributions popping up all over the place when you start trying to do your data analysis. \n",
    "\n",
    "\n",
    "## Summary\n",
    "\n",
    "In this chapter we've talked about probability. We've talked what probability means, and why statisticians can't agree on what it means. We talked about the rules that probabilities have to obey. And we introduced the idea of a probability distribution, and spent a good chunk of the chapter talking about some of the more important probability distributions that statisticians work with. The section by section breakdown looks like this:\n",
    "\n",
    "- Probability theory versus statistics (Section \\@ref(probstats))\n",
    "- Frequentist versus Bayesian views of probability (Section \\@ref(probmeaning))\n",
    "- Basics of probability theory (Section \\@ref(basicprobability))\n",
    "- Binomial distribution (Section \\@ref(binomial)), normal distribution (Section \\@ref(normal)), and others (Section \\@ref(otherdists))\n",
    "\n",
    "\n",
    "As you'd expect, my coverage is by no means exhaustive. Probability theory is a large branch of mathematics in its own right, entirely separate from its application to statistics and data analysis. As such, there are thousands of books written on the subject and universities generally offer multiple classes devoted entirely to probability theory. Even the \"simpler\" task of documenting standard probability distributions is a big topic. I've described five standard probability distributions in this chapter, but sitting on my bookshelf I have a 45-chapter book called \"Statistical Distributions\" @Evans2000 that lists a *lot* more than that. Fortunately for you, very little of this is necessary. You're unlikely to need to know dozens of statistical distributions when you go out and do real world data analysis, and you definitely won't need them for this book, but it never hurts to know that there's other possibilities out there.\n",
    "\n",
    "Picking up on that last point, there's a sense in which this whole chapter is something of a digression. Many undergraduate psychology classes on statistics skim over this content very quickly (I know mine did), and even the more advanced classes will often \"forget\" to revisit the basic foundations of the field. Most academic psychologists would not know the difference between probability and density, and until recently very few would have been aware of the difference between Bayesian and frequentist probability. However, I think it's important to understand these things before moving onto the applications. For example, there are a lot of rules about what you're \"allowed\" to say when doing statistical inference, and many of these can seem arbitrary and weird. However, they start to make sense if you understand that there is this Bayesian/frequentist distinction. Similarly, in Chapter \\@ref(ttest) we're going to talk about something called the $t$-test, and if you really want to have a grasp of the mechanics of the $t$-test it really helps to have a sense of what a $t$-distribution actually looks like. You get the idea, I hope."
   ]
  }
 ],
 "metadata": {
  "celltoolbar": "Tags",
  "kernelspec": {
   "display_name": "Python 3",
   "language": "python",
   "name": "python3"
  },
  "language_info": {
   "codemirror_mode": {
    "name": "ipython",
    "version": 3
   },
   "file_extension": ".py",
   "mimetype": "text/x-python",
   "name": "python",
   "nbconvert_exporter": "python",
   "pygments_lexer": "ipython3",
   "version": "3.9.2"
  }
 },
 "nbformat": 4,
 "nbformat_minor": 5
}
