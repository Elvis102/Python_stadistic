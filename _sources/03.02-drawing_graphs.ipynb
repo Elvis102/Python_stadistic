{
 "cells": [
  {
   "cell_type": "markdown",
   "id": "metric-scanner",
   "metadata": {},
   "source": [
    "(DrawingGraphs)=\n",
    "# Drawing Graphs"
   ]
  },
  {
   "cell_type": "markdown",
   "id": "funded-vector",
   "metadata": {},
   "source": [
    ">*Above all else show the data.*\n",
    ">\n",
    ">--Edward Tufte[^note1]\n",
    "\n",
    "Visualising data is one of the most important tasks facing the data analyst. It's important for two distinct but closely related reasons. Firstly, there's the matter of drawing \"presentation graphics\": displaying your data in a clean, visually appealing fashion makes it easier for your reader to understand what you're trying to tell them. Equally important, perhaps even more important, is the fact that drawing graphs helps *you* to understand the data. To that end, it's important to draw \"exploratory graphics\" that help you learn about the data as you go about analysing it. These points might seem pretty obvious, but I cannot count the number of times I've seen people forget them.\n",
    "\n",
    "[^note1]: The origin of this quote is Tufte's lovely book *The Visual Display of Quantitative Information*."
   ]
  },
  {
   "cell_type": "markdown",
   "id": "medical-niger",
   "metadata": {},
   "source": [
    "```{figure} ..img/graphics/snow_ghost_map2.png\n",
    "\n",
    "A stylised redrawing of John Snow’s original cholera map. Each small dot represents the location of a cholera case, and each large circle shows the location of a well. As the plot makes clear, the cholera outbreak is centred very closely on the Broad St pump.\n",
    "\n",
    "```"
   ]
  },
  {
   "cell_type": "code",
   "execution_count": null,
   "id": "sealed-jumping",
   "metadata": {},
   "outputs": [],
   "source": []
  }
 ],
 "metadata": {
  "kernelspec": {
   "display_name": "Python 3",
   "language": "python",
   "name": "python3"
  },
  "language_info": {
   "codemirror_mode": {
    "name": "ipython",
    "version": 3
   },
   "file_extension": ".py",
   "mimetype": "text/x-python",
   "name": "python",
   "nbconvert_exporter": "python",
   "pygments_lexer": "ipython3",
   "version": "3.9.2"
  }
 },
 "nbformat": 4,
 "nbformat_minor": 5
}
