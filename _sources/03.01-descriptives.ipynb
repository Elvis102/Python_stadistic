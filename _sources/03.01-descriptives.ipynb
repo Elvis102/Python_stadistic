{
 "cells": [
  {
   "cell_type": "markdown",
   "metadata": {},
   "source": [
    "(descriptives)=\n",
    "# Descriptive statistics\n",
    "\n",
    "Any time that you get a new data set to look at, one of the first tasks that you have to do is find ways of summarising the data in a compact, easily understood fashion. This is what **_descriptive statistics_** (as opposed to inferential statistics) is all about. In fact, to many people the term \"statistics\" is synonymous with descriptive statistics. It is this topic that we'll consider in this chapter, but before going into any details, let's take a moment to get a sense of why we need descriptive statistics. To do this, let's load the `afl_finalists.csv` and `afl_margins.csv` files. Don't worry about the Python code for now; we'll get back to that. For now, we'll focus on the data."
   ]
  },
  {
   "cell_type": "code",
   "execution_count": 2,
   "metadata": {},
   "outputs": [],
   "source": [
    "import os\n",
    "import pandas as pd\n",
    "from pathlib import Path\n",
    "\n",
    "cwd = os.getcwd()\n",
    "os.chdir(str(Path(cwd).parents[0]) + '/Data')\n",
    "\n",
    "afl_finalists = pd.read_csv('afl_finalists.csv')\n",
    "afl_margins = pd.read_csv('afl_margins.csv')"
   ]
  },
  {
   "cell_type": "markdown",
   "metadata": {},
   "source": [
    "There are two variables here, `afl_finalists` and `afl_margins`. We'll focus a bit on these two variables in this chapter, so I'd better tell you what they are. Unlike most of data sets in this book, these are actually real data, relating to the Australian Football League (AFL) [^note1] The `afl_margins` variable contains the winning margin (number of points) for all 176 home and away games played during the 2010 season. The `afl_finalists` variable contains the names of all 400 teams that played in all 200 finals matches played during the period 1987 to 2010.  Let's have a look at the `afl_margins` variable:\n",
    "\n",
    "[^note1]: Note for non-Australians: the AFL is an Australian rules football competition. You don't need to know anything about Australian rules in order to follow this section."
   ]
  },
  {
   "cell_type": "code",
   "execution_count": 3,
   "metadata": {},
   "outputs": [
    {
     "name": "stdout",
     "output_type": "stream",
     "text": [
      "     afl.margins\n",
      "0             56\n",
      "1             31\n",
      "2             56\n",
      "3              8\n",
      "4             32\n",
      "..           ...\n",
      "171           28\n",
      "172           38\n",
      "173           29\n",
      "174           10\n",
      "175           10\n",
      "\n",
      "[176 rows x 1 columns]\n"
     ]
    }
   ],
   "source": [
    "print(afl_margins)"
   ]
  },
  {
   "cell_type": "markdown",
   "metadata": {},
   "source": [
    "\n",
    "This output doesn't make it easy to get a sense of what the data are actually saying. Just \"looking at the data\" isn't a terribly effective way of understanding data. In order to get some idea about what's going on, we need to calculate some descriptive statistics (this chapter) and draw some nice pictures (next chapter). Since the descriptive statistics are the easier of the two topics, I'll start with those, but nevertheless I'll show you a histogram of the `afl_margins` data, since it should help you get a sense of what the data we're trying to describe actually look like. But for what it's worth, this histogram was generated using the `histplot()` function from the `seaborn` package. We'll talk a lot more about how to draw histograms in [](DrawingGraphs). For now, it's enough to look at the histogram and note that it provides a fairly interpretable representation of the `afl_margins` data."
   ]
  },
  {
   "cell_type": "code",
   "execution_count": 4,
   "metadata": {
    "tags": [
     "hide-input"
    ]
   },
   "outputs": [
    {
     "data": {
      "application/papermill.record/text/plain": "<AxesSubplot:xlabel='Winning Margin', ylabel='Frequency'>"
     },
     "metadata": {
      "scrapbook": {
       "mime_prefix": "application/papermill.record/",
       "name": "afl_fig"
      }
     },
     "output_type": "display_data"
    },
    {
     "data": {
      "image/png": "[encoded data removed]",
      "text/plain": [
       "<Figure size 432x288 with 1 Axes>"
      ]
     },
     "metadata": {
      "needs_background": "light"
     },
     "output_type": "display_data"
    }
   ],
   "source": [
    "from myst_nb import glue\n",
    "import seaborn as sns\n",
    "\n",
    "ax = sns.histplot(afl_margins)\n",
    "\n",
    "ax.set(xlabel =\"Winning Margin\", \n",
    "                ylabel = \"Frequency\")\n",
    "\n",
    "glue(\"afl_fig\", ax, display=False)"
   ]
  },
  {
   "cell_type": "markdown",
   "metadata": {},
   "source": [
    "```{glue:figure} afl_fig\n",
    ":figwidth: 600px\n",
    ":name: fig-AFL-Margins\n",
    "\n",
    "A histogram of the AFL 2010 winning margin data (the `afl_margins` variable). As you might expect, the larger the margin the less frequently you tend to see it.\n",
    "```\n"
   ]
  },
  {
   "cell_type": "markdown",
   "metadata": {},
   "source": [
    "(central-tendency)=\n",
    "## Measures of central tendency\n",
    "\n",
    "Athough drawing pictures of the data, as I did in {numref}`fig-AFL-Margins` is an excellent way to convey the \"gist\" of what the data is trying to tell you, it's often extremely useful to try to condense the data into a few simple \"summary\" statistics. In most situations, the first thing that you'll want to calculate is a measure of **_central tendency_**. That is, you'd like to know something about the \"average\" or \"middle\" of your data lies. The two most commonly used measures are the mean, median and mode; occasionally people will also report a trimmed mean. I'll explain each of these in turn, and then discuss when each of them is useful.\n",
    "\n",
    "### The mean\n",
    "\n",
    "The **_mean_** of a set of observations is just a normal, old-fashioned average: add all of the values up, and then divide by the total number of values. The first five AFL margins were 56, 31, 56, 8 and 32, so the mean of these observations is just:\n",
    "\n",
    "\n",
    "$\\frac{56 + 31 + 56 + 8 + 32}{5} = \\frac{183}{5} = 36.60$\n",
    "\n",
    "\n",
    "Of course, this definition of the mean isn't news to anyone: averages (i.e., means) are used so often in everyday life that this is pretty familiar stuff. However, since the concept of a mean is something that everyone already understands, I'll use this as an excuse to start introducing some of the mathematical notation that statisticians use to describe this calculation, and talk about how the calculations would be done in Python. \n",
    "\n",
    "The first piece of notation to introduce is $N$, which we'll use to refer to the number of observations that we're averaging (in this case $N = 5$). Next, we need to attach a label to the observations themselves. It's traditional to use $X$ for this, and to use subscripts to indicate which observation we're actually talking about. That is, we'll use $X_1$ to refer to the first observation, $X_2$ to refer to the second observation, and so on, all the way up to $X_N$ for the last one. Or, to say the same thing in a slightly more abstract way, we use $X_i$ to refer to the $i$-th observation. Just to make sure we're clear on the notation, the following table lists the 5 observations in the `afl_margins` variable, along with the mathematical symbol used to refer to it, and the actual value that the observation corresponds to:\n",
    "\n",
    "|the observation        |its symbol |the observed value |\n",
    "|:----------------------|:----------|:------------------|\n",
    "|winning margin, game 1 |$X_1$      |56 points          |\n",
    "|winning margin, game 2 |$X_2$      |31 points          |\n",
    "|winning margin, game 3 |$X_3$      |56 points          |\n",
    "|winning margin, game 4 |$X_4$      |8 points           |\n",
    "|winning margin, game 5 |$X_5$      |32 points          |"
   ]
  },
  {
   "cell_type": "markdown",
   "metadata": {},
   "source": [
    "Okay, now let's try to write a formula for the mean. By tradition, we use $\\bar{X}$ as the notation for the mean. So the calculation for the mean could be expressed using the following formula:  \n",
    "\n",
    "$\\bar{X} = \\frac{X_1 + X_2 + ... + X_{N-1} + X_N}{N}$\n",
    "\n",
    "This formula is entirely correct, but it's terribly long, so we make use of the **_summation symbol_** $\\scriptstyle\\sum$ to shorten it.[^note2] If I want to add up the first five observations, I could write out the sum the long way, $X_1 + X_2 + X_3 + X_4 +X_5$ or I could use the summation symbol to shorten it to this:  \n",
    "\n",
    "\n",
    "$\\sum_{i=1}^5 X_i$\n",
    "\n",
    "\n",
    "Taken literally, this could be read as \"the sum, taken over all $i$ values from 1 to 5, of the value $X_i$\". But basically, what it means is \"add up the first five observations\". In any case, we can use this notation to write out the formula for the mean, which looks like this:  \n",
    "\n",
    "\n",
    "$\\bar{X} = \\frac{1}{N} \\sum_{i=1}^N X_i$\n",
    "\n",
    "\n",
    "In all honesty, I can't imagine that all this mathematical notation helps clarify the concept of the mean at all. In fact, it's really just a fancy way of writing out the same thing I said in words: add all the values up, and then divide by the total number of items. However, that's not really the reason I went into all that detail. My goal was to try to make sure that everyone reading this book is clear on the notation that we'll be using throughout the book: $\\bar{X}$ for the mean, $\\scriptstyle\\sum$ for the idea of summation, $X_i$ for the $i$th observation, and $N$ for the total number of observations. We're going to be re-using these symbols a fair bit, so it's important that you understand them well enough to be able to \"read\" the equations, and to be able to see that it's just saying \"add up lots of things and then divide by another thing\".\n",
    "\n",
    "### Calculating the mean in Python\n",
    "\n",
    "Okay that's the maths, how do we get the magic computing box to do the work for us? If you really wanted to, you could do this calculation directly in Python. For the first 5 AFL scores, do this just by typing it in as if Python were a calculator...\n",
    "\n",
    "[^note2]: The choice to use $\\Sigma$ to denote summation isn't arbitrary: it's the Greek upper case letter sigma, which is the analogue of the letter S in that alphabet. Similarly, there's an equivalent symbol used to denote the multiplication of lots of numbers: because multiplications are also called \"products\", we use the $\\Pi$ symbol for this; the Greek upper case pi, which is the analogue of the letter P."
   ]
  },
  {
   "cell_type": "code",
   "execution_count": 5,
   "metadata": {},
   "outputs": [
    {
     "data": {
      "text/plain": [
       "36.6"
      ]
     },
     "execution_count": 5,
     "metadata": {},
     "output_type": "execute_result"
    }
   ],
   "source": [
    "\n",
    "(56 + 31 + 56 + 8 + 32) / 5\n"
   ]
  },
  {
   "cell_type": "markdown",
   "metadata": {},
   "source": [
    "... in which case Python outputs the answer 36.6, just as if it were a calculator. However, that's not the only way to do the calculations, and when the number of observations starts to become large, it's easily the most tedious. Besides, in almost every real world scenario, you've already got the actual numbers stored in a variable of some kind, just like we have with the `afl_margins` variable. Under those circumstances, what you want is a function that will just add up all the values stored in a numeric vector. That's what the `sum()` function does. If we want to add up all 176 winning margins in the data set, we can do so using the following command:"
   ]
  },
  {
   "cell_type": "code",
   "execution_count": 6,
   "metadata": {},
   "outputs": [
    {
     "data": {
      "text/plain": [
       "6213"
      ]
     },
     "execution_count": 6,
     "metadata": {},
     "output_type": "execute_result"
    }
   ],
   "source": [
    "margins = afl_margins['afl.margins']\n",
    "\n",
    "margins.sum()"
   ]
  },
  {
   "cell_type": "markdown",
   "metadata": {},
   "source": [
    "If we only want the sum of the first five observations, then we can use square brackets to pull out only the first five elements of the vector. So the command would now be:"
   ]
  },
  {
   "cell_type": "code",
   "execution_count": 7,
   "metadata": {},
   "outputs": [
    {
     "data": {
      "text/plain": [
       "0    56\n",
       "1    31\n",
       "2    56\n",
       "3     8\n",
       "4    32\n",
       "Name: afl.margins, dtype: int64"
      ]
     },
     "execution_count": 7,
     "metadata": {},
     "output_type": "execute_result"
    }
   ],
   "source": [
    "\n",
    "margins[0:5]\n",
    "\n",
    "#Dataframe.loc[[\"row1\", \"row2\"...], [\"column1\", \"column2\", \"column3\"...]]"
   ]
  },
  {
   "cell_type": "markdown",
   "metadata": {},
   "source": [
    "Observant readers will have noticed that to get the first 5 elements we need to ask for elements 0 through 5, which seems to make no sense whatsoever. Python can be weird like that. I am **not** going to get into this again here, but I touched on it in back in the section on [](indexing). To calculate the mean, we now tell Python to divide the output of this summation by five, so the command that we need to type now becomes the following:"
   ]
  },
  {
   "cell_type": "code",
   "execution_count": 8,
   "metadata": {},
   "outputs": [
    {
     "data": {
      "text/plain": [
       "36.6"
      ]
     },
     "execution_count": 8,
     "metadata": {},
     "output_type": "execute_result"
    }
   ],
   "source": [
    "margins[0:5].sum()/5\n",
    "\n"
   ]
  },
  {
   "cell_type": "markdown",
   "metadata": {},
   "source": [
    "Although it's pretty easy to calculate the mean using the `sum()` function, we can do it in an even easier way, since Python also provides us with the `mean()` method from the `statistics` module. To calculate the mean for all 176 games, we would use the \n",
    "following command:"
   ]
  },
  {
   "cell_type": "code",
   "execution_count": 9,
   "metadata": {},
   "outputs": [
    {
     "data": {
      "text/plain": [
       "35.30113636363637"
      ]
     },
     "execution_count": 9,
     "metadata": {},
     "output_type": "execute_result"
    }
   ],
   "source": [
    "import statistics\n",
    "statistics.mean(margins)\n"
   ]
  },
  {
   "cell_type": "markdown",
   "metadata": {},
   "source": [
    "Here's what we would do to calculate the mean for only the first five observations:"
   ]
  },
  {
   "cell_type": "code",
   "execution_count": 10,
   "metadata": {},
   "outputs": [
    {
     "data": {
      "text/plain": [
       "36.6"
      ]
     },
     "execution_count": 10,
     "metadata": {},
     "output_type": "execute_result"
    }
   ],
   "source": [
    "statistics.mean(margins[0:5])"
   ]
  },
  {
   "cell_type": "markdown",
   "metadata": {},
   "source": [
    "As you can see, this gives exactly the same answers as the previous calculations. \n",
    "\n",
    "\n",
    "\n",
    "### The median\n",
    "\n",
    "The second measure of central tendency that people use a lot is the **_median_**, and it's even easier to describe than the mean. The median of a set of observations is just the middle value. As before let's imagine we were interested only in the first 5 AFL winning margins: 56, 31, 56, 8 and 32. To figure out the median, we sort these numbers into ascending order:  \n",
    "\n",
    "$$\n",
    "8, 31, \\mathbf{32}, 56, 56\n",
    "$$\n",
    "From inspection, it's obvious that the median value of these 5 observations is 32, since that's the middle one in the sorted list (I've put it in bold to make it even more obvious). Easy stuff. But what should we do if we were interested in the first 6 games rather than the first 5? Since the sixth game in the season had a winning margin of 14 points, our sorted list is now \n",
    "\n",
    "$$\n",
    "8, 14, \\mathbf{31}, \\mathbf{32}, 56, 56\n",
    "$$\n",
    "and there are *two* middle numbers, 31 and 32. The median is defined as the average of those two numbers, which is of course 31.5. As before, it's very tedious to do this by hand when you've got lots of numbers. To illustrate this, here's what happens when you use Python to sort all 176 winning margins. First, I'll use the `sort_values` method to display the winning margins in increasing numerical order. [^note3]\n",
    "\n",
    "[^note3]: `sort_values`is a *method* that belong to `pandas` *objects*. We'll get back to this later in [](getting-started-with-python). For now, the important thing is that it works!"
   ]
  },
  {
   "cell_type": "code",
   "execution_count": 11,
   "metadata": {},
   "outputs": [
    {
     "data": {
      "text/html": [
       "<div>\n",
       "<style scoped>\n",
       "    .dataframe tbody tr th:only-of-type {\n",
       "        vertical-align: middle;\n",
       "    }\n",
       "\n",
       "    .dataframe tbody tr th {\n",
       "        vertical-align: top;\n",
       "    }\n",
       "\n",
       "    .dataframe thead th {\n",
       "        text-align: right;\n",
       "    }\n",
       "</style>\n",
       "<table border=\"1\" class=\"dataframe\">\n",
       "  <thead>\n",
       "    <tr style=\"text-align: right;\">\n",
       "      <th></th>\n",
       "      <th>afl.margins</th>\n",
       "    </tr>\n",
       "  </thead>\n",
       "  <tbody>\n",
       "    <tr>\n",
       "      <th>165</th>\n",
       "      <td>29</td>\n",
       "    </tr>\n",
       "    <tr>\n",
       "      <th>173</th>\n",
       "      <td>29</td>\n",
       "    </tr>\n",
       "    <tr>\n",
       "      <th>150</th>\n",
       "      <td>29</td>\n",
       "    </tr>\n",
       "    <tr>\n",
       "      <th>117</th>\n",
       "      <td>30</td>\n",
       "    </tr>\n",
       "    <tr>\n",
       "      <th>1</th>\n",
       "      <td>31</td>\n",
       "    </tr>\n",
       "    <tr>\n",
       "      <th>4</th>\n",
       "      <td>32</td>\n",
       "    </tr>\n",
       "    <tr>\n",
       "      <th>123</th>\n",
       "      <td>32</td>\n",
       "    </tr>\n",
       "    <tr>\n",
       "      <th>136</th>\n",
       "      <td>33</td>\n",
       "    </tr>\n",
       "  </tbody>\n",
       "</table>\n",
       "</div>"
      ],
      "text/plain": [
       "     afl.margins\n",
       "165           29\n",
       "173           29\n",
       "150           29\n",
       "117           30\n",
       "1             31\n",
       "4             32\n",
       "123           32\n",
       "136           33"
      ]
     },
     "execution_count": 11,
     "metadata": {},
     "output_type": "execute_result"
    }
   ],
   "source": [
    "\n",
    "sorted_margins = afl_margins.sort_values(by = 'afl.margins')\n",
    "sorted_margins[84:92]\n"
   ]
  },
  {
   "cell_type": "markdown",
   "metadata": {},
   "source": [
    "If we peek at the middle of these sorted values, we can see that the middle values are 30 and 31, so the median winning margin for 2010 was 30.5 points. In real life, of course, no-one actually calculates the median by sorting the data and then looking for the middle value. In real life, we use the median command:"
   ]
  },
  {
   "cell_type": "code",
   "execution_count": 12,
   "metadata": {},
   "outputs": [
    {
     "data": {
      "text/plain": [
       "30.5"
      ]
     },
     "execution_count": 12,
     "metadata": {},
     "output_type": "execute_result"
    }
   ],
   "source": [
    "import statistics\n",
    "statistics.median(margins)"
   ]
  },
  {
   "cell_type": "markdown",
   "metadata": {},
   "source": [
    "which outputs the median value of 30.5. \n",
    "\n",
    "By the way, in the code above, I imported the `statistics` package (or module, or library, or whatever you like to call it). Actually, I didn't really need to do that, because I had already done it earlier, when we used it to calculate the mean. Once a package is imported, Python will remember it, at least until your Python session is finished. But to make it easy to copy/paste code out of this book, I am going to try to remember to add the import commands every time (unless I forget, or it just seems unnecessary), but you won't need to do this when you are writing your own code, and in fact it will just make your code messier if you do.\n",
    "\n",
    "\n",
    "### Mean or median? What's the difference?"
   ]
  },
  {
   "cell_type": "markdown",
   "metadata": {},
   "source": [
    "\n",
    "```{figure} ../img/descriptives2/meanmedian.png\n",
    ":name: fig-meanmedian\n",
    ":width: 600px\n",
    ":align: center\n",
    "\n",
    "An illustration of the difference between how the mean and the median should be interpreted. The mean is basically the “centre of gravity” of the data set: if you imagine that the histogram of the data is a solid object, then the point on which you could balance it (as if on a see-saw) is the mean. In contrast, the median is the middle observation. Half of the observations are smaller, and half of the observations are larger.\n",
    "```"
   ]
  },
  {
   "cell_type": "markdown",
   "metadata": {},
   "source": [
    "Knowing how to calculate means and medians is only a part of the story. You also need to understand what each one is saying about the data, and what that implies for when you should use each one. This is illustrated in {numref}`fig-meanmedian`. The mean is kind of like the \"centre of gravity\" of the data set, whereas the median is the \"middle value\" in the data. What this implies, as far as which one you should use, depends a little on what type of data you've got and what you're trying to achieve. As a rough guide:\n",
    " \n",
    "- If your data are nominal scale, you probably shouldn't be using either the mean or the median. Both the mean and the median rely on the idea that the numbers assigned to values are meaningful. If the numbering scheme is arbitrary, then it's probably best to use the [](mode) instead. \n",
    "- If your data are ordinal scale, you're more likely to want to use the median than the mean. The median only makes use of the order information in your data (i.e., which numbers are bigger), but doesn't depend on the precise numbers involved. That's exactly the situation that applies when your data are ordinal scale. The mean, on the other hand, makes use of the precise numeric values assigned to the observations, so it's not really appropriate for ordinal data.\n",
    "- For interval and ratio scale data, either one is generally acceptable. Which one you pick depends a bit on what you're trying to achieve. The mean has the advantage that it uses all the information in the data (which is useful when you don't have a lot of data), but it's very sensitive to extreme values, as we'll see in [](trimmed_mean).  "
   ]
  },
  {
   "cell_type": "markdown",
   "metadata": {},
   "source": [
    "Let's expand on that last part a little. One consequence is that there's systematic differences between the mean and the median when the histogram is asymmetric (or \"skewed\":  see the section on [](skew-and-kurtosis)). This is illustrated in {numref}`fig-meanmedian`, above. Notice that the median (right hand side) is located closer to the \"body\" of the histogram, whereas the mean (left hand side) gets dragged towards the \"tail\" (where the extreme values are). To give a concrete example, suppose Bob (income \\$50,000), Kate (income \\$60,000) and Jane (income \\$65,000) are sitting at a table: the average income at the table is \\$58,333 and the median income is \\$60,000. Then Bill sits down with them (income \\$100,000,000). The average income has now jumped to \\$25,043,750 but the median rises only to \\$62,500. If you're interested in looking at the overall income at the table, the mean might be the right answer; but if you're interested in what counts as a typical income at the table, the median would be a better choice here."
   ]
  },
  {
   "cell_type": "markdown",
   "metadata": {},
   "source": [
    "### A real life example\n",
    "\n",
    "To try to get a sense of why you need to pay attention to the differences between the mean and the median, let's consider a real life example. Since I tend to mock journalists for their poor scientific and statistical knowledge, I should give credit where credit is due. This is from an excellent article on the ABC news website [^note4] 24 September, 2010:\n",
    "\n",
    ">Senior Commonwealth Bank executives have travelled the world in the past couple of weeks with a presentation showing how Australian house prices, and the key price to income ratios, compare favourably with similar countries. \"Housing affordability has actually been going sideways for the last five to six years,\" said Craig James, the chief economist of the bank's trading arm, CommSec.\n",
    "\n",
    "This probably comes as a huge surprise to anyone with a mortgage, or who wants a mortgage, or pays rent, or isn't completely oblivious to what's been going on in the Australian housing market over the last several years. Back to the article:\n",
    "\n",
    ">CBA has waged its war against what it believes are housing doomsayers with graphs, numbers and international comparisons. In its presentation, the bank rejects arguments that Australia's housing is relatively expensive compared to incomes. It says Australia's house price to household income ratio of 5.6 in the major cities, and 4.3 nationwide, is comparable to many other developed nations. It says San Francisco and New York have ratios of 7, Auckland's is 6.7, and Vancouver comes in at 9.3.\n",
    "\n",
    "More excellent news! Except, the article goes on to make the observation that...\n",
    "\n",
    ">Many analysts say that has led the bank to use misleading figures and comparisons. If you go to page four of CBA's presentation and read the source information at the bottom of the graph and table, you would notice there is an additional source on the international comparison -- Demographia. However, if the Commonwealth Bank had also used Demographia's analysis of Australia's house price to income ratio, it would have come up with a figure closer to 9 rather than 5.6 or 4.3\n",
    "\n",
    "That's, um, a rather serious discrepancy. One group of people say 9, another says 4-5. Should we just split the difference, and say the truth lies somewhere in between? Absolutely not: this is a situation where there is a right answer and a wrong answer. Demographia are correct, and the Commonwealth Bank is incorrect. As the article points out\n",
    "\n",
    ">[An] obvious problem with the Commonwealth Bank's domestic price to income figures is they compare average incomes with median house prices (unlike the Demographia figures that compare median incomes to median prices). The median is the mid-point, effectively cutting out the highs and lows, and that means the average is generally higher when it comes to incomes and asset prices, because it includes the earnings of Australia's wealthiest people. To put it another way: the Commonwealth Bank's figures count Ralph Norris' multi-million dollar pay packet on the income side, but not his (no doubt) very expensive house in the property price figures, thus understating the house price to income ratio for middle-income Australians.\n",
    "\n",
    "Couldn't have put it better myself. The way that Demographia calculated the ratio is the right thing to do. The way that the Bank did it is incorrect. As for why an extremely quantitatively sophisticated organisation such as a major bank made such an elementary mistake, well... I can't say for sure, since I have no special insight into their thinking, but the article itself does happen to mention the following facts, which may or may not be relevant:\n",
    "\n",
    ">[As] Australia's largest home lender, the Commonwealth Bank has one of the biggest vested interests in house prices rising. It effectively owns a massive swathe of Australian housing as security for its home loans as well as many small business loans.\n",
    "\n",
    "My, my. "
   ]
  },
  {
   "cell_type": "markdown",
   "metadata": {},
   "source": [
    "(trimmed_mean)=\n",
    "### Trimmed mean \n",
    "\n",
    "One of the fundamental rules of applied statistics is that the data are messy. Real life is never simple, and so the data sets that you obtain are never as straightforward as the statistical theory says. [^note5] This can have awkward consequences. To illustrate, consider this rather strange looking data set: \n",
    "\n",
    "$$\n",
    "-100,2,3,4,5,6,7,8,9,10\n",
    "$$\n",
    "If you were to observe this in a real life data set, you'd probably suspect that something funny was going on with the $-100$ value. It's probably an **_outlier_**, a value that doesn't really belong with the others. You might consider removing it from the data set entirely, and in this particular case I'd probably agree with that course of action. In real life, however, you don't always get such cut-and-dried examples. For instance, you might get this instead: \n",
    "\n",
    "$$\n",
    "-15,2,3,4,5,6,7,8,9,12\n",
    "$$\n",
    "The $-15$ looks a bit suspicious, but not anywhere near as much as that $-100$ did. In this case, it's a little trickier. It *might* be a legitimate observation, it might not.\n",
    "\n",
    "When faced with a situation where some of the most extreme-valued observations might not be quite trustworthy, the mean is not necessarily a good measure of central tendency. It is highly sensitive to one or two extreme values, and is thus not considered to be a **_robust_** measure. One remedy that we've seen is to use the median. A more general solution is to use a \"trimmed mean\".  To calculate a trimmed mean, what you do is \"discard\" the most extreme examples on both ends (i.e., the largest and the smallest), and then take the mean of everything else. The goal is to preserve the best characteristics of the mean and the median: just like a median, you aren't highly influenced by extreme outliers, but like the mean, you \"use\" more than one of the observations. Generally, we describe a trimmed mean in terms of the percentage of observation on either side that are discarded. So, for instance, a 10% trimmed mean discards the largest 10% of the observations *and* the smallest 10% of the observations, and then takes the mean of the remaining 80% of the observations. Not surprisingly, the 0% trimmed mean is just the regular mean, and the 50% trimmed mean is the median. In that sense, trimmed means provide a whole family of central tendency measures that span the range from the mean to the median.\n",
    "\n",
    "\n",
    "For our toy example above, we have 10 observations, and so a 10% trimmed mean is calculated by ignoring the largest value (i.e., `12`) and the smallest value (i.e., `-15`) and taking the mean of the remaining values. First, let's enter the data\n",
    "\n",
    "[^note4]: www.abc.net.au/news/stories/2010/09/24/3021480.htm\n",
    "\n",
    "[^note5]: Or at least, the basic statistical theory -- these days there is a whole subfield of statistics called *robust statistics* that tries to grapple with the messiness of real data and develop theory that can cope with it."
   ]
  },
  {
   "cell_type": "code",
   "execution_count": 13,
   "metadata": {},
   "outputs": [],
   "source": [
    "\n",
    "dataset = [-15,2,3,4,5,6,7,8,9,12]\n",
    "\n"
   ]
  },
  {
   "cell_type": "markdown",
   "metadata": {},
   "source": [
    "Next, let's calculate means and medians:"
   ]
  },
  {
   "cell_type": "code",
   "execution_count": 14,
   "metadata": {},
   "outputs": [
    {
     "data": {
      "text/plain": [
       "4.1"
      ]
     },
     "execution_count": 14,
     "metadata": {},
     "output_type": "execute_result"
    }
   ],
   "source": [
    "import statistics\n",
    "statistics.mean(dataset)"
   ]
  },
  {
   "cell_type": "code",
   "execution_count": 15,
   "metadata": {},
   "outputs": [
    {
     "data": {
      "text/plain": [
       "5.5"
      ]
     },
     "execution_count": 15,
     "metadata": {},
     "output_type": "execute_result"
    }
   ],
   "source": [
    "statistics.median(dataset)\n"
   ]
  },
  {
   "cell_type": "markdown",
   "metadata": {},
   "source": [
    "That's a fairly substantial difference, but I'm tempted to think that the mean is being influenced a bit too much by the extreme values at either end of the data set, especially the $-15$ one. So let's just try trimming the mean a bit. If I take a 10% trimmed mean [^note6], we'll drop the extreme values on either side, and take the mean of the rest: \n",
    "\n",
    "[^note6]: Here I use the `stats` function from the `scipy` module. But `stats` is picky, it only wants to deal with data in a certain format called `numpy arrays`. So, to give it what it wants, we also need to import `numpy`, and then convert our data into an `array`. Also I only imported part of the `scipy` module (you can do that) and renamed the `numpy` module. You can do that too, but this footnote is already getting much too long. We'll get back to these things and much more in [](getting-started-with-python)."
   ]
  },
  {
   "cell_type": "code",
   "execution_count": 16,
   "metadata": {},
   "outputs": [
    {
     "data": {
      "text/plain": [
       "5.5"
      ]
     },
     "execution_count": 16,
     "metadata": {},
     "output_type": "execute_result"
    }
   ],
   "source": [
    "import numpy as np\n",
    "from scipy import stats\n",
    "dataset2 = np.array(dataset)\n",
    "\n",
    "stats.trim_mean(dataset2, 0.1)\n"
   ]
  },
  {
   "cell_type": "markdown",
   "metadata": {},
   "source": [
    "which in this case gives exactly the same answer as the median. Note that, to get a 10% trimmed mean you write `trim = .1`, not `trim = 10`. In any case, let's finish up by calculating the 5% trimmed mean for the `afl_margins` data, "
   ]
  },
  {
   "cell_type": "code",
   "execution_count": 17,
   "metadata": {},
   "outputs": [
    {
     "data": {
      "text/plain": [
       "33.75"
      ]
     },
     "execution_count": 17,
     "metadata": {},
     "output_type": "execute_result"
    }
   ],
   "source": [
    "dataset3 = np.array(margins)\n",
    "stats.trim_mean(dataset3, 0.05)"
   ]
  },
  {
   "cell_type": "markdown",
   "metadata": {},
   "source": [
    "(mode)=  \n",
    "### Mode\n",
    "\n",
    "The mode of a sample is very simple: it is the value that occurs most frequently. To illustrate the mode using the AFL data, let's examine a different aspect to the data set. Who has played in the most finals? The `afl_finalists` data contains the name of every team that played in any AFL final from 1987-2010, so let's have a look at it. To do this we will use the `head()` method. `head()` is a method that can be used when the data is contained in a `pandas` `dataframe` object (which ours is). It can be useful when you're working with data with a lot of rows, since you can use it to tell you how many rows to return. There have been a lot of finals in this period so printing afl finalists using `print(afl_finalists)` will just fill us the screen. The command below tells Python we just want the first 25 rows of the dataframe."
   ]
  },
  {
   "cell_type": "code",
   "execution_count": 18,
   "metadata": {},
   "outputs": [
    {
     "data": {
      "text/html": [
       "<div>\n",
       "<style scoped>\n",
       "    .dataframe tbody tr th:only-of-type {\n",
       "        vertical-align: middle;\n",
       "    }\n",
       "\n",
       "    .dataframe tbody tr th {\n",
       "        vertical-align: top;\n",
       "    }\n",
       "\n",
       "    .dataframe thead th {\n",
       "        text-align: right;\n",
       "    }\n",
       "</style>\n",
       "<table border=\"1\" class=\"dataframe\">\n",
       "  <thead>\n",
       "    <tr style=\"text-align: right;\">\n",
       "      <th></th>\n",
       "      <th>afl.finalists</th>\n",
       "    </tr>\n",
       "  </thead>\n",
       "  <tbody>\n",
       "    <tr>\n",
       "      <th>0</th>\n",
       "      <td>Hawthorn</td>\n",
       "    </tr>\n",
       "    <tr>\n",
       "      <th>1</th>\n",
       "      <td>Melbourne</td>\n",
       "    </tr>\n",
       "    <tr>\n",
       "      <th>2</th>\n",
       "      <td>Carlton</td>\n",
       "    </tr>\n",
       "    <tr>\n",
       "      <th>3</th>\n",
       "      <td>Melbourne</td>\n",
       "    </tr>\n",
       "    <tr>\n",
       "      <th>4</th>\n",
       "      <td>Hawthorn</td>\n",
       "    </tr>\n",
       "    <tr>\n",
       "      <th>5</th>\n",
       "      <td>Carlton</td>\n",
       "    </tr>\n",
       "    <tr>\n",
       "      <th>6</th>\n",
       "      <td>Melbourne</td>\n",
       "    </tr>\n",
       "    <tr>\n",
       "      <th>7</th>\n",
       "      <td>Carlton</td>\n",
       "    </tr>\n",
       "    <tr>\n",
       "      <th>8</th>\n",
       "      <td>Hawthorn</td>\n",
       "    </tr>\n",
       "    <tr>\n",
       "      <th>9</th>\n",
       "      <td>Melbourne</td>\n",
       "    </tr>\n",
       "    <tr>\n",
       "      <th>10</th>\n",
       "      <td>Melbourne</td>\n",
       "    </tr>\n",
       "    <tr>\n",
       "      <th>11</th>\n",
       "      <td>Hawthorn</td>\n",
       "    </tr>\n",
       "    <tr>\n",
       "      <th>12</th>\n",
       "      <td>Melbourne</td>\n",
       "    </tr>\n",
       "    <tr>\n",
       "      <th>13</th>\n",
       "      <td>Essendon</td>\n",
       "    </tr>\n",
       "    <tr>\n",
       "      <th>14</th>\n",
       "      <td>Hawthorn</td>\n",
       "    </tr>\n",
       "    <tr>\n",
       "      <th>15</th>\n",
       "      <td>Geelong</td>\n",
       "    </tr>\n",
       "    <tr>\n",
       "      <th>16</th>\n",
       "      <td>Geelong</td>\n",
       "    </tr>\n",
       "    <tr>\n",
       "      <th>17</th>\n",
       "      <td>Hawthorn</td>\n",
       "    </tr>\n",
       "    <tr>\n",
       "      <th>18</th>\n",
       "      <td>Collingwood</td>\n",
       "    </tr>\n",
       "    <tr>\n",
       "      <th>19</th>\n",
       "      <td>Melbourne</td>\n",
       "    </tr>\n",
       "    <tr>\n",
       "      <th>20</th>\n",
       "      <td>Collingwood</td>\n",
       "    </tr>\n",
       "    <tr>\n",
       "      <th>21</th>\n",
       "      <td>West Coast</td>\n",
       "    </tr>\n",
       "    <tr>\n",
       "      <th>22</th>\n",
       "      <td>Collingwood</td>\n",
       "    </tr>\n",
       "    <tr>\n",
       "      <th>23</th>\n",
       "      <td>Essendon</td>\n",
       "    </tr>\n",
       "    <tr>\n",
       "      <th>24</th>\n",
       "      <td>Collingwood</td>\n",
       "    </tr>\n",
       "  </tbody>\n",
       "</table>\n",
       "</div>"
      ],
      "text/plain": [
       "   afl.finalists\n",
       "0       Hawthorn\n",
       "1      Melbourne\n",
       "2        Carlton\n",
       "3      Melbourne\n",
       "4       Hawthorn\n",
       "5        Carlton\n",
       "6      Melbourne\n",
       "7        Carlton\n",
       "8       Hawthorn\n",
       "9      Melbourne\n",
       "10     Melbourne\n",
       "11      Hawthorn\n",
       "12     Melbourne\n",
       "13      Essendon\n",
       "14      Hawthorn\n",
       "15       Geelong\n",
       "16       Geelong\n",
       "17      Hawthorn\n",
       "18   Collingwood\n",
       "19     Melbourne\n",
       "20   Collingwood\n",
       "21    West Coast\n",
       "22   Collingwood\n",
       "23      Essendon\n",
       "24   Collingwood"
      ]
     },
     "execution_count": 18,
     "metadata": {},
     "output_type": "execute_result"
    }
   ],
   "source": [
    "\n",
    "afl_finalists.head(n=25)\n"
   ]
  },
  {
   "cell_type": "markdown",
   "metadata": {},
   "source": [
    "There are actually 400 entries (aren't you glad we didn't print them all?). We *could* read through all 400, and count the number of occasions on which each team name appears in our list of finalists, thereby producing a **_frequency table_**. However, that would be mindless and boring: exactly the sort of task that computers are great at. So let's use the `value_counts()` method to do this task for us:"
   ]
  },
  {
   "cell_type": "code",
   "execution_count": 19,
   "metadata": {},
   "outputs": [
    {
     "data": {
      "text/plain": [
       "Geelong             39\n",
       "West Coast          38\n",
       "Essendon            32\n",
       "North Melbourne     28\n",
       "Melbourne           28\n",
       "Collingwood         28\n",
       "Hawthorn            27\n",
       "Sydney              26\n",
       "Adelaide            26\n",
       "Carlton             26\n",
       "Brisbane            25\n",
       "Western Bulldogs    24\n",
       "St Kilda            24\n",
       "Port Adelaide       17\n",
       "Richmond             6\n",
       "Fremantle            6\n",
       "Name: afl.finalists, dtype: int64"
      ]
     },
     "execution_count": 19,
     "metadata": {},
     "output_type": "execute_result"
    }
   ],
   "source": [
    "finalists = afl_finalists['afl.finalists']\n",
    "finalists.value_counts()\n"
   ]
  },
  {
   "cell_type": "markdown",
   "metadata": {},
   "source": [
    "Now that we have our frequency table, we can just look at it and see that, over the 24 years for which we have data, Geelong has played in more finals than any other team. Thus, the mode of the `finalists` data is `\"Geelong\"`. If we want to extract the mode without inspecting the table, we can use the `statistics.mode` function to tell us which team has most often played in the finals."
   ]
  },
  {
   "cell_type": "code",
   "execution_count": 20,
   "metadata": {},
   "outputs": [
    {
     "data": {
      "text/plain": [
       "'Geelong'"
      ]
     },
     "execution_count": 20,
     "metadata": {},
     "output_type": "execute_result"
    }
   ],
   "source": [
    "\n",
    "statistics.mode(finalists)\n"
   ]
  },
  {
   "cell_type": "markdown",
   "metadata": {},
   "source": [
    "If we want to find the number of finals they have played in, we can e.g. first extract the frequencies with `value_counts` and then find the largest value with `max`."
   ]
  },
  {
   "cell_type": "code",
   "execution_count": 24,
   "metadata": {},
   "outputs": [
    {
     "data": {
      "text/plain": [
       "39"
      ]
     },
     "execution_count": 24,
     "metadata": {},
     "output_type": "execute_result"
    }
   ],
   "source": [
    "freq = finalists.value_counts()\n",
    "freq.max()"
   ]
  },
  {
   "cell_type": "markdown",
   "metadata": {},
   "source": [
    "Taken together, we observe that Geelong (39 finals) played in more finals than any other team during the 1987-2010 period. \n",
    "\n",
    "One last point to make with respect to the mode. While it's generally true that the mode is most often calculated when you have nominal scale data (because means and medians are useless for those sorts of variables), there are some situations in which you really do want to know the mode of an ordinal, interval or ratio scale variable. For instance, let's go back to thinking about our `afl_margins` variable. This variable is clearly ratio scale (if it's not clear to you, it may help to re-read [](scales)), and so in most situations the mean or the median is the measure of central tendency that you want. But consider this scenario... a friend of yours is offering a bet. They pick a football game at random, and (without knowing who is playing) you have to guess the *exact* margin. If you guess correctly, you win \\$50. If you don't, you lose \\$1. There are no consolation prizes for \"almost\" getting the right answer. You have to guess exactly the right margin. [^note7] For this bet, the mean and the median are completely useless to you. It is the mode that you should bet on. So, we calculate this modal value\n",
    "\n",
    "[^note7]: This is called a \"0-1 loss function\", meaning that you either win (1) or you lose (0), with no middle ground."
   ]
  },
  {
   "cell_type": "code",
   "execution_count": 23,
   "metadata": {},
   "outputs": [
    {
     "data": {
      "text/plain": [
       "3"
      ]
     },
     "execution_count": 23,
     "metadata": {},
     "output_type": "execute_result"
    }
   ],
   "source": [
    "statistics.mode(margins)"
   ]
  },
  {
   "cell_type": "code",
   "execution_count": 24,
   "metadata": {},
   "outputs": [
    {
     "data": {
      "text/plain": [
       "8"
      ]
     },
     "execution_count": 24,
     "metadata": {},
     "output_type": "execute_result"
    }
   ],
   "source": [
    "freq = margins.value_counts()\n",
    "freq.max()"
   ]
  },
  {
   "cell_type": "markdown",
   "metadata": {},
   "source": [
    "So the 2010 data suggest you should bet on a 3 point margin, and since this was observed in 8 of the 176 game (4.5% of games) the odds are firmly in your favour. "
   ]
  },
  {
   "cell_type": "markdown",
   "metadata": {},
   "source": [
    "(variability)=\n",
    "\n",
    "## Measures of variability\n",
    "\n",
    "The statistics that we've discussed so far all relate to *central tendency*. That is, they all talk about which values are \"in the middle\" or \"popular\" in the data. However, central tendency is not the only type of summary statistic that we want to calculate. The second thing that we really want is a measure of the **_variability_** of the data. That is, how \"spread out\" are the data? How \"far\" away from the mean or median do the observed values tend to be? For now, let's assume that the data are interval or ratio scale, so we'll continue to use the `afl_margins` data.  We'll use this data to discuss several different measures of spread, each with different strengths and weaknesses. "
   ]
  },
  {
   "cell_type": "markdown",
   "metadata": {},
   "source": [
    "(range)=\n",
    "### Range\n",
    "\n",
    "The **_range_** of a variable is very simple: it's the biggest value minus the smallest value. For the AFL winning margins data, the maximum value is 116, and the minimum value is 0. We can calculate these values in Python using the `max()` and `min()` functions:\n",
    "\n",
    "\n",
    "`margins.max()`  \n",
    "`margins.min()`\n",
    "\n",
    "\n",
    "where I've omitted the output because it's not interesting.\n",
    "\n",
    "Although the range is the simplest way to quantify the notion of \"variability\", it's one of the worst. Recall from our discussion of the mean that we want our summary measure to be robust. If the data set has one or two extremely bad values in it, we'd like our statistics not to be unduly influenced by these cases. If we look once again at our toy example of a data set containing very extreme outliers... \n",
    "\n",
    "$$\n",
    "-100,2,3,4,5,6,7,8,9,10\n",
    "$$\n",
    "... it is clear that the range is not robust, since this has a range of 110, but if the outlier were removed we would have a range of only 8."
   ]
  },
  {
   "cell_type": "markdown",
   "metadata": {},
   "source": [
    "(iqr)=\n",
    "### Interquartile range\n",
    "\n",
    "The **_interquartile range_** (IQR) is like the range, but instead of calculating the difference between the biggest and smallest value, it calculates the difference between the 25th quantile and the 75th quantile. Probably you already know what a **_quantile_** is (they're more commonly called percentiles), but if not: the 10th percentile of a data set is the smallest number $x$ such that 10% of the data is less than $x$. In fact, we've already come across the idea: the median of a data set is its 50th quantile / percentile! The `numpy` module actually provides you with a way of calculating quantiles, using the (surprise, surprise) `quantile()` function. Let's use it to calculate the median AFL winning margin:"
   ]
  },
  {
   "cell_type": "code",
   "execution_count": 25,
   "metadata": {},
   "outputs": [
    {
     "data": {
      "text/plain": [
       "30.5"
      ]
     },
     "execution_count": 25,
     "metadata": {},
     "output_type": "execute_result"
    }
   ],
   "source": [
    "\n",
    "import numpy as np\n",
    "np.quantile(margins, 0.5)"
   ]
  },
  {
   "cell_type": "markdown",
   "metadata": {},
   "source": [
    "And not surprisingly, this agrees with the answer that we saw earlier with the `median()` function. Now, we can actually input lots of quantiles at once, by specifying which quantiles we want. So lets do that, and get the 25th and 75th percentile:"
   ]
  },
  {
   "cell_type": "code",
   "execution_count": 26,
   "metadata": {},
   "outputs": [
    {
     "data": {
      "text/plain": [
       "array([12.75, 50.5 ])"
      ]
     },
     "execution_count": 26,
     "metadata": {},
     "output_type": "execute_result"
    }
   ],
   "source": [
    "\n",
    "np.quantile(margins, [0.25, .75])\n"
   ]
  },
  {
   "cell_type": "markdown",
   "metadata": {},
   "source": [
    "And, by noting that $50.5 - 12.75 = 37.75$, we can see that the interquartile range for the 2010 AFL winning margins data is 37.75. Of course, that seems like too much work to do all that typing, and luckily we don't have to, since the kind folks at `scipy` have already done the work for us and provided us with the  `iqr.stats` function, which will give us what we want."
   ]
  },
  {
   "cell_type": "code",
   "execution_count": 27,
   "metadata": {},
   "outputs": [
    {
     "data": {
      "text/plain": [
       "37.75"
      ]
     },
     "execution_count": 27,
     "metadata": {},
     "output_type": "execute_result"
    }
   ],
   "source": [
    "\n",
    "from scipy import stats\n",
    "stats.iqr(margins)\n"
   ]
  },
  {
   "cell_type": "markdown",
   "metadata": {},
   "source": [
    "While it's obvious how to interpret the range, it's a little less obvious how to interpret the IQR. The simplest way to think about it is like this: the interquartile range is the range spanned by the \"middle half\" of the data. That is, one quarter of the data falls below the 25th percentile, one quarter of the data is above the 75th percentile, leaving the \"middle half\" of the data lying in between the two. And the IQR is the range covered by that middle half."
   ]
  },
  {
   "cell_type": "markdown",
   "metadata": {},
   "source": [
    "(aad)=\n",
    "\n",
    "### Mean absolute deviation\n",
    "\n",
    "The two measures we've looked at so far, the range and the interquartile range, both rely on the idea that we can measure the spread of the data by looking at the quantiles of the data. However, this isn't the only way to think about the problem. A different approach is to select a meaningful reference point (usually the mean or the median) and then report the \"typical\" deviations from that reference point. What do we mean by \"typical\" deviation? Usually, the mean or median value of these deviations! In practice, this leads to two different measures, the \"mean absolute deviation (from the mean)\" and the \"median absolute deviation (from the median)\". From what I've read, the measure based on the median seems to be used in statistics, and does seem to be the better of the two, but to be honest I don't think I've seen it used much in psychology. The measure based on the mean does occasionally show up in psychology though. In this section I'll talk about the first one, and I'll come back to talk about the second one later.\n",
    "\n",
    "Since the previous paragraph might sound a little abstract, let's go through the **_mean absolute deviation_** from the mean a little more slowly. One useful thing about this measure is that the name actually tells you exactly how to calculate it. Let's think about our AFL winning margins data, and once again we'll start by pretending that there's only 5 games in total, with winning margins of 56, 31, 56, 8 and 32. Since our calculations rely on an examination of the deviation from some reference point (in this case the mean), the first thing we need to calculate is the mean, $\\bar{X}$. For these five observations, our mean is $\\bar{X} = 36.6$. The next step is to convert each of our observations $X_i$ into a deviation score. We do this by calculating the difference between the observation $X_i$ and the mean $\\bar{X}$. That is, the deviation score is defined to be $X_i - \\bar{X}$. For the first observation in our sample, this is equal to $56 - 36.6 = 19.4$. Okay, that's simple enough. The next step in the process is to convert these deviations to absolute deviations. We do this by converting any negative values to positive ones. Mathematically, we would denote the absolute value of $-3$ as $|-3|$, and so we say that $|-3| = 3$. We use the absolute value function here because we don't really care whether the value is higher than the mean or lower than the mean, we're just interested in how *close* it is to the mean. To help make this process as obvious as possible, the table below shows these calculations for all five observations:"
   ]
  },
  {
   "cell_type": "markdown",
   "metadata": {},
   "source": [
    "|the observation        |its symbol |the observed value |\n",
    "|:----------------------|:----------|:------------------|\n",
    "|winning margin, game 1 |$X_1$      |56 points          |\n",
    "|winning margin, game 2 |$X_2$      |31 points          |\n",
    "|winning margin, game 3 |$X_3$      |56 points          |\n",
    "|winning margin, game 4 |$X_4$      |8 points           |\n",
    "|winning margin, game 5 |$X_5$      |32 points          |"
   ]
  },
  {
   "cell_type": "markdown",
   "metadata": {},
   "source": [
    "Now that we have calculated the absolute deviation score for every observation in the data set, all that we have to do to calculate the mean of these scores. Let's do that:\n",
    "\n",
    "$$\n",
    "\n",
    "\\frac{19.4 + 5.6 + 19.4 + 28.6 + 4.6}{5} = 15.52\n",
    "\n",
    "$$\n",
    "\n",
    "And we're done. The mean absolute deviation for these five scores is 15.52. \n",
    "\n",
    "However, while our calculations for this little example are at an end, we do have a couple of things left to talk about. Firstly, we should really try to write down a proper mathematical formula. But in order do to this I need some mathematical notation to refer to the mean absolute deviation. Irritatingly, \"mean absolute deviation\" and \"median absolute deviation\" have the same acronym (MAD), which leads to a certain amount of ambiguity. To make matters worse, packages that include functions to calculate these things for you _**both use the abbreviation MAD even though they mean different things!**_ Sigh. What I'll do is use AAD instead, short for *average* absolute deviation. Now that we have some unambiguous notation, here's the formula that describes what we just calculated: Now that we have some unambiguous notation, here's the formula that describes what we just calculated:\n",
    "\n",
    "$$\n",
    "\n",
    "ADD\\mbox{}(X) = \\frac{1}{N} \\sum_{i = 1}^N |X_i - \\bar{X}|\n",
    "\n",
    "$$\n",
    "\n",
    "The last thing we need to talk about is how to calculate AAD in Python. One possibility would be to do everything using low level commands, laboriously following the same steps that I used when describing the calculations above. However, that's pretty tedious. You'd end up with a series of commands that might look like this:"
   ]
  },
  {
   "cell_type": "code",
   "execution_count": 33,
   "metadata": {},
   "outputs": [
    {
     "data": {
      "text/plain": [
       "15.52"
      ]
     },
     "execution_count": 33,
     "metadata": {},
     "output_type": "execute_result"
    }
   ],
   "source": [
    "from statistics import mean\n",
    "\n",
    "X = [56, 31, 56, 8, 32]             # 1. enter the data\n",
    "X_bar = mean(X)                     # 2. find the mean of the data\n",
    "AD = []                             # 3. find the  absolute value of the difference between\n",
    "for i in X:                         #    each value and the mean and add it to the list AD    \n",
    "    AD.append(abs((i-X_bar)))       \n",
    "ADD = mean(AD)                      # 4. find the mean of the absolute values\n",
    "ADD\n"
   ]
  },
  {
   "cell_type": "markdown",
   "metadata": {},
   "source": [
    "Each of those commands is pretty simple, but there's just too many of them. And because I find that to be too much typing, I suggest using the `pandas` method `mad()` to make life easier. There is one important thing to notice, however: `pandas` will want the data to be in a different format, namely the simply and elegantly named `pandas.core.series.Series` format. Haha, just kidding. At least about the simple and elegant name. The format is great, though, and can do lots of things that ordinary lists can't, so it is worth putting up with the name. To find the AAD, we can just do:"
   ]
  },
  {
   "cell_type": "code",
   "execution_count": 49,
   "metadata": {},
   "outputs": [
    {
     "data": {
      "text/plain": [
       "15.52"
      ]
     },
     "execution_count": 49,
     "metadata": {},
     "output_type": "execute_result"
    }
   ],
   "source": [
    "import pandas as pd\n",
    "\n",
    "data = pd.Series( [56, 31, 56, 8, 32])\n",
    "data.mad()\n"
   ]
  },
  {
   "cell_type": "markdown",
   "metadata": {},
   "source": [
    "Ok, I lied again. There is more than one thing to notice (when isn't there?). \"AAD\" is a good acronym, but unfortunately, it's one I just made up. `pandas` calls this the \"MAD\". And, as we have seen, this is _also_ the acronym for the _median absolute difference_. To find the median absolute difference, we can use the `robust` module from the `statsmodels` package, which has a function called, you guessed it, `mad`. Except this time the \"m\" in \"MAD\" stand for \"median\" and not \"mean\". Haha, isn't naming fun?\n",
    "\n",
    "We'll talk more about [](mad) below. For now, just be careful to be aware of which one you are using, and why, and everything will be ok!"
   ]
  },
  {
   "cell_type": "code",
   "execution_count": 71,
   "metadata": {},
   "outputs": [
    {
     "name": "stdout",
     "output_type": "stream",
     "text": [
      "Pandas MAD is the mean absolute deviation: 15.52\n",
      "Statsmodels MAD is the median absolute deviation: 24.0\n"
     ]
    }
   ],
   "source": [
    "import pandas as pd\n",
    "import numpy as np\n",
    "from statsmodels import robust\n",
    "\n",
    "data = pd.Series( [56, 31, 56, 8, 32])\n",
    "pandas_mad = data.mad()\n",
    "\n",
    "data = np.array([56, 31, 56, 8, 32])\n",
    "statsmodels_mad = robust.mad(data, c = 1)\n",
    "\n",
    "print(\"Pandas MAD is the mean absolute deviation:\", pandas_mad)\n",
    "print(\"Statsmodels MAD is the median absolute deviation:\", statsmodels_mad)"
   ]
  },
  {
   "cell_type": "markdown",
   "metadata": {},
   "source": [
    "(var)=\n",
    "### Variance \n",
    "\n",
    "\n",
    "Although mean absolute deviation measure has its uses, it's not the best measure of variability to use. From a purely mathematical perspective, there are some solid reasons to prefer squared deviations rather than absolute deviations. If we do that, we obtain a measure is called the **_variance_**, which has a lot of really nice statistical properties that I'm going to ignore, [^note8] and one massive psychological flaw that I'm going to make a big deal out of in a moment. The variance of a data set $X$ is sometimes written as $\\mbox{Var}(X)$, but it's more commonly denoted $s^2$ (the reason for this will become clearer shortly). The formula that we use to calculate the variance of a set of observations is as follows:\n",
    "\n",
    "$$\n",
    "\\mbox{Var}(X) = \\frac{1}{N} \\sum_{i=1}^N \\left( X_i - \\bar{X} \\right)^2\n",
    "$$\n",
    "\n",
    "\n",
    "As you can see, it's basically the same formula that we used to calculate the mean absolute deviation, except that instead of using \"absolute deviations\" we use \"squared deviations\". It is for this reason that the variance is sometimes referred to as the \"mean square deviation\".\n",
    "\n",
    "Now that we've got the basic idea, let's have a look at a concrete example. Once again, let's use the first five AFL games as our data. If we follow the same approach that we took last time, we end up with the following table:\n",
    "\n",
    "| which game | value | deviation from mean | squared deviation |\n",
    "| :--------: | :---: | :-----------------: | :---------------: |\n",
    "|     1      |  56   |        19.4         |      376.36       |\n",
    "|     2      |  31   |        -5.6         |       31.36       |\n",
    "|     3      |  56   |        19.4         |      376.36       |\n",
    "|     4      |   8   |        -28.6        |      817.96       |\n",
    "|     5      |  32   |        -4.6         |       21.16       |\n",
    "\n",
    "The same table again, translated into Math-ese, looks like this:\n",
    "\n",
    "| *i*      | $X_i$ | $X_i - \\bar{X}$     | $X_i - \\bar{X}$)$^2$                      |\n",
    "| :--------: | :---: | :-----------------: | :-----------------------------------------: \n",
    "|     1      |  56   |        19.4 &#12644;&#12644;      |      376.36 &#12644;&#12644;|\n",
    "|     2      |  31   |        -5.6 &#12644;&#12644;        |    31.36  &#12644;&#12644;|\n",
    "|     3      |  56   |        19.4 &#12644;&#12644;        |    376.36 &#12644;&#12644;|\n",
    "|     4      |   8   |        -28.6 &#12644;&#12644;       |    817.96 &#12644;&#12644;|\n",
    "|     5      |  32   |        -4.6 &#12644;&#12644;        |    21.16  &#12644;&#12644;|\n",
    "\n",
    "That last column contains all of our squared deviations, so all we have to do is average them. If we do that by typing all the numbers into Python by hand...\n",
    "\n",
    "[^note8]: Well, I will very briefly mention the one that I think is coolest, for a very particular definition of \"cool\", that is. Variances are *additive*. Here's what that means: suppose I have two variables $X$ and $Y$, whose variances are $\\mbox{Var}(X)$ and $\\mbox{Var}(Y)$ respectively. Now imagine I want to define a new variable $Z$ that is the sum of the two, $Z = X+Y$. As it turns out, the variance of $Z$ is equal to $\\mbox{Var}(X) + \\mbox{Var}(Y)$. This is a *very* useful property, but it's not true of the other measures that I talk about in this section."
   ]
  },
  {
   "cell_type": "code",
   "execution_count": 47,
   "metadata": {},
   "outputs": [
    {
     "data": {
      "text/plain": [
       "324.64"
      ]
     },
     "execution_count": 47,
     "metadata": {},
     "output_type": "execute_result"
    }
   ],
   "source": [
    "\n",
    "( 376.36 + 31.36 + 376.36 + 817.96 + 21.16 ) / 5\n"
   ]
  },
  {
   "cell_type": "markdown",
   "metadata": {},
   "source": [
    "... we end up with a variance of 324.64. Exciting, isn't it? For the moment, let's ignore the burning question that you're all probably thinking (i.e., what the heck does a variance of 324.64 actually mean?) and instead talk a bit more about how to do the calculations in Python, because this will reveal something very weird.\n",
    "\n",
    "As always, we want to avoid having to type in a whole lot of numbers ourselves, and fortunately the `statistics` module provides a function called `variance` which saves us the trouble. And as it happens, we have the values lying around in the variable `data`, which we created in the previous section. With this in mind, we can just calculate the variance of `data` by using the following command"
   ]
  },
  {
   "cell_type": "code",
   "execution_count": 52,
   "metadata": {},
   "outputs": [
    {
     "data": {
      "text/plain": [
       "405.8"
      ]
     },
     "execution_count": 52,
     "metadata": {},
     "output_type": "execute_result"
    }
   ],
   "source": [
    "import statistics\n",
    "\n",
    "statistics.variance(data)"
   ]
  },
  {
   "cell_type": "markdown",
   "metadata": {},
   "source": [
    "and you get the same... no, wait... you get a completely different answer. That’s just weird. Is Python broken? Is this a typo? Is Dan an idiot?\n",
    "As it happens, the answer is no[^note9]. It's not a typo, and Python is not making a mistake. To get a feel for what's happening, let's stop using the tiny data set containing only 5 data points, and switch to the full set of 176 games that we've got stored in our  `afl_margins` vector. First, let's calculate the variance by using the formula that I described above:\n",
    "\n",
    "[^note9]: With the possible exception of the third question."
   ]
  },
  {
   "cell_type": "code",
   "execution_count": 64,
   "metadata": {},
   "outputs": [
    {
     "data": {
      "text/plain": [
       "675.9718168904958"
      ]
     },
     "execution_count": 64,
     "metadata": {},
     "output_type": "execute_result"
    }
   ],
   "source": [
    "import statistics\n",
    "m = statistics.mean(afl_margins['afl.margins'])\n",
    "v = []\n",
    "for n in afl_margins['afl.margins']:\n",
    "    squared_error = (n-m)**2\n",
    "    v.append(squared_error)\n",
    "var = statistics.mean(v)\n",
    "var"
   ]
  },
  {
   "cell_type": "markdown",
   "metadata": {},
   "source": [
    "Now let's use the `statistics.variance()` function:"
   ]
  },
  {
   "cell_type": "code",
   "execution_count": 65,
   "metadata": {},
   "outputs": [
    {
     "data": {
      "text/plain": [
       "679.834512987013"
      ]
     },
     "execution_count": 65,
     "metadata": {},
     "output_type": "execute_result"
    }
   ],
   "source": [
    "import statistics\n",
    "\n",
    "var = statistics.variance(afl_margins['afl.margins'])\n",
    "\n",
    "var"
   ]
  },
  {
   "cell_type": "markdown",
   "metadata": {},
   "source": [
    "Hm. These two numbers are very similar this time. That seems like too much of a coincidence to be a mistake. And of course it isn't a mistake. In fact, it's very simple to explain what Python is doing here, but slightly trickier to explain *why* Python is doing it. So let's start with the \"what\". What Python is doing is evaluating a slightly different formula to the one I showed you above. Instead of averaging the squared deviations, which requires you to divide by the number of data points $N$, Python has chosen to divide by $N-1$. In other words, the formula that Python is using is this one "
   ]
  },
  {
   "cell_type": "markdown",
   "metadata": {},
   "source": [
    "$$\n",
    "\n",
    "\\frac{1}{N-1} \\sum_{i=1}^N \\left( X_i - \\bar{X} \\right)^2\n",
    "\n",
    "$$"
   ]
  },
  {
   "cell_type": "markdown",
   "metadata": {},
   "source": [
    "So that's the *what*. The real question is *why* Python is dividing by $N-1$ and not by $N$. After all, the variance is supposed to be the *mean* squared deviation, right? So shouldn't we be dividing by $N$, the actual number of observations in the sample? Well, yes, we should. However, as we'll discuss in [](estimation), there's a subtle distinction between \"describing a sample\" and \"making guesses about the population from which the sample came\". Up to this point, it's been a distinction without a difference. Regardless of whether you're describing a sample or drawing inferences about the population, the mean is calculated exactly the same way. Not so for the variance, or the standard deviation, or for many other measures besides. What I outlined to you initially (i.e., take the actual average, and thus divide by $N$) assumes that you literally intend to calculate the variance of the sample. Most of the time, however, you're not terribly interested in the sample *in and of itself*. Rather, the sample exists to tell you something about the world. If so, you're actually starting to move away from calculating a \"sample statistic\", and towards the idea of estimating a \"population parameter\". However, I'm getting ahead of myself. For now, let's just take it on faith that Python knows what it's doing, and we'll revisit the question later on when we talk about estimation in [](estimation). \n",
    "\n",
    "By the way, if you _do_ want to calculate variance and divide by $N$ and not $N-1$, Python does a have a way to do this as well; you just need to ask for `pvariance()` instead of `variance()`:"
   ]
  },
  {
   "cell_type": "code",
   "execution_count": 70,
   "metadata": {},
   "outputs": [
    {
     "name": "stdout",
     "output_type": "stream",
     "text": [
      "statistics.pvariance divides by N:  675.9718168904958\n",
      "statistics.variance divide by N-1:  679.834512987013\n"
     ]
    }
   ],
   "source": [
    "population_variance = statistics.pvariance(afl_margins['afl.margins'])\n",
    "sample_variance = statistics.variance(afl_margins['afl.margins'])\n",
    "\n",
    "print(\"statistics.pvariance divides by N: \", population_variance)\n",
    "print(\"statistics.variance divide by N-1: \", sample_variance)"
   ]
  },
  {
   "cell_type": "markdown",
   "metadata": {},
   "source": [
    "Okay, one last thing. This section so far has read a bit like a mystery novel. I've shown you how to calculate the variance, described the weird \"$N-1$\" thing that Python does and hinted at the reason why it's there, but I haven't mentioned the single most important thing... how do you *interpret* the variance? Descriptive statistics are supposed to describe things, after all, and right now the variance is really just a gibberish number. Unfortunately, the reason why I haven't given you the human-friendly interpretation of the variance is that there really isn't one. This is the most serious problem with the variance. Although it has some elegant mathematical properties that suggest that it really is a fundamental quantity for expressing variation, it's completely useless if you want to communicate with an actual human... variances are completely uninterpretable in terms of the original variable! All the numbers have been squared, and they don't mean anything anymore. This is a huge issue. For instance, according to the table I presented earlier, the margin in game 1 was \"376.36 points-squared higher than the average margin\". This is *exactly* as stupid as it sounds; and so when we calculate a variance of 324.64, we're in the same situation. I've watched a lot of footy games, and never has anyone referred to \"points squared\". It's *not* a real unit of measurement, and since the variance is expressed in terms of this gibberish unit, it is totally meaningless to a human.\n",
    "\n"
   ]
  },
  {
   "cell_type": "markdown",
   "metadata": {},
   "source": [
    "(sd)=\n",
    "### Standard deviation\n",
    "\n",
    "Okay, suppose that you like the idea of using the variance because of those nice mathematical properties that I haven't talked about, but -- since you're a human and not a robot -- you'd like to have a measure that is expressed in the same units as the data itself (i.e., points, not points-squared). What should you do? The solution to the problem is obvious: take the square root of the variance, known as the **_standard deviation_**, also called the \"root mean squared deviation\", or RMSD. This solves our problem fairly neatly: while nobody has a clue what \"a variance of 324.68 points-squared\" really means, it's much easier to understand \"a standard deviation of 18.01 points\", since it's expressed in the original units. It is traditional to refer to the standard deviation of a sample of data as $s$, though \t\"sd\" and \"std dev.\" are also used at times. Because the standard deviation is equal to the square root of the variance, you probably won't be surprised to see that the formula is:\n",
    "\n",
    "$$\n",
    "s = \\sqrt{ \\frac{1}{N} \\sum_{i=1}^N \\left( X_i - \\bar{X} \\right)^2 }\n",
    "$$\n",
    "\n",
    "and the function that we use to calculate it is `stdev()`. However, as you might have guessed from our discussion of the variance, what Python actually calculates is slightly different to the formula given above. Just like the we saw with the variance, what Python calculates is a version that divides by $N-1$ rather than $N$. For reasons that will make sense when we return to this topic in the Chapter on [](estimation), I'll refer to this new quantity as $\\hat\\sigma$ (read as: \"sigma hat\"), and the formula for this is \n",
    "\n",
    "$$\n",
    "\\hat\\sigma = \\sqrt{ \\frac{1}{N-1} \\sum_{i=1}^N \\left( X_i - \\bar{X} \\right)^2 }\n",
    "$$\n",
    "\n",
    "With that in mind, calculating standard deviations in Python is simple:"
   ]
  },
  {
   "cell_type": "code",
   "execution_count": 31,
   "metadata": {},
   "outputs": [
    {
     "data": {
      "text/plain": [
       "26.073636359108274"
      ]
     },
     "execution_count": 31,
     "metadata": {},
     "output_type": "execute_result"
    }
   ],
   "source": [
    "statistics.stdev(margins)"
   ]
  },
  {
   "cell_type": "markdown",
   "metadata": {},
   "source": [
    "Interpreting standard deviations is slightly more complex. Because the standard deviation is derived from the variance, and the variance is a quantity that has little to no meaning that makes sense to us humans, the standard deviation doesn't have a simple interpretation. As a consequence, most of us just rely on a simple rule of thumb: in general, you should expect 68% of the data to fall within 1 standard deviation of the mean, 95% of the data to fall within 2 standard deviation of the mean, and 99.7% of the data to fall within 3 standard deviations of the mean. This rule tends to work pretty well most of the time, but it's not exact: it's actually calculated based on an *assumption* that the histogram is symmetric and \"bell shaped\". [^note10] As you can tell from looking at the AFL winning margins histogram in {numref}`fig-aflsd`, this isn't exactly true of our data! Even so, the rule is approximately correct. As it turns out, 65.3% of the AFL margins data fall within one standard deviation of the mean. This is shown visually in {numref}`fig-aflsd`.\n",
    "\n",
    "[^note10]: Strictly, the assumption is that the data are *normally* distributed, which is an important concept that we'll discuss more in the chapter [](probability), and will turn up over and over again later in the book."
   ]
  },
  {
   "cell_type": "markdown",
   "metadata": {},
   "source": [
    "\n",
    "```{figure} ../img/descriptives2/figure_2.5_mean_SD.png\n",
    ":name: fig-aflsd\n",
    ":width: 600px\n",
    ":align: center\n",
    "\n",
    "\n",
    "An illustration of the standard deviation, applied to the AFL winning margins data. The shaded bars in the histogram show how much of the data fall within one standard deviation of the mean. In this case, 65.3% of the data set lies within this range, which is pretty consistent with the \\\"approximately 68% rule\\\" discussed in the main text.\n",
    "```"
   ]
  },
  {
   "cell_type": "markdown",
   "metadata": {},
   "source": [
    "(mad)=\n",
    "### Median absolute deviation\n",
    "\n",
    "The last measure of variability that I want to talk about is the **_median absolute deviation_** (MAD). The basic idea behind MAD is very simple: it's just the median of the absolute deviations from the median of the data. Find the distance of each data point from the median of all the data points (ignoring the signs), and then take the median of that.\n",
    "\n",
    "This has a straightforward interpretation: every observation in the data set lies some distance away from the typical value (the median). So the MAD is an attempt to describe a *typical deviation from a typical value* in the data set. It wouldn't be unreasonable to interpret the MAD value of 19.5 for our AFL data by saying something like this:\n",
    "\n",
    ">The median winning margin in 2010 was 30.5, indicating that a typical game involved a winning margin of about 30 points. However, there was a fair amount of variation from game to game: the MAD value was 19.5, indicating that a typical winning margin would differ from this median value by about 19-20 points.\n",
    "\n",
    "As you'd expect, Python has a method for calculating MAD. It is in the `robust` object from the `statsmodels` package, and you will be shocked no doubt to hear that it's called `mad()`. However, it's a little bit more complicated than the functions that we've been using previously. If you want to use it to calculate MAD in the exact same way that I have described it above, the command that you need to use specifies two arguments: the data set itself `x`, and a `constant` that I'll explain in a moment. For our purposes, the constant is 1, so our command becomes"
   ]
  },
  {
   "cell_type": "code",
   "execution_count": 32,
   "metadata": {},
   "outputs": [
    {
     "data": {
      "text/plain": [
       "19.5"
      ]
     },
     "execution_count": 32,
     "metadata": {},
     "output_type": "execute_result"
    }
   ],
   "source": [
    "import numpy as np\n",
    "from statsmodels import robust\n",
    "\n",
    "robust.mad(margins, c=1)"
   ]
  },
  {
   "cell_type": "markdown",
   "metadata": {},
   "source": [
    "Apart from the weirdness of having to type that `c = 1` part, this is pretty straightforward.\n",
    "\n",
    "Okay, so what exactly is this `c = 1` argument? I won't go into all the details here, but here's the gist. Although the \"raw\" MAD value that I've described above is completely interpretable on its own terms, that's not actually how it's used in a lot of real world contexts. Instead, what happens a lot is that the researcher *actually* wants to calculate the standard deviation. However, in the same way that the mean is very sensitive to extreme values, the standard deviation is vulnerable to the exact same issue. So, in much the same way that people sometimes use the median as a \"robust\" way of calculating \"something that is like the mean\", it's not uncommon to use MAD as a method for calculating \"something that is like the standard deviation\". Unfortunately, the *raw* MAD value doesn't do this. Our raw MAD value is 19.5, and our standard deviation was 26.07. However, what some clever person has shown is that, under certain assumptions (the assumption again being that the data are normally-distributed!), you can multiply the raw MAD value by 1.4826 and obtain a number that is directly comparable to the standard deviation. As a consequence, the default value of `constant` is 1.4826, and so when you use the `mad()` command without manually setting a value, here's what you get:"
   ]
  },
  {
   "cell_type": "code",
   "execution_count": 33,
   "metadata": {},
   "outputs": [
    {
     "data": {
      "text/plain": [
       "28.91074326085924"
      ]
     },
     "execution_count": 33,
     "metadata": {},
     "output_type": "execute_result"
    }
   ],
   "source": [
    "robust.mad(margins)"
   ]
  },
  {
   "cell_type": "markdown",
   "metadata": {},
   "source": [
    "I should point out, though, that if you want to use this \"corrected\" MAD value as a robust version of the standard deviation, you really are relying on the assumption that the data are (or at least, are \"supposed to be\" in some sense) symmetric and basically shaped like a bell curve. That's really *not* true for our `afl_margins` data, so in this case I wouldn't try to use the MAD value this way.\n",
    "\n",
    "\n",
    "### Which measure to use?\n",
    "\n",
    "We've discussed quite a few measures of spread (range, IQR, MAD, variance and standard deviation), and hinted at their strengths and weaknesses. Here's a quick summary:\n",
    "\n",
    "\n",
    "- [*Range*](range). Gives you the full spread of the data. It's very vulnerable to outliers, and as a consequence it isn't often used unless you have good reasons to care about the extremes in the data.\n",
    "- [*Interquartile range*](iqr). Tells you where the \"middle half\" of the data sits. It's pretty robust, and complements the median nicely. This is used a lot.\n",
    "- [*Mean absolute deviation*](aad). Tells you how far “on average” the observations are from the mean. It’s very interpretable, but has a few minor issues (not discussed here) that make it less attractive to statisticians than the standard deviation. Used sometimes, but not often.\n",
    "- [*Variance*](var). Tells you the average squared deviation from the mean. It's mathematically elegant, and is probably the \"right\" way to describe variation around the mean, but it's completely uninterpretable because it doesn't use the same units as the data. Almost never used except as a mathematical tool; but it's buried \"under the hood\" of a very large number of statistical tools.\n",
    "- [*Standard deviation*](sd). This is the square root of the variance. It's fairly elegant mathematically, and it's expressed in the same units as the data so it can be interpreted pretty well. In situations where the mean is the measure of central tendency, this is the default. This is by far the most popular measure of variation. \n",
    "- [*Median absolute deviation*](mad). The typical (i.e., median) deviation from the median value. In the raw form it's simple and interpretable; in the corrected form it's a robust way to estimate the standard deviation, for some kinds of data sets. Not used very often, but it does get reported sometimes.\n",
    "\n",
    "\n",
    "In short, the IQR and the standard deviation are easily the two most common measures used to report the variability of the data; but there are situations in which the others are used. I've described all of them in this book because there's a fair chance you'll run into most of these somewhere."
   ]
  },
  {
   "cell_type": "markdown",
   "metadata": {},
   "source": [
    "(skew-and-kurtosis)=\n",
    "## Skew and kurtosis\n",
    "\n",
    "There are two more descriptive statistics that you will sometimes see reported in the psychological literature, known as skew and kurtosis. In practice, neither one is used anywhere near as frequently as the measures of central tendency and variability that we've been talking about. Skew is pretty important, so you do see it mentioned a fair bit; but I've actually never seen kurtosis reported in a scientific article to date. "
   ]
  },
  {
   "cell_type": "code",
   "execution_count": 34,
   "metadata": {
    "tags": [
     "hide-input"
    ]
   },
   "outputs": [
    {
     "data": {
      "application/papermill.record/text/plain": "<seaborn.axisgrid.FacetGrid at 0x133ea0d90>"
     },
     "metadata": {
      "scrapbook": {
       "mime_prefix": "application/papermill.record/",
       "name": "skew_fig"
      }
     },
     "output_type": "display_data"
    },
    {
     "data": {
      "image/png": "[encoded data removed]",
      "text/plain": [
       "<Figure size 648x216 with 3 Axes>"
      ]
     },
     "metadata": {
      "needs_background": "light"
     },
     "output_type": "display_data"
    }
   ],
   "source": [
    "import pandas as pd\n",
    "import seaborn as sns\n",
    "from os import chdir as cd\n",
    "\n",
    "# load some data\n",
    "pathin = '/Users/ethan/Documents/GitHub/pythonbook/Data/'\n",
    "file = 'skewdata.csv'\n",
    "\n",
    "cd(pathin)\n",
    "\n",
    "df_skew = pd.read_csv(file)\n",
    "\n",
    "# plot histograms of the data\n",
    "ax = sns.displot(\n",
    "        data = df_skew, x = \"Values\", col=\"Skew\",\n",
    "        binwidth=.02, height=3, facet_kws=dict(margin_titles=True),\n",
    ")\n",
    "\n",
    "# This is just for the purposes of putting this figure in this book. Feel free to ignore!\n",
    "glue(\"skew_fig\", ax, display=False)"
   ]
  },
  {
   "cell_type": "markdown",
   "metadata": {},
   "source": [
    "```{glue:figure} skew_fig\n",
    ":figwidth: 600px\n",
    ":name: fig-skew\n",
    "\n",
    "An illustration of skewness. On the left we have a negatively skewed data set (skewness “  ́.93), in the middle we have a data set with no skew (technically, skewness “  ́.006), and on the right we have a positively skewed data set (skewness “ .93).\n",
    "```"
   ]
  },
  {
   "cell_type": "markdown",
   "metadata": {},
   "source": [
    "Since it's the more interesting of the two, let's start by talking about the **_skewness_**. Skewness is basically a measure of asymmetry, and the easiest way to explain it is by drawing some pictures. As {numref}`fig-skew` illustrates, if the data tend to have a lot of extreme small values (i.e., the lower tail is \"longer\" than the upper tail) and not so many extremely large values (left panel), then we say that the data are *negatively skewed*. On the other hand, if there are more extremely large values than extremely small ones (right panel) we say that the data are *positively skewed*. That's the qualitative idea behind skewness. The actual formula for the skewness of a data set is as follows\n",
    "\n",
    "$$\n",
    "\\mbox{skewness}(X) = \\frac{1}{N \\hat{\\sigma}^3} \\sum_{i=1}^N (X_i - \\bar{X})^3\n",
    "$$\n",
    "\n",
    "where $N$ is the number of observations, $\\bar{X}$ is the sample mean, and $\\hat{\\sigma}$ is the standard deviation (the \"divide by $N-1$\" version, that is). Luckily, `pandas`\n",
    "already knows how to calculate skew:"
   ]
  },
  {
   "cell_type": "code",
   "execution_count": 35,
   "metadata": {},
   "outputs": [
    {
     "data": {
      "text/plain": [
       "0.7804075289401982"
      ]
     },
     "execution_count": 35,
     "metadata": {},
     "output_type": "execute_result"
    }
   ],
   "source": [
    "margins.skew(axis = 0, skipna = True)"
   ]
  },
  {
   "cell_type": "markdown",
   "metadata": {},
   "source": [
    "Not surprisingly, it turns out that the AFL winning margins data is fairly skewed.\n",
    "\n",
    "\n",
    "The final measure that is sometimes referred to, though very rarely in practice, is the **_kurtosis_** of a data set. Put simply, kurtosis is a measure of the \"pointiness\" of a data set, as illustrated in {numref}`fig-kurtosis`."
   ]
  },
  {
   "cell_type": "code",
   "execution_count": 36,
   "metadata": {
    "tags": [
     "hide-input"
    ]
   },
   "outputs": [
    {
     "data": {
      "application/papermill.record/text/plain": "<AxesSubplot:title={'center':'Leptokurtic\\n\"too pointy\"'}, xlabel='Values', ylabel='Count'>"
     },
     "metadata": {
      "scrapbook": {
       "mime_prefix": "application/papermill.record/",
       "name": "kurtosis_fig"
      }
     },
     "output_type": "display_data"
    },
    {
     "data": {
      "image/png": "[encoded data removed]",
      "text/plain": [
       "<Figure size 1080x360 with 3 Axes>"
      ]
     },
     "metadata": {
      "needs_background": "light"
     },
     "output_type": "display_data"
    }
   ],
   "source": [
    "import numpy as np                                                              \n",
    "import seaborn as sns                                                           \n",
    "from scipy import stats                                                         \n",
    "import matplotlib.pyplot as plt\n",
    "\n",
    "# load some data\n",
    "pathin = '/Users/ethan/Documents/GitHub/pythonbook/Data/'\n",
    "file1 = 'kurtosisdata.csv'\n",
    "file2 = 'kurtosisdata_ncurve.csv'\n",
    "\n",
    "cd(pathin)\n",
    "\n",
    "df_kurtosis = pd.read_csv(file1)\n",
    "\n",
    "# define a normal distribution with a mean of 0 and a standard deviation of 1\n",
    "mu = 0\n",
    "sigma = 1\n",
    "x = np.linspace(mu - 3*sigma, mu + 3*sigma, 100)\n",
    "y = stats.norm.pdf(x, mu, sigma)\n",
    "\n",
    "platykurtic = df_kurtosis.loc[df_kurtosis[\"Kurtosis\"] == \"Platykurtic\"]\n",
    "mesokurtic = df_kurtosis.loc[df_kurtosis[\"Kurtosis\"] == \"Mesokurtic\"]\n",
    "leptokurtic = df_kurtosis.loc[df_kurtosis[\"Kurtosis\"] == \"Leptokurtic\"]\n",
    "\n",
    "\n",
    "fig, axes = plt.subplots(1, 3, figsize=(15, 5))\n",
    "\n",
    "ax1 = sns.histplot(data=platykurtic, x = \"Values\", binwidth=.5, ax=axes[0])\n",
    "ax2 = sns.histplot(data=mesokurtic, x = \"Values\", binwidth=.5,  ax=axes[1])\n",
    "ax3 = sns.histplot(data=leptokurtic, x = \"Values\", binwidth=.5, ax=axes[2])\n",
    "\n",
    "\n",
    "\n",
    "#ax2 = ax.twinx()\n",
    "sns.lineplot(x=x,y=y*40000, ax=ax1, color='black')\n",
    "sns.lineplot(x=x,y=y*40000, ax=ax2, color='black')\n",
    "sns.lineplot(x=x,y=y*40000, ax=ax3, color='black')\n",
    "\n",
    "\n",
    "axes[0].set_title(\"Platykurtic\\n\\\"too flat\\\"\")\n",
    "axes[1].set_title(\"Mesokurtic\\n\\\"just right\\\"\")\n",
    "axes[2].set_title(\"Leptokurtic\\n\\\"too pointy\\\"\")\n",
    "\n",
    "for ax in axes:\n",
    "    ax.set_xlim(-6,6)\n",
    "    ax.set_ylim(0,25000)\n",
    "    ax.spines['right'].set_visible(False)\n",
    "    ax.spines['top'].set_visible(False)\n",
    "\n",
    "\n",
    "\n",
    "# Again just ignore. This line is just here for the sake of figure captions and links.\n",
    "glue(\"kurtosis_fig\", ax, display=False)"
   ]
  },
  {
   "cell_type": "markdown",
   "metadata": {},
   "source": [
    "```{glue:figure} kurtosis_fig\n",
    ":figwidth: 600px\n",
    ":name: fig-kurtosis\n",
    "\n",
    "An illustration of kurtosis. On the left, we have a “platykurtic” data set (kurtosis = -.95), meaning that the data set is “too flat”. In the middle we have a “mesokurtic” data set (kurtosis is almost exactly 0), which means that the pointiness of the data is just about right. Finally, on the right, we have a “leptokurtic” data set (kurtosis = 2.12) indicating that the data set is “too pointy”. Note that kurtosis is measured with respect to a normal curve (black line).\n",
    "```"
   ]
  },
  {
   "cell_type": "markdown",
   "metadata": {},
   "source": [
    "By convention, we say that the \"normal curve\" (black lines) has zero kurtosis, so the pointiness of a data set is assessed relative to this curve. In this Figure, the data on the left are not pointy enough, so the kurtosis is negative and we call the data *platykurtic*. The data on the right are too pointy, so the kurtosis is positive and we say that the data is *leptokurtic*. But the data in the middle are just pointy enough, so we say that it is *mesokurtic* and has kurtosis zero. This is summarised in the table below:\n",
    "\n",
    "|informal term      |technical name |kurtosis value |\n",
    "|:------------------|:--------------|:--------------|\n",
    "|too flat           |platykurtic    |negative       |\n",
    "|just pointy enough |mesokurtic     |zero           |\n",
    "|too pointy         |leptokurtic    |positive       |\n",
    "\n",
    "\n",
    "The equation for kurtosis is pretty similar in spirit to the formulas we've seen already for the variance and the skewness; except that where the variance involved squared deviations and the skewness involved cubed deviations, the kurtosis involves raising the deviations to the fourth power: [^note_kurtosis]\n",
    "\n",
    "$$\n",
    "\\mbox{kurtosis}(X) = \\frac{1}{N \\hat\\sigma^4} \\sum_{i=1}^N \\left( X_i - \\bar{X} \\right)^4  - 3\n",
    "$$\n",
    "\n",
    "I know, it's not terribly interesting to me either. To make things worse, there are several different formulae for calculating kurtosis, so different statistics packages may give you different results, depending on which formula they use.  For instance, if we were to do this for the AFL margins, these three different methods give three different results:\n",
    "\n",
    "[^note_kurtosis]: The \"$-3$\" part is something that statisticians tack on to ensure that the normal curve has kurtosis zero. It looks a bit stupid, just sticking a \"-3\" at the end of the formula, but there are good mathematical reasons for doing this."
   ]
  },
  {
   "cell_type": "code",
   "execution_count": 77,
   "metadata": {},
   "outputs": [
    {
     "name": "stdout",
     "output_type": "stream",
     "text": [
      "Pandas:  0.10109718805638757\n",
      "Fischer:  0.10109718805638757\n",
      "Pearson:  3.0643495578651616\n"
     ]
    }
   ],
   "source": [
    "print(\"Pandas: \", margins.kurtosis())\n",
    "print(\"Fischer: \",stats.kurtosis(margins, fisher=True))\n",
    "print(\"Pearson: \",stats.kurtosis(margins, fisher=False))"
   ]
  },
  {
   "cell_type": "markdown",
   "metadata": {},
   "source": [
    "Take your pick, I guess? `pandas` actually also calculates Fischer kurtosis, but `stats.kurtosis(margins, fisher=True)` adds a \"bias correction\" by default, while the `pandas` version doesn't. `stats.kurtosis(margins, fisher=True, bias=False)`will get you the same thing as the `pandas` version. Ugh. If you want to assess the kurtosis of the data, you could probably do worse than just plotting the data and using your eyeballs."
   ]
  },
  {
   "cell_type": "markdown",
   "metadata": {},
   "source": [
    "## Getting an overall summary of a variable\n",
    "\n",
    "Up to this point in the chapter I've explained several different summary statistics that are commonly used when analysing data, along with specific functions that you can use in Python to calculate each one. However, it's kind of annoying to have to separately calculate means, medians, standard deviations, skews etc. Wouldn't it be nice if Python had some helpful functions that would do all these tedious calculations at once? Something that *describes* the data? Maybe something like `describe()`, perhaps? Why yes, yes it would. So much so that this very function exists, available as a method for `pandas` objects.\n",
    "\n",
    "\n",
    "\n",
    "### \"Describing\" a variable\n",
    "\n",
    "The `describe()` method is an easy thing to use, but a tricky thing to understand in full, since it's a generic function. The basic idea behind the `describe()` method is that it prints out some useful information about whatever object (i.e., variable, as far as we're concerned) you ask it to describe. As a consequence, the behaviour of the `describe()` function differs quite dramatically depending on the class of the object that you give it. Let's start by giving it a *numeric* object:"
   ]
  },
  {
   "cell_type": "code",
   "execution_count": 78,
   "metadata": {},
   "outputs": [
    {
     "data": {
      "text/html": [
       "<div>\n",
       "<style scoped>\n",
       "    .dataframe tbody tr th:only-of-type {\n",
       "        vertical-align: middle;\n",
       "    }\n",
       "\n",
       "    .dataframe tbody tr th {\n",
       "        vertical-align: top;\n",
       "    }\n",
       "\n",
       "    .dataframe thead th {\n",
       "        text-align: right;\n",
       "    }\n",
       "</style>\n",
       "<table border=\"1\" class=\"dataframe\">\n",
       "  <thead>\n",
       "    <tr style=\"text-align: right;\">\n",
       "      <th></th>\n",
       "      <th>afl.margins</th>\n",
       "    </tr>\n",
       "  </thead>\n",
       "  <tbody>\n",
       "    <tr>\n",
       "      <th>count</th>\n",
       "      <td>176.000000</td>\n",
       "    </tr>\n",
       "    <tr>\n",
       "      <th>mean</th>\n",
       "      <td>35.301136</td>\n",
       "    </tr>\n",
       "    <tr>\n",
       "      <th>std</th>\n",
       "      <td>26.073636</td>\n",
       "    </tr>\n",
       "    <tr>\n",
       "      <th>min</th>\n",
       "      <td>0.000000</td>\n",
       "    </tr>\n",
       "    <tr>\n",
       "      <th>25%</th>\n",
       "      <td>12.750000</td>\n",
       "    </tr>\n",
       "    <tr>\n",
       "      <th>50%</th>\n",
       "      <td>30.500000</td>\n",
       "    </tr>\n",
       "    <tr>\n",
       "      <th>75%</th>\n",
       "      <td>50.500000</td>\n",
       "    </tr>\n",
       "    <tr>\n",
       "      <th>max</th>\n",
       "      <td>116.000000</td>\n",
       "    </tr>\n",
       "  </tbody>\n",
       "</table>\n",
       "</div>"
      ],
      "text/plain": [
       "       afl.margins\n",
       "count   176.000000\n",
       "mean     35.301136\n",
       "std      26.073636\n",
       "min       0.000000\n",
       "25%      12.750000\n",
       "50%      30.500000\n",
       "75%      50.500000\n",
       "max     116.000000"
      ]
     },
     "execution_count": 78,
     "metadata": {},
     "output_type": "execute_result"
    }
   ],
   "source": [
    "afl_margins.describe()"
   ]
  },
  {
   "cell_type": "markdown",
   "metadata": {},
   "source": [
    "For numeric variables, we get a whole bunch of useful descriptive statistics. It gives us the minimum and maximum values (i.e., the range), the first and third quartiles (25th and 75th percentiles; i.e., the IQR), the mean and the median. In other words, it gives us a pretty good collection of descriptive statistics related to the central tendency and the spread of the data.\n",
    "\n",
    "Okay, what about if we feed it a logical vector instead? Let's say I want to know something about how many \"blowouts\" there were in the 2010 AFL season. I operationalise the concept of a blowout as a game in which the winning margin exceeds 50 points. Let's create a logical variable `blowouts` in which the $i$-th element is `TRUE` if that game was a blowout according to my definition:"
   ]
  },
  {
   "cell_type": "code",
   "execution_count": 79,
   "metadata": {},
   "outputs": [
    {
     "data": {
      "text/html": [
       "<div>\n",
       "<style scoped>\n",
       "    .dataframe tbody tr th:only-of-type {\n",
       "        vertical-align: middle;\n",
       "    }\n",
       "\n",
       "    .dataframe tbody tr th {\n",
       "        vertical-align: top;\n",
       "    }\n",
       "\n",
       "    .dataframe thead th {\n",
       "        text-align: right;\n",
       "    }\n",
       "</style>\n",
       "<table border=\"1\" class=\"dataframe\">\n",
       "  <thead>\n",
       "    <tr style=\"text-align: right;\">\n",
       "      <th></th>\n",
       "      <th>afl.margins</th>\n",
       "      <th>blowouts</th>\n",
       "    </tr>\n",
       "  </thead>\n",
       "  <tbody>\n",
       "    <tr>\n",
       "      <th>0</th>\n",
       "      <td>56</td>\n",
       "      <td>True</td>\n",
       "    </tr>\n",
       "    <tr>\n",
       "      <th>1</th>\n",
       "      <td>31</td>\n",
       "      <td>False</td>\n",
       "    </tr>\n",
       "    <tr>\n",
       "      <th>2</th>\n",
       "      <td>56</td>\n",
       "      <td>True</td>\n",
       "    </tr>\n",
       "    <tr>\n",
       "      <th>3</th>\n",
       "      <td>8</td>\n",
       "      <td>False</td>\n",
       "    </tr>\n",
       "    <tr>\n",
       "      <th>4</th>\n",
       "      <td>32</td>\n",
       "      <td>False</td>\n",
       "    </tr>\n",
       "  </tbody>\n",
       "</table>\n",
       "</div>"
      ],
      "text/plain": [
       "   afl.margins  blowouts\n",
       "0           56      True\n",
       "1           31     False\n",
       "2           56      True\n",
       "3            8     False\n",
       "4           32     False"
      ]
     },
     "execution_count": 79,
     "metadata": {},
     "output_type": "execute_result"
    }
   ],
   "source": [
    "afl_margins['blowouts'] = np.where(afl_margins['afl.margins'] > 50, True, False)\n",
    "afl_margins.head()"
   ]
  },
  {
   "cell_type": "markdown",
   "metadata": {},
   "source": [
    "So that's what the `blowouts` variable looks like. Now let's ask Python to `describe()` this data: "
   ]
  },
  {
   "cell_type": "code",
   "execution_count": 80,
   "metadata": {},
   "outputs": [
    {
     "data": {
      "text/plain": [
       "count       176\n",
       "unique        2\n",
       "top       False\n",
       "freq        132\n",
       "Name: blowouts, dtype: object"
      ]
     },
     "execution_count": 80,
     "metadata": {},
     "output_type": "execute_result"
    }
   ],
   "source": [
    "afl_margins['blowouts'].describe()"
   ]
  },
  {
   "cell_type": "markdown",
   "metadata": {},
   "source": [
    "In this context, `describe` gives us the total number of games (176), the number of categories for those games (2, either blowout or not a blowout), the most common category (False, that is, not a blowout), and a count for the more common category. A little cryptic, but not entirely unreasonable. \n",
    "\n",
    "\n",
    "\n",
    "### \"Describing\" a data frame\n",
    "\n",
    "Okay what about data frames? When you `describe()` a dataframe, it produces a slightly condensed summary of each variable inside the data frame (as long as you specify that you want `'all'` the variables). To give you a sense of how this can be useful, let's try this for a new data set, one that you've never seen before. The data is stored in the `clinical_trial_data.csv` file, and we'll use it a lot in the chapter on [](ANOVA) (you can find a complete description of the data at the start of that chapter). Let's load it, and see what we've got:"
   ]
  },
  {
   "cell_type": "code",
   "execution_count": 88,
   "metadata": {},
   "outputs": [
    {
     "data": {
      "text/html": [
       "<div>\n",
       "<style scoped>\n",
       "    .dataframe tbody tr th:only-of-type {\n",
       "        vertical-align: middle;\n",
       "    }\n",
       "\n",
       "    .dataframe tbody tr th {\n",
       "        vertical-align: top;\n",
       "    }\n",
       "\n",
       "    .dataframe thead th {\n",
       "        text-align: right;\n",
       "    }\n",
       "</style>\n",
       "<table border=\"1\" class=\"dataframe\">\n",
       "  <thead>\n",
       "    <tr style=\"text-align: right;\">\n",
       "      <th></th>\n",
       "      <th>drug</th>\n",
       "      <th>therapy</th>\n",
       "      <th>mood.gain</th>\n",
       "    </tr>\n",
       "  </thead>\n",
       "  <tbody>\n",
       "    <tr>\n",
       "      <th>0</th>\n",
       "      <td>placebo</td>\n",
       "      <td>no.therapy</td>\n",
       "      <td>0.5</td>\n",
       "    </tr>\n",
       "    <tr>\n",
       "      <th>1</th>\n",
       "      <td>placebo</td>\n",
       "      <td>no.therapy</td>\n",
       "      <td>0.3</td>\n",
       "    </tr>\n",
       "    <tr>\n",
       "      <th>2</th>\n",
       "      <td>placebo</td>\n",
       "      <td>no.therapy</td>\n",
       "      <td>0.1</td>\n",
       "    </tr>\n",
       "    <tr>\n",
       "      <th>3</th>\n",
       "      <td>anxifree</td>\n",
       "      <td>no.therapy</td>\n",
       "      <td>0.6</td>\n",
       "    </tr>\n",
       "    <tr>\n",
       "      <th>4</th>\n",
       "      <td>anxifree</td>\n",
       "      <td>no.therapy</td>\n",
       "      <td>0.4</td>\n",
       "    </tr>\n",
       "  </tbody>\n",
       "</table>\n",
       "</div>"
      ],
      "text/plain": [
       "       drug     therapy  mood.gain\n",
       "0   placebo  no.therapy        0.5\n",
       "1   placebo  no.therapy        0.3\n",
       "2   placebo  no.therapy        0.1\n",
       "3  anxifree  no.therapy        0.6\n",
       "4  anxifree  no.therapy        0.4"
      ]
     },
     "execution_count": 88,
     "metadata": {},
     "output_type": "execute_result"
    }
   ],
   "source": [
    "import pandas as pd\n",
    "file = 'https://raw.githubusercontent.com/ethanweed/pythonbook/main/Data/clinical_trial_data.csv'\n",
    "\n",
    "df_clintrial = pd.read_csv(file)\n",
    "df_clintrial.head()\n",
    "\n"
   ]
  },
  {
   "cell_type": "markdown",
   "metadata": {},
   "source": [
    "Our dataframe `df_clintrial` contains three variables, `drug`, `therapy` and `mood.gain`. Presumably then, this data is from a clinical trial of some kind, in which people were administered different drugs; and the researchers looked to see what the drugs did to their mood. Let's see if the `describe()` function sheds a little more light on this situation:"
   ]
  },
  {
   "cell_type": "code",
   "execution_count": 42,
   "metadata": {},
   "outputs": [
    {
     "data": {
      "text/html": [
       "<div>\n",
       "<style scoped>\n",
       "    .dataframe tbody tr th:only-of-type {\n",
       "        vertical-align: middle;\n",
       "    }\n",
       "\n",
       "    .dataframe tbody tr th {\n",
       "        vertical-align: top;\n",
       "    }\n",
       "\n",
       "    .dataframe thead th {\n",
       "        text-align: right;\n",
       "    }\n",
       "</style>\n",
       "<table border=\"1\" class=\"dataframe\">\n",
       "  <thead>\n",
       "    <tr style=\"text-align: right;\">\n",
       "      <th></th>\n",
       "      <th>drug</th>\n",
       "      <th>therapy</th>\n",
       "      <th>mood.gain</th>\n",
       "    </tr>\n",
       "  </thead>\n",
       "  <tbody>\n",
       "    <tr>\n",
       "      <th>count</th>\n",
       "      <td>18</td>\n",
       "      <td>18</td>\n",
       "      <td>18.000000</td>\n",
       "    </tr>\n",
       "    <tr>\n",
       "      <th>unique</th>\n",
       "      <td>3</td>\n",
       "      <td>2</td>\n",
       "      <td>NaN</td>\n",
       "    </tr>\n",
       "    <tr>\n",
       "      <th>top</th>\n",
       "      <td>joyzepam</td>\n",
       "      <td>CBT</td>\n",
       "      <td>NaN</td>\n",
       "    </tr>\n",
       "    <tr>\n",
       "      <th>freq</th>\n",
       "      <td>6</td>\n",
       "      <td>9</td>\n",
       "      <td>NaN</td>\n",
       "    </tr>\n",
       "    <tr>\n",
       "      <th>mean</th>\n",
       "      <td>NaN</td>\n",
       "      <td>NaN</td>\n",
       "      <td>0.883333</td>\n",
       "    </tr>\n",
       "    <tr>\n",
       "      <th>std</th>\n",
       "      <td>NaN</td>\n",
       "      <td>NaN</td>\n",
       "      <td>0.533854</td>\n",
       "    </tr>\n",
       "    <tr>\n",
       "      <th>min</th>\n",
       "      <td>NaN</td>\n",
       "      <td>NaN</td>\n",
       "      <td>0.100000</td>\n",
       "    </tr>\n",
       "    <tr>\n",
       "      <th>25%</th>\n",
       "      <td>NaN</td>\n",
       "      <td>NaN</td>\n",
       "      <td>0.425000</td>\n",
       "    </tr>\n",
       "    <tr>\n",
       "      <th>50%</th>\n",
       "      <td>NaN</td>\n",
       "      <td>NaN</td>\n",
       "      <td>0.850000</td>\n",
       "    </tr>\n",
       "    <tr>\n",
       "      <th>75%</th>\n",
       "      <td>NaN</td>\n",
       "      <td>NaN</td>\n",
       "      <td>1.300000</td>\n",
       "    </tr>\n",
       "    <tr>\n",
       "      <th>max</th>\n",
       "      <td>NaN</td>\n",
       "      <td>NaN</td>\n",
       "      <td>1.800000</td>\n",
       "    </tr>\n",
       "  </tbody>\n",
       "</table>\n",
       "</div>"
      ],
      "text/plain": [
       "            drug therapy  mood.gain\n",
       "count         18      18  18.000000\n",
       "unique         3       2        NaN\n",
       "top     joyzepam     CBT        NaN\n",
       "freq           6       9        NaN\n",
       "mean         NaN     NaN   0.883333\n",
       "std          NaN     NaN   0.533854\n",
       "min          NaN     NaN   0.100000\n",
       "25%          NaN     NaN   0.425000\n",
       "50%          NaN     NaN   0.850000\n",
       "75%          NaN     NaN   1.300000\n",
       "max          NaN     NaN   1.800000"
      ]
     },
     "execution_count": 42,
     "metadata": {},
     "output_type": "execute_result"
    }
   ],
   "source": [
    "df_clintrial.describe(include = 'all')"
   ]
  },
  {
   "cell_type": "markdown",
   "metadata": {},
   "source": [
    "If we want to `describe` the entire dataframe, we need to add the argument  `include = 'all'`. This gives us information on all of the of columns, but this is still rather limited. I mean, I guess I learned something about this data, but if we want to really understand these data, we will have to use other tools to investigate them. That is what the rest of this book is about.\n"
   ]
  },
  {
   "cell_type": "markdown",
   "metadata": {},
   "source": [
    "(zcores)=\n",
    "## Standard scores\n",
    "\n",
    "\n",
    "Suppose my friend is putting together a new questionnaire intended to measure \"grumpiness\". The survey has 50 questions, which you can answer in a grumpy way or not. Across a big sample (hypothetically, let's imagine a million people or so!) the data are fairly normally distributed, with the mean grumpiness score being 17 out of 50 questions answered in a grumpy way, and the standard deviation is 5. In contrast, when I take the questionnaire, I answer 35 out of 50 questions in a grumpy way. So, how grumpy am I? One way to think about would be to say that I have grumpiness of 35/50, so you might say that I'm 70% grumpy. But that's a bit weird, when you think about it. If my friend had phrased her questions a bit differently, people might have answered them in a different way, so the overall distribution of answers could easily move up or down depending on the precise way in which the questions were asked. So, I'm only 70% grumpy *with respect to this set of survey questions*. Even if it's a very good questionnaire, this isn't very a informative statement. \n",
    "\n",
    "A simpler way around this is to describe my grumpiness by comparing me to other people. Shockingly, out of my friend's sample of 1,000,000 people, only 159 people were as grumpy as me (that's not at all unrealistic, frankly), suggesting that I'm in the top 0.016% of people for grumpiness. This makes much more sense than trying to interpret the raw data. This idea -- that we should describe my grumpiness in terms of the overall distribution of the grumpiness of humans -- is the qualitative idea that standardisation attempts to get at. One way to do this is to do exactly what I just did, and describe everything in terms of percentiles. However, the problem with doing this is that \"it's lonely at the top\". Suppose that my friend had only collected a sample of 1000 people (still a pretty big sample for the purposes of testing a new questionnaire, I'd like to add), and this time gotten a mean of 16 out of 50 with a standard deviation of 5, let's say. The problem is that almost certainly, not a single person in that sample would be as grumpy as me.\n",
    "\n",
    "\n",
    "However, all is not lost. A different approach is to convert my grumpiness score into a **_standard score_**, also referred to as a $z$-score. The standard score is defined as the number of standard deviations above the mean that my grumpiness score lies. To phrase it in \"pseudo-maths\" the standard score is calculated like this:\n",
    "\n",
    "$$\n",
    "\\mbox{standard score} = \\frac{\\mbox{raw score} - \\mbox{mean}}{\\mbox{standard deviation}}\n",
    "$$ \n",
    "\n",
    "In actual maths, the equation for the $z$-score is\n",
    "\n",
    "$$\n",
    "z_i = \\frac{X_i - \\bar{X}}{\\hat\\sigma}\n",
    "$$\n",
    "\n",
    "So, going back to the grumpiness data, we can now transform Dan's raw grumpiness into a standardised grumpiness score. I haven't discussed how to compute $z$-scores, explicitly, but you can probably guess. For a dataset d, an easy way to find a z-score is to import `stats` from `scipy` and then do: `stats.zscore(d)`. If the mean is 17 and the standard deviation is 5 then my standardised grumpiness score would be \n",
    "\n",
    "$$\n",
    "z = \\frac{35 - 17}{5} = 3.6\n",
    "$$\n",
    "\n",
    "Technically, because I'm calculating means and standard deviations from a sample of data, but want to talk about my grumpiness relative to a population, what I'm actually doing is *estimating* a $z$ score. However, since we haven't talked about [estimation](estimation)  yet  I think it's best to ignore this subtlety, especially as it makes very little difference to our calculations.\n",
    "\n",
    "To interpret this value, recall the rough heuristic that I provided in the section on [standard deviation](sd), in which I noted that 99.7% of values are expected to lie within 3 standard deviations of the mean. So the fact that my grumpiness corresponds to a $z$ score of 3.6 indicates that I'm very grumpy indeed. "
   ]
  },
  {
   "cell_type": "markdown",
   "metadata": {},
   "source": [
    "In addition to allowing you to interpret a raw score in relation to a larger population (and thereby allowing you to make sense of variables that lie on arbitrary scales), standard scores serve a second useful function. Standard scores can be compared to one another in situations where the raw scores can't. Suppose, for instance, my friend also had another questionnaire that measured extraversion using a 24 items questionnaire. The overall mean for this measure turns out to be 13 with standard deviation 4, and I scored a 2. As you can imagine, it doesn't make a lot of sense to try to compare my raw score of 2 on the extraversion questionnaire to my raw score of 35 on the grumpiness questionnaire. The raw scores for the two variables are \"about\" fundamentally different things, so this would be like comparing apples to oranges.\n",
    "\n",
    "What about the standard scores? Well, this is a little different. If we calculate the standard scores, we get $z = (35-17)/5 = 3.6$ for grumpiness and $z = (2-13)/4 = -2.75$ for extraversion. These two numbers *can* be compared to each other. [^note11]  I'm much less extraverted than most people ($z = -2.75$) and much grumpier than most people ($z = 3.6$): but the extent of my unusualness is much more extreme for grumpiness (since 3.6 is a bigger number than 2.75).  Because each standardised score is a statement about where an observation falls *relative to its own population*, it *is* possible to compare standardised scores across completely different variables. \n",
    "\n",
    "[^note11]: Though some caution is usually warranted. It's not always the case that one standard deviation on variable A corresponds to the same \"kind\" of thing as one standard deviation on variable B. Use common sense when trying to determine whether or not the $z$ scores of two variables can be meaningfully compared."
   ]
  },
  {
   "cell_type": "markdown",
   "metadata": {},
   "source": [
    "(correlations)=\n",
    "## Correlations\n",
    "\n",
    "Up to this point we have focused entirely on how to construct descriptive statistics for a single variable. What we haven't done is talked about how to describe the relationships *between* variables in the data. To do that, we want to talk mostly about the **_correlation_** between variables. But first, we need some data.\n",
    "\n",
    "### The data \n",
    "\n",
    "After spending so much time looking at the AFL data, I'm starting to get bored with sports. Instead, let's turn to a topic close to every parent's heart: sleep. The following data set is fictitious, but based on real events. Suppose I'm curious to find out how much my infant son's sleeping habits affect my mood. Let's say that I can rate my grumpiness very precisely, on a scale from 0 (not at all grumpy) to 100 (grumpy as a very, very grumpy old man). And, lets also assume that I've been measuring my grumpiness, my sleeping patterns and my son's sleeping patterns for quite some time now. Let's say, for 100 days. And, being a nerd, I've saved the data as a file called `parenthood.csv`. If we load the data..."
   ]
  },
  {
   "cell_type": "code",
   "execution_count": 89,
   "metadata": {},
   "outputs": [
    {
     "data": {
      "text/html": [
       "<div>\n",
       "<style scoped>\n",
       "    .dataframe tbody tr th:only-of-type {\n",
       "        vertical-align: middle;\n",
       "    }\n",
       "\n",
       "    .dataframe tbody tr th {\n",
       "        vertical-align: top;\n",
       "    }\n",
       "\n",
       "    .dataframe thead th {\n",
       "        text-align: right;\n",
       "    }\n",
       "</style>\n",
       "<table border=\"1\" class=\"dataframe\">\n",
       "  <thead>\n",
       "    <tr style=\"text-align: right;\">\n",
       "      <th></th>\n",
       "      <th>dan.sleep</th>\n",
       "      <th>baby.sleep</th>\n",
       "      <th>dan.grump</th>\n",
       "      <th>day</th>\n",
       "    </tr>\n",
       "  </thead>\n",
       "  <tbody>\n",
       "    <tr>\n",
       "      <th>0</th>\n",
       "      <td>7.59</td>\n",
       "      <td>10.18</td>\n",
       "      <td>56</td>\n",
       "      <td>1</td>\n",
       "    </tr>\n",
       "    <tr>\n",
       "      <th>1</th>\n",
       "      <td>7.91</td>\n",
       "      <td>11.66</td>\n",
       "      <td>60</td>\n",
       "      <td>2</td>\n",
       "    </tr>\n",
       "    <tr>\n",
       "      <th>2</th>\n",
       "      <td>5.14</td>\n",
       "      <td>7.92</td>\n",
       "      <td>82</td>\n",
       "      <td>3</td>\n",
       "    </tr>\n",
       "    <tr>\n",
       "      <th>3</th>\n",
       "      <td>7.71</td>\n",
       "      <td>9.61</td>\n",
       "      <td>55</td>\n",
       "      <td>4</td>\n",
       "    </tr>\n",
       "    <tr>\n",
       "      <th>4</th>\n",
       "      <td>6.68</td>\n",
       "      <td>9.75</td>\n",
       "      <td>67</td>\n",
       "      <td>5</td>\n",
       "    </tr>\n",
       "  </tbody>\n",
       "</table>\n",
       "</div>"
      ],
      "text/plain": [
       "   dan.sleep  baby.sleep  dan.grump  day\n",
       "0       7.59       10.18         56    1\n",
       "1       7.91       11.66         60    2\n",
       "2       5.14        7.92         82    3\n",
       "3       7.71        9.61         55    4\n",
       "4       6.68        9.75         67    5"
      ]
     },
     "execution_count": 89,
     "metadata": {},
     "output_type": "execute_result"
    }
   ],
   "source": [
    "import pandas as pd\n",
    "\n",
    "file = 'https://raw.githubusercontent.com/ethanweed/pythonbook/main/Data/parenthood.csv'\n",
    "parenthood = pd.read_csv(file)\n",
    "\n",
    "parenthood.head()\n"
   ]
  },
  {
   "cell_type": "markdown",
   "metadata": {},
   "source": [
    "... we see that the file contains a single data frame called `parenthood`, which contains four variables `dan.sleep`, `baby.sleep`, `dan.grump` and `day`. Next, I'll calculate some basic descriptive statistics:"
   ]
  },
  {
   "cell_type": "code",
   "execution_count": 44,
   "metadata": {},
   "outputs": [
    {
     "data": {
      "text/html": [
       "<div>\n",
       "<style scoped>\n",
       "    .dataframe tbody tr th:only-of-type {\n",
       "        vertical-align: middle;\n",
       "    }\n",
       "\n",
       "    .dataframe tbody tr th {\n",
       "        vertical-align: top;\n",
       "    }\n",
       "\n",
       "    .dataframe thead th {\n",
       "        text-align: right;\n",
       "    }\n",
       "</style>\n",
       "<table border=\"1\" class=\"dataframe\">\n",
       "  <thead>\n",
       "    <tr style=\"text-align: right;\">\n",
       "      <th></th>\n",
       "      <th>dan.sleep</th>\n",
       "      <th>baby.sleep</th>\n",
       "      <th>dan.grump</th>\n",
       "      <th>day</th>\n",
       "    </tr>\n",
       "  </thead>\n",
       "  <tbody>\n",
       "    <tr>\n",
       "      <th>count</th>\n",
       "      <td>100.000000</td>\n",
       "      <td>100.000000</td>\n",
       "      <td>100.00000</td>\n",
       "      <td>100.000000</td>\n",
       "    </tr>\n",
       "    <tr>\n",
       "      <th>mean</th>\n",
       "      <td>6.965200</td>\n",
       "      <td>8.049200</td>\n",
       "      <td>63.71000</td>\n",
       "      <td>50.500000</td>\n",
       "    </tr>\n",
       "    <tr>\n",
       "      <th>std</th>\n",
       "      <td>1.015884</td>\n",
       "      <td>2.074232</td>\n",
       "      <td>10.04967</td>\n",
       "      <td>29.011492</td>\n",
       "    </tr>\n",
       "    <tr>\n",
       "      <th>min</th>\n",
       "      <td>4.840000</td>\n",
       "      <td>3.250000</td>\n",
       "      <td>41.00000</td>\n",
       "      <td>1.000000</td>\n",
       "    </tr>\n",
       "    <tr>\n",
       "      <th>25%</th>\n",
       "      <td>6.292500</td>\n",
       "      <td>6.425000</td>\n",
       "      <td>57.00000</td>\n",
       "      <td>25.750000</td>\n",
       "    </tr>\n",
       "    <tr>\n",
       "      <th>50%</th>\n",
       "      <td>7.030000</td>\n",
       "      <td>7.950000</td>\n",
       "      <td>62.00000</td>\n",
       "      <td>50.500000</td>\n",
       "    </tr>\n",
       "    <tr>\n",
       "      <th>75%</th>\n",
       "      <td>7.740000</td>\n",
       "      <td>9.635000</td>\n",
       "      <td>71.00000</td>\n",
       "      <td>75.250000</td>\n",
       "    </tr>\n",
       "    <tr>\n",
       "      <th>max</th>\n",
       "      <td>9.000000</td>\n",
       "      <td>12.070000</td>\n",
       "      <td>91.00000</td>\n",
       "      <td>100.000000</td>\n",
       "    </tr>\n",
       "  </tbody>\n",
       "</table>\n",
       "</div>"
      ],
      "text/plain": [
       "        dan.sleep  baby.sleep  dan.grump         day\n",
       "count  100.000000  100.000000  100.00000  100.000000\n",
       "mean     6.965200    8.049200   63.71000   50.500000\n",
       "std      1.015884    2.074232   10.04967   29.011492\n",
       "min      4.840000    3.250000   41.00000    1.000000\n",
       "25%      6.292500    6.425000   57.00000   25.750000\n",
       "50%      7.030000    7.950000   62.00000   50.500000\n",
       "75%      7.740000    9.635000   71.00000   75.250000\n",
       "max      9.000000   12.070000   91.00000  100.000000"
      ]
     },
     "execution_count": 44,
     "metadata": {},
     "output_type": "execute_result"
    }
   ],
   "source": [
    "parenthood.describe()"
   ]
  },
  {
   "cell_type": "markdown",
   "metadata": {},
   "source": [
    "Finally, to give a graphical depiction of what each of the three interesting variables looks like, {numref}`fig-grump` plots histograms. \n",
    "\n"
   ]
  },
  {
   "cell_type": "code",
   "execution_count": 45,
   "metadata": {
    "tags": [
     "hide-outuput",
     "hide-input"
    ]
   },
   "outputs": [
    {
     "data": {
      "application/papermill.record/image/png": "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\n",
      "application/papermill.record/text/plain": "<Figure size 1080x360 with 3 Axes>"
     },
     "metadata": {
      "scrapbook": {
       "mime_prefix": "application/papermill.record/",
       "name": "grump_fig"
      }
     },
     "output_type": "display_data"
    },
    {
     "data": {
      "image/png": "[encoded data removed]",
      "text/plain": [
       "<Figure size 1080x360 with 3 Axes>"
      ]
     },
     "metadata": {
      "needs_background": "light"
     },
     "output_type": "display_data"
    }
   ],
   "source": [
    "import seaborn as sns\n",
    "\n",
    "dan_grump = parenthood['dan.grump']\n",
    "dan_sleep = parenthood['dan.sleep']\n",
    "baby_sleep = parenthood['baby.sleep']\n",
    "\n",
    "fig, axes = plt.subplots(1, 3, figsize=(15, 5), sharey=True)\n",
    "fig.suptitle('Sleep Data')\n",
    "\n",
    "# My grumpiness\n",
    "sns.histplot(dan_grump, ax=axes[0])\n",
    "axes[0].set_title(dan_grump.name)\n",
    "\n",
    "# My sleep\n",
    "sns.histplot(dan_sleep, ax=axes[1])\n",
    "axes[1].set_title(dan_sleep.name)\n",
    "\n",
    "# Baby's sleep\n",
    "sns.histplot(baby_sleep, ax=axes[2])\n",
    "axes[2].set_title(baby_sleep.name);\n",
    "\n",
    "# You know the drill by now: this is just for the purpose of linking to the figure in the book\n",
    "#glue(\"grump_fig\", fig, display=False)"
   ]
  },
  {
   "cell_type": "markdown",
   "metadata": {},
   "source": [
    "```{glue:figure} grump_fig\n",
    ":figwidth: 650px\n",
    ":name: fig-grump\n",
    "\n",
    "Histograms for the three interesting variables in the parenthood data set.\n",
    "```"
   ]
  },
  {
   "cell_type": "markdown",
   "metadata": {},
   "source": [
    "One thing to note: just because Python can calculate dozens of different statistics doesn't mean you should report all of them. If I were writing this up for a report, I'd probably pick out those statistics that are of most interest to me (and to my readership), and then put them into a nice, simple table like the one in the table below. [^note12] Notice that when I put it into a table, I gave everything \"human readable\" names. This is always good practice. Notice also that I'm not getting enough sleep. This isn't good practice, but other parents tell me that it's standard practice.  \n",
    "\n",
    "|variable                |min  |max   |mean  |median |std. dev |IQR  |\n",
    "|:-----------------------|:----|:-----|:-----|:------|:--------|:----|\n",
    "|Dan's grumpiness        |41   |91    |63.71 |62     |10.05    |14   |\n",
    "|Dan's hours slept       |4.84 |9     |6.97  |7.03   |1.02     |1.45 |\n",
    "|Dan's son's hours slept |3.25 |12.07 |8.05  |7.95   |2.07     |3.21 |\n",
    "\n",
    "[^note12]: Actually, even that table is more than I'd bother with. In practice most people pick *one* measure of central tendency, and *one* measure of variability only."
   ]
  },
  {
   "cell_type": "markdown",
   "metadata": {},
   "source": [
    "(correlation)=\n",
    "\n",
    "### The strength and direction of a relationship\n"
   ]
  },
  {
   "cell_type": "code",
   "execution_count": 46,
   "metadata": {
    "tags": [
     "hide-input"
    ]
   },
   "outputs": [
    {
     "data": {
      "application/papermill.record/image/png": "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\n",
      "application/papermill.record/text/plain": "<Figure size 1080x360 with 2 Axes>"
     },
     "metadata": {
      "scrapbook": {
       "mime_prefix": "application/papermill.record/",
       "name": "sleep_scatter-fig1"
      }
     },
     "output_type": "display_data"
    },
    {
     "data": {
      "image/png": "[encoded data removed]",
      "text/plain": [
       "<Figure size 1080x360 with 2 Axes>"
      ]
     },
     "metadata": {
      "needs_background": "light"
     },
     "output_type": "display_data"
    }
   ],
   "source": [
    "fig, axes = plt.subplots(1, 2, figsize=(15, 5), sharey=True)\n",
    "fig.suptitle('Sleepy, grumpy scatterplots')\n",
    "\n",
    "sns.scatterplot(x = dan_sleep, y = dan_grump, ax = axes[0])\n",
    "fig.axes[0].set_title(\"Dan\")\n",
    "fig.axes[0].set_xlabel(\"Sleep\")\n",
    "fig.axes[0].set_ylabel(\"My grumpiness\")\n",
    "\n",
    "sns.scatterplot(x = baby_sleep, y = dan_grump, ax = axes[1])\n",
    "fig.axes[1].set_title(\"Baby\")\n",
    "fig.axes[1].set_xlabel(\"Sleep\")\n",
    "fig.axes[1].set_ylabel(\"My grumpiness\")\n",
    "\n",
    "glue(\"sleep_scatter-fig1\", fig, display=False)"
   ]
  },
  {
   "cell_type": "markdown",
   "metadata": {},
   "source": [
    "```{glue:figure} sleep_scatter_fig1\n",
    ":figwidth: 600px\n",
    ":name: fig-sleep_scatter1\n",
    "\n",
    "Scatterplots showing the relationship between dan.sleep and dan.grump (left) and the rela-\n",
    "tionship between baby.sleep and dan.grump (right).\n",
    "```"
   ]
  },
  {
   "cell_type": "markdown",
   "metadata": {},
   "source": [
    "We can draw scatterplots to give us a general sense of how closely related two variables are. Ideally though, we might want to say a bit more about it than that. For instance, let's compare the relationship between `dan.sleep` and `dan.grump` with that between `baby.sleep` and `dan.grump` {numref}`fig-sleep_scatter1`. When looking at these two plots side by side, it's clear that the relationship is *qualitatively* the same in both cases: more sleep equals less grump! However, it's also pretty obvious that the relationship between `dan.sleep` and `dan.grump` is *stronger* than the relationship between `baby.sleep` and `dan.grump`. The plot on the left is \"neater\" than the one on the right. What it feels like is that if you want to predict what my mood is, it'd help you a little bit to know how many hours my son slept, but it'd be *more* helpful to know how many hours I slept. \n",
    "\n",
    "In contrast, let's consider {numref}`fig-sleep_scatter2`. If we compare the scatterplot of \"`baby.sleep` v `dan.grump`\" to the scatterplot of `baby.sleep` v `dan.sleep`, the overall strength of the relationship is the same, but the direction is different. That is, if my son sleeps more, I get *more* sleep (positive relationship, but if he sleeps more then I get *less* grumpy (negative relationship)."
   ]
  },
  {
   "cell_type": "code",
   "execution_count": 47,
   "metadata": {
    "tags": [
     "hide-input"
    ]
   },
   "outputs": [
    {
     "data": {
      "application/papermill.record/image/png": "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\n",
      "application/papermill.record/text/plain": "<Figure size 1080x360 with 2 Axes>"
     },
     "metadata": {
      "scrapbook": {
       "mime_prefix": "application/papermill.record/",
       "name": "sleep_scatter-fig2"
      }
     },
     "output_type": "display_data"
    },
    {
     "data": {
      "image/png": "[encoded data removed]",
      "text/plain": [
       "<Figure size 1080x360 with 2 Axes>"
      ]
     },
     "metadata": {
      "needs_background": "light"
     },
     "output_type": "display_data"
    }
   ],
   "source": [
    "fig, axes = plt.subplots(1, 2, figsize=(15, 5), sharey=False) # y axes are now on different scales, so sharey=False\n",
    "fig.suptitle('Sleepier, grumpier scatterplots')\n",
    "\n",
    "sns.scatterplot(x = dan_sleep, y = dan_grump, ax = axes[0])\n",
    "fig.axes[0].set_xlabel(\"Baby's sleep\")\n",
    "fig.axes[0].set_ylabel(\"My grumpiness\")\n",
    "\n",
    "sns.scatterplot(x = baby_sleep, y = dan_sleep, ax = axes[1])\n",
    "fig.axes[1].set_xlabel(\"Baby's sleep\")\n",
    "fig.axes[1].set_ylabel(\"My sleep\")\n",
    "\n",
    "glue(\"sleep_scatter-fig2\", fig, display=False)"
   ]
  },
  {
   "cell_type": "markdown",
   "metadata": {},
   "source": [
    "```{glue:figure} sleep_scatter_fig2\n",
    ":figwidth: 600px\n",
    ":name: fig-sleep_scatter2\n",
    "\n",
    "Scatterplots showing the relationship between baby.sleep and dan.grump (left), as compared\n",
    "to the relationship between baby.sleep and dan.sleep (right).\n",
    "```"
   ]
  },
  {
   "cell_type": "markdown",
   "metadata": {},
   "source": [
    "### The correlation coefficient\n",
    "\n",
    "We can make these ideas a bit more explicit by introducing the idea of a **_correlation coefficient_** (or, more specifically, Pearson's correlation coefficient), which is traditionally denoted by $r$. The correlation coefficient between two variables $X$ and $Y$ (sometimes denoted $r_{XY}$), which we'll define more precisely in the next section, is a measure that varies from $-1$ to $1$. When $r = -1$ it means that we have a perfect negative relationship, and when $r = 1$ it means we have a perfect positive relationship. When $r = 0$, there's no relationship at all. If you look at {numref}`fig-corrs`, you can see several plots showing what different correlations look like."
   ]
  },
  {
   "cell_type": "code",
   "execution_count": 48,
   "metadata": {
    "tags": [
     "hide-input"
    ]
   },
   "outputs": [
    {
     "data": {
      "application/papermill.record/image/png": "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\n",
      "application/papermill.record/text/plain": "<Figure size 1080x1080 with 8 Axes>"
     },
     "metadata": {
      "scrapbook": {
       "mime_prefix": "application/papermill.record/",
       "name": "corrs-fig"
      }
     },
     "output_type": "display_data"
    },
    {
     "data": {
      "image/png": "[encoded data removed]",
      "text/plain": [
       "<Figure size 1080x1080 with 8 Axes>"
      ]
     },
     "metadata": {
      "needs_background": "light"
     },
     "output_type": "display_data"
    }
   ],
   "source": [
    "import matplotlib.pyplot as plt\n",
    "import numpy as np\n",
    "import seaborn as sns\n",
    "\n",
    "mean = [0, 0]\n",
    "cov = [[1, 0], [0, 1]]\n",
    "r = [0, .33, .66, 1]\n",
    "rneg = [0, -.33, -.66, -1]\n",
    "\n",
    "fig, axes = plt.subplots(4, 2, figsize=(15, 15), sharey=False)\n",
    "\n",
    "for s, val in enumerate(r):\n",
    "    cov = [[1, val], [val, 1]]\n",
    "    x, y = np.random.multivariate_normal(mean, cov, 100).T\n",
    "    sns.scatterplot(x=x,y=y, ax = axes[s,0])\n",
    "    axes[s,0].set_title('r = ' + str(val))\n",
    "\n",
    "for s, val in enumerate(rneg):\n",
    "    cov = [[1, val], [val, 1]]\n",
    "    x, y = np.random.multivariate_normal(mean, cov, 100).T\n",
    "    sns.scatterplot(x=x,y=y, ax = axes[s,1])\n",
    "    axes[s,1].set_title('r = ' + str(val))\n",
    "\n",
    "#glue(\"corrs-fig\", fig, display=False)"
   ]
  },
  {
   "cell_type": "markdown",
   "metadata": {},
   "source": [
    "```{glue:figure} corrs-fig\n",
    ":figwidth: 600px\n",
    ":name: fig-corrs\n",
    "\n",
    "Illustration of the effect of varying the strength and direction of a correlation. In the left hand column, the correlations are 0, .33, .66 and 1. In the right hand column, the correlations are 0, -.33, -.66 and -1.\n",
    "```"
   ]
  },
  {
   "cell_type": "markdown",
   "metadata": {},
   "source": [
    "The formula for the Pearson's correlation coefficient can be written in several different ways. I think the simplest way to write down the formula is to break it into two steps. Firstly, let's introduce the idea of a **_covariance_**. The covariance between two variables $X$ and $Y$ is a generalisation of the notion of the variance; it's a mathematically simple way of describing the relationship between two variables that isn't terribly informative to humans:\n",
    "\n",
    "$$\n",
    "\\mbox{Cov}(X,Y) = \\frac{1}{N-1} \\sum_{i=1}^N \\left( X_i - \\bar{X} \\right) \\left( Y_i - \\bar{Y} \\right)\n",
    "$$\n",
    "\n",
    "Because we're multiplying (i.e., taking the \"product\" of) a quantity that depends on $X$ by a quantity that depends on $Y$ and then averaging [^note_covariance], you can think of the formula for the covariance as an \"average cross product\" between $X$ and $Y$. The covariance has the nice property that, if $X$ and $Y$ are entirely unrelated, then the covariance is exactly zero. If the relationship between them is positive (in the sense shown in {numref}`fig-corrs` then the covariance is also positive; and if the relationship is negative then the covariance is also negative. In other words, the covariance captures the basic qualitative idea of correlation. Unfortunately, the raw magnitude of the covariance isn't easy to interpret: it depends on the units in which $X$ and $Y$ are expressed, and worse yet, the actual units that the covariance itself is expressed in are really weird. For instance, if $X$ refers to the `dan.sleep` variable (units: hours) and $Y$ refers to the `dan.grump` variable (units: grumps), then the units for their covariance are \"hours $\\times$ grumps\". And I have no freaking idea what that would even mean. \n",
    "\n",
    "The Pearson correlation coefficient $r$ fixes this interpretation problem by standardising the covariance, in pretty much the exact same way that the $z$-score standardises a raw score: by dividing by the standard deviation. However, because we have two variables that contribute to the covariance, the standardisation only works if we divide by both standard deviations (this is an oversimplification, but it'll do for our purposes)  In other words, the correlation between $X$ and $Y$ can be written as follows:\n",
    "\n",
    "$$\n",
    "r_{XY}  = \\frac{\\mbox{Cov}(X,Y)}{ \\hat{\\sigma}_X \\ \\hat{\\sigma}_Y}\n",
    "$$\n",
    "\n",
    "By doing this standardisation, not only do we keep all of the nice properties of the covariance discussed earlier, but the actual values of $r$ are on a meaningful scale: $r= 1$ implies a perfect positive relationship, and $r = -1$ implies a perfect negative relationship. I'll expand a little more on this point later, in section on [interpreting correlations](interpreting-correlations). But before I do, let's look at how to calculate correlations in Python.\n",
    "\n",
    "[^note_covariance]: Just like we saw with the variance and the standard deviation, in practice we divide by $N-1$ rather than $N$."
   ]
  },
  {
   "cell_type": "markdown",
   "metadata": {},
   "source": [
    "### Calculating correlations in Python\n",
    "\n",
    "\n",
    "\n",
    "Calculating correlations in Python can be done using the `corr()` method. The simplest way to use the command is to specify two input arguments `x` and `y`, each one corresponding to one of the variables. The following extract illustrates the basic usage of the function: [^note13] \n",
    "\n",
    "[^note13]: If you are reading this after having already completed the chapter on [hypothesis testing](hypothesis-testing) you might be wondering about hypothesis tests for correlations. This can be done with `scipy.stats.pearsonr` (or `scipy.stats.spearmanr`).\n"
   ]
  },
  {
   "cell_type": "code",
   "execution_count": 49,
   "metadata": {},
   "outputs": [],
   "source": [
    "x = parenthood['dan.sleep']\n",
    "y = parenthood['dan.grump']"
   ]
  },
  {
   "cell_type": "code",
   "execution_count": 50,
   "metadata": {},
   "outputs": [
    {
     "data": {
      "text/plain": [
       "-0.9033840374657273"
      ]
     },
     "execution_count": 50,
     "metadata": {},
     "output_type": "execute_result"
    }
   ],
   "source": [
    "x.corr(y)"
   ]
  },
  {
   "cell_type": "markdown",
   "metadata": {},
   "source": [
    "However, the `cor()` function is a bit more powerful than this simple example suggests. For example, you can also calculate a complete \"correlation matrix\", between all pairs of variables in the data frame:"
   ]
  },
  {
   "cell_type": "code",
   "execution_count": 91,
   "metadata": {},
   "outputs": [
    {
     "data": {
      "text/html": [
       "<div>\n",
       "<style scoped>\n",
       "    .dataframe tbody tr th:only-of-type {\n",
       "        vertical-align: middle;\n",
       "    }\n",
       "\n",
       "    .dataframe tbody tr th {\n",
       "        vertical-align: top;\n",
       "    }\n",
       "\n",
       "    .dataframe thead th {\n",
       "        text-align: right;\n",
       "    }\n",
       "</style>\n",
       "<table border=\"1\" class=\"dataframe\">\n",
       "  <thead>\n",
       "    <tr style=\"text-align: right;\">\n",
       "      <th></th>\n",
       "      <th>dan.sleep</th>\n",
       "      <th>baby.sleep</th>\n",
       "      <th>dan.grump</th>\n",
       "      <th>day</th>\n",
       "    </tr>\n",
       "  </thead>\n",
       "  <tbody>\n",
       "    <tr>\n",
       "      <th>dan.sleep</th>\n",
       "      <td>1.000000</td>\n",
       "      <td>0.627949</td>\n",
       "      <td>-0.903384</td>\n",
       "      <td>-0.098408</td>\n",
       "    </tr>\n",
       "    <tr>\n",
       "      <th>baby.sleep</th>\n",
       "      <td>0.627949</td>\n",
       "      <td>1.000000</td>\n",
       "      <td>-0.565964</td>\n",
       "      <td>-0.010434</td>\n",
       "    </tr>\n",
       "    <tr>\n",
       "      <th>dan.grump</th>\n",
       "      <td>-0.903384</td>\n",
       "      <td>-0.565964</td>\n",
       "      <td>1.000000</td>\n",
       "      <td>0.076479</td>\n",
       "    </tr>\n",
       "    <tr>\n",
       "      <th>day</th>\n",
       "      <td>-0.098408</td>\n",
       "      <td>-0.010434</td>\n",
       "      <td>0.076479</td>\n",
       "      <td>1.000000</td>\n",
       "    </tr>\n",
       "  </tbody>\n",
       "</table>\n",
       "</div>"
      ],
      "text/plain": [
       "            dan.sleep  baby.sleep  dan.grump       day\n",
       "dan.sleep    1.000000    0.627949  -0.903384 -0.098408\n",
       "baby.sleep   0.627949    1.000000  -0.565964 -0.010434\n",
       "dan.grump   -0.903384   -0.565964   1.000000  0.076479\n",
       "day         -0.098408   -0.010434   0.076479  1.000000"
      ]
     },
     "execution_count": 91,
     "metadata": {},
     "output_type": "execute_result"
    }
   ],
   "source": [
    "parenthood.corr()"
   ]
  },
  {
   "cell_type": "markdown",
   "metadata": {},
   "source": [
    "(interpreting-correlations)=\n",
    "### Interpreting a correlation\n",
    " \n",
    "Naturally, in real life you don't see many correlations of 1. So how should you interpret a correlation of, say $r= .4$? The honest answer is that it really depends on what you want to use the data for, and on how strong the correlations in your field tend to be. A  friend of mine in engineering once argued that any correlation less than $.95$ is completely useless (I think he was exaggerating, even for engineering). On the other hand there are real cases -- even in psychology -- where you should really expect correlations that strong. For instance, one of the benchmark data sets used to test theories of how people judge similarities is so clean that any theory that can't achieve a correlation of at least $.9$ really isn't deemed to be successful. However, when looking for (say) elementary correlates of intelligence (e.g., inspection time, response time), if you get a correlation above $.3$ you're doing very very well. In short, the interpretation of a correlation depends a lot on the context. That said, the rough guide in {numref}`table-corr-interpretation` is pretty typical."
   ]
  },
  {
   "cell_type": "code",
   "execution_count": 52,
   "metadata": {
    "tags": [
     "hide-input",
     "remove-output"
    ]
   },
   "outputs": [
    {
     "data": {
      "application/papermill.record/text/html": "<div>\n<style scoped>\n    .dataframe tbody tr th:only-of-type {\n        vertical-align: middle;\n    }\n\n    .dataframe tbody tr th {\n        vertical-align: top;\n    }\n\n    .dataframe thead th {\n        text-align: right;\n    }\n</style>\n<table border=\"1\" class=\"dataframe\">\n  <thead>\n    <tr style=\"text-align: right;\">\n      <th></th>\n      <th>Correlation</th>\n      <th>Strength</th>\n      <th>Direction</th>\n    </tr>\n  </thead>\n  <tbody>\n    <tr>\n      <th>0</th>\n      <td>-1.0 to -0.9</td>\n      <td>Very strong</td>\n      <td>Negative</td>\n    </tr>\n    <tr>\n      <th>1</th>\n      <td>-0.9 to -0.7</td>\n      <td>Strong</td>\n      <td>Negative</td>\n    </tr>\n    <tr>\n      <th>2</th>\n      <td>-0.7 to -0.4</td>\n      <td>Moderate</td>\n      <td>Negative</td>\n    </tr>\n    <tr>\n      <th>3</th>\n      <td>-0.4 to -0.2</td>\n      <td>Weak</td>\n      <td>Negative</td>\n    </tr>\n    <tr>\n      <th>4</th>\n      <td>-0.2 to 0</td>\n      <td>Negligible</td>\n      <td>Negative</td>\n    </tr>\n    <tr>\n      <th>5</th>\n      <td>0 to 0.2</td>\n      <td>Negligible</td>\n      <td>Positive</td>\n    </tr>\n    <tr>\n      <th>6</th>\n      <td>0.2 to 0.4</td>\n      <td>Weak</td>\n      <td>Positive</td>\n    </tr>\n    <tr>\n      <th>7</th>\n      <td>.4 to 0.7</td>\n      <td>Moderate</td>\n      <td>Positive</td>\n    </tr>\n    <tr>\n      <th>8</th>\n      <td>0.7 to 0.9</td>\n      <td>Strong</td>\n      <td>Positive</td>\n    </tr>\n    <tr>\n      <th>9</th>\n      <td>0.9 to 1.0</td>\n      <td>Very strong</td>\n      <td>Positive</td>\n    </tr>\n  </tbody>\n</table>\n</div>",
      "application/papermill.record/text/plain": "    Correlation     Strength Direction\n0  -1.0 to -0.9  Very strong  Negative\n1  -0.9 to -0.7       Strong  Negative\n2  -0.7 to -0.4     Moderate  Negative\n3  -0.4 to -0.2         Weak  Negative\n4     -0.2 to 0   Negligible  Negative\n5     0 to 0.2    Negligible  Positive\n6    0.2 to 0.4         Weak  Positive\n7     .4 to 0.7     Moderate  Positive\n8    0.7 to 0.9       Strong  Positive\n9    0.9 to 1.0  Very strong  Positive"
     },
     "metadata": {
      "scrapbook": {
       "mime_prefix": "application/papermill.record/",
       "name": "corr-interpretation-table"
      }
     },
     "output_type": "display_data"
    }
   ],
   "source": [
    "correlation = [\"-1.0 to -0.9\", \"-0.9 to -0.7\", \"-0.7 to -0.4\", \n",
    "                    \"-0.4 to -0.2\", \"-0.2 to 0\", \"0 to 0.2 \", \"0.2 to 0.4\",\n",
    "                    \".4 to 0.7\", \"0.7 to 0.9\", \"0.9 to 1.0\"]\n",
    "strength = [\"Very strong\", \"Strong\", \"Moderate\", \"Weak\", \"Negligible\", \"Negligible\", \"Weak\",\n",
    "           \"Moderate\", \"Strong\", \"Very strong\"]\n",
    "direction = [\"Negative\"]*5 + [\"Positive\"]*5\n",
    "df = pd.DataFrame(\n",
    "    {'Correlation': correlation,\n",
    "     'Strength': strength,\n",
    "     'Direction': direction\n",
    "    }) \n",
    "\n",
    "glue(\"corr-interpretation-table\", df, display=False)"
   ]
  },
  {
   "cell_type": "markdown",
   "metadata": {},
   "source": [
    "```{glue:figure} corr-interpretation-table\n",
    ":figwidth: 600px\n",
    ":name: table-corr-interpretation\n",
    "\n",
    "A rough guide to interpreting correlations. Note that I say a rough guide. There aren’t hard and fast rules for what counts as strong or weak relationships. It depends on the context.\n",
    "```"
   ]
  },
  {
   "cell_type": "markdown",
   "metadata": {},
   "source": [
    "However, something that can never be stressed enough is that you should *always* look at the scatterplot before attaching any interpretation to the data. A correlation might not mean what you think it means. The classic illustration of this is \"Anscombe's Quartet\"  {cite}`Anscombe1973`, which is a collection of four data sets. Each data set has two variables, an $X$ and a $Y$. For all four data sets the mean value for $X$ is 9 and the mean for $Y$ is 7.5. The, standard deviations for all $X$ variables are almost identical, as are those for the the $Y$ variables. And in each case the correlation between $X$ and $Y$ is $r = 0.816$. You can verify this yourself, like this:"
   ]
  },
  {
   "cell_type": "code",
   "execution_count": 53,
   "metadata": {},
   "outputs": [
    {
     "name": "stdout",
     "output_type": "stream",
     "text": [
      "0.81642051634484\n",
      "0.8162365060002428\n",
      "0.8162867394895984\n",
      "0.8165214368885028\n"
     ]
    }
   ],
   "source": [
    "x = [10, 8, 13, 9, 11, 14, 6, 4, 12, 7, 5]\n",
    "y1 = [8.04, 6.95, 7.58, 8.81, 8.33, 9.96, 7.24, 4.26, 10.84, 4.82, 5.68]\n",
    "y2 = [9.14, 8.14, 8.74, 8.77, 9.26, 8.10, 6.13, 3.10, 9.13, 7.26, 4.74]\n",
    "y3 = [7.46, 6.77, 12.74, 7.11, 7.81, 8.84, 6.08, 5.39, 8.15, 6.42, 5.73]\n",
    "x4 = [8, 8, 8, 8, 8, 8, 8, 19, 8, 8, 8]\n",
    "y4 = [6.58, 5.76, 7.71, 8.84, 8.47, 7.04, 5.25, 12.50, 5.56, 7.91, 6.89]\n",
    "\n",
    "df = pd.DataFrame(\n",
    "    {'x': x,\n",
    "     'y1': y1,\n",
    "     'y2': y2,\n",
    "     'y3': y3,\n",
    "     'x4': x4,\n",
    "     'y4': y4\n",
    "    })\n",
    "\n",
    "print(df['x'].corr(df['y1']))\n",
    "print(df['x'].corr(df['y2']))\n",
    "print(df['x'].corr(df['y3']))\n",
    "print(df['x4'].corr(df['y4']))"
   ]
  },
  {
   "cell_type": "markdown",
   "metadata": {},
   "source": [
    "and so on. \n",
    "\n",
    "You'd think that these four data sets would look pretty similar to one another. They do not. If we draw scatterplots of $X$ against $Y$ for all four variables, as shown in {numref}`fig-anscombe` we see that all four of these are *spectacularly* different to each other. "
   ]
  },
  {
   "cell_type": "code",
   "execution_count": 55,
   "metadata": {
    "tags": [
     "hide-input"
    ]
   },
   "outputs": [
    {
     "data": {
      "application/papermill.record/image/png": "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\n",
      "application/papermill.record/text/plain": "<Figure size 1080x720 with 4 Axes>"
     },
     "metadata": {
      "scrapbook": {
       "mime_prefix": "application/papermill.record/",
       "name": "anscombe-fig"
      }
     },
     "output_type": "display_data"
    },
    {
     "data": {
      "image/png": "[encoded data removed]",
      "text/plain": [
       "<Figure size 1080x720 with 4 Axes>"
      ]
     },
     "metadata": {
      "needs_background": "light"
     },
     "output_type": "display_data"
    }
   ],
   "source": [
    "import seaborn as sns\n",
    "\n",
    "fig, axes = plt.subplots(2, 2, figsize=(15, 10), sharey=True)\n",
    "fig.suptitle('Anscombe\\'s quartet')\n",
    "\n",
    "sns.scatterplot(x = df['x'], y = df['y1'], ax = axes[0,0])\n",
    "sns.scatterplot(x = df['x'], y = df['y2'], ax = axes[0,1])\n",
    "sns.scatterplot(x = df['x'], y = df['y3'], ax = axes[1,0])\n",
    "sns.scatterplot(x = df['x4'], y = df['y4'], ax = axes[1,1])\n",
    "\n",
    "#glue(\"anscombe-fig\", fig, display=False)"
   ]
  },
  {
   "cell_type": "markdown",
   "metadata": {},
   "source": [
    "```{glue:figure} anscombe-fig\n",
    ":figwidth: 600px\n",
    ":name: fig-anscombe\n",
    "\n",
    "Anscombe’s quartet. All four of these data sets have a Pearson correlation of r “ .816, but they are qualitatively different from one another.\n",
    "```"
   ]
  },
  {
   "cell_type": "markdown",
   "metadata": {},
   "source": [
    "The lesson here, which so very many people seem to forget in real life is \"*always graph your raw data*\". This will be the focus of the chapter on [](DrawingGraphs).\n"
   ]
  },
  {
   "cell_type": "markdown",
   "metadata": {},
   "source": [
    "The Pearson correlation coefficient is useful for a lot of things, but it does have shortcomings. One issue in particular stands out: what it actually measures is the strength of the *linear* relationship between two variables. In other words, what it gives you is a measure of the extent to which the data all tend to fall on a single, perfectly straight line. Often, this is a pretty good approximation to what we mean when we say \"relationship\", and so the Pearson correlation is a good thing to calculation. Sometimes, it isn't. \n",
    "\n",
    "One very common situation where the Pearson correlation isn't quite the right thing to use arises when an increase in one variable $X$ really is reflected in an increase in another variable $Y$, but the nature of the relationship isn't necessarily linear. An example of this might be the relationship between effort and reward when studying for an exam. If you put in zero effort ($X$) into learning a subject, then you should expect a grade of 0% ($Y$). However, a little bit of effort will cause a *massive* improvement: just turning up to lectures means that you learn a fair bit, and if you just turn up to classes, and scribble a few things down so your grade might rise to 35%, all without a lot of effort. However, you just don't get the same effect at the other end of the scale. As everyone knows, it takes *a lot* more effort to get a grade of 90% than it takes to get a grade of 55%. What this means is that, if I've got data looking at study effort and grades, there's a pretty good chance that Pearson correlations will be misleading. \n",
    "\n",
    "\n",
    "To illustrate, consider the data plotted in {numref}`fig-rankcorr`, showing the relationship between hours worked and grade received for 10 students taking some class. The curious thing about this -- highly fictitious -- data set is that increasing your effort *always* increases your grade. It might be by a lot or it might be by a little, but increasing effort will never decrease your grade. The data are stored in `effort.csv`:"
   ]
  },
  {
   "cell_type": "code",
   "execution_count": 56,
   "metadata": {},
   "outputs": [
    {
     "data": {
      "text/html": [
       "<div>\n",
       "<style scoped>\n",
       "    .dataframe tbody tr th:only-of-type {\n",
       "        vertical-align: middle;\n",
       "    }\n",
       "\n",
       "    .dataframe tbody tr th {\n",
       "        vertical-align: top;\n",
       "    }\n",
       "\n",
       "    .dataframe thead th {\n",
       "        text-align: right;\n",
       "    }\n",
       "</style>\n",
       "<table border=\"1\" class=\"dataframe\">\n",
       "  <thead>\n",
       "    <tr style=\"text-align: right;\">\n",
       "      <th></th>\n",
       "      <th>hours</th>\n",
       "      <th>grade</th>\n",
       "    </tr>\n",
       "  </thead>\n",
       "  <tbody>\n",
       "    <tr>\n",
       "      <th>0</th>\n",
       "      <td>2</td>\n",
       "      <td>13</td>\n",
       "    </tr>\n",
       "    <tr>\n",
       "      <th>1</th>\n",
       "      <td>76</td>\n",
       "      <td>91</td>\n",
       "    </tr>\n",
       "    <tr>\n",
       "      <th>2</th>\n",
       "      <td>40</td>\n",
       "      <td>79</td>\n",
       "    </tr>\n",
       "    <tr>\n",
       "      <th>3</th>\n",
       "      <td>6</td>\n",
       "      <td>14</td>\n",
       "    </tr>\n",
       "    <tr>\n",
       "      <th>4</th>\n",
       "      <td>16</td>\n",
       "      <td>21</td>\n",
       "    </tr>\n",
       "    <tr>\n",
       "      <th>5</th>\n",
       "      <td>28</td>\n",
       "      <td>74</td>\n",
       "    </tr>\n",
       "    <tr>\n",
       "      <th>6</th>\n",
       "      <td>27</td>\n",
       "      <td>47</td>\n",
       "    </tr>\n",
       "    <tr>\n",
       "      <th>7</th>\n",
       "      <td>59</td>\n",
       "      <td>85</td>\n",
       "    </tr>\n",
       "    <tr>\n",
       "      <th>8</th>\n",
       "      <td>46</td>\n",
       "      <td>84</td>\n",
       "    </tr>\n",
       "    <tr>\n",
       "      <th>9</th>\n",
       "      <td>68</td>\n",
       "      <td>88</td>\n",
       "    </tr>\n",
       "  </tbody>\n",
       "</table>\n",
       "</div>"
      ],
      "text/plain": [
       "   hours  grade\n",
       "0      2     13\n",
       "1     76     91\n",
       "2     40     79\n",
       "3      6     14\n",
       "4     16     21\n",
       "5     28     74\n",
       "6     27     47\n",
       "7     59     85\n",
       "8     46     84\n",
       "9     68     88"
      ]
     },
     "execution_count": 56,
     "metadata": {},
     "output_type": "execute_result"
    }
   ],
   "source": [
    "from os import chdir as cd\n",
    "import pandas as pd\n",
    "\n",
    "pathin = '/Users/ethan/Documents/GitHub/pythonbook/Data/'\n",
    "file = 'effort.csv'\n",
    "\n",
    "cd(pathin)\n",
    "\n",
    "effort = pd.read_csv(file)\n",
    "\n",
    "effort"
   ]
  },
  {
   "cell_type": "markdown",
   "metadata": {},
   "source": [
    "If we run a standard Pearson correlation, it shows a strong relationship between hours worked and grade received,"
   ]
  },
  {
   "cell_type": "code",
   "execution_count": 57,
   "metadata": {},
   "outputs": [
    {
     "data": {
      "text/plain": [
       "0.9094019658612525"
      ]
     },
     "execution_count": 57,
     "metadata": {},
     "output_type": "execute_result"
    }
   ],
   "source": [
    "effort['hours'].corr(effort['grade'])"
   ]
  },
  {
   "cell_type": "code",
   "execution_count": 78,
   "metadata": {
    "tags": [
     "hide-output"
    ]
   },
   "outputs": [
    {
     "data": {
      "application/papermill.record/image/png": "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\n",
      "application/papermill.record/text/plain": "<Figure size 432x288 with 1 Axes>"
     },
     "metadata": {
      "scrapbook": {
       "mime_prefix": "application/papermill.record/",
       "name": "rankcorr-fig"
      }
     },
     "output_type": "display_data"
    },
    {
     "data": {
      "image/png": "[encoded data removed]",
      "text/plain": [
       "<Figure size 432x288 with 1 Axes>"
      ]
     },
     "metadata": {
      "needs_background": "light"
     },
     "output_type": "display_data"
    }
   ],
   "source": [
    "import seaborn as sns\n",
    "\n",
    "fig, ax = plt.subplots()\n",
    "sns.regplot(x='hours', y='grade', data=effort, ci=None, ax=ax)\n",
    "sns.lineplot(x='hours', y='grade', data=effort, color = \"black\", ci=None, ax=ax)\n",
    "ax.lines[0].set_linestyle(\"--\")\n",
    "\n",
    "\n",
    "glue(\"rankcorr-fig\", fig, display=False)"
   ]
  },
  {
   "cell_type": "markdown",
   "metadata": {},
   "source": [
    "```{glue:figure} rankcorr-fig\n",
    ":figwidth: 600px\n",
    ":name: fig-rankcorr\n",
    "\n",
    "The relationship between hours worked and grade received, for a toy data set consisting of only 10 students (each dot corresponds to one student). The dashed line through the middle shows the linear relationship between the two variables. This produces a strong Pearson correlation of $r = .91$. However, the interesting thing to note here is that there's actually a perfect monotonic relationship between the two variables: in this toy example at least, increasing the hours worked always increases the grade received, as illustrated by the solid line. This is reflected in a Spearman correlation of $rho = 1$. With such a small data set, however, it's an open question as to which version better describes the actual relationship involved.\n",
    "```"
   ]
  },
  {
   "cell_type": "markdown",
   "metadata": {},
   "source": [
    "\n",
    "but this doesn't actually capture the observation that increasing hours worked *always* increases the grade. There's a sense here in which we want to be able to say that the correlation is *perfect* but for a somewhat different notion of what a \"relationship\" is. What we're looking for is something that captures the fact that there is a perfect **_ordinal relationship_** here. That is, if student 1 works more hours than student 2, then we can guarantee that student 1 will get the better grade. That's not what a correlation of $r = .91$ says at all.\n",
    "\n",
    "How should we address this? Actually, it's really easy: if we're looking for ordinal relationships, all we have to do is treat the data as if it were ordinal scale! So, instead of measuring effort in terms of \"hours worked\", lets rank all 10 of our students in order of hours worked. That is, student 1 did the least work out of anyone (2 hours) so they get the lowest rank (rank = 1). Student 4 was the next laziest, putting in only  6 hours of work in over the whole semester, so they get the next lowest rank (rank = 2). Notice that I'm using \"rank = 1\" to mean \"low rank\". Sometimes in everyday language we talk about \"rank = 1\" to mean \"top rank\" rather than \"bottom rank\". So be careful: you can rank \"from smallest value to largest value\" (i.e., small equals rank 1) or you can rank \"from largest value to smallest value\" (i.e., large equals rank 1). In this case, I'm ranking from smallest to largest, because that is how Python does it. But in real life, it's really easy to forget which way you set things up, so you have to put a bit of effort into remembering! \n",
    "\n",
    "Okay, so let's have a look at our students when we rank them from worst to best in terms of effort and reward: \n",
    "\n",
    "\n",
    "|            | rank (hours worked) | rank (grade received) |\n",
    "| :--------: | :-----------------: | :-------------------: |\n",
    "| student 1  |          1          |           1           |\n",
    "| student 2  |         10          |          10           |\n",
    "| student 3  |          6          |           6           |\n",
    "| student 4  |          2          |           2           |\n",
    "| student 5  |          3          |           3           |\n",
    "| student 6  |          5          |           5           |\n",
    "| student 7  |          4          |           4           |\n",
    "| student 8  |          8          |           8           |\n",
    "| student 9  |          7          |           7           |\n",
    "| student 10 |          9          |           9           |\n",
    "\n",
    "\n",
    "Hm. These are *identical*. The student who put in the most effort got the best grade, the student with the least effort got the worst grade, etc. We can get Python to construct new variables with these rankings using the `rank()` method, and specifiying which columns in our dataframe we want to rank, like this:"
   ]
  },
  {
   "cell_type": "code",
   "execution_count": 59,
   "metadata": {},
   "outputs": [],
   "source": [
    "ranked_hours = effort['hours'].rank()\n",
    "ranked_grades = effort['grade'].rank()"
   ]
  },
  {
   "cell_type": "markdown",
   "metadata": {},
   "source": [
    "As the table above shows, these two rankings are identical, so if we now correlate them we get a perfect relationship:"
   ]
  },
  {
   "cell_type": "code",
   "execution_count": 60,
   "metadata": {},
   "outputs": [
    {
     "data": {
      "text/plain": [
       "0.9999999999999999"
      ]
     },
     "execution_count": 60,
     "metadata": {},
     "output_type": "execute_result"
    }
   ],
   "source": [
    "ranked_hours.corr(ranked_grades)"
   ]
  },
  {
   "cell_type": "markdown",
   "metadata": {},
   "source": [
    "What we've just re-invented is **_Spearman's rank order correlation_**, usually denoted $\\rho$ to distinguish it from the Pearson correlation $r$. We can calculate Spearman's $\\rho$ using R in two different ways. Firstly we could do it the way I just showed, using the `rank()` function to construct the rankings, and then calculate the Pearson correlation on these ranks. However, that's way too much effort to do every time. It's much easier to just specify the `method` argument of the `cor()` method. [^note14] Since we are skipping the extra step of \"manually\" creating new, ranked variables, we can just operate directly on the dataframe columns:\n",
    "\n",
    "[^note14]: Yikes, that's two uses of the word method, and they mean different things. Sigh. Language is hard, and things get confusing when code-switching between human language and computer language!"
   ]
  },
  {
   "cell_type": "code",
   "execution_count": 61,
   "metadata": {},
   "outputs": [
    {
     "data": {
      "text/plain": [
       "0.9999999999999999"
      ]
     },
     "execution_count": 61,
     "metadata": {},
     "output_type": "execute_result"
    }
   ],
   "source": [
    "effort['hours'].corr(effort['grade'], method=\"spearman\")"
   ]
  },
  {
   "cell_type": "markdown",
   "metadata": {},
   "source": [
    "The default value of the `method` argument is `\"pearson\"`, which is why we didn't have to specify it earlier on when we were doing Pearson correlations. "
   ]
  },
  {
   "cell_type": "markdown",
   "metadata": {},
   "source": [
    "(missing)=\n",
    "## Handling missing values\n",
    "\n",
    "There's one last topic that I want to discuss briefly in this chapter, and that's the issue of **_missing data_**. Real data sets very frequently turn out to have missing values: perhaps someone forgot to fill in a particular survey question, for instance. Missing data can be the source of a lot of tricky issues, most of which I'm going to gloss over. However, at a minimum, you need to understand the basics of handling missing data in Python. \n",
    "\n",
    "\n",
    "### The single variable case\n",
    "\n",
    "Let's start with the simplest case, in which you're trying to calculate descriptive statistics for a single variable which has missing data. In Python, this means that there will be `nan` (\"not a number\") values in your data vector. Let's create a variable like that:"
   ]
  },
  {
   "cell_type": "code",
   "execution_count": 62,
   "metadata": {},
   "outputs": [],
   "source": [
    "partial = [10, 20, float('nan'), 30]"
   ]
  },
  {
   "cell_type": "markdown",
   "metadata": {},
   "source": [
    "Let's assume that you want to calculate the mean of this variable. By default, Python assumes that you want to calculate the mean using all four elements of this vector, which is probably the safest thing for a dumb automaton to do, but it's rarely what you actually want. Why not? Well, remember that although `nan` stands for \"not a number\", the more accurate interpretation of `nan` here is \"There should be a number here, but I don't know what that number is\". This means that `1 + nan = nan`: if I add 1 to some number that I don't know (i.e., the `nan`) then the answer is *also* a number that I don't know. As a consequence, if you don't explicitly tell Python to ignore the `nan` values, and the data set does have missing values, then the output will itself be a missing value. If I try to calculate the mean of the `partial` vector, without doing anything about the missing value, here's what happens:"
   ]
  },
  {
   "cell_type": "code",
   "execution_count": 63,
   "metadata": {},
   "outputs": [
    {
     "data": {
      "text/plain": [
       "nan"
      ]
     },
     "execution_count": 63,
     "metadata": {},
     "output_type": "execute_result"
    }
   ],
   "source": [
    "statistics.mean(partial)"
   ]
  },
  {
   "cell_type": "markdown",
   "metadata": {},
   "source": [
    "Technically correct, but deeply unhelpful. \n",
    "\n",
    "To fix this, all of the descriptive statistics functions that I've discussed in this chapter (with the exception of `cor()` which is a special case I'll discuss below) have an optional argument called `na.rm`, which is shorthand for \"remove NA values\". By default, `na.rm = FALSE`, so R does nothing about the missing data problem. Let's try setting `na.rm = TRUE` and see what happens:\n",
    "\n",
    "When calculating sums and means when missing data are present (i.e., when there are `NA` values) there's actually an additional argument to the function that you should be aware of. This argument is called `na.rm`, and is a logical value indicating whether R should ignore (or \"remove\") the missing data for the purposes of doing the calculations. By default, R assumes that you want to keep the missing values, so unless you say otherwise it will set `na.rm = FALSE`. However, R assumes that `1 + NA = NA`: if I add 1 to some number that I don't know (i.e., the `NA`) then the answer is *also* a number that I don't know. As a consequence, if you don't explicitly tell R to ignore the `NA` values, and the data set does have missing values, then the output will itself be a missing value. This is illustrated in the following extract:"
   ]
  },
  {
   "cell_type": "markdown",
   "metadata": {},
   "source": [
    "Technically correct, but deeply unhelpful. There are a few ways to deal with this. The first is to use methods from `numpy`. `numpy` has a collection of methods to calculate nan-friendly versions of your favorite descriptive statistics (although correlation is a special case, more on that below), such as `nanmean`, `nanmedian`, `nanpercentile`, `nanmax`, `nanmin`, `nansum`, `nanstd`, etc. So:"
   ]
  },
  {
   "cell_type": "code",
   "execution_count": 64,
   "metadata": {},
   "outputs": [
    {
     "name": "stdout",
     "output_type": "stream",
     "text": [
      "nan\n",
      "20.0\n",
      "nan\n",
      "20.0\n",
      "nan\n",
      "8.16496580927726\n"
     ]
    }
   ],
   "source": [
    "import numpy as np\n",
    "\n",
    "print(statistics.mean(partial))\n",
    "print(np.nanmean(partial))\n",
    "\n",
    "print(statistics.median(partial))\n",
    "print(np.nanmedian(partial))\n",
    "\n",
    "print(statistics.stdev(partial))\n",
    "print(np.nanstd(partial))\n"
   ]
  },
  {
   "cell_type": "markdown",
   "metadata": {},
   "source": [
    "This is great! Now we can get the descriptive statistics we want, without those pesky `nan`s getting in the way. Still, it is a little tedious to need to remember to to use the `np.nan` version of these functions when dealing with data containing `nan`s (which real data sets often do). As a bit of a consolation, `pandas` dataframes can already calculate these statistics for us, and ignore `nan`s by default. So, if we put our data in a `pandas` dataframe, we don't need to worry about it:"
   ]
  },
  {
   "cell_type": "code",
   "execution_count": 65,
   "metadata": {},
   "outputs": [
    {
     "data": {
      "text/html": [
       "<div>\n",
       "<style scoped>\n",
       "    .dataframe tbody tr th:only-of-type {\n",
       "        vertical-align: middle;\n",
       "    }\n",
       "\n",
       "    .dataframe tbody tr th {\n",
       "        vertical-align: top;\n",
       "    }\n",
       "\n",
       "    .dataframe thead th {\n",
       "        text-align: right;\n",
       "    }\n",
       "</style>\n",
       "<table border=\"1\" class=\"dataframe\">\n",
       "  <thead>\n",
       "    <tr style=\"text-align: right;\">\n",
       "      <th></th>\n",
       "      <th>var1</th>\n",
       "      <th>var2</th>\n",
       "      <th>var3</th>\n",
       "    </tr>\n",
       "  </thead>\n",
       "  <tbody>\n",
       "    <tr>\n",
       "      <th>0</th>\n",
       "      <td>10.0</td>\n",
       "      <td>10.0</td>\n",
       "      <td>NaN</td>\n",
       "    </tr>\n",
       "    <tr>\n",
       "      <th>1</th>\n",
       "      <td>20.0</td>\n",
       "      <td>NaN</td>\n",
       "      <td>12.0</td>\n",
       "    </tr>\n",
       "    <tr>\n",
       "      <th>2</th>\n",
       "      <td>NaN</td>\n",
       "      <td>NaN</td>\n",
       "      <td>18.0</td>\n",
       "    </tr>\n",
       "    <tr>\n",
       "      <th>3</th>\n",
       "      <td>30.0</td>\n",
       "      <td>35.0</td>\n",
       "      <td>27.0</td>\n",
       "    </tr>\n",
       "  </tbody>\n",
       "</table>\n",
       "</div>"
      ],
      "text/plain": [
       "   var1  var2  var3\n",
       "0  10.0  10.0   NaN\n",
       "1  20.0   NaN  12.0\n",
       "2   NaN   NaN  18.0\n",
       "3  30.0  35.0  27.0"
      ]
     },
     "execution_count": 65,
     "metadata": {},
     "output_type": "execute_result"
    }
   ],
   "source": [
    "import pandas as pd\n",
    "\n",
    "df = pd.DataFrame(\n",
    "    {'var1': partial,\n",
    "     'var2': [10, float('nan'), float('nan'), 35],\n",
    "     'var3': [float('nan'), 12, 18, 27]\n",
    "    }) \n",
    "\n",
    "df"
   ]
  },
  {
   "cell_type": "code",
   "execution_count": 66,
   "metadata": {},
   "outputs": [
    {
     "name": "stdout",
     "output_type": "stream",
     "text": [
      "20.0\n",
      "20.0\n",
      "10.0\n"
     ]
    }
   ],
   "source": [
    "print(df['var1'].mean())\n",
    "print(df['var1'].median())\n",
    "print(df['var1'].std())"
   ]
  },
  {
   "cell_type": "markdown",
   "metadata": {},
   "source": [
    "This is also great, but there is one little niggling problem. `var1`in our dataframe is the same as the `partial` variable we defined eaerlier. The mean and median values look the same as when we used the `numpy` methods, but the standard deviation is little bit different. What's up with that? As it turns out, `numpy` and `pandas` calculate standard deviation in slightly different ways: `numpy` uses $N$ in the demoninator, while `pandas` uses the \"unbiased estimator\" $N-1$ in the demoniator. To make `numpy` behave like `pandas`, we need to pass the `ddof=1` argument to `nanmean()`, like so:"
   ]
  },
  {
   "cell_type": "code",
   "execution_count": 67,
   "metadata": {},
   "outputs": [
    {
     "name": "stdout",
     "output_type": "stream",
     "text": [
      "10.0\n",
      "10.0\n"
     ]
    }
   ],
   "source": [
    "print(df['var1'].std())\n",
    "print(np.nanstd(partial, ddof=1))"
   ]
  },
  {
   "cell_type": "markdown",
   "metadata": {},
   "source": [
    "and all is well! "
   ]
  },
  {
   "cell_type": "markdown",
   "metadata": {},
   "source": [
    "Notice that the mean is `20`  (i.e., `60 / 3`) and *not* `15`. When Python ignores an `nan` value, it genuinely ignores it. In effect, the calculation above is identical to what you'd get if you asked for the mean of the three-element vector `[10, 20, 30]`. This is also why the mean and the median are the same in this case.\n",
    "\n",
    "\n",
    "### Missing values in pairwise calculations\n",
    "\n",
    "I mentioned earlier that the correlation is a special case. It doesn't have an `np.nancorr` argument, because the story becomes a lot more complicated when more than one variable is involved. To explore this, lets look at the data in `parenthood2.csv`. This is just like the `parenthood` data from before, but with some missing values introducd. Maybe I was just too tired some mornings to record the baby's hours of sleep, or to measure my own grumpiness. It happens."
   ]
  },
  {
   "cell_type": "code",
   "execution_count": 68,
   "metadata": {},
   "outputs": [
    {
     "data": {
      "text/html": [
       "<div>\n",
       "<style scoped>\n",
       "    .dataframe tbody tr th:only-of-type {\n",
       "        vertical-align: middle;\n",
       "    }\n",
       "\n",
       "    .dataframe tbody tr th {\n",
       "        vertical-align: top;\n",
       "    }\n",
       "\n",
       "    .dataframe thead th {\n",
       "        text-align: right;\n",
       "    }\n",
       "</style>\n",
       "<table border=\"1\" class=\"dataframe\">\n",
       "  <thead>\n",
       "    <tr style=\"text-align: right;\">\n",
       "      <th></th>\n",
       "      <th>dan.sleep</th>\n",
       "      <th>baby.sleep</th>\n",
       "      <th>dan.grump</th>\n",
       "      <th>day</th>\n",
       "    </tr>\n",
       "  </thead>\n",
       "  <tbody>\n",
       "    <tr>\n",
       "      <th>0</th>\n",
       "      <td>7.59</td>\n",
       "      <td>NaN</td>\n",
       "      <td>56.0</td>\n",
       "      <td>1</td>\n",
       "    </tr>\n",
       "    <tr>\n",
       "      <th>1</th>\n",
       "      <td>7.91</td>\n",
       "      <td>11.66</td>\n",
       "      <td>60.0</td>\n",
       "      <td>2</td>\n",
       "    </tr>\n",
       "    <tr>\n",
       "      <th>2</th>\n",
       "      <td>5.14</td>\n",
       "      <td>7.92</td>\n",
       "      <td>82.0</td>\n",
       "      <td>3</td>\n",
       "    </tr>\n",
       "    <tr>\n",
       "      <th>3</th>\n",
       "      <td>7.71</td>\n",
       "      <td>9.61</td>\n",
       "      <td>55.0</td>\n",
       "      <td>4</td>\n",
       "    </tr>\n",
       "    <tr>\n",
       "      <th>4</th>\n",
       "      <td>6.68</td>\n",
       "      <td>9.75</td>\n",
       "      <td>NaN</td>\n",
       "      <td>5</td>\n",
       "    </tr>\n",
       "  </tbody>\n",
       "</table>\n",
       "</div>"
      ],
      "text/plain": [
       "   dan.sleep  baby.sleep  dan.grump  day\n",
       "0       7.59         NaN       56.0    1\n",
       "1       7.91       11.66       60.0    2\n",
       "2       5.14        7.92       82.0    3\n",
       "3       7.71        9.61       55.0    4\n",
       "4       6.68        9.75        NaN    5"
      ]
     },
     "execution_count": 68,
     "metadata": {},
     "output_type": "execute_result"
    }
   ],
   "source": [
    "from os import chdir as cd\n",
    "import pandas as pd\n",
    "\n",
    "pathin = '/Users/ethan/Documents/GitHub/pythonbook/Data/'\n",
    "file = 'parenthood2.csv'\n",
    "\n",
    "cd(pathin)\n",
    "\n",
    "parenthood2 = pd.read_csv(file)\n",
    "parenthood2.head()"
   ]
  },
  {
   "cell_type": "markdown",
   "metadata": {},
   "source": [
    "We can see some of those pesky `nan`s right in the first 5 rows, and if we `describe()` our data, we can get a feeling for how many there are:"
   ]
  },
  {
   "cell_type": "code",
   "execution_count": 69,
   "metadata": {},
   "outputs": [
    {
     "data": {
      "text/html": [
       "<div>\n",
       "<style scoped>\n",
       "    .dataframe tbody tr th:only-of-type {\n",
       "        vertical-align: middle;\n",
       "    }\n",
       "\n",
       "    .dataframe tbody tr th {\n",
       "        vertical-align: top;\n",
       "    }\n",
       "\n",
       "    .dataframe thead th {\n",
       "        text-align: right;\n",
       "    }\n",
       "</style>\n",
       "<table border=\"1\" class=\"dataframe\">\n",
       "  <thead>\n",
       "    <tr style=\"text-align: right;\">\n",
       "      <th></th>\n",
       "      <th>dan.sleep</th>\n",
       "      <th>baby.sleep</th>\n",
       "      <th>dan.grump</th>\n",
       "      <th>day</th>\n",
       "    </tr>\n",
       "  </thead>\n",
       "  <tbody>\n",
       "    <tr>\n",
       "      <th>count</th>\n",
       "      <td>91.000000</td>\n",
       "      <td>89.000000</td>\n",
       "      <td>92.000000</td>\n",
       "      <td>100.000000</td>\n",
       "    </tr>\n",
       "    <tr>\n",
       "      <th>mean</th>\n",
       "      <td>6.976923</td>\n",
       "      <td>8.114494</td>\n",
       "      <td>63.152174</td>\n",
       "      <td>50.500000</td>\n",
       "    </tr>\n",
       "    <tr>\n",
       "      <th>std</th>\n",
       "      <td>1.020409</td>\n",
       "      <td>2.046821</td>\n",
       "      <td>9.851574</td>\n",
       "      <td>29.011492</td>\n",
       "    </tr>\n",
       "    <tr>\n",
       "      <th>min</th>\n",
       "      <td>4.840000</td>\n",
       "      <td>3.250000</td>\n",
       "      <td>41.000000</td>\n",
       "      <td>1.000000</td>\n",
       "    </tr>\n",
       "    <tr>\n",
       "      <th>25%</th>\n",
       "      <td>6.285000</td>\n",
       "      <td>6.460000</td>\n",
       "      <td>56.000000</td>\n",
       "      <td>25.750000</td>\n",
       "    </tr>\n",
       "    <tr>\n",
       "      <th>50%</th>\n",
       "      <td>7.030000</td>\n",
       "      <td>8.200000</td>\n",
       "      <td>61.000000</td>\n",
       "      <td>50.500000</td>\n",
       "    </tr>\n",
       "    <tr>\n",
       "      <th>75%</th>\n",
       "      <td>7.785000</td>\n",
       "      <td>9.610000</td>\n",
       "      <td>70.250000</td>\n",
       "      <td>75.250000</td>\n",
       "    </tr>\n",
       "    <tr>\n",
       "      <th>max</th>\n",
       "      <td>9.000000</td>\n",
       "      <td>12.070000</td>\n",
       "      <td>89.000000</td>\n",
       "      <td>100.000000</td>\n",
       "    </tr>\n",
       "  </tbody>\n",
       "</table>\n",
       "</div>"
      ],
      "text/plain": [
       "       dan.sleep  baby.sleep  dan.grump         day\n",
       "count  91.000000   89.000000  92.000000  100.000000\n",
       "mean    6.976923    8.114494  63.152174   50.500000\n",
       "std     1.020409    2.046821   9.851574   29.011492\n",
       "min     4.840000    3.250000  41.000000    1.000000\n",
       "25%     6.285000    6.460000  56.000000   25.750000\n",
       "50%     7.030000    8.200000  61.000000   50.500000\n",
       "75%     7.785000    9.610000  70.250000   75.250000\n",
       "max     9.000000   12.070000  89.000000  100.000000"
      ]
     },
     "execution_count": 69,
     "metadata": {},
     "output_type": "execute_result"
    }
   ],
   "source": [
    "parenthood2.describe()"
   ]
  },
  {
   "cell_type": "markdown",
   "metadata": {},
   "source": [
    "By looking in the `count` row, we can see that out of the 100 days for which we have data, there are 9 days missing for `dan.sleep`, 11 days missing for `baby.sleep` and eight days missing for `dan.grump`. Suppose what I would like is a correlation matrix. And let's also suppose that I don't bother to tell Python how to handle those missing values. Here's what happens:"
   ]
  },
  {
   "cell_type": "code",
   "execution_count": 70,
   "metadata": {},
   "outputs": [
    {
     "data": {
      "text/html": [
       "<div>\n",
       "<style scoped>\n",
       "    .dataframe tbody tr th:only-of-type {\n",
       "        vertical-align: middle;\n",
       "    }\n",
       "\n",
       "    .dataframe tbody tr th {\n",
       "        vertical-align: top;\n",
       "    }\n",
       "\n",
       "    .dataframe thead th {\n",
       "        text-align: right;\n",
       "    }\n",
       "</style>\n",
       "<table border=\"1\" class=\"dataframe\">\n",
       "  <thead>\n",
       "    <tr style=\"text-align: right;\">\n",
       "      <th></th>\n",
       "      <th>dan.sleep</th>\n",
       "      <th>baby.sleep</th>\n",
       "      <th>dan.grump</th>\n",
       "      <th>day</th>\n",
       "    </tr>\n",
       "  </thead>\n",
       "  <tbody>\n",
       "    <tr>\n",
       "      <th>dan.sleep</th>\n",
       "      <td>1.000000</td>\n",
       "      <td>0.614723</td>\n",
       "      <td>-0.903442</td>\n",
       "      <td>-0.076797</td>\n",
       "    </tr>\n",
       "    <tr>\n",
       "      <th>baby.sleep</th>\n",
       "      <td>0.614723</td>\n",
       "      <td>1.000000</td>\n",
       "      <td>-0.567803</td>\n",
       "      <td>0.058309</td>\n",
       "    </tr>\n",
       "    <tr>\n",
       "      <th>dan.grump</th>\n",
       "      <td>-0.903442</td>\n",
       "      <td>-0.567803</td>\n",
       "      <td>1.000000</td>\n",
       "      <td>0.005833</td>\n",
       "    </tr>\n",
       "    <tr>\n",
       "      <th>day</th>\n",
       "      <td>-0.076797</td>\n",
       "      <td>0.058309</td>\n",
       "      <td>0.005833</td>\n",
       "      <td>1.000000</td>\n",
       "    </tr>\n",
       "  </tbody>\n",
       "</table>\n",
       "</div>"
      ],
      "text/plain": [
       "            dan.sleep  baby.sleep  dan.grump       day\n",
       "dan.sleep    1.000000    0.614723  -0.903442 -0.076797\n",
       "baby.sleep   0.614723    1.000000  -0.567803  0.058309\n",
       "dan.grump   -0.903442   -0.567803   1.000000  0.005833\n",
       "day         -0.076797    0.058309   0.005833  1.000000"
      ]
     },
     "execution_count": 70,
     "metadata": {},
     "output_type": "execute_result"
    }
   ],
   "source": [
    "parenthood2.corr()"
   ]
  },
  {
   "cell_type": "markdown",
   "metadata": {},
   "source": [
    "This actually looks pretty good! We *know* there are `nan`s in the data, but `pandas` seems to deal with them handily. This is not untrue, but there is a small but important detail to be aware of. When it encounters data with `nan`s, `pandas` only looks at the pair of variables that it's trying to correlate when determining what to drop. So, for instance, since the only missing value for observation 1 of `parenthood2` is for `baby.sleep`, Python will only drop observation 1 when `baby.sleep` is one of the variables involved, and keeps observation 1 when trying to correlate e.g. `dan.sleep` and `dan.grump`. If we want to simply ignore *all* rows that contain a `nan`, we need to tell `pandas` to drop them, like this:"
   ]
  },
  {
   "cell_type": "code",
   "execution_count": 71,
   "metadata": {},
   "outputs": [
    {
     "data": {
      "text/html": [
       "<div>\n",
       "<style scoped>\n",
       "    .dataframe tbody tr th:only-of-type {\n",
       "        vertical-align: middle;\n",
       "    }\n",
       "\n",
       "    .dataframe tbody tr th {\n",
       "        vertical-align: top;\n",
       "    }\n",
       "\n",
       "    .dataframe thead th {\n",
       "        text-align: right;\n",
       "    }\n",
       "</style>\n",
       "<table border=\"1\" class=\"dataframe\">\n",
       "  <thead>\n",
       "    <tr style=\"text-align: right;\">\n",
       "      <th></th>\n",
       "      <th>dan.sleep</th>\n",
       "      <th>baby.sleep</th>\n",
       "      <th>dan.grump</th>\n",
       "      <th>day</th>\n",
       "    </tr>\n",
       "  </thead>\n",
       "  <tbody>\n",
       "    <tr>\n",
       "      <th>dan.sleep</th>\n",
       "      <td>1.000000</td>\n",
       "      <td>0.639498</td>\n",
       "      <td>-0.899515</td>\n",
       "      <td>0.061329</td>\n",
       "    </tr>\n",
       "    <tr>\n",
       "      <th>baby.sleep</th>\n",
       "      <td>0.639498</td>\n",
       "      <td>1.000000</td>\n",
       "      <td>-0.586561</td>\n",
       "      <td>0.145558</td>\n",
       "    </tr>\n",
       "    <tr>\n",
       "      <th>dan.grump</th>\n",
       "      <td>-0.899515</td>\n",
       "      <td>-0.586561</td>\n",
       "      <td>1.000000</td>\n",
       "      <td>-0.068166</td>\n",
       "    </tr>\n",
       "    <tr>\n",
       "      <th>day</th>\n",
       "      <td>0.061329</td>\n",
       "      <td>0.145558</td>\n",
       "      <td>-0.068166</td>\n",
       "      <td>1.000000</td>\n",
       "    </tr>\n",
       "  </tbody>\n",
       "</table>\n",
       "</div>"
      ],
      "text/plain": [
       "            dan.sleep  baby.sleep  dan.grump       day\n",
       "dan.sleep    1.000000    0.639498  -0.899515  0.061329\n",
       "baby.sleep   0.639498    1.000000  -0.586561  0.145558\n",
       "dan.grump   -0.899515   -0.586561   1.000000 -0.068166\n",
       "day          0.061329    0.145558  -0.068166  1.000000"
      ]
     },
     "execution_count": 71,
     "metadata": {},
     "output_type": "execute_result"
    }
   ],
   "source": [
    "parenthood2.dropna().corr()"
   ]
  },
  {
   "cell_type": "markdown",
   "metadata": {},
   "source": [
    "By checking the length of `parenthood2` and `parenthood2.dropna()`, we can see that using `dropna()` removes 27 entire rows from our data:"
   ]
  },
  {
   "cell_type": "code",
   "execution_count": 72,
   "metadata": {},
   "outputs": [
    {
     "name": "stdout",
     "output_type": "stream",
     "text": [
      "100\n",
      "73\n"
     ]
    }
   ],
   "source": [
    "print(len(parenthood2))\n",
    "print(len(parenthood2.dropna()))"
   ]
  },
  {
   "cell_type": "markdown",
   "metadata": {},
   "source": [
    "The results from `parenthood2.corr()` and `parenthood2.dropna().corr()` are similar, but not quite the same. The two approaches have different strengths and weaknesses. The \"pairwise\" approach, the one in which Python only drops observations when they are involved in the comparison at hand, has the advantage that it keeps more observations, so you're making use of more of your data and (as we'll discuss in tedious detail in the chapter on [estimation](estimation)) and it improves the reliability of your estimated correlation. On the other hand, it means that every correlation in your correlation matrix is being computed from a slightly different set of observations, which can be awkward when you want to compare the different correlations that you've got. \n",
    " \n",
    "So which method should you use? It depends a lot on *why* you think your values are missing, and probably depends a little on how paranoid you are. For instance, if you think that the missing values were \"chosen\" completely randomly [^note15] then you'll probably want to use the pairwise method. If you think that missing data are a cue to thinking that the whole observation might be rubbish (e.g., someone just selecting arbitrary responses in your questionnaire), but that there's no pattern to which observations are \"rubbish\", then it's probably safer to keep only those observations that are complete. If you think there's something systematic going on, in that some observations are more likely to be missing than others, then you have a much trickier problem to solve, and one that is beyond the scope of this book.\n",
    "\n",
    "[^note15]: The technical term here is \"missing completely at random\" (often written MCAR for short). Makes sense, I suppose, but it does sound ungrammatical to me."
   ]
  },
  {
   "cell_type": "markdown",
   "metadata": {},
   "source": [
    "## Summary\n",
    "\n",
    "Calculating some basic descriptive statistics is one of the very first things you do when analysing real data, and descriptive statistics are much simpler to understand than inferential statistics, so like every other statistics textbook I've started with descriptives. In this chapter, we talked about the following topics:\n",
    "\n",
    "\n",
    "- [*Measures of central tendency*](central-tendency). Broadly speaking, central tendency measures tell you where the data are. There's three measures that are typically reported in the literature: the mean, median and mode.\n",
    "- [*Measures of variability*](variability). In contrast, measures of variability tell you about how \"spread out\" the data are. The key measures are: range, standard deviation, interquartile reange \n",
    "- [*Standard scores*](zcores). The $z$-score is a slightly unusual beast. It's not quite a descriptive statistic, and not quite an inference. Make sure you understood this section: it'll come up again later. \n",
    "- [*Correlations*](correlations). Want to know how strong the relationship is between two variables? Calculate a correlation.\n",
    "- [*Missing data*](missing). Dealing with missing data is one of those frustrating things that data analysts really wish the didn't have to think about. In real life it can be hard to do well. For the purpose of this book, we only touched on the basics in this section.\n",
    "\n",
    "In the next section we'll move on to a discussion of how to draw pictures! Everyone loves a pretty picture, right? But before we do, I want to end on an important point. A traditional first course in statistics spends only a small proportion of the class on descriptive statistics, maybe one or two lectures at most. The vast majority of the lecturer's time is spent on inferential statistics, because that's where all the hard stuff is. That makes sense, but it hides the practical everyday importance of choosing good descriptives. With that in mind..."
   ]
  },
  {
   "cell_type": "markdown",
   "metadata": {},
   "source": [
    "## Epilogue: Good descriptive statistics are descriptive!\n",
    "\n",
    "\n",
    ">*The death of one man is a tragedy.\n",
    ">The death of millions is a statistic.*\n",
    ">\n",
    ">-- Josef Stalin, Potsdam 1945\n",
    "\n",
    "\n",
    "\n",
    ">*950,000 -- 1,200,000*\n",
    ">\n",
    ">-- Estimate of Soviet repression deaths, \n",
    "> 1937-1938 {cite}`ellman2002soviet`\n",
    "\n",
    "Stalin's infamous quote about the statistical character death of millions is worth giving some thought. The clear intent of his statement is that the death of an individual touches us personally and its force cannot be denied, but that the deaths of a multitude are incomprehensible, and as a consequence mere statistics, more easily ignored. I'd argue that Stalin was half right. A statistic is an abstraction, a description of events beyond our personal experience, and so hard to visualise. Few if any of us can imagine what the deaths of millions is \"really\" like, but we can imagine one death, and this gives the lone death its feeling of immediate tragedy, a feeling that is missing from Ellman's cold statistical description.\n",
    "\n",
    "Yet it is not so simple: without numbers, without counts, without a description of what happened, we have *no chance* of understanding what really happened, no opportunity event to try to summon the missing feeling. And in truth, as I write this, sitting in comfort on a Saturday morning, half a world and a whole lifetime away from the Gulags, when I put the Ellman estimate next to the Stalin quote a dull dread settles in my stomach and a chill settles over me. The Stalinist repression is something truly beyond my experience, but with a combination of statistical data and those recorded personal histories that have come down to us, it is not entirely beyond my comprehension. Because what Ellman's numbers tell us is this: over a two year period, Stalinist repression wiped out the equivalent of every man, woman and child currently alive in the city where I live. Each one of those deaths had it's own story, was it's own tragedy, and only some of those are known to us now. Even so, with a few carefully chosen statistics, the scale of the atrocity starts to come into focus.  \n",
    "\n",
    "Thus it is no small thing to say that the first task of the statistician and the scientist is to summarise the data, to find some collection of numbers that can convey to an audience a sense of what has happened. This is the job of descriptive statistics, but it's not a job that can be told solely using the numbers. You are a data analyst, not a statistical software package. Part of your job is to take these *statistics* and turn them into a *description*. When you analyse data, it is not sufficient to list off a collection of numbers. Always remember that what you're really trying to do is communicate with a human audience. The numbers are important, but they need to be put together into a meaningful story that your audience can interpret. That means you need to think about framing. You need to think about context. And you need to think about the individual events that your statistics are summarising. "
   ]
  },
  {
   "cell_type": "code",
   "execution_count": null,
   "metadata": {},
   "outputs": [],
   "source": []
  }
 ],
 "metadata": {
  "celltoolbar": "Tags",
  "kernelspec": {
   "display_name": "Python 3",
   "language": "python",
   "name": "python3"
  },
  "language_info": {
   "codemirror_mode": {
    "name": "ipython",
    "version": 3
   },
   "file_extension": ".py",
   "mimetype": "text/x-python",
   "name": "python",
   "nbconvert_exporter": "python",
   "pygments_lexer": "ipython3",
   "version": "3.9.2"
  }
 },
 "nbformat": 4,
 "nbformat_minor": 4
}
