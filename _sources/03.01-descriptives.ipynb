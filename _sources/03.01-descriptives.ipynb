{
 "cells": [
  {
   "cell_type": "markdown",
   "metadata": {},
   "source": [
    "(descriptives)=\n",
    "# Descriptive statistics\n",
    "\n",
    "Any time that you get a new data set to look at, one of the first tasks that you have to do is find ways of summarising the data in a compact, easily understood fashion. This is what **_descriptive statistics_** (as opposed to inferential statistics) is all about. In fact, to many people the term \"statistics\" is synonymous with descriptive statistics. It is this topic that we'll consider in this chapter, but before going into any details, let's take a moment to get a sense of why we need descriptive statistics. To do this, let's load the `afl_finalists.csv` and `afl_margins.csv` files. Don't worry about the Python code for now; we'll get back to that. For now, we'll focus on the data."
   ]
  },
  {
   "cell_type": "code",
   "execution_count": 27,
   "metadata": {},
   "outputs": [],
   "source": [
    "import os\n",
    "import pandas as pd\n",
    "from pathlib import Path\n",
    "\n",
    "cwd = os.getcwd()\n",
    "os.chdir(str(Path(cwd).parents[0]) + '/Data')\n",
    "\n",
    "afl_finalists = pd.read_csv('afl_finalists.csv')\n",
    "afl_margins = pd.read_csv('afl_margins.csv')"
   ]
  },
  {
   "cell_type": "markdown",
   "metadata": {},
   "source": [
    "There are two variables here, `afl_finalists` and `afl_margins`. We'll focus a bit on these two variables in this chapter, so I'd better tell you what they are. Unlike most of data sets in this book, these are actually real data, relating to the Australian Football League (AFL) [^note1] The `afl_margins` variable contains the winning margin (number of points) for all 176 home and away games played during the 2010 season. The `afl_finalists` variable contains the names of all 400 teams that played in all 200 finals matches played during the period 1987 to 2010.  Let's have a look at the `afl_margins` variable:\n",
    "\n",
    "[^note1]: Note for non-Australians: the AFL is an Australian rules football competition. You don't need to know anything about Australian rules in order to follow this section."
   ]
  },
  {
   "cell_type": "code",
   "execution_count": 22,
   "metadata": {},
   "outputs": [
    {
     "name": "stdout",
     "output_type": "stream",
     "text": [
      "     afl.margins\n",
      "0             56\n",
      "1             31\n",
      "2             56\n",
      "3              8\n",
      "4             32\n",
      "..           ...\n",
      "171           28\n",
      "172           38\n",
      "173           29\n",
      "174           10\n",
      "175           10\n",
      "\n",
      "[176 rows x 1 columns]\n"
     ]
    }
   ],
   "source": [
    "print(afl_margins)"
   ]
  },
  {
   "cell_type": "markdown",
   "metadata": {},
   "source": [
    "\n",
    "This output doesn't make it easy to get a sense of what the data are actually saying. Just \"looking at the data\" isn't a terribly effective way of understanding data. In order to get some idea about what's going on, we need to calculate some descriptive statistics (this chapter) and draw some nice pictures (next chapter). Since the descriptive statistics are the easier of the two topics, I'll start with those, but nevertheless I'll show you a histogram of the `afl_margins` data, since it should help you get a sense of what the data we're trying to describe actually look like. But for what it's worth, this histogram was generated using the `histplot()` function from the `seaborn` package. We'll talk a lot more about how to draw histograms in [](DrawingGraphs). For now, it's enough to look at the histogram and note that it provides a fairly interpretable representation of the `afl_margins` data."
   ]
  },
  {
   "cell_type": "code",
   "execution_count": 23,
   "metadata": {
    "tags": [
     "hide-output"
    ]
   },
   "outputs": [
    {
     "data": {
      "application/papermill.record/text/plain": "<AxesSubplot:xlabel='Winning Margin', ylabel='Frequency'>"
     },
     "metadata": {
      "scrapbook": {
       "mime_prefix": "application/papermill.record/",
       "name": "afl_fig"
      }
     },
     "output_type": "display_data"
    },
    {
     "data": {
      "image/png": "[encoded data removed]",
      "text/plain": [
       "<Figure size 432x288 with 1 Axes>"
      ]
     },
     "metadata": {
      "needs_background": "light"
     },
     "output_type": "display_data"
    }
   ],
   "source": [
    "from myst_nb import glue\n",
    "import seaborn as sns\n",
    "\n",
    "ax = sns.histplot(afl_margins)\n",
    "\n",
    "ax.set(xlabel =\"Winning Margin\", \n",
    "                ylabel = \"Frequency\")\n",
    "\n",
    "glue(\"afl_fig\", ax, display=False)"
   ]
  },
  {
   "cell_type": "markdown",
   "metadata": {},
   "source": [
    "```{glue:figure} afl_fig\n",
    ":figwidth: 600px\n",
    ":name: fig-AFL-Margins\n",
    "\n",
    "A histogram of the AFL 2010 winning margin data (the `afl_margins` variable). As you might expect, the larger the margin the less frequently you tend to see it.\n",
    "```\n"
   ]
  },
  {
   "cell_type": "markdown",
   "metadata": {},
   "source": [
    "## Measures of central tendency\n",
    "\n",
    "Drawing pictures of the data, as I did in {numref}`fig-AFL-Margins` is an excellent way to convey the \"gist\" of what the data is trying to tell you, it's often extremely useful to try to condense the data into a few simple \"summary\" statistics. In most situations, the first thing that you'll want to calculate is a measure of **_central tendency_**. That is, you'd like to know something about the \"average\" or \"middle\" of your data lies. The two most commonly used measures are the mean, median and mode; occasionally people will also report a trimmed mean. I'll explain each of these in turn, and then discuss when each of them is useful.\n",
    "\n",
    "### The mean\n",
    "\n",
    "The **_mean_** of a set of observations is just a normal, old-fashioned average: add all of the values up, and then divide by the total number of values. The first five AFL margins were 56, 31, 56, 8 and 32, so the mean of these observations is just:\n",
    "\n",
    "\n",
    "$\\frac{56 + 31 + 56 + 8 + 32}{5} = \\frac{183}{5} = 36.60$\n",
    "\n",
    "\n",
    "Of course, this definition of the mean isn't news to anyone: averages (i.e., means) are used so often in everyday life that this is pretty familiar stuff. However, since the concept of a mean is something that everyone already understands, I'll use this as an excuse to start introducing some of the mathematical notation that statisticians use to describe this calculation, and talk about how the calculations would be done in R. \n",
    "\n",
    "The first piece of notation to introduce is $N$, which we'll use to refer to the number of observations that we're averaging (in this case $N = 5$). Next, we need to attach a label to the observations themselves. It's traditional to use $X$ for this, and to use subscripts to indicate which observation we're actually talking about. That is, we'll use $X_1$ to refer to the first observation, $X_2$ to refer to the second observation, and so on, all the way up to $X_N$ for the last one. Or, to say the same thing in a slightly more abstract way, we use $X_i$ to refer to the $i$-th observation. Just to make sure we're clear on the notation, the following table lists the 5 observations in the `afl_margins` variable, along with the mathematical symbol used to refer to it, and the actual value that the observation corresponds to:\n",
    "\n",
    "|the observation        |its symbol |the observed value |\n",
    "|:----------------------|:----------|:------------------|\n",
    "|winning margin, game 1 |$X_1$      |56 points          |\n",
    "|winning margin, game 2 |$X_2$      |31 points          |\n",
    "|winning margin, game 3 |$X_3$      |56 points          |\n",
    "|winning margin, game 4 |$X_4$      |8 points           |\n",
    "|winning margin, game 5 |$X_5$      |32 points          |"
   ]
  },
  {
   "cell_type": "markdown",
   "metadata": {},
   "source": [
    "Okay, now let's try to write a formula for the mean. By tradition, we use $\\bar{X}$ as the notation for the mean. So the calculation for the mean could be expressed using the following formula:  \n",
    "\n",
    "$\\bar{X} = \\frac{X_1 + X_2 + ... + X_{N-1} + X_N}{N}$\n",
    "\n",
    "This formula is entirely correct, but it's terribly long, so we make use of the **_summation symbol_** $\\scriptstyle\\sum$ to shorten it.[^note2] If I want to add up the first five observations, I could write out the sum the long way, $X_1 + X_2 + X_3 + X_4 +X_5$ or I could use the summation symbol to shorten it to this:  \n",
    "\n",
    "\n",
    "$\\sum_{i=1}^5 X_i$\n",
    "\n",
    "\n",
    "Taken literally, this could be read as \"the sum, taken over all $i$ values from 1 to 5, of the value $X_i$\". But basically, what it means is \"add up the first five observations\". In any case, we can use this notation to write out the formula for the mean, which looks like this:  \n",
    "\n",
    "\n",
    "$\\bar{X} = \\frac{1}{N} \\sum_{i=1}^N X_i$\n",
    "\n",
    "\n",
    "In all honesty, I can't imagine that all this mathematical notation helps clarify the concept of the mean at all. In fact, it's really just a fancy way of writing out the same thing I said in words: add all the values up, and then divide by the total number of items. However, that's not really the reason I went into all that detail. My goal was to try to make sure that everyone reading this book is clear on the notation that we'll be using throughout the book: $\\bar{X}$ for the mean, $\\scriptstyle\\sum$ for the idea of summation, $X_i$ for the $i$th observation, and $N$ for the total number of observations. We're going to be re-using these symbols a fair bit, so it's important that you understand them well enough to be able to \"read\" the equations, and to be able to see that it's just saying \"add up lots of things and then divide by another thing\".\n",
    "\n",
    "### Calculating the mean in Python\n",
    "\n",
    "Okay that's the maths, how do we get the magic computing box to do the work for us? If you really wanted to, you could do this calculation directly in Python. For the first 5 AFL scores, do this just by typing it in as if Python were a calculator...\n",
    "\n",
    "[^note2]: The choice to use $\\Sigma$ to denote summation isn't arbitrary: it's the Greek upper case letter sigma, which is the analogue of the letter S in that alphabet. Similarly, there's an equivalent symbol used to denote the multiplication of lots of numbers: because multiplications are also called \"products\", we use the $\\Pi$ symbol for this; the Greek upper case pi, which is the analogue of the letter P."
   ]
  },
  {
   "cell_type": "code",
   "execution_count": 24,
   "metadata": {},
   "outputs": [
    {
     "data": {
      "text/plain": [
       "36.6"
      ]
     },
     "execution_count": 24,
     "metadata": {},
     "output_type": "execute_result"
    }
   ],
   "source": [
    "\n",
    "(56 + 31 + 56 + 8 + 32) / 5\n"
   ]
  },
  {
   "cell_type": "markdown",
   "metadata": {},
   "source": [
    "... in which case Python outputs the answer 36.6, just as if it were a calculator. However, that's not the only way to do the calculations, and when the number of observations starts to become large, it's easily the most tedious. Besides, in almost every real world scenario, you've already got the actual numbers stored in a variable of some kind, just like we have with the `afl_margins` variable. Under those circumstances, what you want is a function that will just add up all the values stored in a numeric vector. That's what the `sum()` function does. If we want to add up all 176 winning margins in the data set, we can do so using the following command:"
   ]
  },
  {
   "cell_type": "code",
   "execution_count": 28,
   "metadata": {},
   "outputs": [
    {
     "data": {
      "text/plain": [
       "6213"
      ]
     },
     "execution_count": 28,
     "metadata": {},
     "output_type": "execute_result"
    }
   ],
   "source": [
    "margins = afl_margins['afl.margins']\n",
    "\n",
    "margins.sum()"
   ]
  },
  {
   "cell_type": "markdown",
   "metadata": {},
   "source": [
    "If we only want the sum of the first five observations, then we can use square brackets to pull out only the first five elements of the vector. So the command would now be:"
   ]
  },
  {
   "cell_type": "code",
   "execution_count": 30,
   "metadata": {},
   "outputs": [
    {
     "data": {
      "text/plain": [
       "0    56\n",
       "1    31\n",
       "2    56\n",
       "3     8\n",
       "4    32\n",
       "Name: afl.margins, dtype: int64"
      ]
     },
     "execution_count": 30,
     "metadata": {},
     "output_type": "execute_result"
    }
   ],
   "source": [
    "\n",
    "margins[0:5]\n",
    "\n",
    "#Dataframe.loc[[\"row1\", \"row2\"...], [\"column1\", \"column2\", \"column3\"...]]"
   ]
  },
  {
   "cell_type": "markdown",
   "metadata": {},
   "source": [
    "Observant readers will have noticed that to get the first 5 elements we need to ask for elements 0 through 5, which seems to make no sense whatsoever. Python can be weird like that. I am **not** going to get into this now, but we'll get back to it in [](getting-started-with-python). To calculate the mean, we now tell Python to divide the output of this summation by five, so the command that we need to type now becomes the following:"
   ]
  },
  {
   "cell_type": "code",
   "execution_count": 25,
   "metadata": {},
   "outputs": [
    {
     "data": {
      "text/plain": [
       "36.6"
      ]
     },
     "execution_count": 25,
     "metadata": {},
     "output_type": "execute_result"
    }
   ],
   "source": [
    "margins[0:5].sum()/5\n",
    "\n"
   ]
  },
  {
   "cell_type": "markdown",
   "metadata": {},
   "source": [
    "Although it's pretty easy to calculate the mean using the `sum()` function, we can do it in an even easier way, since Python also provides us with the `mean()` function. To calculate the mean for all 176 games, we would use the \n",
    "following command:"
   ]
  },
  {
   "cell_type": "code",
   "execution_count": 26,
   "metadata": {},
   "outputs": [
    {
     "data": {
      "text/plain": [
       "35.30113636363637"
      ]
     },
     "execution_count": 26,
     "metadata": {},
     "output_type": "execute_result"
    }
   ],
   "source": [
    "import statistics\n",
    "statistics.mean(margins)\n"
   ]
  },
  {
   "cell_type": "markdown",
   "metadata": {},
   "source": [
    "Here's what we would do to calculate the mean for only the first five observations:"
   ]
  },
  {
   "cell_type": "code",
   "execution_count": 27,
   "metadata": {},
   "outputs": [
    {
     "data": {
      "text/plain": [
       "36.6"
      ]
     },
     "execution_count": 27,
     "metadata": {},
     "output_type": "execute_result"
    }
   ],
   "source": [
    "statistics.mean(margins[0:5])"
   ]
  },
  {
   "cell_type": "markdown",
   "metadata": {},
   "source": [
    "As you can see, this gives exactly the same answers as the previous calculations. \n",
    "\n",
    "\n",
    "\n",
    "### The median\n",
    "\n",
    "The second measure of central tendency that people use a lot is the **_median_**, and it's even easier to describe than the mean. The median of a set of observations is just the middle value. As before let's imagine we were interested only in the first 5 AFL winning margins: 56, 31, 56, 8 and 32. To figure out the median, we sort these numbers into ascending order:  \n",
    "\n",
    "$$\n",
    "8, 31, \\mathbf{32}, 56, 56\n",
    "$$\n",
    "From inspection, it's obvious that the median value of these 5 observations is 32, since that's the middle one in the sorted list (I've put it in bold to make it even more obvious). Easy stuff. But what should we do if we were interested in the first 6 games rather than the first 5? Since the sixth game in the season had a winning margin of 14 points, our sorted list is now \n",
    "\n",
    "$$\n",
    "8, 14, \\mathbf{31}, \\mathbf{32}, 56, 56\n",
    "$$\n",
    "and there are *two* middle numbers, 31 and 32. The median is defined as the average of those two numbers, which is of course 31.5. As before, it's very tedious to do this by hand when you've got lots of numbers. To illustrate this, here's what happens when you use Python to sort all 176 winning margins. First, I'll use the `sort_values` method to display the winning margins in increasing numerical order. [^note3]\n",
    "\n",
    "[^note3]: `sort_values`is a *method* that belong to `pandas` *objects*. We'll get back to this later in [](getting-started-with-python). For now, the important thing is that it works!"
   ]
  },
  {
   "cell_type": "code",
   "execution_count": 40,
   "metadata": {},
   "outputs": [
    {
     "data": {
      "text/html": [
       "<div>\n",
       "<style scoped>\n",
       "    .dataframe tbody tr th:only-of-type {\n",
       "        vertical-align: middle;\n",
       "    }\n",
       "\n",
       "    .dataframe tbody tr th {\n",
       "        vertical-align: top;\n",
       "    }\n",
       "\n",
       "    .dataframe thead th {\n",
       "        text-align: right;\n",
       "    }\n",
       "</style>\n",
       "<table border=\"1\" class=\"dataframe\">\n",
       "  <thead>\n",
       "    <tr style=\"text-align: right;\">\n",
       "      <th></th>\n",
       "      <th>afl.margins</th>\n",
       "    </tr>\n",
       "  </thead>\n",
       "  <tbody>\n",
       "    <tr>\n",
       "      <th>165</th>\n",
       "      <td>29</td>\n",
       "    </tr>\n",
       "    <tr>\n",
       "      <th>173</th>\n",
       "      <td>29</td>\n",
       "    </tr>\n",
       "    <tr>\n",
       "      <th>150</th>\n",
       "      <td>29</td>\n",
       "    </tr>\n",
       "    <tr>\n",
       "      <th>117</th>\n",
       "      <td>30</td>\n",
       "    </tr>\n",
       "    <tr>\n",
       "      <th>1</th>\n",
       "      <td>31</td>\n",
       "    </tr>\n",
       "    <tr>\n",
       "      <th>4</th>\n",
       "      <td>32</td>\n",
       "    </tr>\n",
       "    <tr>\n",
       "      <th>123</th>\n",
       "      <td>32</td>\n",
       "    </tr>\n",
       "    <tr>\n",
       "      <th>136</th>\n",
       "      <td>33</td>\n",
       "    </tr>\n",
       "  </tbody>\n",
       "</table>\n",
       "</div>"
      ],
      "text/plain": [
       "     afl.margins\n",
       "165           29\n",
       "173           29\n",
       "150           29\n",
       "117           30\n",
       "1             31\n",
       "4             32\n",
       "123           32\n",
       "136           33"
      ]
     },
     "execution_count": 40,
     "metadata": {},
     "output_type": "execute_result"
    }
   ],
   "source": [
    "\n",
    "sorted_margins = afl_margins.sort_values(by = 'afl.margins')\n",
    "sorted_margins[84:92]\n"
   ]
  },
  {
   "cell_type": "markdown",
   "metadata": {},
   "source": [
    "If we peek at the middle of these sorted values, we can see that the middle values are 30 and 31, so the median winning margin for 2010 was 30.5 points. In real life, of course, no-one actually calculates the median by sorting the data and then looking for the middle value. In real life, we use the median command:"
   ]
  },
  {
   "cell_type": "code",
   "execution_count": 41,
   "metadata": {},
   "outputs": [
    {
     "data": {
      "text/plain": [
       "30.5"
      ]
     },
     "execution_count": 41,
     "metadata": {},
     "output_type": "execute_result"
    }
   ],
   "source": [
    "import statistics\n",
    "statistics.median(margins)"
   ]
  },
  {
   "cell_type": "markdown",
   "metadata": {},
   "source": [
    "which outputs the median value of 30.5. \n",
    "\n",
    "By the way, in the code above, I imported the `statistics` package. Actually, I didn't really need to do that, because I had already done it earlier, when we used it to calculate the mean. Once a package is imported, Python will remember it, at least until your Python session is finished. But to make it easy to copy/paste code out of this book, I am going to try to remember to add the import commands every time (unless I forget, or it just seems unnecessary), but you won't need to do this when you are writing your own code, and in fact it will just make your code messier if you do.\n",
    "\n",
    "\n",
    "### Mean or median? What's the difference?"
   ]
  },
  {
   "cell_type": "markdown",
   "metadata": {},
   "source": [
    "\n",
    "```{figure} ../img/descriptives2/meanmedian.png\n",
    ":name: fig-meanmedian\n",
    ":width: 600px\n",
    ":align: center\n",
    "\n",
    "An illustration of the difference between how the mean and the median should be interpreted. The mean is basically the “centre of gravity” of the data set: if you imagine that the histogram of the data is a solid object, then the point on which you could balance it (as if on a see-saw) is the mean. In contrast, the median is the middle observation. Half of the observations are smaller, and half of the observations are larger.\n",
    "```"
   ]
  },
  {
   "cell_type": "markdown",
   "metadata": {},
   "source": [
    "Knowing how to calculate means and medians is only a part of the story. You also need to understand what each one is saying about the data, and what that implies for when you should use each one. This is illustrated in {ref}the figure above <fig-meanmedian>. The mean is kind of like the \"centre of gravity\" of the data set, whereas the median is the \"middle value\" in the data. What this implies, as far as which one you should use, depends a little on what type of data you've got and what you're trying to achieve. As a rough guide:\n",
    " \n",
    "- If your data are nominal scale, you probably shouldn't be using either the mean or the median. Both the mean and the median rely on the idea that the numbers assigned to values are meaningful. If the numbering scheme is arbitrary, then it's probably best to use the [](mode) instead. \n",
    "- If your data are ordinal scale, you're more likely to want to use the median than the mean. The median only makes use of the order information in your data (i.e., which numbers are bigger), but doesn't depend on the precise numbers involved. That's exactly the situation that applies when your data are ordinal scale. The mean, on the other hand, makes use of the precise numeric values assigned to the observations, so it's not really appropriate for ordinal data.\n",
    "- For interval and ratio scale data, either one is generally acceptable. Which one you pick depends a bit on what you're trying to achieve. The mean has the advantage that it uses all the information in the data (which is useful when you don't have a lot of data), but it's very sensitive to extreme values, as we'll see in [](trimmed_mean).  "
   ]
  },
  {
   "cell_type": "markdown",
   "metadata": {},
   "source": [
    "Let's expand on that last part a little. One consequence is that there's systematic differences between the mean and the median when the histogram is asymmetric (skewed; see [](skew-and-kurtosis)). This is illustrated in {ref}the figure above <fig-meanmedian>. Notice that the median (right hand side) is located closer to the \"body\" of the histogram, whereas the mean (left hand side) gets dragged towards the \"tail\" (where the extreme values are). To give a concrete example, suppose Bob (income \\$50,000), Kate (income \\$60,000) and Jane (income \\$65,000) are sitting at a table: the average income at the table is \\$58,333 and the median income is \\$60,000. Then Bill sits down with them (income \\$100,000,000). The average income has now jumped to \\$25,043,750 but the median rises only to \\$62,500. If you're interested in looking at the overall income at the table, the mean might be the right answer; but if you're interested in what counts as a typical income at the table, the median would be a better choice here."
   ]
  },
  {
   "cell_type": "markdown",
   "metadata": {},
   "source": [
    "### A real life example\n",
    "\n",
    "To try to get a sense of why you need to pay attention to the differences between the mean and the median, let's consider a real life example. Since I tend to mock journalists for their poor scientific and statistical knowledge, I should give credit where credit is due. This is from an excellent article on the ABC news website [^note4] 24 September, 2010:\n",
    "\n",
    ">Senior Commonwealth Bank executives have travelled the world in the past couple of weeks with a presentation showing how Australian house prices, and the key price to income ratios, compare favourably with similar countries. \"Housing affordability has actually been going sideways for the last five to six years,\" said Craig James, the chief economist of the bank's trading arm, CommSec.\n",
    "\n",
    "This probably comes as a huge surprise to anyone with a mortgage, or who wants a mortgage, or pays rent, or isn't completely oblivious to what's been going on in the Australian housing market over the last several years. Back to the article:\n",
    "\n",
    ">CBA has waged its war against what it believes are housing doomsayers with graphs, numbers and international comparisons. In its presentation, the bank rejects arguments that Australia's housing is relatively expensive compared to incomes. It says Australia's house price to household income ratio of 5.6 in the major cities, and 4.3 nationwide, is comparable to many other developed nations. It says San Francisco and New York have ratios of 7, Auckland's is 6.7, and Vancouver comes in at 9.3.\n",
    "\n",
    "More excellent news! Except, the article goes on to make the observation that...\n",
    "\n",
    ">Many analysts say that has led the bank to use misleading figures and comparisons. If you go to page four of CBA's presentation and read the source information at the bottom of the graph and table, you would notice there is an additional source on the international comparison -- Demographia. However, if the Commonwealth Bank had also used Demographia's analysis of Australia's house price to income ratio, it would have come up with a figure closer to 9 rather than 5.6 or 4.3\n",
    "\n",
    "That's, um, a rather serious discrepancy. One group of people say 9, another says 4-5. Should we just split the difference, and say the truth lies somewhere in between? Absolutely not: this is a situation where there is a right answer and a wrong answer. Demographia are correct, and the Commonwealth Bank is incorrect. As the article points out\n",
    "\n",
    ">[An] obvious problem with the Commonwealth Bank's domestic price to income figures is they compare average incomes with median house prices (unlike the Demographia figures that compare median incomes to median prices). The median is the mid-point, effectively cutting out the highs and lows, and that means the average is generally higher when it comes to incomes and asset prices, because it includes the earnings of Australia's wealthiest people. To put it another way: the Commonwealth Bank's figures count Ralph Norris' multi-million dollar pay packet on the income side, but not his (no doubt) very expensive house in the property price figures, thus understating the house price to income ratio for middle-income Australians.\n",
    "\n",
    "Couldn't have put it better myself. The way that Demographia calculated the ratio is the right thing to do. The way that the Bank did it is incorrect. As for why an extremely quantitatively sophisticated organisation such as a major bank made such an elementary mistake, well... I can't say for sure, since I have no special insight into their thinking, but the article itself does happen to mention the following facts, which may or may not be relevant:\n",
    "\n",
    ">[As] Australia's largest home lender, the Commonwealth Bank has one of the biggest vested interests in house prices rising. It effectively owns a massive swathe of Australian housing as security for its home loans as well as many small business loans.\n",
    "\n",
    "My, my. "
   ]
  },
  {
   "cell_type": "markdown",
   "metadata": {},
   "source": [
    "(trimmed_mean)=\n",
    "### Trimmed mean \n",
    "\n",
    "One of the fundamental rules of applied statistics is that the data are messy. Real life is never simple, and so the data sets that you obtain are never as straightforward as the statistical theory says. [^note5] This can have awkward consequences. To illustrate, consider this rather strange looking data set: \n",
    "\n",
    "$$\n",
    "-100,2,3,4,5,6,7,8,9,10\n",
    "$$\n",
    "If you were to observe this in a real life data set, you'd probably suspect that something funny was going on with the $-100$ value. It's probably an **_outlier_**, a value that doesn't really belong with the others. You might consider removing it from the data set entirely, and in this particular case I'd probably agree with that course of action. In real life, however, you don't always get such cut-and-dried examples. For instance, you might get this instead: \n",
    "\n",
    "$$\n",
    "-15,2,3,4,5,6,7,8,9,12\n",
    "$$\n",
    "The $-15$ looks a bit suspicious, but not anywhere near as much as that $-100$ did. In this case, it's a little trickier. It *might* be a legitimate observation, it might not.\n",
    "\n",
    "When faced with a situation where some of the most extreme-valued observations might not be quite trustworthy, the mean is not necessarily a good measure of central tendency. It is highly sensitive to one or two extreme values, and is thus not considered to be a **_robust_** measure. One remedy that we've seen is to use the median. A more general solution is to use a \"trimmed mean\".  To calculate a trimmed mean, what you do is \"discard\" the most extreme examples on both ends (i.e., the largest and the smallest), and then take the mean of everything else. The goal is to preserve the best characteristics of the mean and the median: just like a median, you aren't highly influenced by extreme outliers, but like the mean, you \"use\" more than one of the observations. Generally, we describe a trimmed mean in terms of the percentage of observation on either side that are discarded. So, for instance, a 10% trimmed mean discards the largest 10% of the observations *and* the smallest 10% of the observations, and then takes the mean of the remaining 80% of the observations. Not surprisingly, the 0% trimmed mean is just the regular mean, and the 50% trimmed mean is the median. In that sense, trimmed means provide a whole family of central tendency measures that span the range from the mean to the median.\n",
    "\n",
    "\n",
    "For our toy example above, we have 10 observations, and so a 10% trimmed mean is calculated by ignoring the largest value (i.e., `12`) and the smallest value (i.e., `-15`) and taking the mean of the remaining values. First, let's enter the data\n",
    "\n",
    "[^note4]: www.abc.net.au/news/stories/2010/09/24/3021480.htm\n",
    "\n",
    "[^note5]: Or at least, the basic statistical theory -- these days there is a whole subfield of statistics called *robust statistics* that tries to grapple with the messiness of real data and develop theory that can cope with it."
   ]
  },
  {
   "cell_type": "code",
   "execution_count": 42,
   "metadata": {},
   "outputs": [],
   "source": [
    "\n",
    "dataset = [-15,2,3,4,5,6,7,8,9,12]\n",
    "\n"
   ]
  },
  {
   "cell_type": "markdown",
   "metadata": {},
   "source": [
    "Next, let's calculate means and medians:"
   ]
  },
  {
   "cell_type": "code",
   "execution_count": 43,
   "metadata": {},
   "outputs": [
    {
     "data": {
      "text/plain": [
       "4.1"
      ]
     },
     "execution_count": 43,
     "metadata": {},
     "output_type": "execute_result"
    }
   ],
   "source": [
    "import statistics\n",
    "statistics.mean(dataset)"
   ]
  },
  {
   "cell_type": "code",
   "execution_count": 44,
   "metadata": {},
   "outputs": [
    {
     "data": {
      "text/plain": [
       "5.5"
      ]
     },
     "execution_count": 44,
     "metadata": {},
     "output_type": "execute_result"
    }
   ],
   "source": [
    "statistics.median(dataset)\n"
   ]
  },
  {
   "cell_type": "markdown",
   "metadata": {},
   "source": [
    "That's a fairly substantial difference, but I'm tempted to think that the mean is being influenced a bit too much by the extreme values at either end of the data set, especially the $-15$ one. So let's just try trimming the mean a bit. If I take a 10% trimmed mean [^note6], we'll drop the extreme values on either side, and take the mean of the rest: \n",
    "\n",
    "[^note6]: Here I use the `stats` function from the `scipy` module. But `stats` is picky, it only wants to deal with data in a certain format called `numpy arrays`. So, to give it what it wants, we also need to import `numpy`, and then convert our data into an `array`. Also I only imported part of the `scipy` module (you can do that) and renamed the `numpy` module. You can do that too, but this footnote is already getting much too long. We'll get back to these things and much more in [](getting-started-with-python)."
   ]
  },
  {
   "cell_type": "code",
   "execution_count": 45,
   "metadata": {},
   "outputs": [
    {
     "data": {
      "text/plain": [
       "5.5"
      ]
     },
     "execution_count": 45,
     "metadata": {},
     "output_type": "execute_result"
    }
   ],
   "source": [
    "import numpy as np\n",
    "from scipy import stats\n",
    "dataset2 = np.array(dataset)\n",
    "\n",
    "stats.trim_mean(dataset2, 0.1)\n"
   ]
  },
  {
   "cell_type": "markdown",
   "metadata": {},
   "source": [
    "which in this case gives exactly the same answer as the median. Note that, to get a 10% trimmed mean you write `trim = .1`, not `trim = 10`. In any case, let's finish up by calculating the 5% trimmed mean for the `afl_margins` data, "
   ]
  },
  {
   "cell_type": "code",
   "execution_count": 46,
   "metadata": {},
   "outputs": [
    {
     "data": {
      "text/plain": [
       "33.75"
      ]
     },
     "execution_count": 46,
     "metadata": {},
     "output_type": "execute_result"
    }
   ],
   "source": [
    "dataset3 = np.array(margins)\n",
    "stats.trim_mean(dataset3, 0.05)"
   ]
  },
  {
   "cell_type": "markdown",
   "metadata": {},
   "source": [
    "(mode)=  \n",
    "### Mode\n",
    "\n",
    "The mode of a sample is very simple: it is the value that occurs most frequently. To illustrate the mode using the AFL data, let's examine a different aspect to the data set. Who has played in the most finals? The `afl_finalists` data contains the name of every team that played in any AFL final from 1987-2010, so let's have a look at it. To do this we will use the `.head()` method. `.head()` is a method that can be used when the data is contained in a `pandas` `dataframe` object (which ours is). It can be useful when you're working with data with a lot of rows, since you can use it to tell you how many rows to return. There have been a lot of finals in this period so printing afl finalists using `print(afl_finalists)` will just fill us the screen. The command below tells Python we just want the first 25 rows of the dataframe."
   ]
  },
  {
   "cell_type": "code",
   "execution_count": 47,
   "metadata": {},
   "outputs": [
    {
     "data": {
      "text/html": [
       "<div>\n",
       "<style scoped>\n",
       "    .dataframe tbody tr th:only-of-type {\n",
       "        vertical-align: middle;\n",
       "    }\n",
       "\n",
       "    .dataframe tbody tr th {\n",
       "        vertical-align: top;\n",
       "    }\n",
       "\n",
       "    .dataframe thead th {\n",
       "        text-align: right;\n",
       "    }\n",
       "</style>\n",
       "<table border=\"1\" class=\"dataframe\">\n",
       "  <thead>\n",
       "    <tr style=\"text-align: right;\">\n",
       "      <th></th>\n",
       "      <th>afl.finalists</th>\n",
       "    </tr>\n",
       "  </thead>\n",
       "  <tbody>\n",
       "    <tr>\n",
       "      <th>0</th>\n",
       "      <td>Hawthorn</td>\n",
       "    </tr>\n",
       "    <tr>\n",
       "      <th>1</th>\n",
       "      <td>Melbourne</td>\n",
       "    </tr>\n",
       "    <tr>\n",
       "      <th>2</th>\n",
       "      <td>Carlton</td>\n",
       "    </tr>\n",
       "    <tr>\n",
       "      <th>3</th>\n",
       "      <td>Melbourne</td>\n",
       "    </tr>\n",
       "    <tr>\n",
       "      <th>4</th>\n",
       "      <td>Hawthorn</td>\n",
       "    </tr>\n",
       "    <tr>\n",
       "      <th>5</th>\n",
       "      <td>Carlton</td>\n",
       "    </tr>\n",
       "    <tr>\n",
       "      <th>6</th>\n",
       "      <td>Melbourne</td>\n",
       "    </tr>\n",
       "    <tr>\n",
       "      <th>7</th>\n",
       "      <td>Carlton</td>\n",
       "    </tr>\n",
       "    <tr>\n",
       "      <th>8</th>\n",
       "      <td>Hawthorn</td>\n",
       "    </tr>\n",
       "    <tr>\n",
       "      <th>9</th>\n",
       "      <td>Melbourne</td>\n",
       "    </tr>\n",
       "    <tr>\n",
       "      <th>10</th>\n",
       "      <td>Melbourne</td>\n",
       "    </tr>\n",
       "    <tr>\n",
       "      <th>11</th>\n",
       "      <td>Hawthorn</td>\n",
       "    </tr>\n",
       "    <tr>\n",
       "      <th>12</th>\n",
       "      <td>Melbourne</td>\n",
       "    </tr>\n",
       "    <tr>\n",
       "      <th>13</th>\n",
       "      <td>Essendon</td>\n",
       "    </tr>\n",
       "    <tr>\n",
       "      <th>14</th>\n",
       "      <td>Hawthorn</td>\n",
       "    </tr>\n",
       "    <tr>\n",
       "      <th>15</th>\n",
       "      <td>Geelong</td>\n",
       "    </tr>\n",
       "    <tr>\n",
       "      <th>16</th>\n",
       "      <td>Geelong</td>\n",
       "    </tr>\n",
       "    <tr>\n",
       "      <th>17</th>\n",
       "      <td>Hawthorn</td>\n",
       "    </tr>\n",
       "    <tr>\n",
       "      <th>18</th>\n",
       "      <td>Collingwood</td>\n",
       "    </tr>\n",
       "    <tr>\n",
       "      <th>19</th>\n",
       "      <td>Melbourne</td>\n",
       "    </tr>\n",
       "    <tr>\n",
       "      <th>20</th>\n",
       "      <td>Collingwood</td>\n",
       "    </tr>\n",
       "    <tr>\n",
       "      <th>21</th>\n",
       "      <td>West Coast</td>\n",
       "    </tr>\n",
       "    <tr>\n",
       "      <th>22</th>\n",
       "      <td>Collingwood</td>\n",
       "    </tr>\n",
       "    <tr>\n",
       "      <th>23</th>\n",
       "      <td>Essendon</td>\n",
       "    </tr>\n",
       "    <tr>\n",
       "      <th>24</th>\n",
       "      <td>Collingwood</td>\n",
       "    </tr>\n",
       "  </tbody>\n",
       "</table>\n",
       "</div>"
      ],
      "text/plain": [
       "   afl.finalists\n",
       "0       Hawthorn\n",
       "1      Melbourne\n",
       "2        Carlton\n",
       "3      Melbourne\n",
       "4       Hawthorn\n",
       "5        Carlton\n",
       "6      Melbourne\n",
       "7        Carlton\n",
       "8       Hawthorn\n",
       "9      Melbourne\n",
       "10     Melbourne\n",
       "11      Hawthorn\n",
       "12     Melbourne\n",
       "13      Essendon\n",
       "14      Hawthorn\n",
       "15       Geelong\n",
       "16       Geelong\n",
       "17      Hawthorn\n",
       "18   Collingwood\n",
       "19     Melbourne\n",
       "20   Collingwood\n",
       "21    West Coast\n",
       "22   Collingwood\n",
       "23      Essendon\n",
       "24   Collingwood"
      ]
     },
     "execution_count": 47,
     "metadata": {},
     "output_type": "execute_result"
    }
   ],
   "source": [
    "\n",
    "afl_finalists.head(n=25)\n"
   ]
  },
  {
   "cell_type": "markdown",
   "metadata": {},
   "source": [
    "There are actually 400 entries (aren't you glad we didn't print them all?). We *could* read through all 400, and count the number of occasions on which each team name appears in our list of finalists, thereby producing a **_frequency table_**. However, that would be mindless and boring: exactly the sort of task that computers are great at. So let's use the `value_counts()` method to do this task for us:"
   ]
  },
  {
   "cell_type": "code",
   "execution_count": 51,
   "metadata": {},
   "outputs": [
    {
     "data": {
      "text/plain": [
       "Geelong             39\n",
       "West Coast          38\n",
       "Essendon            32\n",
       "Melbourne           28\n",
       "Collingwood         28\n",
       "North Melbourne     28\n",
       "Hawthorn            27\n",
       "Adelaide            26\n",
       "Carlton             26\n",
       "Sydney              26\n",
       "Brisbane            25\n",
       "St Kilda            24\n",
       "Western Bulldogs    24\n",
       "Port Adelaide       17\n",
       "Richmond             6\n",
       "Fremantle            6\n",
       "Name: afl.finalists, dtype: int64"
      ]
     },
     "execution_count": 51,
     "metadata": {},
     "output_type": "execute_result"
    }
   ],
   "source": [
    "finalists = afl_finalists['afl.finalists']\n",
    "finalists.value_counts()\n"
   ]
  },
  {
   "cell_type": "markdown",
   "metadata": {},
   "source": [
    "Now that we have our frequency table, we can just look at it and see that, over the 24 years for which we have data, Geelong has played in more finals than any other team. Thus, the mode of the `finalists` data is `\"Geelong\"` If we want to extract the mode without inspecting the table, we can use the `statistics.mode` function to tell us which team has most often played in the finals."
   ]
  },
  {
   "cell_type": "code",
   "execution_count": 49,
   "metadata": {},
   "outputs": [
    {
     "data": {
      "text/plain": [
       "'Geelong'"
      ]
     },
     "execution_count": 49,
     "metadata": {},
     "output_type": "execute_result"
    }
   ],
   "source": [
    "\n",
    "statistics.mode(finalists)\n"
   ]
  },
  {
   "cell_type": "markdown",
   "metadata": {},
   "source": [
    "If we want to find the number of finals they have played in, we can e.g. first extract the frequencies with `value_counts` and then find the largest value with `max`"
   ]
  },
  {
   "cell_type": "code",
   "execution_count": 50,
   "metadata": {},
   "outputs": [
    {
     "data": {
      "text/plain": [
       "39"
      ]
     },
     "execution_count": 50,
     "metadata": {},
     "output_type": "execute_result"
    }
   ],
   "source": [
    "freq = finalists.value_counts()\n",
    "freq.max()"
   ]
  },
  {
   "cell_type": "markdown",
   "metadata": {},
   "source": [
    "Taken together, we observe that Geelong (39 finals) played in more finals than any other team during the 1987-2010 period. \n",
    "\n",
    "One last point to make with respect to the mode. While it's generally true that the mode is most often calculated when you have nominal scale data (because means and medians are useless for those sorts of variables), there are some situations in which you really do want to know the mode of an ordinal, interval or ratio scale variable. For instance, let's go back to thinking about our `afl_margins` variable. This variable is clearly ratio scale (if it's not clear to you, it may help to re-read [](scales_of_measurement)), and so in most situations the mean or the median is the measure of central tendency that you want. But consider this scenario... a friend of yours is offering a bet. They pick a football game at random, and (without knowing who is playing) you have to guess the *exact* margin. If you guess correctly, you win \\$50. If you don't, you lose \\$1. There are no consolation prizes for \"almost\" getting the right answer. You have to guess exactly the right margin. [^note7] For this bet, the mean and the median are completely useless to you. It is the mode that you should bet on. So, we calculate this modal value\n",
    "\n",
    "[^note7]: This is called a \"0-1 loss function\", meaning that you either win (1) or you lose (0), with no middle ground."
   ]
  },
  {
   "cell_type": "code",
   "execution_count": 52,
   "metadata": {},
   "outputs": [
    {
     "data": {
      "text/plain": [
       "3"
      ]
     },
     "execution_count": 52,
     "metadata": {},
     "output_type": "execute_result"
    }
   ],
   "source": [
    "statistics.mode(margins)"
   ]
  },
  {
   "cell_type": "code",
   "execution_count": 53,
   "metadata": {},
   "outputs": [
    {
     "data": {
      "text/plain": [
       "8"
      ]
     },
     "execution_count": 53,
     "metadata": {},
     "output_type": "execute_result"
    }
   ],
   "source": [
    "freq = margins.value_counts()\n",
    "freq.max()"
   ]
  },
  {
   "cell_type": "markdown",
   "metadata": {},
   "source": [
    "So the 2010 data suggest you should bet on a 3 point margin, and since this was observed in 8 of the 176 game (4.5% of games) the odds are firmly in your favour. \n",
    "\n",
    "\n",
    "\n",
    "\n",
    "\n",
    "\n",
    "## Measures of variability\n",
    "\n",
    "The statistics that we've discussed so far all relate to *central tendency*. That is, they all talk about which values are \"in the middle\" or \"popular\" in the data. However, central tendency is not the only type of summary statistic that we want to calculate. The second thing that we really want is a measure of the **_variability_** of the data. That is, how \"spread out\" are the data? How \"far\" away from the mean or median do the observed values tend to be? For now, let's assume that the data are interval or ratio scale, so we'll continue to use the `afl_margins` data.  We'll use this data to discuss several different measures of spread, each with different strengths and weaknesses. \n",
    "\n",
    "### Range\n",
    "\n",
    "The **_range_** of a variable is very simple: it's the biggest value minus the smallest value. For the AFL winning margins data, the maximum value is 116, and the minimum value is 0. We can calculate these values in Python using the `max()` and `min()` functions:\n",
    "\n",
    "\n",
    "`margins.max()`  \n",
    "`margins.min()`\n",
    "\n",
    "\n",
    "where I've omitted the output because it's not interesting.\n",
    "\n",
    "Although the range is the simplest way to quantify the notion of \"variability\", it's one of the worst. Recall from our discussion of the mean that we want our summary measure to be robust. If the data set has one or two extremely bad values in it, we'd like our statistics not to be unduly influenced by these cases. If we look once again at our toy example of a data set containing very extreme outliers... \n",
    "\n",
    "$$\n",
    "-100,2,3,4,5,6,7,8,9,10\n",
    "$$\n",
    "... it is clear that the range is not robust, since this has a range of 110, but if the outlier were removed we would have a range of only 8."
   ]
  },
  {
   "cell_type": "markdown",
   "metadata": {},
   "source": [
    "### Interquartile range\n",
    "\n",
    "The **_interquartile range_** (IQR) is like the range, but instead of calculating the difference between the biggest and smallest value, it calculates the difference between the 25th quantile and the 75th quantile. Probably you already know what a **_quantile_** is (they're more commonly called percentiles), but if not: the 10th percentile of a data set is the smallest number $x$ such that 10% of the data is less than $x$. In fact, we've already come across the idea: the median of a data set is its 50th quantile / percentile! The `numpy` module actually provides you with a way of calculating quantiles, using the (surprise, surprise) `quantile()` function. Let's use it to calculate the median AFL winning margin:"
   ]
  },
  {
   "cell_type": "code",
   "execution_count": 54,
   "metadata": {},
   "outputs": [
    {
     "data": {
      "text/plain": [
       "30.5"
      ]
     },
     "execution_count": 54,
     "metadata": {},
     "output_type": "execute_result"
    }
   ],
   "source": [
    "\n",
    "import numpy as np\n",
    "np.quantile(margins, 0.5)"
   ]
  },
  {
   "cell_type": "markdown",
   "metadata": {},
   "source": [
    "And not surprisingly, this agrees with the answer that we saw earlier with the `median()` function. Now, we can actually input lots of quantiles at once, by specifying which quantiles we want. So lets do that, and get the 25th and 75th percentile:"
   ]
  },
  {
   "cell_type": "code",
   "execution_count": 55,
   "metadata": {},
   "outputs": [
    {
     "data": {
      "text/plain": [
       "array([12.75, 50.5 ])"
      ]
     },
     "execution_count": 55,
     "metadata": {},
     "output_type": "execute_result"
    }
   ],
   "source": [
    "\n",
    "np.quantile(margins, [0.25, .75])\n"
   ]
  },
  {
   "cell_type": "markdown",
   "metadata": {},
   "source": [
    "And, by noting that $50.5 - 12.75 = 37.75$, we can see that the interquartile range for the 2010 AFL winning margins data is 37.75. Of course, that seems like too much work to do all that typing, so we can again use the `iqr.stats` function from `scipy` to give us what we want."
   ]
  },
  {
   "cell_type": "code",
   "execution_count": 56,
   "metadata": {},
   "outputs": [
    {
     "data": {
      "text/plain": [
       "37.75"
      ]
     },
     "execution_count": 56,
     "metadata": {},
     "output_type": "execute_result"
    }
   ],
   "source": [
    "\n",
    "from scipy import stats\n",
    "stats.iqr(margins)\n"
   ]
  },
  {
   "cell_type": "markdown",
   "metadata": {},
   "source": [
    "While it's obvious how to interpret the range, it's a little less obvious how to interpret the IQR. The simplest way to think about it is like this: the interquartile range is the range spanned by the \"middle half\" of the data. That is, one quarter of the data falls below the 25th percentile, one quarter of the data is above the 75th percentile, leaving the \"middle half\" of the data lying in between the two. And the IQR is the range covered by that middle half."
   ]
  },
  {
   "cell_type": "markdown",
   "metadata": {},
   "source": [
    "### Variance \n",
    "\n",
    "\n",
    "\n",
    "The two measures we've looked at so far, the range and the interquartile range, both rely on the idea that we can measure the spread of the data by looking at the quantiles of the data. However, this isn't the only way to think about the problem. A different approach is to select a meaningful reference point (usually the mean or the median) and then report the \"typical\" deviations from that reference point. What do we mean by \"typical\" deviation? Usually, the mean value of these deviations! At least, more or less. Although mean absolute deviation measure has its uses, it's not the best measure of variability to use. From a purely mathematical perspective, there are some solid reasons to prefer squared deviations rather than absolute deviations. If we do that, we obtain a measure is called the **_variance_**, which has a lot of really nice statistical properties that I'm going to ignore, [^note8] and one massive psychological flaw that I'm going to make a big deal out of in a moment. The variance of a data set $X$ is sometimes written as $\\mbox{Var}(X)$, but it's more commonly denoted $s^2$ (the reason for this will become clearer shortly). The formula that we use to calculate the variance of a set of observations is as follows:\n",
    "\n",
    "$$\n",
    "\\mbox{Var}(X) = \\frac{1}{N} \\sum_{i=1}^N \\left( X_i - \\bar{X} \\right)^2\n",
    "$$\n",
    "\n",
    "\n",
    "As you can see, it's basically the same formula that we used to calculate the mean absolute deviation, except that instead of using \"absolute deviations\" we use \"squared deviations\". It is for this reason that the variance is sometimes referred to as the \"mean square deviation\".\n",
    "\n",
    "Now that we've got the basic idea, let's have a look at a concrete example. Once again, let's use the first five AFL games as our data. If we follow the same approach that we took last time, we end up with the following table:\n",
    "\n",
    "| which game | value | deviation from mean | squared deviation |\n",
    "| :--------: | :---: | :-----------------: | :---------------: |\n",
    "|     1      |  56   |        19.4         |      376.36       |\n",
    "|     2      |  31   |        -5.6         |       31.36       |\n",
    "|     3      |  56   |        19.4         |      376.36       |\n",
    "|     4      |   8   |        -28.6        |      817.96       |\n",
    "|     5      |  32   |        -4.6         |       21.16       |\n",
    "\n",
    "The same table again, translated into Mathese, looks like this:\n",
    "\n",
    "| *i*      | $X_i$ | $X_i - \\bar{X}$     | $X_i - \\bar{X}$)$^2$                      |\n",
    "| :--------: | :---: | :-----------------: | :-----------------------------------------: \n",
    "|     1      |  56   |        19.4 &#12644;&#12644;      |      376.36 &#12644;&#12644;|\n",
    "|     2      |  31   |        -5.6 &#12644;&#12644;        |    31.36  &#12644;&#12644;|\n",
    "|     3      |  56   |        19.4 &#12644;&#12644;        |    376.36 &#12644;&#12644;|\n",
    "|     4      |   8   |        -28.6 &#12644;&#12644;       |    817.96 &#12644;&#12644;|\n",
    "|     5      |  32   |        -4.6 &#12644;&#12644;        |    21.16  &#12644;&#12644;|\n",
    "\n",
    "That last column contains all of our squared deviations, so all we have to do is average them. If we do that by typing all the numbers into Python by hand...\n",
    "\n",
    "[^note8]: Well, I will very briefly mention the one that I think is coolest, for a very particular definition of \"cool\", that is. Variances are *additive*. Here's what that means: suppose I have two variables $X$ and $Y$, whose variances are $\\mbox{Var}](X)$ and $\\mbox{Var}(Y)$ respectively. Now imagine I want to define a new variable $Z$ that is the sum of the two, $Z = X+Y$. As it turns out, the variance of $Z$ is equal to $\\mbox{Var}(X) + \\mbox{Var}(Y)$. This is a *very* useful property, but it's not true of the other measures that I talk about in this section."
   ]
  },
  {
   "cell_type": "code",
   "execution_count": 57,
   "metadata": {},
   "outputs": [
    {
     "data": {
      "text/plain": [
       "324.64"
      ]
     },
     "execution_count": 57,
     "metadata": {},
     "output_type": "execute_result"
    }
   ],
   "source": [
    "\n",
    "( 376.36 + 31.36 + 376.36 + 817.96 + 21.16 ) / 5\n"
   ]
  },
  {
   "cell_type": "markdown",
   "metadata": {},
   "source": [
    "... we end up with a variance of 324.64. Exciting, isn't it? For the moment, let's ignore the burning question that you're all probably thinking (i.e., what the heck does a variance of 324.64 actually mean?) and instead talk a bit more about how to do the calculations in R, because this will reveal something very weird.\n",
    "\n",
    "As always, we want to avoid having to type in a whole lot of numbers ourselves. \n",
    "\n",
    "\n",
    "and as usual we get the same answer as the one that we got when we did everything by hand. However, I *still* think that this is too much typing. Fortunately, the `numpy` module has a function called `var()` which does calculate variances. So we could also do this..."
   ]
  },
  {
   "cell_type": "code",
   "execution_count": 58,
   "metadata": {},
   "outputs": [
    {
     "data": {
      "text/plain": [
       "324.64"
      ]
     },
     "execution_count": 58,
     "metadata": {},
     "output_type": "execute_result"
    }
   ],
   "source": [
    "data = [56,31,56,8,32]\n",
    "np.var(data)"
   ]
  },
  {
   "cell_type": "markdown",
   "metadata": {},
   "source": [
    "and you get the same thing. Now, there is a little catch here. Python is doing what we asked, and calculating the variance of our data. However, as we'll discuss in [](estimation), there's a subtle distinction between \"describing a sample\" and \"making guesses about the population from which the sample came\". Up to this point, it's been a distinction without a difference. Regardless of whether you're describing a sample or drawing inferences about the population, the mean is calculated exactly the same way. Not so for the variance, or the standard deviation, or for many other measures besides. What I outlined to you initially (i.e., take the actual average, and thus divide by $N$) assumes that you literally intend to calculate the variance of the sample. Most of the time, however, you're not terribly interested in the sample *in and of itself*. Rather, the sample exists to tell you something about the world. If so, you're actually starting to move away from calculating a \"sample statistic\", and towards the idea of estimating a \"population parameter\". To calculate the population parameter, we need to make a small adjustment:"
   ]
  },
  {
   "cell_type": "code",
   "execution_count": 59,
   "metadata": {},
   "outputs": [
    {
     "data": {
      "text/plain": [
       "405.8"
      ]
     },
     "execution_count": 59,
     "metadata": {},
     "output_type": "execute_result"
    }
   ],
   "source": [
    "np.var(data, ddof = 1)"
   ]
  },
  {
   "cell_type": "markdown",
   "metadata": {},
   "source": [
    "This gives us a rather different value for the variance in our data. Going into the how's and whyfore's will need to wait for a later chapter, however. For now, it is enough to know that this difference exists, and to know how to get the value we want. \n",
    "\n",
    "Okay, one last thing. This section so far has read a bit like a mystery novel. I've shown you how to calculate the variance, alluded to a mysterious difference between sample statistics and population parameters, but I haven't mentioned the single most important thing... how do you *interpret* the variance? Descriptive statistics are supposed to describe things, after all, and right now the variance is really just a gibberish number. Unfortunately, the reason why I haven't given you the human-friendly interpretation of the variance is that there really isn't one. This is the most serious problem with the variance. Although it has some elegant mathematical properties that suggest that it really is a fundamental quantity for expressing variation, it's completely useless if you want to communicate with an actual human... variances are completely uninterpretable in terms of the original variable! All the numbers have been squared, and they don't mean anything anymore. This is a huge issue. For instance, according to the table I presented earlier, the margin in game 1 was \"376.36 points-squared higher than the average margin\". This is *exactly* as stupid as it sounds; and so when we calculate a variance of 324.64, we're in the same situation. I've watched a lot of footy games, and never has anyone referred to \"points squared\". It's *not* a real unit of measurement, and since the variance is expressed in terms of this gibberish unit, it is totally meaningless to a human."
   ]
  },
  {
   "cell_type": "markdown",
   "metadata": {},
   "source": [
    "(sd)=\n",
    "### Standard deviation\n",
    "\n",
    "Okay, suppose that you like the idea of using the variance because of those nice mathematical properties that I haven't talked about, but -- since you're a human and not a robot -- you'd like to have a measure that is expressed in the same units as the data itself (i.e., points, not points-squared). What should you do? The solution to the problem is obvious: take the square root of the variance, known as the **_standard deviation_**, also called the \"root mean squared deviation\", or RMSD. This solves our problem fairly neatly: while nobody has a clue what \"a variance of 324.68 points-squared\" really means, it's much easier to understand \"a standard deviation of 18.01 points\", since it's expressed in the original units. It is traditional to refer to the standard deviation of a sample of data as $s$, though \t\"sd\" and \"std dev.\" are also used at times. Because the standard deviation is equal to the square root of the variance, you probably won't be surprised to see that the formula is:\n",
    "\n",
    "$$\n",
    "s = \\sqrt{ \\frac{1}{N} \\sum_{i=1}^N \\left( X_i - \\bar{X} \\right)^2 }\n",
    "$$\n",
    "\n",
    "and the function that we use to calculate it is `stdev()`. However, as you might have guessed from our discussion of the variance, what Python actually calculates is slightly different to the formula given above. Just like the we saw with the variance, what Python calculates is a version that divides by $N-1$ rather than $N$. For reasons that will make sense when we return to this topic in the Chapter on [](estimation), I'll refer to this new quantity as $\\hat\\sigma$ (read as: \"sigma hat\"), and the formula for this is \n",
    "\n",
    "$$\n",
    "\\hat\\sigma = \\sqrt{ \\frac{1}{N-1} \\sum_{i=1}^N \\left( X_i - \\bar{X} \\right)^2 }\n",
    "$$\n",
    "\n",
    "With that in mind, calculating standard deviations in Python is simple:"
   ]
  },
  {
   "cell_type": "code",
   "execution_count": 60,
   "metadata": {},
   "outputs": [
    {
     "data": {
      "text/plain": [
       "26.073636359108274"
      ]
     },
     "execution_count": 60,
     "metadata": {},
     "output_type": "execute_result"
    }
   ],
   "source": [
    "statistics.stdev(margins)"
   ]
  },
  {
   "cell_type": "markdown",
   "metadata": {},
   "source": [
    "Interpreting standard deviations is slightly more complex. Because the standard deviation is derived from the variance, and the variance is a quantity that has little to no meaning that makes sense to us humans, the standard deviation doesn't have a simple interpretation. As a consequence, most of us just rely on a simple rule of thumb: in general, you should expect 68% of the data to fall within 1 standard deviation of the mean, 95% of the data to fall within 2 standard deviation of the mean, and 99.7% of the data to fall within 3 standard deviations of the mean. This rule tends to work pretty well most of the time, but it's not exact: it's actually calculated based on an *assumption* that the histogram is symmetric and \"bell shaped\". [^note9] As you can tell from looking at the AFL winning margins histogram in Figure \\@ref(fig:histogram1), this isn't exactly true of our data! Even so, the rule is approximately correct. As it turns out, 65.3% of the AFL margins data fall within one standard deviation of the mean. This is shown visually in {numref}`fig-aflsd`.\n",
    "\n",
    "[^note9]: Strictly, the assumption is that the data are *normally* distributed, which is an important concept that we'll discuss more in Chapter \\@ref(probability), and will turn up over and over again later in the book."
   ]
  },
  {
   "cell_type": "markdown",
   "metadata": {},
   "source": [
    "\n",
    "```{figure} ../img/descriptives2/figure_2.5_mean_SD.png\n",
    ":name: fig-aflsd\n",
    ":width: 600px\n",
    ":align: center\n",
    "\n",
    "\n",
    "An illustration of the standard deviation, applied to the AFL winning margins data. The shaded bars in the histogram show how much of the data fall within one standard deviation of the mean. In this case, 65.3% of the data set lies within this range, which is pretty consistent with the \\\"approximately 68% rule\\\" discussed in the main text.\n",
    "```"
   ]
  },
  {
   "cell_type": "markdown",
   "metadata": {},
   "source": [
    "### Median absolute deviation\n",
    "\n",
    "The last measure of variability that I want to talk about is the **_median absolute deviation_** (MAD). The basic idea behind MAD is very simple: it's just the median of the absolute deviations from the median of the data. Find the distance of each data point from the median of all the data points (ignoring the signs), and then take the median of that.\n",
    "\n",
    "This has a straightforward interpretation: every observation in the data set lies some distance away from the typical value (the median). So the MAD is an attempt to describe a *typical deviation from a typical value* in the data set. It wouldn't be unreasonable to interpret the MAD value of 19.5 for our AFL data by saying something like this:\n",
    "\n",
    ">The median winning margin in 2010 was 30.5, indicating that a typical game involved a winning margin of about 30 points. However, there was a fair amount of variation from game to game: the MAD value was 19.5, indicating that a typical winning margin would differ from this median value by about 19-20 points.\n",
    "\n",
    "As you'd expect, Python has a method for calculating MAD. It is in the `robust` object from the `statsmodels` package, and you will be shocked no doubt to hear that it's called `mad()`. However, it's a little bit more complicated than the functions that we've been using previously. If you want to use it to calculate MAD in the exact same way that I have described it above, the command that you need to use specifies two arguments: the data set itself `x`, and a `constant` that I'll explain in a moment. For our purposes, the constant is 1, so our command becomes"
   ]
  },
  {
   "cell_type": "code",
   "execution_count": 62,
   "metadata": {},
   "outputs": [
    {
     "data": {
      "text/plain": [
       "19.5"
      ]
     },
     "execution_count": 62,
     "metadata": {},
     "output_type": "execute_result"
    }
   ],
   "source": [
    "import numpy as np\n",
    "from statsmodels import robust\n",
    "\n",
    "robust.mad(margins, c=1)"
   ]
  },
  {
   "cell_type": "markdown",
   "metadata": {},
   "source": [
    "Apart from the weirdness of having to type that `c = 1` part, this is pretty straightforward.\n",
    "\n",
    "Okay, so what exactly is this `c = 1` argument? I won't go into all the details here, but here's the gist. Although the \"raw\" MAD value that I've described above is completely interpretable on its own terms, that's not actually how it's used in a lot of real world contexts. Instead, what happens a lot is that the researcher *actually* wants to calculate the standard deviation. However, in the same way that the mean is very sensitive to extreme values, the standard deviation is vulnerable to the exact same issue. So, in much the same way that people sometimes use the median as a \"robust\" way of calculating \"something that is like the mean\", it's not uncommon to use MAD as a method for calculating \"something that is like the standard deviation\". Unfortunately, the *raw* MAD value doesn't do this. Our raw MAD value is 19.5, and our standard deviation was 26.07. However, what some clever person has shown is that, under certain assumptions^[The assumption again being that the data are normally-distributed!], you can multiply the raw MAD value by 1.4826 and obtain a number that is directly comparable to the standard deviation. As a consequence, the default value of `constant` is 1.4826, and so when you use the `mad()` command without manually setting a value, here's what you get:"
   ]
  },
  {
   "cell_type": "code",
   "execution_count": 49,
   "metadata": {},
   "outputs": [
    {
     "data": {
      "text/plain": [
       "28.91074326085924"
      ]
     },
     "execution_count": 49,
     "metadata": {},
     "output_type": "execute_result"
    }
   ],
   "source": [
    "robust.mad(margins)"
   ]
  },
  {
   "cell_type": "markdown",
   "metadata": {},
   "source": [
    "I should point out, though, that if you want to use this \"corrected\" MAD value as a robust version of the standard deviation, you really are relying on the assumption that the data are (or at least, are \"supposed to be\" in some sense) symmetric and basically shaped like a bell curve. That's really *not* true for our `afl_margins` data, so in this case I wouldn't try to use the MAD value this way.\n",
    "\n",
    "\n",
    "### Which measure to use?\n",
    "\n",
    "We've discussed quite a few measures of spread (range, IQR, MAD, variance and standard deviation), and hinted at their strengths and weaknesses. Here's a quick summary:\n",
    "\n",
    "\n",
    "- *Range*. Gives you the full spread of the data. It's very vulnerable to outliers, and as a consequence it isn't often used unless you have good reasons to care about the extremes in the data.\n",
    "- *Interquartile range*. Tells you where the \"middle half\" of the data sits. It's pretty robust, and complements the median nicely. This is used a lot.\n",
    "- *Variance*. Tells you the average squared deviation from the mean. It's mathematically elegant, and is probably the \"right\" way to describe variation around the mean, but it's completely uninterpretable because it doesn't use the same units as the data. Almost never used except as a mathematical tool; but it's buried \"under the hood\" of a very large number of statistical tools.\n",
    "- *Standard deviation*. This is the square root of the variance. It's fairly elegant mathematically, and it's expressed in the same units as the data so it can be interpreted pretty well. In situations where the mean is the measure of central tendency, this is the default. This is by far the most popular measure of variation. \n",
    "- *Median absolute deviation*. The typical (i.e., median) deviation from the median value. In the raw form it's simple and interpretable; in the corrected form it's a robust way to estimate the standard deviation, for some kinds of data sets. Not used very often, but it does get reported sometimes.\n",
    "\n",
    "\n",
    "In short, the IQR and the standard deviation are easily the two most common measures used to report the variability of the data; but there are situations in which the others are used. I've described all of them in this book because there's a fair chance you'll run into most of these somewhere."
   ]
  },
  {
   "cell_type": "markdown",
   "metadata": {},
   "source": [
    "(skew-and-kurtosis)=\n",
    "## Skew and kurtosis\n",
    "\n",
    "There are two more descriptive statistics that you will sometimes see reported in the psychological literature, known as skew and kurtosis. In practice, neither one is used anywhere near as frequently as the measures of central tendency and variability that we've been talking about. Skew is pretty important, so you do see it mentioned a fair bit; but I've actually never seen kurtosis reported in a scientific article to date. "
   ]
  },
  {
   "cell_type": "code",
   "execution_count": 67,
   "metadata": {
    "tags": [
     "hide-output"
    ]
   },
   "outputs": [
    {
     "data": {
      "application/papermill.record/text/plain": "<seaborn.axisgrid.FacetGrid at 0x13b3e4190>"
     },
     "metadata": {
      "scrapbook": {
       "mime_prefix": "application/papermill.record/",
       "name": "skew_fig"
      }
     },
     "output_type": "display_data"
    },
    {
     "data": {
      "image/png": "[encoded data removed]",
      "text/plain": [
       "<Figure size 648x216 with 3 Axes>"
      ]
     },
     "metadata": {
      "needs_background": "light"
     },
     "output_type": "display_data"
    }
   ],
   "source": [
    "import pandas as pd\n",
    "import seaborn as sns\n",
    "from os import chdir as cd\n",
    "\n",
    "# load some data\n",
    "pathin = '/Users/ethan/Documents/GitHub/pythonbook/Data/'\n",
    "file = 'skewdata.csv'\n",
    "\n",
    "cd(pathin)\n",
    "\n",
    "df_skew = pd.read_csv(file)\n",
    "\n",
    "# plot histograms of the data\n",
    "ax = sns.displot(\n",
    "        data = df_skew, x = \"Values\", col=\"Skew\",\n",
    "        binwidth=.02, height=3, facet_kws=dict(margin_titles=True),\n",
    ")\n",
    "\n",
    "# This is just for the purposes of putting this figure in this book. Feel free to ignore!\n",
    "glue(\"skew_fig\", ax, display=False)"
   ]
  },
  {
   "cell_type": "markdown",
   "metadata": {},
   "source": [
    "```{glue:figure} skew_fig\n",
    ":figwidth: 600px\n",
    ":name: fig-skew\n",
    "\n",
    "An illustration of skewness. On the left we have a negatively skewed data set (skewness “  ́.93), in the middle we have a data set with no skew (technically, skewness “  ́.006), and on the right we have a positively skewed data set (skewness “ .93).\n",
    "```"
   ]
  },
  {
   "cell_type": "markdown",
   "metadata": {},
   "source": [
    "Since it's the more interesting of the two, let's start by talking about the **_skewness_**. Skewness is basically a measure of asymmetry, and the easiest way to explain it is by drawing some pictures. As {numref}`fig-skew` illustrates, if the data tend to have a lot of extreme small values (i.e., the lower tail is \"longer\" than the upper tail) and not so many extremely large values (left panel), then we say that the data are *negatively skewed*. On the other hand, if there are more extremely large values than extremely small ones (right panel) we say that the data are *positively skewed*. That's the qualitative idea behind skewness. The actual formula for the skewness of a data set is as follows\n",
    "\n",
    "$$\n",
    "\\mbox{skewness}(X) = \\frac{1}{N \\hat{\\sigma}^3} \\sum_{i=1}^N (X_i - \\bar{X})^3\n",
    "$$\n",
    "\n",
    "where $N$ is the number of observations, $\\bar{X}$ is the sample mean, and $\\hat{\\sigma}$ is the standard deviation (the \"divide by $N-1$\" version, that is). Luckily, `pandas`\n",
    "already knows how to calculate skew:"
   ]
  },
  {
   "cell_type": "code",
   "execution_count": 64,
   "metadata": {},
   "outputs": [
    {
     "data": {
      "text/plain": [
       "0.7804075289401982"
      ]
     },
     "execution_count": 64,
     "metadata": {},
     "output_type": "execute_result"
    }
   ],
   "source": [
    "margins.skew(axis = 0, skipna = True)"
   ]
  },
  {
   "cell_type": "markdown",
   "metadata": {},
   "source": [
    "Not surprisingly, it turns out that the AFL winning margins data is fairly skewed.\n",
    "\n",
    "\n",
    "The final measure that is sometimes referred to, though very rarely in practice, is the **_kurtosis_** of a data set. Put simply, kurtosis is a measure of the \"pointiness\" of a data set, as illustrated in {numref}`fig-kurtosis`."
   ]
  },
  {
   "cell_type": "code",
   "execution_count": 175,
   "metadata": {
    "tags": [
     "hide-output"
    ]
   },
   "outputs": [
    {
     "data": {
      "application/papermill.record/text/plain": "<AxesSubplot:title={'center':'Leptokurtic\\n\"too pointy\"'}, xlabel='Values', ylabel='Count'>"
     },
     "metadata": {
      "scrapbook": {
       "mime_prefix": "application/papermill.record/",
       "name": "kurtosis_fig"
      }
     },
     "output_type": "display_data"
    },
    {
     "data": {
      "image/png": "[encoded data removed]",
      "text/plain": [
       "<Figure size 1080x360 with 3 Axes>"
      ]
     },
     "metadata": {
      "needs_background": "light"
     },
     "output_type": "display_data"
    }
   ],
   "source": [
    "import numpy as np                                                              \n",
    "import seaborn as sns                                                           \n",
    "from scipy import stats                                                         \n",
    "import matplotlib.pyplot as plt\n",
    "\n",
    "# load some data\n",
    "pathin = '/Users/ethan/Documents/GitHub/pythonbook/Data/'\n",
    "file1 = 'kurtosisdata.csv'\n",
    "file2 = 'kurtosisdata_ncurve.csv'\n",
    "\n",
    "cd(pathin)\n",
    "\n",
    "df_kurtosis = pd.read_csv(file1)\n",
    "\n",
    "# define a normal distribution with a mean of 0 and a standard deviation of 1\n",
    "mu = 0\n",
    "sigma = 1\n",
    "x = np.linspace(mu - 3*sigma, mu + 3*sigma, 100)\n",
    "y = stats.norm.pdf(x, mu, sigma)\n",
    "\n",
    "platykurtic = df_kurtosis.loc[df_kurtosis[\"Kurtosis\"] == \"Platykurtic\"]\n",
    "mesokurtic = df_kurtosis.loc[df_kurtosis[\"Kurtosis\"] == \"Mesokurtic\"]\n",
    "leptokurtic = df_kurtosis.loc[df_kurtosis[\"Kurtosis\"] == \"Leptokurtic\"]\n",
    "\n",
    "\n",
    "fig, axes = plt.subplots(1, 3, figsize=(15, 5))\n",
    "\n",
    "ax1 = sns.histplot(data=platykurtic, x = \"Values\", binwidth=.5, ax=axes[0])\n",
    "ax2 = sns.histplot(data=mesokurtic, x = \"Values\", binwidth=.5,  ax=axes[1])\n",
    "ax3 = sns.histplot(data=leptokurtic, x = \"Values\", binwidth=.5, ax=axes[2])\n",
    "\n",
    "\n",
    "\n",
    "#ax1a = ax1.twinx()\n",
    "#ax2a = ax2.twinx()\n",
    "#ax3a = ax3.twinx()\n",
    "\n",
    "#ax2 = ax.twinx()\n",
    "sns.lineplot(x=x,y=y*40000, ax=ax1, color='black')\n",
    "sns.lineplot(x=x,y=y*40000, ax=ax2, color='black')\n",
    "sns.lineplot(x=x,y=y*40000, ax=ax3, color='black')\n",
    "\n",
    "#sns.lineplot(x=x,y=y, ax=ax1a, color='black')\n",
    "\n",
    "axes[0].set_title(\"Platykurtic\\n\\\"too flat\\\"\")\n",
    "axes[1].set_title(\"Mesokurtic\\n\\\"just right\\\"\")\n",
    "axes[2].set_title(\"Leptokurtic\\n\\\"too pointy\\\"\")\n",
    "\n",
    "for ax in axes:\n",
    "    ax.set_xlim(-6,6)\n",
    "    ax.set_ylim(0,25000)\n",
    "    ax.spines['right'].set_visible(False)\n",
    "    ax.spines['top'].set_visible(False);\n",
    "\n",
    "\n",
    "\n",
    "# Again just ignore. This line is just here for the sake of figure captions and links.\n",
    "glue(\"kurtosis_fig\", ax, display=False)"
   ]
  },
  {
   "cell_type": "markdown",
   "metadata": {},
   "source": [
    "```{glue:figure} kurtosis_fig\n",
    ":figwidth: 600px\n",
    ":name: fig-kurtosis\n",
    "\n",
    "An illustration of kurtosis. On the left, we have a “platykurtic” data set (kurtosis =  ́.95), meaning that the data set is “too flat”. In the middle we have a “mesokurtic” data set (kurtosis is almost exactly 0), which means that the pointiness of the data is just about right. Finally, on the right, we have a “leptokurtic” data set (kurtosis “ 2.12) indicating that the data set is “too pointy”. Note that kurtosis is measured with respect to a normal curve (black line).\n",
    "```"
   ]
  },
  {
   "cell_type": "markdown",
   "metadata": {},
   "source": [
    "By convention, we say that the \"normal curve\" (black lines) has zero kurtosis, so the pointiness of a data set is assessed relative to this curve. In this Figure, the data on the left are not pointy enough, so the kurtosis is negative and we call the data *platykurtic*. The data on the right are too pointy, so the kurtosis is positive and we say that the data is *leptokurtic*. But the data in the middle are just pointy enough, so we say that it is *mesokurtic* and has kurtosis zero. This is summarised in the table below:\n",
    "\n",
    "|informal term      |technical name |kurtosis value |\n",
    "|:------------------|:--------------|:--------------|\n",
    "|too flat           |platykurtic    |negative       |\n",
    "|just pointy enough |mesokurtic     |zero           |\n",
    "|too pointy         |leptokurtic    |positive       |\n",
    "\n",
    "\n",
    "The equation for kurtosis is pretty similar in spirit to the formulas we've seen already for the variance and the skewness; except that where the variance involved squared deviations and the skewness involved cubed deviations, the kurtosis involves raising the deviations to the fourth power:^[The \"$-3$\" part is something that statisticians tack on to ensure that the normal curve has kurtosis zero. It looks a bit stupid, just sticking a \"-3\" at the end of the formula, but there are good mathematical reasons for doing this.]\n",
    "$$\n",
    "\\mbox{kurtosis}(X) = \\frac{1}{N \\hat\\sigma^4} \\sum_{i=1}^N \\left( X_i - \\bar{X} \\right)^4  - 3\n",
    "$$\n",
    "I know, it's not terribly interesting to me either. To make things worse, there are several different formulae for calculating kurtosis, so different statistics packages may give you different results, depending on which formula they use.  For instance, if we were to do this for the AFL margins, these three different methods give three different results:"
   ]
  },
  {
   "cell_type": "code",
   "execution_count": 153,
   "metadata": {},
   "outputs": [
    {
     "name": "stdout",
     "output_type": "stream",
     "text": [
      "Pandas:  0.10109718805638757\n",
      "Fischer:  0.06434955786516161\n",
      "Pearson:  3.0643495578651616\n"
     ]
    }
   ],
   "source": [
    "print(\"Pandas: \", margins.kurtosis())\n",
    "print(\"Fischer: \",stats.kurtosis(margins, fisher=True))\n",
    "print(\"Pearson: \",stats.kurtosis(margins, fisher=False))"
   ]
  },
  {
   "cell_type": "markdown",
   "metadata": {},
   "source": [
    "Take your pick, I guess? If you want to assess the kurtosis of the data, you could probably do worse than just plotting the data and using your eyeballs."
   ]
  },
  {
   "cell_type": "markdown",
   "metadata": {},
   "source": [
    "## Getting an overall summary of a variable\n",
    "\n",
    "Up to this point in the chapter I've explained several different summary statistics that are commonly used when analysing data, along with specific functions that you can use in Python to calculate each one. However, it's kind of annoying to have to separately calculate means, medians, standard deviations, skews etc. Wouldn't it be nice if Python had some helpful functions that would do all these tedious calculations at once? Something that *describes* the data? Maybe something like `describe()`, perhaps? Why yes, yes it would. So much so that this very function exists, available as a method for `pandas` objects.\n",
    "\n",
    "\n",
    "\n",
    "### \"Describing\" a variable\n",
    "\n",
    "The `describe()` method is an easy thing to use, but a tricky thing to understand in full, since it's a generic function. The basic idea behind the `describe()` method is that it prints out some useful information about whatever object (i.e., variable, as far as we're concerned) you ask it to describe. As a consequence, the behaviour of the `describe()` function differs quite dramatically depending on the class of the object that you give it. Let's start by giving it a *numeric* object:"
   ]
  },
  {
   "cell_type": "code",
   "execution_count": 154,
   "metadata": {},
   "outputs": [
    {
     "data": {
      "text/html": [
       "<div>\n",
       "<style scoped>\n",
       "    .dataframe tbody tr th:only-of-type {\n",
       "        vertical-align: middle;\n",
       "    }\n",
       "\n",
       "    .dataframe tbody tr th {\n",
       "        vertical-align: top;\n",
       "    }\n",
       "\n",
       "    .dataframe thead th {\n",
       "        text-align: right;\n",
       "    }\n",
       "</style>\n",
       "<table border=\"1\" class=\"dataframe\">\n",
       "  <thead>\n",
       "    <tr style=\"text-align: right;\">\n",
       "      <th></th>\n",
       "      <th>afl.margins</th>\n",
       "    </tr>\n",
       "  </thead>\n",
       "  <tbody>\n",
       "    <tr>\n",
       "      <th>count</th>\n",
       "      <td>176.000000</td>\n",
       "    </tr>\n",
       "    <tr>\n",
       "      <th>mean</th>\n",
       "      <td>35.301136</td>\n",
       "    </tr>\n",
       "    <tr>\n",
       "      <th>std</th>\n",
       "      <td>26.073636</td>\n",
       "    </tr>\n",
       "    <tr>\n",
       "      <th>min</th>\n",
       "      <td>0.000000</td>\n",
       "    </tr>\n",
       "    <tr>\n",
       "      <th>25%</th>\n",
       "      <td>12.750000</td>\n",
       "    </tr>\n",
       "    <tr>\n",
       "      <th>50%</th>\n",
       "      <td>30.500000</td>\n",
       "    </tr>\n",
       "    <tr>\n",
       "      <th>75%</th>\n",
       "      <td>50.500000</td>\n",
       "    </tr>\n",
       "    <tr>\n",
       "      <th>max</th>\n",
       "      <td>116.000000</td>\n",
       "    </tr>\n",
       "  </tbody>\n",
       "</table>\n",
       "</div>"
      ],
      "text/plain": [
       "       afl.margins\n",
       "count   176.000000\n",
       "mean     35.301136\n",
       "std      26.073636\n",
       "min       0.000000\n",
       "25%      12.750000\n",
       "50%      30.500000\n",
       "75%      50.500000\n",
       "max     116.000000"
      ]
     },
     "execution_count": 154,
     "metadata": {},
     "output_type": "execute_result"
    }
   ],
   "source": [
    "afl_margins.describe()"
   ]
  },
  {
   "cell_type": "markdown",
   "metadata": {},
   "source": [
    "For numeric variables, we get a whole bunch of useful descriptive statistics. It gives us the minimum and maximum values (i.e., the range), the first and third quartiles (25th and 75th percentiles; i.e., the IQR), the mean and the median. In other words, it gives us a pretty good collection of descriptive statistics related to the central tendency and the spread of the data.\n",
    "\n",
    "Okay, what about if we feed it a logical vector instead? Let's say I want to know something about how many \"blowouts\" there were in the 2010 AFL season. I operationalise the concept of a blowout see [](studydesign) as a game in which the winning margin exceeds 50 points. Let's create a logical variable `blowouts` in which the $i$-th element is `TRUE` if that game was a blowout according to my definition:"
   ]
  },
  {
   "cell_type": "code",
   "execution_count": 170,
   "metadata": {},
   "outputs": [
    {
     "data": {
      "text/html": [
       "<div>\n",
       "<style scoped>\n",
       "    .dataframe tbody tr th:only-of-type {\n",
       "        vertical-align: middle;\n",
       "    }\n",
       "\n",
       "    .dataframe tbody tr th {\n",
       "        vertical-align: top;\n",
       "    }\n",
       "\n",
       "    .dataframe thead th {\n",
       "        text-align: right;\n",
       "    }\n",
       "</style>\n",
       "<table border=\"1\" class=\"dataframe\">\n",
       "  <thead>\n",
       "    <tr style=\"text-align: right;\">\n",
       "      <th></th>\n",
       "      <th>afl.margins</th>\n",
       "      <th>blowouts</th>\n",
       "    </tr>\n",
       "  </thead>\n",
       "  <tbody>\n",
       "    <tr>\n",
       "      <th>0</th>\n",
       "      <td>56</td>\n",
       "      <td>True</td>\n",
       "    </tr>\n",
       "    <tr>\n",
       "      <th>1</th>\n",
       "      <td>31</td>\n",
       "      <td>False</td>\n",
       "    </tr>\n",
       "    <tr>\n",
       "      <th>2</th>\n",
       "      <td>56</td>\n",
       "      <td>True</td>\n",
       "    </tr>\n",
       "    <tr>\n",
       "      <th>3</th>\n",
       "      <td>8</td>\n",
       "      <td>False</td>\n",
       "    </tr>\n",
       "    <tr>\n",
       "      <th>4</th>\n",
       "      <td>32</td>\n",
       "      <td>False</td>\n",
       "    </tr>\n",
       "  </tbody>\n",
       "</table>\n",
       "</div>"
      ],
      "text/plain": [
       "   afl.margins  blowouts\n",
       "0           56      True\n",
       "1           31     False\n",
       "2           56      True\n",
       "3            8     False\n",
       "4           32     False"
      ]
     },
     "execution_count": 170,
     "metadata": {},
     "output_type": "execute_result"
    }
   ],
   "source": [
    "afl_margins['blowouts'] = np.where(afl_margins['afl.margins'] > 50, True, False)\n",
    "afl_margins.head()"
   ]
  },
  {
   "cell_type": "markdown",
   "metadata": {},
   "source": [
    "So that's what the `blowouts` variable looks like. Now let's ask Python to `describe()` this data: "
   ]
  },
  {
   "cell_type": "code",
   "execution_count": 156,
   "metadata": {},
   "outputs": [
    {
     "data": {
      "text/plain": [
       "count       176\n",
       "unique        2\n",
       "top       False\n",
       "freq        132\n",
       "Name: blowouts, dtype: object"
      ]
     },
     "execution_count": 156,
     "metadata": {},
     "output_type": "execute_result"
    }
   ],
   "source": [
    "afl_margins['blowouts'].describe()"
   ]
  },
  {
   "cell_type": "markdown",
   "metadata": {},
   "source": [
    "In this context, `describe` gives us the total number of games (176), the number of categories for those games(2, either blowout or not a blowout), the most common category (False, that is, not a blowout), and a count for the more common category. A little cryptic, but not entirely unreasonable. \n",
    "\n",
    "\n",
    "\n",
    "### \"Describing\" a data frame\n",
    "\n",
    "Okay what about data frames? When you `describe()` a dataframe, it produces a slightly condensed summary of each variable inside the data frame (as long as you specify that you want `'all'` the variables). To give you a sense of how this can be useful, let's try this for a new data set, one that you've never seen before. The data is stored in the `clinical_trial_data.csv` file, and we'll use it a lot in the chapter on [](ANOVA) (you can find a complete description of the data at the start of that chapter). Let's load it, and see what we've got:"
   ]
  },
  {
   "cell_type": "code",
   "execution_count": 158,
   "metadata": {},
   "outputs": [
    {
     "data": {
      "text/html": [
       "<div>\n",
       "<style scoped>\n",
       "    .dataframe tbody tr th:only-of-type {\n",
       "        vertical-align: middle;\n",
       "    }\n",
       "\n",
       "    .dataframe tbody tr th {\n",
       "        vertical-align: top;\n",
       "    }\n",
       "\n",
       "    .dataframe thead th {\n",
       "        text-align: right;\n",
       "    }\n",
       "</style>\n",
       "<table border=\"1\" class=\"dataframe\">\n",
       "  <thead>\n",
       "    <tr style=\"text-align: right;\">\n",
       "      <th></th>\n",
       "      <th>drug</th>\n",
       "      <th>therapy</th>\n",
       "      <th>mood.gain</th>\n",
       "    </tr>\n",
       "  </thead>\n",
       "  <tbody>\n",
       "    <tr>\n",
       "      <th>0</th>\n",
       "      <td>placebo</td>\n",
       "      <td>no.therapy</td>\n",
       "      <td>0.5</td>\n",
       "    </tr>\n",
       "    <tr>\n",
       "      <th>1</th>\n",
       "      <td>placebo</td>\n",
       "      <td>no.therapy</td>\n",
       "      <td>0.3</td>\n",
       "    </tr>\n",
       "    <tr>\n",
       "      <th>2</th>\n",
       "      <td>placebo</td>\n",
       "      <td>no.therapy</td>\n",
       "      <td>0.1</td>\n",
       "    </tr>\n",
       "    <tr>\n",
       "      <th>3</th>\n",
       "      <td>anxifree</td>\n",
       "      <td>no.therapy</td>\n",
       "      <td>0.6</td>\n",
       "    </tr>\n",
       "    <tr>\n",
       "      <th>4</th>\n",
       "      <td>anxifree</td>\n",
       "      <td>no.therapy</td>\n",
       "      <td>0.4</td>\n",
       "    </tr>\n",
       "  </tbody>\n",
       "</table>\n",
       "</div>"
      ],
      "text/plain": [
       "       drug     therapy  mood.gain\n",
       "0   placebo  no.therapy        0.5\n",
       "1   placebo  no.therapy        0.3\n",
       "2   placebo  no.therapy        0.1\n",
       "3  anxifree  no.therapy        0.6\n",
       "4  anxifree  no.therapy        0.4"
      ]
     },
     "execution_count": 158,
     "metadata": {},
     "output_type": "execute_result"
    }
   ],
   "source": [
    "# load data\n",
    "pathin = '/Users/ethan/Documents/GitHub/pythonbook/Data/'\n",
    "file = 'clinical_trial_data.csv'\n",
    "\n",
    "df_clintrial = pd.read_csv(file)\n",
    "df_clintrial.head()\n",
    "\n"
   ]
  },
  {
   "cell_type": "markdown",
   "metadata": {},
   "source": [
    "Our dataframe `df_clintrial` contains three variables, `drug`, `therapy` and `mood.gain`. Presumably then, this data is from a clinical trial of some kind, in which people were administered different drugs; and the researchers looked to see what the drugs did to their mood. Let's see if the `describe()` function sheds a little more light on this situation:"
   ]
  },
  {
   "cell_type": "code",
   "execution_count": 171,
   "metadata": {},
   "outputs": [
    {
     "data": {
      "text/html": [
       "<div>\n",
       "<style scoped>\n",
       "    .dataframe tbody tr th:only-of-type {\n",
       "        vertical-align: middle;\n",
       "    }\n",
       "\n",
       "    .dataframe tbody tr th {\n",
       "        vertical-align: top;\n",
       "    }\n",
       "\n",
       "    .dataframe thead th {\n",
       "        text-align: right;\n",
       "    }\n",
       "</style>\n",
       "<table border=\"1\" class=\"dataframe\">\n",
       "  <thead>\n",
       "    <tr style=\"text-align: right;\">\n",
       "      <th></th>\n",
       "      <th>drug</th>\n",
       "      <th>therapy</th>\n",
       "      <th>mood.gain</th>\n",
       "    </tr>\n",
       "  </thead>\n",
       "  <tbody>\n",
       "    <tr>\n",
       "      <th>count</th>\n",
       "      <td>18</td>\n",
       "      <td>18</td>\n",
       "      <td>18.000000</td>\n",
       "    </tr>\n",
       "    <tr>\n",
       "      <th>unique</th>\n",
       "      <td>3</td>\n",
       "      <td>2</td>\n",
       "      <td>NaN</td>\n",
       "    </tr>\n",
       "    <tr>\n",
       "      <th>top</th>\n",
       "      <td>anxifree</td>\n",
       "      <td>no.therapy</td>\n",
       "      <td>NaN</td>\n",
       "    </tr>\n",
       "    <tr>\n",
       "      <th>freq</th>\n",
       "      <td>6</td>\n",
       "      <td>9</td>\n",
       "      <td>NaN</td>\n",
       "    </tr>\n",
       "    <tr>\n",
       "      <th>mean</th>\n",
       "      <td>NaN</td>\n",
       "      <td>NaN</td>\n",
       "      <td>0.883333</td>\n",
       "    </tr>\n",
       "    <tr>\n",
       "      <th>std</th>\n",
       "      <td>NaN</td>\n",
       "      <td>NaN</td>\n",
       "      <td>0.533854</td>\n",
       "    </tr>\n",
       "    <tr>\n",
       "      <th>min</th>\n",
       "      <td>NaN</td>\n",
       "      <td>NaN</td>\n",
       "      <td>0.100000</td>\n",
       "    </tr>\n",
       "    <tr>\n",
       "      <th>25%</th>\n",
       "      <td>NaN</td>\n",
       "      <td>NaN</td>\n",
       "      <td>0.425000</td>\n",
       "    </tr>\n",
       "    <tr>\n",
       "      <th>50%</th>\n",
       "      <td>NaN</td>\n",
       "      <td>NaN</td>\n",
       "      <td>0.850000</td>\n",
       "    </tr>\n",
       "    <tr>\n",
       "      <th>75%</th>\n",
       "      <td>NaN</td>\n",
       "      <td>NaN</td>\n",
       "      <td>1.300000</td>\n",
       "    </tr>\n",
       "    <tr>\n",
       "      <th>max</th>\n",
       "      <td>NaN</td>\n",
       "      <td>NaN</td>\n",
       "      <td>1.800000</td>\n",
       "    </tr>\n",
       "  </tbody>\n",
       "</table>\n",
       "</div>"
      ],
      "text/plain": [
       "            drug     therapy  mood.gain\n",
       "count         18          18  18.000000\n",
       "unique         3           2        NaN\n",
       "top     anxifree  no.therapy        NaN\n",
       "freq           6           9        NaN\n",
       "mean         NaN         NaN   0.883333\n",
       "std          NaN         NaN   0.533854\n",
       "min          NaN         NaN   0.100000\n",
       "25%          NaN         NaN   0.425000\n",
       "50%          NaN         NaN   0.850000\n",
       "75%          NaN         NaN   1.300000\n",
       "max          NaN         NaN   1.800000"
      ]
     },
     "execution_count": 171,
     "metadata": {},
     "output_type": "execute_result"
    }
   ],
   "source": [
    "df_clintrial.describe(include = 'all')"
   ]
  },
  {
   "cell_type": "markdown",
   "metadata": {},
   "source": [
    "If we want to `describe` the entire dataframe, we need to add the argument  `include = 'all'`. This gives us information on all of the of columns, but this is still rather limited. I mean, I guess I learned something about this data, but if we want to really understand these data, we will have to use other tools to investigate them. That is what the rest of this book is about.\n"
   ]
  },
  {
   "cell_type": "markdown",
   "metadata": {},
   "source": [
    "## Standard scores\n",
    "\n",
    "\n",
    "Suppose my friend is putting together a new questionnaire intended to measure \"grumpiness\". The survey has 50 questions, which you can answer in a grumpy way or not. Across a big sample (hypothetically, let's imagine a million people or so!) the data are fairly normally distributed, with the mean grumpiness score being 17 out of 50 questions answered in a grumpy way, and the standard deviation is 5. In contrast, when I take the questionnaire, I answer 35 out of 50 questions in a grumpy way. So, how grumpy am I? One way to think about would be to say that I have grumpiness of 35/50, so you might say that I'm 70% grumpy. But that's a bit weird, when you think about it. If my friend had phrased her questions a bit differently, people might have answered them in a different way, so the overall distribution of answers could easily move up or down depending on the precise way in which the questions were asked. So, I'm only 70% grumpy *with respect to this set of survey questions*. Even if it's a very good questionnaire, this isn't very a informative statement. \n",
    "\n",
    "A simpler way around this is to describe my grumpiness by comparing me to other people. Shockingly, out of my friend's sample of 1,000,000 people, only 159 people were as grumpy as me (that's not at all unrealistic, frankly), suggesting that I'm in the top 0.016% of people for grumpiness. This makes much more sense than trying to interpret the raw data. This idea -- that we should describe my grumpiness in terms of the overall distribution of the grumpiness of humans -- is the qualitative idea that standardisation attempts to get at. One way to do this is to do exactly what I just did, and describe everything in terms of percentiles. However, the problem with doing this is that \"it's lonely at the top\". Suppose that my friend had only collected a sample of 1000 people (still a pretty big sample for the purposes of testing a new questionnaire, I'd like to add), and this time gotten a mean of 16 out of 50 with a standard deviation of 5, let's say. The problem is that almost certainly, not a single person in that sample would be as grumpy as me.\n",
    "\n",
    "\n",
    "However, all is not lost. A different approach is to convert my grumpiness score into a **_standard score_**, also referred to as a $z$-score. The standard score is defined as the number of standard deviations above the mean that my grumpiness score lies. To phrase it in \"pseudo-maths\" the standard score is calculated like this:\n",
    "\n",
    "$$\n",
    "\\mbox{standard score} = \\frac{\\mbox{raw score} - \\mbox{mean}}{\\mbox{standard deviation}}\n",
    "$$ \n",
    "\n",
    "In actual maths, the equation for the $z$-score is\n",
    "\n",
    "$$\n",
    "z_i = \\frac{X_i - \\bar{X}}{\\hat\\sigma}\n",
    "$$\n",
    "\n",
    "So, going back to the grumpiness data, we can now transform Dan's raw grumpiness into a standardised grumpiness score. I haven't discussed how to compute $z$-scores, explicitly, but you can probably guess. For a dataset d, an easy way to find a z-score is to import `stats` from `scipy` and then do: `stats.zscore(d)`. If the mean is 17 and the standard deviation is 5 then my standardised grumpiness score would be \n",
    "\n",
    "$$\n",
    "z = \\frac{35 - 17}{5} = 3.6\n",
    "$$\n",
    "\n",
    "Technically, because I'm calculating means and standard deviations from a sample of data, but want to talk about my grumpiness relative to a population, what I'm actually doing is *estimating* a $z$ score. However, since we haven't talked about [estimation](estimation)  yet  I think it's best to ignore this subtlety, especially as it makes very little difference to our calculations.\n",
    "\n",
    "To interpret this value, recall the rough heuristic that I provided in the section on [standard deviation](sd), in which I noted that 99.7% of values are expected to lie within 3 standard deviations of the mean. So the fact that my grumpiness corresponds to a $z$ score of 3.6 indicates that I'm very grumpy indeed. "
   ]
  },
  {
   "cell_type": "markdown",
   "metadata": {},
   "source": [
    "In addition to allowing you to interpret a raw score in relation to a larger population (and thereby allowing you to make sense of variables that lie on arbitrary scales), standard scores serve a second useful function. Standard scores can be compared to one another in situations where the raw scores can't. Suppose, for instance, my friend also had another questionnaire that measured extraversion using a 24 items questionnaire. The overall mean for this measure turns out to be 13 with standard deviation 4; and I scored a 2. As you can imagine, it doesn't make a lot of sense to try to compare my raw score of 2 on the extraversion questionnaire to my raw score of 35 on the grumpiness questionnaire. The raw scores for the two variables are \"about\" fundamentally different things, so this would be like comparing apples to oranges.\n",
    "\n",
    "What about the standard scores? Well, this is a little different. If we calculate the standard scores, we get $z = (35-17)/5 = 3.6$ for grumpiness and $z = (2-13)/4 = -2.75$ for extraversion. These two numbers *can* be compared to each other. [^note10]  I'm much less extraverted than most people ($z = -2.75$) and much grumpier than most people ($z = 3.6$): but the extent of my unusualness is much more extreme for grumpiness (since 3.6 is a bigger number than 2.75).  Because each standardised score is a statement about where an observation falls *relative to its own population*, it *is* possible to compare standardised scores across completely different variables. \n",
    "\n",
    "[^note10]: Though some caution is usually warranted. It's not always the case that one standard deviation on variable A corresponds to the same \"kind\" of thing as one standard deviation on variable B. Use common sense when trying to determine whether or not the $z$ scores of two variables can be meaningfully compared."
   ]
  },
  {
   "cell_type": "markdown",
   "metadata": {},
   "source": [
    "(correlations)=\n",
    "## Correlations\n",
    "\n",
    "Up to this point we have focused entirely on how to construct descriptive statistics for a single variable. What we haven't done is talked about how to describe the relationships *between* variables in the data. To do that, we want to talk mostly about the **_correlation_** between variables. But first, we need some data.\n",
    "\n",
    "### The data \n",
    "\n",
    "After spending so much time looking at the AFL data, I'm starting to get bored with sports. Instead, let's turn to a topic close to every parent's heart: sleep. The following data set is fictitious, but based on real events. Suppose I'm curious to find out how much my infant son's sleeping habits affect my mood. Let's say that I can rate my grumpiness very precisely, on a scale from 0 (not at all grumpy) to 100 (grumpy as a very, very grumpy old man). And, lets also assume that I've been measuring my grumpiness, my sleeping patterns and my son's sleeping patterns for quite some time now. Let's say, for 100 days. And, being a nerd, I've saved the data as a file called `parenthood.csv`. If we load the data..."
   ]
  },
  {
   "cell_type": "code",
   "execution_count": 173,
   "metadata": {},
   "outputs": [
    {
     "data": {
      "text/html": [
       "<div>\n",
       "<style scoped>\n",
       "    .dataframe tbody tr th:only-of-type {\n",
       "        vertical-align: middle;\n",
       "    }\n",
       "\n",
       "    .dataframe tbody tr th {\n",
       "        vertical-align: top;\n",
       "    }\n",
       "\n",
       "    .dataframe thead th {\n",
       "        text-align: right;\n",
       "    }\n",
       "</style>\n",
       "<table border=\"1\" class=\"dataframe\">\n",
       "  <thead>\n",
       "    <tr style=\"text-align: right;\">\n",
       "      <th></th>\n",
       "      <th>dan.sleep</th>\n",
       "      <th>baby.sleep</th>\n",
       "      <th>dan.grump</th>\n",
       "      <th>day</th>\n",
       "    </tr>\n",
       "  </thead>\n",
       "  <tbody>\n",
       "    <tr>\n",
       "      <th>0</th>\n",
       "      <td>7.59</td>\n",
       "      <td>10.18</td>\n",
       "      <td>56</td>\n",
       "      <td>1</td>\n",
       "    </tr>\n",
       "    <tr>\n",
       "      <th>1</th>\n",
       "      <td>7.91</td>\n",
       "      <td>11.66</td>\n",
       "      <td>60</td>\n",
       "      <td>2</td>\n",
       "    </tr>\n",
       "    <tr>\n",
       "      <th>2</th>\n",
       "      <td>5.14</td>\n",
       "      <td>7.92</td>\n",
       "      <td>82</td>\n",
       "      <td>3</td>\n",
       "    </tr>\n",
       "    <tr>\n",
       "      <th>3</th>\n",
       "      <td>7.71</td>\n",
       "      <td>9.61</td>\n",
       "      <td>55</td>\n",
       "      <td>4</td>\n",
       "    </tr>\n",
       "    <tr>\n",
       "      <th>4</th>\n",
       "      <td>6.68</td>\n",
       "      <td>9.75</td>\n",
       "      <td>67</td>\n",
       "      <td>5</td>\n",
       "    </tr>\n",
       "  </tbody>\n",
       "</table>\n",
       "</div>"
      ],
      "text/plain": [
       "   dan.sleep  baby.sleep  dan.grump  day\n",
       "0       7.59       10.18         56    1\n",
       "1       7.91       11.66         60    2\n",
       "2       5.14        7.92         82    3\n",
       "3       7.71        9.61         55    4\n",
       "4       6.68        9.75         67    5"
      ]
     },
     "execution_count": 173,
     "metadata": {},
     "output_type": "execute_result"
    }
   ],
   "source": [
    "from os import chdir as cd\n",
    "import pandas as pd\n",
    "\n",
    "pathin = '/Users/ethan/Documents/GitHub/pythonbook/Data/'\n",
    "file = 'parenthood.csv'\n",
    "\n",
    "cd(pathin)\n",
    "\n",
    "parenthood = pd.read_csv(file)\n",
    "parenthood.head()\n"
   ]
  },
  {
   "cell_type": "markdown",
   "metadata": {},
   "source": [
    "... we see that the file contains a single data frame called `parenthood`, which contains four variables `dan.sleep`, `baby.sleep`, `dan.grump` and `day`. Next, I'll calculate some basic descriptive statistics:"
   ]
  },
  {
   "cell_type": "code",
   "execution_count": 193,
   "metadata": {},
   "outputs": [
    {
     "data": {
      "text/html": [
       "<div>\n",
       "<style scoped>\n",
       "    .dataframe tbody tr th:only-of-type {\n",
       "        vertical-align: middle;\n",
       "    }\n",
       "\n",
       "    .dataframe tbody tr th {\n",
       "        vertical-align: top;\n",
       "    }\n",
       "\n",
       "    .dataframe thead th {\n",
       "        text-align: right;\n",
       "    }\n",
       "</style>\n",
       "<table border=\"1\" class=\"dataframe\">\n",
       "  <thead>\n",
       "    <tr style=\"text-align: right;\">\n",
       "      <th></th>\n",
       "      <th>dan.sleep</th>\n",
       "      <th>baby.sleep</th>\n",
       "      <th>dan.grump</th>\n",
       "      <th>day</th>\n",
       "    </tr>\n",
       "  </thead>\n",
       "  <tbody>\n",
       "    <tr>\n",
       "      <th>count</th>\n",
       "      <td>100.000000</td>\n",
       "      <td>100.000000</td>\n",
       "      <td>100.00000</td>\n",
       "      <td>100.000000</td>\n",
       "    </tr>\n",
       "    <tr>\n",
       "      <th>mean</th>\n",
       "      <td>6.965200</td>\n",
       "      <td>8.049200</td>\n",
       "      <td>63.71000</td>\n",
       "      <td>50.500000</td>\n",
       "    </tr>\n",
       "    <tr>\n",
       "      <th>std</th>\n",
       "      <td>1.015884</td>\n",
       "      <td>2.074232</td>\n",
       "      <td>10.04967</td>\n",
       "      <td>29.011492</td>\n",
       "    </tr>\n",
       "    <tr>\n",
       "      <th>min</th>\n",
       "      <td>4.840000</td>\n",
       "      <td>3.250000</td>\n",
       "      <td>41.00000</td>\n",
       "      <td>1.000000</td>\n",
       "    </tr>\n",
       "    <tr>\n",
       "      <th>25%</th>\n",
       "      <td>6.292500</td>\n",
       "      <td>6.425000</td>\n",
       "      <td>57.00000</td>\n",
       "      <td>25.750000</td>\n",
       "    </tr>\n",
       "    <tr>\n",
       "      <th>50%</th>\n",
       "      <td>7.030000</td>\n",
       "      <td>7.950000</td>\n",
       "      <td>62.00000</td>\n",
       "      <td>50.500000</td>\n",
       "    </tr>\n",
       "    <tr>\n",
       "      <th>75%</th>\n",
       "      <td>7.740000</td>\n",
       "      <td>9.635000</td>\n",
       "      <td>71.00000</td>\n",
       "      <td>75.250000</td>\n",
       "    </tr>\n",
       "    <tr>\n",
       "      <th>max</th>\n",
       "      <td>9.000000</td>\n",
       "      <td>12.070000</td>\n",
       "      <td>91.00000</td>\n",
       "      <td>100.000000</td>\n",
       "    </tr>\n",
       "  </tbody>\n",
       "</table>\n",
       "</div>"
      ],
      "text/plain": [
       "        dan.sleep  baby.sleep  dan.grump         day\n",
       "count  100.000000  100.000000  100.00000  100.000000\n",
       "mean     6.965200    8.049200   63.71000   50.500000\n",
       "std      1.015884    2.074232   10.04967   29.011492\n",
       "min      4.840000    3.250000   41.00000    1.000000\n",
       "25%      6.292500    6.425000   57.00000   25.750000\n",
       "50%      7.030000    7.950000   62.00000   50.500000\n",
       "75%      7.740000    9.635000   71.00000   75.250000\n",
       "max      9.000000   12.070000   91.00000  100.000000"
      ]
     },
     "execution_count": 193,
     "metadata": {},
     "output_type": "execute_result"
    }
   ],
   "source": [
    "parenthood.describe()"
   ]
  },
  {
   "cell_type": "markdown",
   "metadata": {},
   "source": [
    "Finally, to give a graphical depiction of what each of the three interesting variables looks like, {numref}`fig-grump` plots histograms. \n",
    "\n"
   ]
  },
  {
   "cell_type": "code",
   "execution_count": 180,
   "metadata": {
    "tags": [
     "hide-output"
    ]
   },
   "outputs": [
    {
     "data": {
      "application/papermill.record/image/png": "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\n",
      "application/papermill.record/text/plain": "<Figure size 1080x360 with 3 Axes>"
     },
     "metadata": {
      "scrapbook": {
       "mime_prefix": "application/papermill.record/",
       "name": "grump_fig"
      }
     },
     "output_type": "display_data"
    },
    {
     "data": {
      "image/png": "[encoded data removed]",
      "text/plain": [
       "<Figure size 1080x360 with 3 Axes>"
      ]
     },
     "metadata": {
      "needs_background": "light"
     },
     "output_type": "display_data"
    }
   ],
   "source": [
    "import seaborn as sns\n",
    "\n",
    "dan_grump = parenthood['dan.grump']\n",
    "dan_sleep = parenthood['dan.sleep']\n",
    "baby_sleep = parenthood['baby.sleep']\n",
    "\n",
    "fig, axes = plt.subplots(1, 3, figsize=(15, 5), sharey=True)\n",
    "fig.suptitle('Sleep Data')\n",
    "\n",
    "# My grumpiness\n",
    "sns.histplot(dan_grump, ax=axes[0])\n",
    "axes[0].set_title(dan_grump.name)\n",
    "\n",
    "# My sleep\n",
    "sns.histplot(dan_sleep, ax=axes[1])\n",
    "axes[1].set_title(dan_sleep.name)\n",
    "\n",
    "# Baby's sleep\n",
    "sns.histplot(baby_sleep, ax=axes[2])\n",
    "axes[2].set_title(baby_sleep.name);\n",
    "\n",
    "# You know the drill by now: this is just for the purpose of linking to the figure in the book\n",
    "glue(\"grump_fig\", fig, display=False)"
   ]
  },
  {
   "cell_type": "markdown",
   "metadata": {},
   "source": [
    "```{glue:figure} grump_fig\n",
    ":figwidth: 650px\n",
    ":name: fig-grump\n",
    "\n",
    "Histograms for the three interesting variables in the parenthood data set.\n",
    "```"
   ]
  },
  {
   "cell_type": "markdown",
   "metadata": {},
   "source": [
    "One thing to note: just because Python can calculate dozens of different statistics doesn't mean you should report all of them. If I were writing this up for a report, I'd probably pick out those statistics that are of most interest to me (and to my readership), and then put them into a nice, simple table like the one in the table below. [^note11] Notice that when I put it into a table, I gave everything \"human readable\" names. This is always good practice. Notice also that I'm not getting enough sleep. This isn't good practice, but other parents tell me that it's standard practice.  \n",
    "\n",
    "|variable                |min  |max   |mean  |median |std. dev |IQR  |\n",
    "|:-----------------------|:----|:-----|:-----|:------|:--------|:----|\n",
    "|Dan's grumpiness        |41   |91    |63.71 |62     |10.05    |14   |\n",
    "|Dan's hours slept       |4.84 |9     |6.97  |7.03   |1.02     |1.45 |\n",
    "|Dan's son's hours slept |3.25 |12.07 |8.05  |7.95   |2.07     |3.21 |\n",
    "\n",
    "[^note11]: Actually, even that table is more than I'd bother with. In practice most people pick *one* measure of central tendency, and *one* measure of variability only."
   ]
  },
  {
   "cell_type": "markdown",
   "metadata": {},
   "source": [
    "### The strength and direction of a relationship\n"
   ]
  },
  {
   "cell_type": "code",
   "execution_count": 209,
   "metadata": {},
   "outputs": [
    {
     "data": {
      "text/plain": [
       "Text(0, 0.5, 'My grumpiness')"
      ]
     },
     "execution_count": 209,
     "metadata": {},
     "output_type": "execute_result"
    },
    {
     "data": {
      "image/png": "[encoded data removed]",
      "text/plain": [
       "<Figure size 1080x360 with 2 Axes>"
      ]
     },
     "metadata": {
      "needs_background": "light"
     },
     "output_type": "display_data"
    }
   ],
   "source": [
    "fig, axes = plt.subplots(1, 2, figsize=(15, 5), sharey=True)\n",
    "fig.suptitle('Sleepy, grumpy scatterplots')\n",
    "\n",
    "sns.scatterplot(x = dan_sleep, y = dan_grump, ax = axes[0])\n",
    "fig.axes[0].set_title(\"Dan\")\n",
    "fig.axes[0].set_xlabel(\"Sleep\")\n",
    "fig.axes[0].set_ylabel(\"My grumpiness\")\n",
    "\n",
    "sns.scatterplot(x = baby_sleep, y = dan_grump, ax = axes[1])\n",
    "fig.axes[1].set_title(\"Baby\")\n",
    "fig.axes[1].set_xlabel(\"Sleep\")\n",
    "fig.axes[1].set_ylabel(\"My grumpiness\")\n",
    "\n",
    "glue(\"sleep_scatter-fig1\", fig, display=False)"
   ]
  },
  {
   "cell_type": "markdown",
   "metadata": {},
   "source": [
    "```{glue:figure} sleep_scatter_fig1\n",
    ":figwidth: 600px\n",
    ":name: fig-sleep_scatter1\n",
    "\n",
    "Scatterplots showing the relationship between dan.sleep and dan.grump (left) and the rela-\n",
    "tionship between baby.sleep and dan.grump (right).\n",
    "```"
   ]
  },
  {
   "cell_type": "markdown",
   "metadata": {},
   "source": [
    "We can draw scatterplots to give us a general sense of how closely related two variables are. Ideally though, we might want to say a bit more about it than that. For instance, let's compare the relationship between `dan.sleep` and `dan.grump` with that between `baby.sleep` and `dan.grump` {numref}`fig-sleep_scatter1`. When looking at these two plots side by side, it's clear that the relationship is *qualitatively* the same in both cases: more sleep equals less grump! However, it's also pretty obvious that the relationship between `dan.sleep` and `dan.grump` is *stronger* than the relationship between `baby.sleep` and `dan.grump`. The plot on the left is \"neater\" than the one on the right. What it feels like is that if you want to predict what my mood is, it'd help you a little bit to know how many hours my son slept, but it'd be *more* helpful to know how many hours I slept. \n",
    "\n",
    "In contrast, let's consider {numref}`fig-sleep_scatter2`. If we compare the scatterplot of \"`baby.sleep` v `dan.grump`\" to the scatterplot of `baby.sleep` v `dan.sleep`, the overall strength of the relationship is the same, but the direction is different. That is, if my son sleeps more, I get *more* sleep (positive relationship, but if he sleeps more then I get *less* grumpy (negative relationship)."
   ]
  },
  {
   "cell_type": "code",
   "execution_count": 212,
   "metadata": {},
   "outputs": [
    {
     "data": {
      "text/plain": [
       "Text(0, 0.5, 'My sleep')"
      ]
     },
     "execution_count": 212,
     "metadata": {},
     "output_type": "execute_result"
    },
    {
     "data": {
      "image/png": "[encoded data removed]",
      "text/plain": [
       "<Figure size 1080x360 with 2 Axes>"
      ]
     },
     "metadata": {
      "needs_background": "light"
     },
     "output_type": "display_data"
    }
   ],
   "source": [
    "fig, axes = plt.subplots(1, 2, figsize=(15, 5), sharey=False) # y axes are now on different scales, so sharey=False\n",
    "fig.suptitle('Sleepier, grumpier scatterplots')\n",
    "\n",
    "sns.scatterplot(x = dan_sleep, y = dan_grump, ax = axes[0])\n",
    "fig.axes[0].set_xlabel(\"Baby's sleep\")\n",
    "fig.axes[0].set_ylabel(\"My grumpiness\")\n",
    "\n",
    "sns.scatterplot(x = baby_sleep, y = dan_sleep, ax = axes[1])\n",
    "fig.axes[1].set_xlabel(\"Baby's sleep\")\n",
    "fig.axes[1].set_ylabel(\"My sleep\")\n",
    "\n",
    "glue(\"sleep_scatter-fig2\", fig, display=False)"
   ]
  },
  {
   "cell_type": "markdown",
   "metadata": {},
   "source": [
    "```{glue:figure} sleep_scatter_fig2\n",
    ":figwidth: 600px\n",
    ":name: fig-sleep_scatter2\n",
    "\n",
    "Scatterplots showing the relationship between baby.sleep and dan.grump (left), as compared\n",
    "to the relationship between baby.sleep and dan.sleep (right).\n",
    "```"
   ]
  },
  {
   "cell_type": "markdown",
   "metadata": {},
   "source": [
    "### The correlation coefficient\n",
    "\n",
    "We can make these ideas a bit more explicit by introducing the idea of a **_correlation coefficient_** (or, more specifically, Pearson's correlation coefficient), which is traditionally denoted by $r$. The correlation coefficient between two variables $X$ and $Y$ (sometimes denoted $r_{XY}$), which we'll define more precisely in the next section, is a measure that varies from $-1$ to $1$. When $r = -1$ it means that we have a perfect negative relationship, and when $r = 1$ it means we have a perfect positive relationship. When $r = 0$, there's no relationship at all. If you look at Figure \\@ref(fig:corr), you can see several plots showing what different correlations look like."
   ]
  },
  {
   "cell_type": "code",
   "execution_count": 229,
   "metadata": {
    "tags": [
     "hide-output"
    ]
   },
   "outputs": [
    {
     "data": {
      "application/papermill.record/image/png": "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\n",
      "application/papermill.record/text/plain": "<Figure size 1080x1080 with 8 Axes>"
     },
     "metadata": {
      "scrapbook": {
       "mime_prefix": "application/papermill.record/",
       "name": "corrs-fig"
      }
     },
     "output_type": "display_data"
    },
    {
     "data": {
      "image/png": "[encoded data removed]",
      "text/plain": [
       "<Figure size 1080x1080 with 8 Axes>"
      ]
     },
     "metadata": {
      "needs_background": "light"
     },
     "output_type": "display_data"
    }
   ],
   "source": [
    "import matplotlib.pyplot as plt\n",
    "import numpy as np\n",
    "import seaborn as sns\n",
    "\n",
    "mean = [0, 0]\n",
    "cov = [[1, 0], [0, 1]]\n",
    "r = [0, .33, .66, 1]\n",
    "rneg = [0, -.33, -.66, -1]\n",
    "\n",
    "fig, axes = plt.subplots(4, 2, figsize=(15, 15), sharey=False)\n",
    "\n",
    "for s, val in enumerate(r):\n",
    "    cov = [[1, val], [val, 1]]\n",
    "    x, y = np.random.multivariate_normal(mean, cov, 100).T\n",
    "    sns.scatterplot(x=x,y=y, ax = axes[s,0])\n",
    "    axes[s,0].set_title('r = ' + str(val))\n",
    "\n",
    "for s, val in enumerate(rneg):\n",
    "    cov = [[1, val], [val, 1]]\n",
    "    x, y = np.random.multivariate_normal(mean, cov, 100).T\n",
    "    sns.scatterplot(x=x,y=y, ax = axes[s,1])\n",
    "    axes[s,1].set_title('r = ' + str(val))\n",
    "\n",
    "glue(\"corrs-fig\", fig, display=False)"
   ]
  },
  {
   "cell_type": "markdown",
   "metadata": {},
   "source": [
    "```{glue:figure} corrs-fig\n",
    ":figwidth: 600px\n",
    ":name: fig-corrs\n",
    "\n",
    "Illustration of the effect of varying the strength and direction of a correlation. In the left hand column, the correlations are 0, .33, .66 and 1. In the right hand column, the correlations are 0, -.33, -.66 and -1.\n",
    "```"
   ]
  },
  {
   "cell_type": "markdown",
   "metadata": {},
   "source": [
    "The formula for the Pearson's correlation coefficient can be written in several different ways. I think the simplest way to write down the formula is to break it into two steps. Firstly, let's introduce the idea of a **_covariance_**. The covariance between two variables $X$ and $Y$ is a generalisation of the notion of the variance; it's a mathematically simple way of describing the relationship between two variables that isn't terribly informative to humans:\n",
    "\n",
    "$$\n",
    "\\mbox{Cov}(X,Y) = \\frac{1}{N-1} \\sum_{i=1}^N \\left( X_i - \\bar{X} \\right) \\left( Y_i - \\bar{Y} \\right)\n",
    "$$\n",
    "\n",
    "Because we're multiplying (i.e., taking the \"product\" of) a quantity that depends on $X$ by a quantity that depends on $Y$ and then averaging^[Just like we saw with the variance and the standard deviation, in practice we divide by $N-1$ rather than $N$.], you can think of the formula for the covariance as an \"average cross product\" between $X$ and $Y$. The covariance has the nice property that, if $X$ and $Y$ are entirely unrelated, then the covariance is exactly zero. If the relationship between them is positive (in the sense shown in Figure@reffig:corr) then the covariance is also positive; and if the relationship is negative then the covariance is also negative. In other words, the covariance captures the basic qualitative idea of correlation. Unfortunately, the raw magnitude of the covariance isn't easy to interpret: it depends on the units in which $X$ and $Y$ are expressed, and worse yet, the actual units that the covariance itself is expressed in are really weird. For instance, if $X$ refers to the `dan.sleep` variable (units: hours) and $Y$ refers to the `dan.grump` variable (units: grumps), then the units for their covariance are \"hours $\\times$ grumps\". And I have no freaking idea what that would even mean. \n",
    "\n",
    "The Pearson correlation coefficient $r$ fixes this interpretation problem by standardising the covariance, in pretty much the exact same way that the $z$-score standardises a raw score: by dividing by the standard deviation. However, because we have two variables that contribute to the covariance, the standardisation only works if we divide by both standard deviations (this is an oversimplification, but it'll do for our purposes)  In other words, the correlation between $X$ and $Y$ can be written as follows:\n",
    "\n",
    "$$\n",
    "r_{XY}  = \\frac{\\mbox{Cov}(X,Y)}{ \\hat{\\sigma}_X \\ \\hat{\\sigma}_Y}\n",
    "$$\n",
    "\n",
    "By doing this standardisation, not only do we keep all of the nice properties of the covariance discussed earlier, but the actual values of $r$ are on a meaningful scale: $r= 1$ implies a perfect positive relationship, and $r = -1$ implies a perfect negative relationship. I'll expand a little more on this point later, in section on [interpreting correlations](interpreting-correlations). But before I do, let's look at how to calculate correlations in Python."
   ]
  },
  {
   "cell_type": "markdown",
   "metadata": {},
   "source": [
    "### Calculating correlations in Python\n",
    "\n",
    "\n",
    "\n",
    "Calculating correlations in R can be done using the `corr()` method. The simplest way to use the command is to specify two input arguments `x` and `y`, each one corresponding to one of the variables. The following extract illustrates the basic usage of the function: [^note12] \n",
    "\n",
    "[^note12]: If you are reading this after having already completed the chapter on [hypothesis testing](hypothesis-testing) you might be wondering about hypothesis tests for correlations. This can be done with `scipy.stats.pearsonr` (or `scipy.stats.spearmanr`).\n"
   ]
  },
  {
   "cell_type": "code",
   "execution_count": 217,
   "metadata": {},
   "outputs": [],
   "source": [
    "x = parenthood['dan.sleep']\n",
    "y = parenthood['dan.grump']"
   ]
  },
  {
   "cell_type": "code",
   "execution_count": 225,
   "metadata": {},
   "outputs": [
    {
     "data": {
      "text/plain": [
       "SpearmanrResult(correlation=-0.8870816482027113, pvalue=1.1357770054900766e-34)"
      ]
     },
     "execution_count": 225,
     "metadata": {},
     "output_type": "execute_result"
    }
   ],
   "source": [
    "x.corr(y)\n",
    "stats.spearmanr"
   ]
  },
  {
   "cell_type": "markdown",
   "metadata": {},
   "source": [
    "However, the `cor()` function is a bit more powerful than this simple example suggests. For example, you can also calculate a complete \"correlation matrix\", between all pairs of variables in the data frame:^[An alternative usage of `cor()` is to correlate one set of variables with another subset of variables. If `X` and `Y` are both data frames with the same number of rows, then `cor(x = X, y = Y)` will produce a correlation matrix that correlates all variables in `X` with all variables in `Y`.]"
   ]
  },
  {
   "cell_type": "code",
   "execution_count": 232,
   "metadata": {},
   "outputs": [
    {
     "data": {
      "text/html": [
       "<div>\n",
       "<style scoped>\n",
       "    .dataframe tbody tr th:only-of-type {\n",
       "        vertical-align: middle;\n",
       "    }\n",
       "\n",
       "    .dataframe tbody tr th {\n",
       "        vertical-align: top;\n",
       "    }\n",
       "\n",
       "    .dataframe thead th {\n",
       "        text-align: right;\n",
       "    }\n",
       "</style>\n",
       "<table border=\"1\" class=\"dataframe\">\n",
       "  <thead>\n",
       "    <tr style=\"text-align: right;\">\n",
       "      <th></th>\n",
       "      <th>dan.sleep</th>\n",
       "      <th>baby.sleep</th>\n",
       "      <th>dan.grump</th>\n",
       "      <th>day</th>\n",
       "    </tr>\n",
       "  </thead>\n",
       "  <tbody>\n",
       "    <tr>\n",
       "      <th>dan.sleep</th>\n",
       "      <td>1.000000</td>\n",
       "      <td>0.627949</td>\n",
       "      <td>-0.903384</td>\n",
       "      <td>-0.098408</td>\n",
       "    </tr>\n",
       "    <tr>\n",
       "      <th>baby.sleep</th>\n",
       "      <td>0.627949</td>\n",
       "      <td>1.000000</td>\n",
       "      <td>-0.565964</td>\n",
       "      <td>-0.010434</td>\n",
       "    </tr>\n",
       "    <tr>\n",
       "      <th>dan.grump</th>\n",
       "      <td>-0.903384</td>\n",
       "      <td>-0.565964</td>\n",
       "      <td>1.000000</td>\n",
       "      <td>0.076479</td>\n",
       "    </tr>\n",
       "    <tr>\n",
       "      <th>day</th>\n",
       "      <td>-0.098408</td>\n",
       "      <td>-0.010434</td>\n",
       "      <td>0.076479</td>\n",
       "      <td>1.000000</td>\n",
       "    </tr>\n",
       "  </tbody>\n",
       "</table>\n",
       "</div>"
      ],
      "text/plain": [
       "            dan.sleep  baby.sleep  dan.grump       day\n",
       "dan.sleep    1.000000    0.627949  -0.903384 -0.098408\n",
       "baby.sleep   0.627949    1.000000  -0.565964 -0.010434\n",
       "dan.grump   -0.903384   -0.565964   1.000000  0.076479\n",
       "day         -0.098408   -0.010434   0.076479  1.000000"
      ]
     },
     "execution_count": 232,
     "metadata": {},
     "output_type": "execute_result"
    }
   ],
   "source": [
    "parenthood.corr()"
   ]
  },
  {
   "cell_type": "markdown",
   "metadata": {},
   "source": [
    "(interpreting-correlations)=\n",
    "### Interpreting a correlation\n",
    " \n",
    "Naturally, in real life you don't see many correlations of 1. So how should you interpret a correlation of, say $r= .4$? The honest answer is that it really depends on what you want to use the data for, and on how strong the correlations in your field tend to be. A  friend of mine in engineering once argued that any correlation less than $.95$ is completely useless (I think he was exaggerating, even for engineering). On the other hand there are real cases -- even in psychology -- where you should really expect correlations that strong. For instance, one of the benchmark data sets used to test theories of how people judge similarities is so clean that any theory that can't achieve a correlation of at least $.9$ really isn't deemed to be successful. However, when looking for (say) elementary correlates of intelligence (e.g., inspection time, response time), if you get a correlation above $.3$ you're doing very very well. In short, the interpretation of a correlation depends a lot on the context. That said, the rough guide in Table \\@ref(tab:interpretingcorrelations) is pretty typical.\n",
    "\n",
    "Table: Rough guide to interpreting correlations\n",
    "\n",
    "|Correlation  |Strength    |Direction |\n",
    "|:------------|:-----------|:---------|\n",
    "|-1.0 to -0.9 |Very strong |Negative  |\n",
    "|-0.9 to -0.7 |Strong      |Negative  |\n",
    "|-0.7 to -0.4 |Moderate    |Negative  |\n",
    "|-0.4 to -0.2 |Weak        |Negative  |\n",
    "|-0.2 to 0    |Negligible  |Negative  |\n",
    "|0 to 0.2     |Negligible  |Positive  |\n",
    "|0.2 to 0.4   |Weak        |Positive  |\n",
    "|0.4 to 0.7   |Moderate    |Positive  |\n",
    "|0.7 to 0.9   |Strong      |Positive  |\n",
    "|0.9 to 1.0   |Very strong |Positive  |\n",
    "\n",
    "However, something that can never be stressed enough is that you should *always* look at the scatterplot before attaching any interpretation to the data. A correlation might not mean what you think it means. The classic illustration of this is \"Anscombe's Quartet\" [@Anscombe1973], which is a collection of four data sets. Each data set has two variables, an $X$ and a $Y$. For all four data sets the mean value for $X$ is 9 and the mean for $Y$ is 7.5. The, standard deviations for all $X$ variables are almost identical, as are those for the the $Y$ variables. And in each case the correlation between $X$ and $Y$ is $r = 0.816$. You can verify this yourself, since the dataset comes distributed with R. The commands would be:"
   ]
  },
  {
   "cell_type": "code",
   "execution_count": 249,
   "metadata": {},
   "outputs": [
    {
     "name": "stdout",
     "output_type": "stream",
     "text": [
      "0.81642051634484\n",
      "0.8162365060002428\n",
      "0.8162867394895984\n",
      "0.8165214368885028\n"
     ]
    }
   ],
   "source": [
    "x = [10, 8, 13, 9, 11, 14, 6, 4, 12, 7, 5]\n",
    "y1 = [8.04, 6.95, 7.58, 8.81, 8.33, 9.96, 7.24, 4.26, 10.84, 4.82, 5.68]\n",
    "y2 = [9.14, 8.14, 8.74, 8.77, 9.26, 8.10, 6.13, 3.10, 9.13, 7.26, 4.74]\n",
    "y3 = [7.46, 6.77, 12.74, 7.11, 7.81, 8.84, 6.08, 5.39, 8.15, 6.42, 5.73]\n",
    "x4 = [8, 8, 8, 8, 8, 8, 8, 19, 8, 8, 8]\n",
    "y4 = [6.58, 5.76, 7.71, 8.84, 8.47, 7.04, 5.25, 12.50, 5.56, 7.91, 6.89]\n",
    "\n",
    "df = pd.DataFrame(\n",
    "    {'x': x,\n",
    "     'y1': y1,\n",
    "     'y2': y2,\n",
    "     'y3': y3,\n",
    "     'x4': x4,\n",
    "     'y4': y4\n",
    "    })\n",
    "\n",
    "print(df['x'].corr(df['y1']))\n",
    "print(df['x'].corr(df['y2']))\n",
    "print(df['x'].corr(df['y3']))\n",
    "print(df['x4'].corr(df['y4']))"
   ]
  },
  {
   "cell_type": "markdown",
   "metadata": {},
   "source": [
    "and so on. \n",
    "\n",
    "You'd think that these four data sets would look pretty similar to one another. They do not. If we draw scatterplots of $X$ against $Y$ for all four variables, as shown in Figure \\@ref(fig:anscombe) we see that all four of these are *spectacularly* different to each other. "
   ]
  },
  {
   "cell_type": "code",
   "execution_count": null,
   "metadata": {},
   "outputs": [],
   "source": [
    "import seaborn as sns\n"
   ]
  },
  {
   "cell_type": "markdown",
   "metadata": {},
   "source": [
    "```{r anscombe, echo=FALSE, fig.cap=\"Anscombe's quartet. All four of these data sets have a Pearson correlation of $r = .816$, but they are qualitatively different from one another.\"}\n",
    "par(mfcol = c(2, 2)) # Create a 2 x 2 plotting matrix\n",
    "\n",
    "load(\"./data/anscombesquartet.Rdata\")\n",
    "\n",
    "\toneCorPlot <- function(x,y,...) {\n",
    "\t\t\n",
    "\t\tplot(x,y,pch=19,col=\"black\",...)\n",
    "\t\t\n",
    "\t}\n",
    "\n",
    "oneCorPlot(X1,Y1,xlab=\"X1\",ylab=\"Y1\")\n",
    "\n",
    "\n",
    "\toneCorPlot(X2,Y2,xlab=\"X2\",ylab=\"Y2\")\n",
    "\n",
    "\n",
    "\toneCorPlot(X3,Y3,xlab=\"X3\",ylab=\"Y3\")\n",
    "\n",
    "\n",
    "\toneCorPlot(X4,Y4,xlab=\"X4\",ylab=\"Y4\")\n",
    "\n",
    "\n",
    "```"
   ]
  },
  {
   "cell_type": "code",
   "execution_count": 254,
   "metadata": {},
   "outputs": [
    {
     "data": {
      "text/plain": [
       "<AxesSubplot:xlabel='x4', ylabel='y4'>"
      ]
     },
     "execution_count": 254,
     "metadata": {},
     "output_type": "execute_result"
    },
    {
     "data": {
      "image/png": "[encoded data removed]",
      "text/plain": [
       "<Figure size 1080x360 with 4 Axes>"
      ]
     },
     "metadata": {
      "needs_background": "light"
     },
     "output_type": "display_data"
    }
   ],
   "source": [
    "import seaborn as sns\n",
    "\n",
    "fig, axes = plt.subplots(2, 2, figsize=(15, 5), sharey=False)\n",
    "fig.suptitle('Anscombe\\'s quartet')\n",
    "\n",
    "sns.scatterplot(x = df['x'], y = df['y1'], ax = axes[0,0])\n",
    "sns.scatterplot(x = df['x'], y = df['y2'], ax = axes[0,1])\n",
    "sns.scatterplot(x = df['x'], y = df['y3'], ax = axes[1,0])\n",
    "sns.scatterplot(x = df['x4'], y = df['y4'], ax = axes[1,1])\n"
   ]
  },
  {
   "cell_type": "markdown",
   "metadata": {},
   "source": [
    "The lesson here, which so very many people seem to forget in real life is \"*always graph your raw data*\". This will be the focus of Chapter \\@ref(graphics).\n",
    "\n",
    "\n",
    "### Spearman's rank correlations\n",
    "\n",
    "```{r rankcorrpic, fig.cap=\"The relationship between hours worked and grade received, for a toy data set consisting of only 10 students (each circle corresponds to one student). The dashed line through the middle shows the linear relationship between the two variables. This produces a strong Pearson correlation of $r = .91$. However, the interesting thing to note here is that there's actually a perfect monotonic relationship between the two variables: in this toy example at least, increasing the hours worked always increases the grade received, as illustrated by the solid line. This is reflected in a Spearman correlation of $rho = 1$. With such a small data set, however, it's an open question as to which version better describes the actual relationship involved. \", echo=FALSE}\n",
    "\n",
    "describeImg <- list()\n",
    "emphCol <- rgb(0,0,1)\n",
    "emphColLight <- rgb(.5,.5,1)\n",
    "emphGrey <- grey(.5)\n",
    "\n",
    "eps <- TRUE\n",
    "colour <- TRUE\n",
    "width <- 7\n",
    "\theight <- 6\n",
    "\t\n",
    "\t# load data\n",
    "\tload(\"./data/effort.Rdata\")\n",
    "\trequire(lsr)\n",
    "\teffort <- sortFrame(effort,hours)\n",
    "\n",
    "\t# draw the plot\n",
    "\tplot(effort$hours,effort$grade,type=\"b\",col=ifelse(colour,emphCol,\"black\"),\n",
    "\t\txlab=\"Hours Worked\",ylab=\"Grade Received\",xlim=c(0,80),ylim=c(0,100),\n",
    "\t\tpch=19,lwd=3)\n",
    "\tabline(coef=lm(grade~hours,effort)$coef,lty=2)\n",
    "\t\n",
    "\n",
    "```"
   ]
  },
  {
   "cell_type": "markdown",
   "metadata": {},
   "source": [
    "The Pearson correlation coefficient is useful for a lot of things, but it does have shortcomings. One issue in particular stands out: what it actually measures is the strength of the *linear* relationship between two variables. In other words, what it gives you is a measure of the extent to which the data all tend to fall on a single, perfectly straight line. Often, this is a pretty good approximation to what we mean when we say \"relationship\", and so the Pearson correlation is a good thing to calculation. Sometimes, it isn't. \n",
    "\n",
    "One very common situation where the Pearson correlation isn't quite the right thing to use arises when an increase in one variable $X$ really is reflected in an increase in another variable $Y$, but the nature of the relationship isn't necessarily linear. An example of this might be the relationship between effort and reward when studying for an exam. If you put in zero effort ($X$) into learning a subject, then you should expect a grade of 0% ($Y$). However, a little bit of effort will cause a *massive* improvement: just turning up to lectures means that you learn a fair bit, and if you just turn up to classes, and scribble a few things down so your grade might rise to 35%, all without a lot of effort. However, you just don't get the same effect at the other end of the scale. As everyone knows, it takes *a lot* more effort to get a grade of 90% than it takes to get a grade of 55%. What this means is that, if I've got data looking at study effort and grades, there's a pretty good chance that Pearson correlations will be misleading. \n",
    "\n",
    "\n",
    "To illustrate, consider the data plotted in Figure \\@ref(fig:rankcorrpic), showing the relationship between hours worked and grade received for 10 students taking some class. The curious thing about this -- highly fictitious -- data set is that increasing your effort *always* increases your grade. It might be by a lot or it might be by a little, but increasing effort will never decrease your grade. The data are stored in `effort.csv`:"
   ]
  },
  {
   "cell_type": "code",
   "execution_count": 258,
   "metadata": {},
   "outputs": [
    {
     "data": {
      "text/html": [
       "<div>\n",
       "<style scoped>\n",
       "    .dataframe tbody tr th:only-of-type {\n",
       "        vertical-align: middle;\n",
       "    }\n",
       "\n",
       "    .dataframe tbody tr th {\n",
       "        vertical-align: top;\n",
       "    }\n",
       "\n",
       "    .dataframe thead th {\n",
       "        text-align: right;\n",
       "    }\n",
       "</style>\n",
       "<table border=\"1\" class=\"dataframe\">\n",
       "  <thead>\n",
       "    <tr style=\"text-align: right;\">\n",
       "      <th></th>\n",
       "      <th>hours</th>\n",
       "      <th>grade</th>\n",
       "    </tr>\n",
       "  </thead>\n",
       "  <tbody>\n",
       "    <tr>\n",
       "      <th>0</th>\n",
       "      <td>2</td>\n",
       "      <td>13</td>\n",
       "    </tr>\n",
       "    <tr>\n",
       "      <th>1</th>\n",
       "      <td>76</td>\n",
       "      <td>91</td>\n",
       "    </tr>\n",
       "    <tr>\n",
       "      <th>2</th>\n",
       "      <td>40</td>\n",
       "      <td>79</td>\n",
       "    </tr>\n",
       "    <tr>\n",
       "      <th>3</th>\n",
       "      <td>6</td>\n",
       "      <td>14</td>\n",
       "    </tr>\n",
       "    <tr>\n",
       "      <th>4</th>\n",
       "      <td>16</td>\n",
       "      <td>21</td>\n",
       "    </tr>\n",
       "    <tr>\n",
       "      <th>5</th>\n",
       "      <td>28</td>\n",
       "      <td>74</td>\n",
       "    </tr>\n",
       "    <tr>\n",
       "      <th>6</th>\n",
       "      <td>27</td>\n",
       "      <td>47</td>\n",
       "    </tr>\n",
       "    <tr>\n",
       "      <th>7</th>\n",
       "      <td>59</td>\n",
       "      <td>85</td>\n",
       "    </tr>\n",
       "    <tr>\n",
       "      <th>8</th>\n",
       "      <td>46</td>\n",
       "      <td>84</td>\n",
       "    </tr>\n",
       "    <tr>\n",
       "      <th>9</th>\n",
       "      <td>68</td>\n",
       "      <td>88</td>\n",
       "    </tr>\n",
       "  </tbody>\n",
       "</table>\n",
       "</div>"
      ],
      "text/plain": [
       "   hours  grade\n",
       "0      2     13\n",
       "1     76     91\n",
       "2     40     79\n",
       "3      6     14\n",
       "4     16     21\n",
       "5     28     74\n",
       "6     27     47\n",
       "7     59     85\n",
       "8     46     84\n",
       "9     68     88"
      ]
     },
     "execution_count": 258,
     "metadata": {},
     "output_type": "execute_result"
    }
   ],
   "source": [
    "from os import chdir as cd\n",
    "import pandas as pd\n",
    "\n",
    "pathin = '/Users/ethan/Documents/GitHub/pythonbook/Data/'\n",
    "file = 'effort.csv'\n",
    "\n",
    "cd(pathin)\n",
    "\n",
    "effort = pd.read_csv(file)\n",
    "\n",
    "effort"
   ]
  },
  {
   "cell_type": "markdown",
   "metadata": {},
   "source": [
    "If we run a standard Pearson correlation, it shows a strong relationship between hours worked and grade received,"
   ]
  },
  {
   "cell_type": "code",
   "execution_count": 259,
   "metadata": {},
   "outputs": [
    {
     "data": {
      "text/plain": [
       "0.9094019658612525"
      ]
     },
     "execution_count": 259,
     "metadata": {},
     "output_type": "execute_result"
    }
   ],
   "source": [
    "effort['hours'].corr(effort['grade'])"
   ]
  },
  {
   "cell_type": "code",
   "execution_count": 265,
   "metadata": {},
   "outputs": [
    {
     "data": {
      "text/plain": [
       "<AxesSubplot:xlabel='hours', ylabel='grade'>"
      ]
     },
     "execution_count": 265,
     "metadata": {},
     "output_type": "execute_result"
    },
    {
     "data": {
      "image/png": "[encoded data removed]",
      "text/plain": [
       "<Figure size 432x288 with 1 Axes>"
      ]
     },
     "metadata": {
      "needs_background": "light"
     },
     "output_type": "display_data"
    }
   ],
   "source": [
    "import seaborn as sns\n",
    "\n",
    "fig, ax = plt.subplots()\n",
    "sns.regplot(x='hours', y='grade', data=effort, ci=None, ax=ax)\n",
    "sns.lineplot(x='hours', y='grade', data=effort, ci=None, ax=ax)"
   ]
  },
  {
   "cell_type": "markdown",
   "metadata": {},
   "source": [
    "*Fig. XXX: The relationship between hours worked and grade received, for a toy data set consisting of only 10 students (each circle corresponds to one student). The dashed line through the middle shows the linear relationship between the two variables. This produces a strong Pearson correlation of $r = .91$. However, the interesting thing to note here is that there's actually a perfect monotonic relationship between the two variables: in this toy example at least, increasing the hours worked always increases the grade received, as illustrated by the solid line. This is reflected in a Spearman correlation of $rho = 1$. With such a small data set, however, it's an open question as to which version better describes the actual relationship involved.*\n",
    "\n",
    "but this doesn't actually capture the observation that increasing hours worked *always* increases the grade. There's a sense here in which we want to be able to say that the correlation is *perfect* but for a somewhat different notion of what a \"relationship\" is. What we're looking for is something that captures the fact that there is a perfect **_ordinal relationship_** here. That is, if student 1 works more hours than student 2, then we can guarantee that student 1 will get the better grade. That's not what a correlation of $r = .91$ says at all.\n",
    "\n",
    "How should we address this? Actually, it's really easy: if we're looking for ordinal relationships, all we have to do is treat the data as if it were ordinal scale! So, instead of measuring effort in terms of \"hours worked\", lets rank all 10 of our students in order of hours worked. That is, student 1 did the least work out of anyone (2 hours) so they get the lowest rank (rank = 1). Student 4 was the next laziest, putting in only  6 hours of work in over the whole semester, so they get the next lowest rank (rank = 2). Notice that I'm using \"rank =1\" to mean \"low rank\". Sometimes in everyday language we talk about \"rank = 1\" to mean \"top rank\" rather than \"bottom rank\". So be careful: you can rank \"from smallest value to largest value\" (i.e., small equals rank 1) or you can rank \"from largest value to smallest value\" (i.e., large equals rank 1). In this case, I'm ranking from smallest to largest, because that's the default way that R does it. But in real life, it's really easy to forget which way you set things up, so you have to put a bit of effort into remembering! \n",
    "\n",
    "Okay, so let's have a look at our students when we rank them from worst to best in terms of effort and reward: \n",
    "\n",
    "\n",
    "|            | rank (hours worked) | rank (grade received) |\n",
    "| :--------: | :-----------------: | :-------------------: |\n",
    "| student 1  |          1          |           1           |\n",
    "| student 2  |         10          |          10           |\n",
    "| student 3  |          6          |           6           |\n",
    "| student 4  |          2          |           2           |\n",
    "| student 5  |          3          |           3           |\n",
    "| student 6  |          5          |           5           |\n",
    "| student 7  |          4          |           4           |\n",
    "| student 8  |          8          |           8           |\n",
    "| student 9  |          7          |           7           |\n",
    "| student 10 |          9          |           9           |\n",
    "\n",
    "\n",
    "Hm. These are *identical*. The student who put in the most effort got the best grade, the student with the least effort got the worst grade, etc. We can get R to construct these rankings using the `rank()` function, like this:"
   ]
  },
  {
   "cell_type": "markdown",
   "metadata": {},
   "source": [
    "`effort['hours'].rank()`\n",
    "`effort['grade'].rank()`\n",
    "\n",
    "\n",
    "As the table above shows, these two rankings are identical, so if we now correlate them we get a perfect relationship:"
   ]
  },
  {
   "cell_type": "code",
   "execution_count": 269,
   "metadata": {},
   "outputs": [
    {
     "data": {
      "text/plain": [
       "0.9999999999999999"
      ]
     },
     "execution_count": 269,
     "metadata": {},
     "output_type": "execute_result"
    }
   ],
   "source": [
    "effort['hours'].rank().corr(effort['grade'].rank())"
   ]
  },
  {
   "cell_type": "markdown",
   "metadata": {},
   "source": [
    "What we've just re-invented is **_Spearman's rank order correlation_**, usually denoted $\\rho$ to distinguish it from the Pearson correlation $r$. We can calculate Spearman's $\\rho$ using R in two different ways. Firstly we could do it the way I just showed, using the `rank()` function to construct the rankings, and then calculate the Pearson correlation on these ranks. However, that's way too much effort to do every time. It's much easier to just specify the `method` argument of the `cor()` function. "
   ]
  },
  {
   "cell_type": "code",
   "execution_count": 271,
   "metadata": {},
   "outputs": [
    {
     "data": {
      "text/plain": [
       "0.9999999999999999"
      ]
     },
     "execution_count": 271,
     "metadata": {},
     "output_type": "execute_result"
    }
   ],
   "source": [
    "effort['hours'].corr(effort['grade'], method=\"spearman\")"
   ]
  },
  {
   "cell_type": "markdown",
   "metadata": {},
   "source": [
    "The default value of the `method` argument is `\"pearson\"`, which is why we didn't have to specify it earlier on when we were doing Pearson correlations. "
   ]
  },
  {
   "cell_type": "markdown",
   "metadata": {},
   "source": [
    "## Handling missing values{#missing}\n",
    "\n",
    "There's one last topic that I want to discuss briefly in this chapter, and that's the issue of **_missing data_**. Real data sets very frequently turn out to have missing values: perhaps someone forgot to fill in a particular survey question, for instance. Missing data can be the source of a lot of tricky issues, most of which I'm going to gloss over. However, at a minimum, you need to understand the basics of handling missing data in R. \n",
    "\n",
    "\n",
    "### The single variable case\n",
    "\n",
    "Let's start with the simplest case, in which you're trying to calculate descriptive statistics for a single variable which has missing data. In R, this means that there will be `NA` values in your data vector. Let's create a variable like that:"
   ]
  },
  {
   "cell_type": "code",
   "execution_count": 282,
   "metadata": {},
   "outputs": [],
   "source": [
    "partial = [10, 20, float('nan'), 30]"
   ]
  },
  {
   "cell_type": "markdown",
   "metadata": {},
   "source": [
    "Let's assume that you want to calculate the mean of this variable. By default, R assumes that you want to calculate the mean using all four elements of this vector, which is probably the safest thing for a dumb automaton to do, but it's rarely what you actually want. Why not? Well, remember that the basic interpretation of `NA` is \"I don't know what this number is\". This means that `1 + NA = NA`: if I add 1 to some number that I don't know (i.e., the `NA`) then the answer is *also* a number that I don't know. As a consequence, if you don't explicitly tell R to ignore the `NA` values, and the data set does have missing values, then the output will itself be a missing value. If I try to calculate the mean of the `partial` vector, without doing anything about the missing value, here's what happens:"
   ]
  },
  {
   "cell_type": "code",
   "execution_count": 283,
   "metadata": {},
   "outputs": [
    {
     "data": {
      "text/plain": [
       "nan"
      ]
     },
     "execution_count": 283,
     "metadata": {},
     "output_type": "execute_result"
    }
   ],
   "source": [
    "statistics.mean(partial)"
   ]
  },
  {
   "cell_type": "markdown",
   "metadata": {},
   "source": [
    "Technically correct, but deeply unhelpful. \n",
    "\n",
    "To fix this, all of the descriptive statistics functions that I've discussed in this chapter (with the exception of `cor()` which is a special case I'll discuss below) have an optional argument called `na.rm`, which is shorthand for \"remove NA values\". By default, `na.rm = FALSE`, so R does nothing about the missing data problem. Let's try setting `na.rm = TRUE` and see what happens:\n",
    "\n",
    "When calculating sums and means when missing data are present (i.e., when there are `NA` values) there's actually an additional argument to the function that you should be aware of. This argument is called `na.rm`, and is a logical value indicating whether R should ignore (or \"remove\") the missing data for the purposes of doing the calculations. By default, R assumes that you want to keep the missing values, so unless you say otherwise it will set `na.rm = FALSE`. However, R assumes that `1 + NA = NA`: if I add 1 to some number that I don't know (i.e., the `NA`) then the answer is *also* a number that I don't know. As a consequence, if you don't explicitly tell R to ignore the `NA` values, and the data set does have missing values, then the output will itself be a missing value. This is illustrated in the following extract:"
   ]
  },
  {
   "cell_type": "code",
   "execution_count": 287,
   "metadata": {},
   "outputs": [
    {
     "data": {
      "text/plain": [
       "20.0"
      ]
     },
     "execution_count": 287,
     "metadata": {},
     "output_type": "execute_result"
    }
   ],
   "source": [
    "from numpy import nanmean\n",
    "nanmean(partial)"
   ]
  },
  {
   "cell_type": "markdown",
   "metadata": {},
   "source": [
    "```\n",
    "> mean( x = partial, na.rm = TRUE )\n",
    "[1] 20\n",
    "```\n",
    "Notice that the mean is `20`  (i.e., `60 / 3`) and *not* `15`. When R ignores a `NA` value, it genuinely ignores it. In effect, the calculation above is identical to what you'd get if you asked for the mean of the three-element vector `c(10, 20, 30)`.\n",
    "\n",
    "\n",
    "### Missing values in pairwise calculations\n",
    "\n",
    "I mentioned earlier that the `cor()` function is a special case. It doesn't have an `na.rm` argument, because the story becomes a lot more complicated when more than one variable is involved. What it does have is an argument called `use` which does roughly the same thing, but you need to think  little more carefully about what you want this time. To illustrate the issues, let's open up a data set that has missing values, `parenthood2.Rdata`. This file contains the same data as the original parenthood data, but with some values deleted. It contains a single data frame, `parenthood2`:"
   ]
  },
  {
   "cell_type": "code",
   "execution_count": 290,
   "metadata": {},
   "outputs": [
    {
     "data": {
      "text/html": [
       "<div>\n",
       "<style scoped>\n",
       "    .dataframe tbody tr th:only-of-type {\n",
       "        vertical-align: middle;\n",
       "    }\n",
       "\n",
       "    .dataframe tbody tr th {\n",
       "        vertical-align: top;\n",
       "    }\n",
       "\n",
       "    .dataframe thead th {\n",
       "        text-align: right;\n",
       "    }\n",
       "</style>\n",
       "<table border=\"1\" class=\"dataframe\">\n",
       "  <thead>\n",
       "    <tr style=\"text-align: right;\">\n",
       "      <th></th>\n",
       "      <th>dan.sleep</th>\n",
       "      <th>baby.sleep</th>\n",
       "      <th>dan.grump</th>\n",
       "      <th>day</th>\n",
       "    </tr>\n",
       "  </thead>\n",
       "  <tbody>\n",
       "    <tr>\n",
       "      <th>0</th>\n",
       "      <td>7.59</td>\n",
       "      <td>NaN</td>\n",
       "      <td>56.0</td>\n",
       "      <td>1</td>\n",
       "    </tr>\n",
       "    <tr>\n",
       "      <th>1</th>\n",
       "      <td>7.91</td>\n",
       "      <td>11.66</td>\n",
       "      <td>60.0</td>\n",
       "      <td>2</td>\n",
       "    </tr>\n",
       "    <tr>\n",
       "      <th>2</th>\n",
       "      <td>5.14</td>\n",
       "      <td>7.92</td>\n",
       "      <td>82.0</td>\n",
       "      <td>3</td>\n",
       "    </tr>\n",
       "    <tr>\n",
       "      <th>3</th>\n",
       "      <td>7.71</td>\n",
       "      <td>9.61</td>\n",
       "      <td>55.0</td>\n",
       "      <td>4</td>\n",
       "    </tr>\n",
       "    <tr>\n",
       "      <th>4</th>\n",
       "      <td>6.68</td>\n",
       "      <td>9.75</td>\n",
       "      <td>NaN</td>\n",
       "      <td>5</td>\n",
       "    </tr>\n",
       "    <tr>\n",
       "      <th>...</th>\n",
       "      <td>...</td>\n",
       "      <td>...</td>\n",
       "      <td>...</td>\n",
       "      <td>...</td>\n",
       "    </tr>\n",
       "    <tr>\n",
       "      <th>95</th>\n",
       "      <td>NaN</td>\n",
       "      <td>5.89</td>\n",
       "      <td>79.0</td>\n",
       "      <td>96</td>\n",
       "    </tr>\n",
       "    <tr>\n",
       "      <th>96</th>\n",
       "      <td>7.77</td>\n",
       "      <td>9.77</td>\n",
       "      <td>51.0</td>\n",
       "      <td>97</td>\n",
       "    </tr>\n",
       "    <tr>\n",
       "      <th>97</th>\n",
       "      <td>5.38</td>\n",
       "      <td>6.97</td>\n",
       "      <td>82.0</td>\n",
       "      <td>98</td>\n",
       "    </tr>\n",
       "    <tr>\n",
       "      <th>98</th>\n",
       "      <td>7.02</td>\n",
       "      <td>6.56</td>\n",
       "      <td>55.0</td>\n",
       "      <td>99</td>\n",
       "    </tr>\n",
       "    <tr>\n",
       "      <th>99</th>\n",
       "      <td>6.45</td>\n",
       "      <td>7.93</td>\n",
       "      <td>74.0</td>\n",
       "      <td>100</td>\n",
       "    </tr>\n",
       "  </tbody>\n",
       "</table>\n",
       "<p>100 rows × 4 columns</p>\n",
       "</div>"
      ],
      "text/plain": [
       "    dan.sleep  baby.sleep  dan.grump  day\n",
       "0        7.59         NaN       56.0    1\n",
       "1        7.91       11.66       60.0    2\n",
       "2        5.14        7.92       82.0    3\n",
       "3        7.71        9.61       55.0    4\n",
       "4        6.68        9.75        NaN    5\n",
       "..        ...         ...        ...  ...\n",
       "95        NaN        5.89       79.0   96\n",
       "96       7.77        9.77       51.0   97\n",
       "97       5.38        6.97       82.0   98\n",
       "98       7.02        6.56       55.0   99\n",
       "99       6.45        7.93       74.0  100\n",
       "\n",
       "[100 rows x 4 columns]"
      ]
     },
     "execution_count": 290,
     "metadata": {},
     "output_type": "execute_result"
    }
   ],
   "source": [
    "from os import chdir as cd\n",
    "import pandas as pd\n",
    "\n",
    "pathin = '/Users/ethan/Documents/GitHub/pythonbook/Data/'\n",
    "file = 'parenthood2.csv'\n",
    "\n",
    "cd(pathin)\n",
    "\n",
    "parenthood2 = pd.read_csv(file)\n",
    "\n",
    "parenthood2"
   ]
  },
  {
   "cell_type": "markdown",
   "metadata": {},
   "source": [
    "```\n",
    "> load( \"parenthood2.Rdata\" )\n",
    "> print( parenthood2 )\n",
    "  dan.sleep baby.sleep dan.grump day\n",
    "1      7.59         NA        56   1\n",
    "2      7.91      11.66        60   2\n",
    "3      5.14       7.92        82   3\n",
    "4      7.71       9.61        55   4\n",
    "5      6.68       9.75        NA   5\n",
    "6      5.99       5.04        72   6\n",
    "BLAH BLAH BLAH\n",
    "```\n",
    "If I calculate my descriptive statistics using the `describe()` function"
   ]
  },
  {
   "cell_type": "code",
   "execution_count": 291,
   "metadata": {},
   "outputs": [
    {
     "data": {
      "text/html": [
       "<div>\n",
       "<style scoped>\n",
       "    .dataframe tbody tr th:only-of-type {\n",
       "        vertical-align: middle;\n",
       "    }\n",
       "\n",
       "    .dataframe tbody tr th {\n",
       "        vertical-align: top;\n",
       "    }\n",
       "\n",
       "    .dataframe thead th {\n",
       "        text-align: right;\n",
       "    }\n",
       "</style>\n",
       "<table border=\"1\" class=\"dataframe\">\n",
       "  <thead>\n",
       "    <tr style=\"text-align: right;\">\n",
       "      <th></th>\n",
       "      <th>dan.sleep</th>\n",
       "      <th>baby.sleep</th>\n",
       "      <th>dan.grump</th>\n",
       "      <th>day</th>\n",
       "    </tr>\n",
       "  </thead>\n",
       "  <tbody>\n",
       "    <tr>\n",
       "      <th>count</th>\n",
       "      <td>91.000000</td>\n",
       "      <td>89.000000</td>\n",
       "      <td>92.000000</td>\n",
       "      <td>100.000000</td>\n",
       "    </tr>\n",
       "    <tr>\n",
       "      <th>mean</th>\n",
       "      <td>6.976923</td>\n",
       "      <td>8.114494</td>\n",
       "      <td>63.152174</td>\n",
       "      <td>50.500000</td>\n",
       "    </tr>\n",
       "    <tr>\n",
       "      <th>std</th>\n",
       "      <td>1.020409</td>\n",
       "      <td>2.046821</td>\n",
       "      <td>9.851574</td>\n",
       "      <td>29.011492</td>\n",
       "    </tr>\n",
       "    <tr>\n",
       "      <th>min</th>\n",
       "      <td>4.840000</td>\n",
       "      <td>3.250000</td>\n",
       "      <td>41.000000</td>\n",
       "      <td>1.000000</td>\n",
       "    </tr>\n",
       "    <tr>\n",
       "      <th>25%</th>\n",
       "      <td>6.285000</td>\n",
       "      <td>6.460000</td>\n",
       "      <td>56.000000</td>\n",
       "      <td>25.750000</td>\n",
       "    </tr>\n",
       "    <tr>\n",
       "      <th>50%</th>\n",
       "      <td>7.030000</td>\n",
       "      <td>8.200000</td>\n",
       "      <td>61.000000</td>\n",
       "      <td>50.500000</td>\n",
       "    </tr>\n",
       "    <tr>\n",
       "      <th>75%</th>\n",
       "      <td>7.785000</td>\n",
       "      <td>9.610000</td>\n",
       "      <td>70.250000</td>\n",
       "      <td>75.250000</td>\n",
       "    </tr>\n",
       "    <tr>\n",
       "      <th>max</th>\n",
       "      <td>9.000000</td>\n",
       "      <td>12.070000</td>\n",
       "      <td>89.000000</td>\n",
       "      <td>100.000000</td>\n",
       "    </tr>\n",
       "  </tbody>\n",
       "</table>\n",
       "</div>"
      ],
      "text/plain": [
       "       dan.sleep  baby.sleep  dan.grump         day\n",
       "count  91.000000   89.000000  92.000000  100.000000\n",
       "mean    6.976923    8.114494  63.152174   50.500000\n",
       "std     1.020409    2.046821   9.851574   29.011492\n",
       "min     4.840000    3.250000  41.000000    1.000000\n",
       "25%     6.285000    6.460000  56.000000   25.750000\n",
       "50%     7.030000    8.200000  61.000000   50.500000\n",
       "75%     7.785000    9.610000  70.250000   75.250000\n",
       "max     9.000000   12.070000  89.000000  100.000000"
      ]
     },
     "execution_count": 291,
     "metadata": {},
     "output_type": "execute_result"
    }
   ],
   "source": [
    "parenthood2.describe()"
   ]
  },
  {
   "cell_type": "markdown",
   "metadata": {},
   "source": [
    "```\n",
    "> describe( parenthood2 )\n",
    "           var   n  mean    sd median trimmed   mad   min    max    BLAH\n",
    "dan.sleep    1  91  6.98  1.02   7.03    7.02  1.13  4.84   9.00    BLAH\n",
    "baby.sleep   2  89  8.11  2.05   8.20    8.13  2.28  3.25  12.07    BLAH\n",
    "dan.grump    3  92 63.15  9.85  61.00   62.66 10.38 41.00  89.00    BLAH\n",
    "day          4 100 50.50 29.01  50.50   50.50 37.06  1.00 100.00    BLAH\n",
    "```\n",
    "we can see from the `n` column that there are 9 missing values for `dan.sleep`, 11 missing values for `baby.sleep` and 8 missing values for `dan.grump`.^[It's worth noting that, even though we have missing data for each of these variables, the output doesn't contain any `NA` values. This is because, while `describe()` also has an `na.rm` argument, the default value for this function is `na.rm = TRUE`.] Suppose what I would like is a correlation matrix. And let's also suppose that I don't bother to tell R how to handle those missing values. Here's what happens:"
   ]
  },
  {
   "cell_type": "code",
   "execution_count": 294,
   "metadata": {},
   "outputs": [
    {
     "data": {
      "text/html": [
       "<div>\n",
       "<style scoped>\n",
       "    .dataframe tbody tr th:only-of-type {\n",
       "        vertical-align: middle;\n",
       "    }\n",
       "\n",
       "    .dataframe tbody tr th {\n",
       "        vertical-align: top;\n",
       "    }\n",
       "\n",
       "    .dataframe thead th {\n",
       "        text-align: right;\n",
       "    }\n",
       "</style>\n",
       "<table border=\"1\" class=\"dataframe\">\n",
       "  <thead>\n",
       "    <tr style=\"text-align: right;\">\n",
       "      <th></th>\n",
       "      <th>dan.sleep</th>\n",
       "      <th>baby.sleep</th>\n",
       "      <th>dan.grump</th>\n",
       "      <th>day</th>\n",
       "    </tr>\n",
       "  </thead>\n",
       "  <tbody>\n",
       "    <tr>\n",
       "      <th>dan.sleep</th>\n",
       "      <td>1.000000</td>\n",
       "      <td>0.639498</td>\n",
       "      <td>-0.899515</td>\n",
       "      <td>0.061329</td>\n",
       "    </tr>\n",
       "    <tr>\n",
       "      <th>baby.sleep</th>\n",
       "      <td>0.639498</td>\n",
       "      <td>1.000000</td>\n",
       "      <td>-0.586561</td>\n",
       "      <td>0.145558</td>\n",
       "    </tr>\n",
       "    <tr>\n",
       "      <th>dan.grump</th>\n",
       "      <td>-0.899515</td>\n",
       "      <td>-0.586561</td>\n",
       "      <td>1.000000</td>\n",
       "      <td>-0.068166</td>\n",
       "    </tr>\n",
       "    <tr>\n",
       "      <th>day</th>\n",
       "      <td>0.061329</td>\n",
       "      <td>0.145558</td>\n",
       "      <td>-0.068166</td>\n",
       "      <td>1.000000</td>\n",
       "    </tr>\n",
       "  </tbody>\n",
       "</table>\n",
       "</div>"
      ],
      "text/plain": [
       "            dan.sleep  baby.sleep  dan.grump       day\n",
       "dan.sleep    1.000000    0.639498  -0.899515  0.061329\n",
       "baby.sleep   0.639498    1.000000  -0.586561  0.145558\n",
       "dan.grump   -0.899515   -0.586561   1.000000 -0.068166\n",
       "day          0.061329    0.145558  -0.068166  1.000000"
      ]
     },
     "execution_count": 294,
     "metadata": {},
     "output_type": "execute_result"
    }
   ],
   "source": [
    "parenthood2.dropna().corr()"
   ]
  },
  {
   "cell_type": "markdown",
   "metadata": {},
   "source": [
    "USE DROPNA() TO IGNORE ROWS WITH NANS\n",
    "\n",
    "To make R behave more sensibly in this situation, you need to specify the `use` argument to the `cor()` function. There are several different values that you can specify for this, but the two that we care most about in practice tend to be `\"complete.obs\"` and `\"pairwise.complete.obs\"`. If we specify `use = \"complete.obs\"`, R will completely ignore all cases (i.e., all rows in our `parenthood2` data frame) that have any missing values at all. So, for instance, if you look back at the extract earlier when I used the `head()` function, notice that observation 1 (i.e., day 1) of the `parenthood2` data set is missing the value for `baby.sleep`, but is otherwise complete? Well, if you choose `use = \"complete.obs\"` R will ignore that row completely: that is, even when it's trying to calculate the correlation between `dan.sleep` and `dan.grump`, observation 1 will be ignored, because the value of `baby.sleep` is missing for that observation. Here's what we get:\n",
    "```\n",
    "> cor(parenthood2, use = \"complete.obs\")\n",
    "             dan.sleep baby.sleep   dan.grump         day\n",
    "dan.sleep   1.00000000  0.6394985 -0.89951468  0.06132891\n",
    "baby.sleep  0.63949845  1.0000000 -0.58656066  0.14555814\n",
    "dan.grump  -0.89951468 -0.5865607  1.00000000 -0.06816586\n",
    "day         0.06132891  0.1455581 -0.06816586  1.00000000\n",
    "```"
   ]
  },
  {
   "cell_type": "code",
   "execution_count": 295,
   "metadata": {},
   "outputs": [
    {
     "data": {
      "text/html": [
       "<div>\n",
       "<style scoped>\n",
       "    .dataframe tbody tr th:only-of-type {\n",
       "        vertical-align: middle;\n",
       "    }\n",
       "\n",
       "    .dataframe tbody tr th {\n",
       "        vertical-align: top;\n",
       "    }\n",
       "\n",
       "    .dataframe thead th {\n",
       "        text-align: right;\n",
       "    }\n",
       "</style>\n",
       "<table border=\"1\" class=\"dataframe\">\n",
       "  <thead>\n",
       "    <tr style=\"text-align: right;\">\n",
       "      <th></th>\n",
       "      <th>dan.sleep</th>\n",
       "      <th>baby.sleep</th>\n",
       "      <th>dan.grump</th>\n",
       "      <th>day</th>\n",
       "    </tr>\n",
       "  </thead>\n",
       "  <tbody>\n",
       "    <tr>\n",
       "      <th>dan.sleep</th>\n",
       "      <td>1.000000</td>\n",
       "      <td>0.614723</td>\n",
       "      <td>-0.903442</td>\n",
       "      <td>-0.076797</td>\n",
       "    </tr>\n",
       "    <tr>\n",
       "      <th>baby.sleep</th>\n",
       "      <td>0.614723</td>\n",
       "      <td>1.000000</td>\n",
       "      <td>-0.567803</td>\n",
       "      <td>0.058309</td>\n",
       "    </tr>\n",
       "    <tr>\n",
       "      <th>dan.grump</th>\n",
       "      <td>-0.903442</td>\n",
       "      <td>-0.567803</td>\n",
       "      <td>1.000000</td>\n",
       "      <td>0.005833</td>\n",
       "    </tr>\n",
       "    <tr>\n",
       "      <th>day</th>\n",
       "      <td>-0.076797</td>\n",
       "      <td>0.058309</td>\n",
       "      <td>0.005833</td>\n",
       "      <td>1.000000</td>\n",
       "    </tr>\n",
       "  </tbody>\n",
       "</table>\n",
       "</div>"
      ],
      "text/plain": [
       "            dan.sleep  baby.sleep  dan.grump       day\n",
       "dan.sleep    1.000000    0.614723  -0.903442 -0.076797\n",
       "baby.sleep   0.614723    1.000000  -0.567803  0.058309\n",
       "dan.grump   -0.903442   -0.567803   1.000000  0.005833\n",
       "day         -0.076797    0.058309   0.005833  1.000000"
      ]
     },
     "execution_count": 295,
     "metadata": {},
     "output_type": "execute_result"
    }
   ],
   "source": [
    "parenthood2.corr()"
   ]
  },
  {
   "cell_type": "markdown",
   "metadata": {},
   "source": [
    "USE STRAIGHT .CORR() FOR PAIRWISE CORRELATIONS\n",
    "\n",
    "The other possibility that we care about, and the one that tends to get used more often in practice, is to set `use = \"pairwise.complete.obs\"`. When we do that, R only looks at the variables that it's trying to correlate when determining what to drop. So, for instance, since the only missing value for observation 1 of `parenthood2` is for `baby.sleep` R will only drop observation 1 when `baby.sleep` is one of the variables involved: and so R keeps observation 1 when trying to correlate  `dan.sleep` and `dan.grump`. When we do it this way, here's what we get:\n",
    "```\n",
    "> cor(parenthood2, use = \"pairwise.complete.obs\") \n",
    "             dan.sleep  baby.sleep    dan.grump          day\n",
    "dan.sleep   1.00000000  0.61472303 -0.903442442 -0.076796665\n",
    "baby.sleep  0.61472303  1.00000000 -0.567802669  0.058309485\n",
    "dan.grump  -0.90344244 -0.56780267  1.000000000  0.005833399\n",
    "day        -0.07679667  0.05830949  0.005833399  1.000000000\n",
    "```\n",
    "Similar, but not quite the same. The two approaches have different strengths and weaknesses. The \"pairwise complete\" approach has the advantage that it keeps more observations, so you're making use of more of your data and (as we'll discuss in tedious detail in Chapter \\@ref(estimation) and it improves the reliability of your estimated correlation. On the other hand, it means that every correlation in your correlation matrix is being computed from a slightly different set of observations, which can be awkward when you want to compare the different correlations that you've got. \n",
    " \n",
    "So which method should you use? It depends a lot on *why* you think your values are missing, and probably depends a little on how paranoid you are. For instance, if you think that the missing values were \"chosen\" completely randomly^[The technical term here is \"missing completely at random\" (often written MCAR for short). Makes sense, I suppose, but it does sound ungrammatical to me.] then you'll probably want to use the pairwise method. If you think that missing data are a cue to thinking that the whole observation might be rubbish (e.g., someone just selecting arbitrary responses in your questionnaire), but that there's no pattern to which observations are \"rubbish\" then it's probably safer to keep only those observations that are complete. If you think there's something systematic going on, in that some observations are more likely to be missing than others, then you have a much trickier problem to solve, and one that is beyond the scope of this book.\n",
    "\n",
    "## Summary\n",
    "\n",
    "Calculating some basic descriptive statistics is one of the very first things you do when analysing real data, and descriptive statistics are much simpler to understand than inferential statistics, so like every other statistics textbook I've started with descriptives. In this chapter, we talked about the following topics:\n",
    "\n",
    "\n",
    "- *Measures of central tendency*. Broadly speaking, central tendency measures tell you where the data are. There's three measures that are typically reported in the literature: the mean, median and mode. (Section \\@ref(centraltendency))\n",
    "- *Measures of variability*. In contrast, measures of variability tell you about how \"spread out\" the data are. The key measures are: range, standard deviation, interquartile reange (Section \\@ref(var))\n",
    "- *Getting summaries of variables in R*. Since this book focuses on doing data analysis in R, we spent a bit of time talking about how descriptive statistics are computed in R. (Section \\@ref(summary) and \\@ref(groupdescriptives))\n",
    "- *Standard scores*. The $z$-score is a slightly unusual beast. It's not quite a descriptive statistic, and not quite an inference. We talked about it in Section \\@ref(zscore). Make sure you understand that section: it'll come up again later. \n",
    "- *Correlations*. Want to know how strong the relationship is between two variables? Calculate a correlation. (Section \\@ref(correl))\n",
    "- *Missing data*. Dealing with missing data is one of those frustrating things that data analysts really wish the didn't have to think about. In real life it can be hard to do well. For the purpose of this book, we only touched on the basics in Section \\@ref(missing)\n",
    "\n",
    "In the next section we'll move on to a discussion of how to draw pictures! Everyone loves a pretty picture, right? But before we do, I want to end on an important point. A traditional first course in statistics spends only a small proportion of the class on descriptive statistics, maybe one or two lectures at most. The vast majority of the lecturer's time is spent on inferential statistics, because that's where all the hard stuff is. That makes sense, but it hides the practical everyday importance of choosing good descriptives. With that in mind...\n",
    "\n",
    "## Epilogue: Good descriptive statistics are descriptive!\n",
    "\n",
    "\n",
    ">*The death of one man is a tragedy.\n",
    ">The death of millions is a statistic.*\n",
    ">\n",
    ">-- Josef Stalin, Potsdam 1945\n",
    "\n",
    "\n",
    "\n",
    ">*950,000 -- 1,200,000*\n",
    ">\n",
    ">-- Estimate of Soviet repression deaths, \n",
    "> 1937-1938 [@Ellman2002]\n",
    "\n",
    "Stalin's infamous quote about the statistical character death of millions is worth giving some thought. The clear intent of his statement is that the death of an individual touches us personally and its force cannot be denied, but that the deaths of a multitude are incomprehensible, and as a consequence mere statistics, more easily ignored. I'd argue that Stalin was half right. A statistic is an abstraction, a description of events beyond our personal experience, and so hard to visualise. Few if any of us can imagine what the deaths of millions is \"really\" like, but we can imagine one death, and this gives the lone death its feeling of immediate tragedy, a feeling that is missing from Ellman's cold statistical description.\n",
    "\n",
    "Yet it is not so simple: without numbers, without counts, without a description of what happened, we have *no chance* of understanding what really happened, no opportunity event to try to summon the missing feeling. And in truth, as I write this, sitting in comfort on a Saturday morning, half a world and a whole lifetime away from the Gulags, when I put the Ellman estimate next to the Stalin quote a dull dread settles in my stomach and a chill settles over me. The Stalinist repression is something truly beyond my experience, but with a combination of statistical data and those recorded personal histories that have come down to us, it is not entirely beyond my comprehension. Because what Ellman's numbers tell us is this: over a two year period, Stalinist repression wiped out the equivalent of every man, woman and child currently alive in the city where I live. Each one of those deaths had it's own story, was it's own tragedy, and only some of those are known to us now. Even so, with a few carefully chosen statistics, the scale of the atrocity starts to come into focus.  \n",
    "\n",
    "Thus it is no small thing to say that the first task of the statistician and the scientist is to summarise the data, to find some collection of numbers that can convey to an audience a sense of what has happened. This is the job of descriptive statistics, but it's not a job that can be told solely using the numbers. You are a data analyst, not a statistical software package. Part of your job is to take these *statistics* and turn them into a *description*. When you analyse data, it is not sufficient to list off a collection of numbers. Always remember that what you're really trying to do is communicate with a human audience. The numbers are important, but they need to be put together into a meaningful story that your audience can interpret. That means you need to think about framing. You need to think about context. And you need to think about the individual events that your statistics are summarising. "
   ]
  },
  {
   "cell_type": "code",
   "execution_count": null,
   "metadata": {},
   "outputs": [],
   "source": []
  }
 ],
 "metadata": {
  "celltoolbar": "Tags",
  "kernelspec": {
   "display_name": "Python 3",
   "language": "python",
   "name": "python3"
  },
  "language_info": {
   "codemirror_mode": {
    "name": "ipython",
    "version": 3
   },
   "file_extension": ".py",
   "mimetype": "text/x-python",
   "name": "python",
   "nbconvert_exporter": "python",
   "pygments_lexer": "ipython3",
   "version": "3.9.2"
  }
 },
 "nbformat": 4,
 "nbformat_minor": 4
}
