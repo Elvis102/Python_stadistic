{
 "cells": [
  {
   "cell_type": "markdown",
   "id": "common-excellence",
   "metadata": {},
   "source": [
    "(getting-started-with-python)=\n",
    "# Getting Started with Python"
   ]
  },
  {
   "cell_type": "markdown",
   "id": "flexible-perception",
   "metadata": {},
   "source": [
    ">*Robots are nice to work with.*\n",
    ">\n",
    ">--Roger Zelazny [^note1]\n",
    "\n",
    "[^note1] Source: *Dismal Light* (1968)."
   ]
  },
  {
   "cell_type": "markdown",
   "id": "satisfactory-testimony",
   "metadata": {},
   "source": [
    "In this chapter I'll discuss how to get started in Python. I will very little to say about how to [download and install Python](https://www.python.org/downloads/), because there are so many different ways to do this, with new advances coming out so often, that almost anything I say will be out of date as soon as I push the publish button on this chapter. Instead, most of the chapter will be focused on getting you started typing Python commands. Our goal in this chapter is not to learn any statistical concepts: we're just trying to learn the basics of how Python works and get comfortable interacting with the system. To do this, we'll spend a bit of time using Python as a simple calculator, since that's arguably the easiest thing to do with Python. In doing so, you'll get a bit of a feel for what it's like to work in Python. From there I'll introduce some very basic programming ideas: in particular, I'll talk about the idea of defining *variables* to store information, and a few things that you can do with these variables. \n",
    "\n",
    "However, before going into any of the specifics, it's worth talking a little about why you might want to use Pythob at all. Given that you're reading this, you've probably got your own reasons. However, if those reasons are \"because that's what my stats class uses\", it might be worth explaining a little why your lecturer has chosen to use Python for the class. Of course, I don't really know why *other* people choose Python, so I'm really talking about why I use it.\n",
    "\n",
    "- It's sort of obvious, but worth saying anyway: doing your statistics on a computer is faster, easier and more powerful than doing statistics by hand. Computers excel at mindless repetitive tasks, and a lot of statistical calculations are both mindless and repetitive. For most people, the only reason to ever do statistical calculations with pencil and paper is for learning purposes. In my class I do occasionally suggest doing some calculations that way, but the only real value to it is pedagogical. It does help you to get a \"feel\" for statistics to do some calculations yourself, so it's worth doing it once. But only once!\n",
    "- Doing statistics in a spreadsheet (e.g., Microsoft Excel) is generally a bad idea in the long run. Although many people are likely to feel more familiar with them, spreadsheets are very limited in terms of what analyses they allow you do. If you get into the habit of trying to do your real life data analysis using spreadsheets, then you've dug yourself into a very deep hole.\n",
    "- Avoiding proprietary software is a very good idea. There are a lot of commercial packages out there that you can buy, some of which I like and some of which I don't. They're usually very glossy in their appearance, and generally very powerful (much more powerful than spreadsheets). However, they're also very expensive: usually, the company sells \"student versions\" (crippled versions of the real thing) very cheaply; they sell full powered \"educational versions\" at a price that makes me wince; and they sell commercial licences with a staggeringly high price tag. The business model here is to suck you in during your student days, and then leave you dependent on their tools when you go out into the real world. It's hard to blame them for trying, but personally I'm not in favour of shelling out thousands of dollars if I can avoid it. And you can avoid it: if you make use of tools like Python that are open source and free, you never get trapped having to pay exorbitant licensing fees. \n",
    "- Something that you might not appreciate now, but will love later on if you do anything involving data analysis, is the fact that Python is highly extensible. When you download and install Python, you get all the basic \"modules\", and those are very powerful on their own. However, because Python is so open and so widely used, it's become something of a standard tool in statistics, and so lots of people write their own packages that extend the system. And these are freely available too. One of the consequences of this, I've noticed, is that if you look at people doing advanced work in statistical analysis, especially in the fields of machine learning and natural language processing, a *lot* of them use Python. In other words, if you learn how to do your basic statistics in Python, then you're a lot closer to being able to use the state of the art methods than you would be if you'd started out with a \"simpler\" system: so if you want to become a genuine expert in psychological data analysis, learning Python is a very good use of your time.\n",
    "- Related to the previous point: Python is a real programming language. As you get better at using Python for data analysis, you're also learning to program. To some people this might seem like a bad thing, but in truth, programming is a core research skill across a lot of the social and behavioural sciences. Think about how many surveys and experiments are done online, or presented on computers. Think about all those online social environments which you might be interested in studying; and maybe collecting data from in an automated fashion. Think about artificial intelligence systems, computer vision, \"data sci\" and speech recognition. If any of these are things that you think you might want to be involved in -- as someone \"doing research in psychology\", that is -- you'll need to know a bit of programming. And if you don't already know how to program, then learning how to do statistics using Python is a nice way to start.\n",
    "\n",
    "Those are the main reasons I use R. It's not without its flaws: it's not easy to learn, and it has a few very annoying quirks to it that we're all pretty much stuck with, but on the whole I think the strengths outweigh the weakness; more so than any other option I've encountered so far. \n"
   ]
  }
 ],
 "metadata": {
  "kernelspec": {
   "display_name": "Python 3",
   "language": "python",
   "name": "python3"
  },
  "language_info": {
   "codemirror_mode": {
    "name": "ipython",
    "version": 3
   },
   "file_extension": ".py",
   "mimetype": "text/x-python",
   "name": "python",
   "nbconvert_exporter": "python",
   "pygments_lexer": "ipython3",
   "version": "3.9.2"
  }
 },
 "nbformat": 4,
 "nbformat_minor": 5
}
