{
 "cells": [
  {
   "cell_type": "markdown",
   "id": "common-excellence",
   "metadata": {},
   "source": [
    "(getting-started-with-python)=\n",
    "# Getting Started with Python"
   ]
  },
  {
   "cell_type": "markdown",
   "id": "adjacent-donna",
   "metadata": {},
   "source": [
    ">*Robots are nice to work with.*\n",
    ">\n",
    ">--Roger Zelazny [^note1]\n",
    "\n",
    "[^note1]: Source: *Dismal Light* (1968)."
   ]
  },
  {
   "cell_type": "markdown",
   "id": "interim-mining",
   "metadata": {},
   "source": [
    "In this chapter I'll discuss how to get started in Python. I will very little to say about how to [download and install Python](https://www.python.org/downloads/), because there are so many different ways to do this, with new advances coming out so often, that almost anything I say will be out of date as soon as I push the publish button on this chapter. Instead, most of the chapter will be focused on getting you started typing Python commands. Our goal in this chapter is not to learn any statistical concepts: we're just trying to learn the basics of how Python works and get comfortable interacting with the system. To do this, we'll spend a bit of time using Python as a simple calculator, since that's arguably the easiest thing to do with Python. In doing so, you'll get a bit of a feel for what it's like to work in Python. From there I'll introduce some very basic programming ideas: in particular, I'll talk about the idea of defining *variables* to store information, and a few things that you can do with these variables. \n",
    "\n",
    "However, before going into any of the specifics, it's worth talking a little about why you might want to use Pythob at all. Given that you're reading this, you've probably got your own reasons. However, if those reasons are \"because that's what my stats class uses\", it might be worth explaining a little why your lecturer has chosen to use Python for the class. Of course, I don't really know why *other* people choose Python, so I'm really talking about why I use it.\n",
    "\n",
    "- It's sort of obvious, but worth saying anyway: doing your statistics on a computer is faster, easier and more powerful than doing statistics by hand. Computers excel at mindless repetitive tasks, and a lot of statistical calculations are both mindless and repetitive. For most people, the only reason to ever do statistical calculations with pencil and paper is for learning purposes. In my class I do occasionally suggest doing some calculations that way, but the only real value to it is pedagogical. It does help you to get a \"feel\" for statistics to do some calculations yourself, so it's worth doing it once. But only once!\n",
    "- Doing statistics in a spreadsheet (e.g., Microsoft Excel) is generally a bad idea in the long run. Although many people are likely to feel more familiar with them, spreadsheets are very limited in terms of what analyses they allow you do. If you get into the habit of trying to do your real life data analysis using spreadsheets, then you've dug yourself into a very deep hole.\n",
    "- Avoiding proprietary software is a very good idea. There are a lot of commercial packages out there that you can buy, some of which I like and some of which I don't. They're usually very glossy in their appearance, and generally very powerful (much more powerful than spreadsheets). However, they're also very expensive: usually, the company sells \"student versions\" (crippled versions of the real thing) very cheaply; they sell full powered \"educational versions\" at a price that makes me wince; and they sell commercial licences with a staggeringly high price tag. The business model here is to suck you in during your student days, and then leave you dependent on their tools when you go out into the real world. It's hard to blame them for trying, but personally I'm not in favour of shelling out thousands of dollars if I can avoid it. And you can avoid it: if you make use of tools like Python that are open source and free, you never get trapped having to pay exorbitant licensing fees. \n",
    "- Something that you might not appreciate now, but will love later on if you do anything involving data analysis, is the fact that Python is highly extensible. When you download and install Python, you get all the basic \"modules\", and those are very powerful on their own. However, because Python is so open and so widely used, it's become something of a standard tool in statistics, and so lots of people write their own packages that extend the system. And these are freely available too. One of the consequences of this, I've noticed, is that if you look at people doing advanced work in statistical analysis, especially in the fields of machine learning and natural language processing, a *lot* of them use Python. In other words, if you learn how to do your basic statistics in Python, then you're a lot closer to being able to use the state of the art methods than you would be if you'd started out with a \"simpler\" system: so if you want to become a genuine expert in psychological data analysis, learning Python is a very good use of your time.\n",
    "- Related to the previous point: Python is a real programming language. As you get better at using Python for data analysis, you're also learning to program. To some people this might seem like a bad thing, but in truth, programming is a core research skill across a lot of the social and behavioural sciences. Think about how many surveys and experiments are done online, or presented on computers. Think about all those online social environments which you might be interested in studying; and maybe collecting data from in an automated fashion. Think about artificial intelligence systems, computer vision, \"data science\" and speech recognition. If any of these are things that you think you might want to be involved in -- as someone \"doing research in psychology\", that is -- you'll need to know a bit of programming. And if you don't already know how to program, then learning how to do statistics using Python is a nice way to start.\n",
    "\n",
    "Those are the main reasons I use Python. It's not without its flaws: although it is relatively easy to learn, as programming languages go, it is a lot harder to learn than Excel, and it has a few very annoying quirks to it that we're all pretty much stuck with, but on the whole I think the strengths outweigh the weakness.\n"
   ]
  },
  {
   "cell_type": "markdown",
   "id": "stuck-princeton",
   "metadata": {},
   "source": [
    "## Installing Python\n",
    "\n",
    "Ok, I said I wasn't going to say much about [installing Python](https://www.python.org/downloads/), and I'm not. If you are reading this text for a course, then presumably your instructor has a particular way they would like you to access Python. If not, it is not difficult to find instructions for installing Python on your machine. A further complication is the installation of \"modules\" or \"packages\". Much of the power of Python comes not only from the language itself, but from the massive library of freely availabe code which others have written and made available for all of us to use. Although Python has an extremely rich ecosystem of packages available, it has not yet (as of this writing) really settled on a single way to distribute these packages. This can be frustrating, when you need to install some bit of code to do your analysis. Again, there are a variety of solutions available, such as [Anaconda](https://www.anaconda.com), and your instructor can likely help you with this. In this text, I have very consciously tried to limit the number of packages needed to a few of the very most common needed for data analysis: `numpy`, `scipy`, `pandas` and `seaborn`. These should all be relatively easy to access, and should be relatively stable.\n",
    "\n",
    "Alternatively, you could use a cloud interface, like Google CoLab, although be aware that this requires you to upload any data that you may be analyzing to Google, so this should never be used for any sensitive data of any kind, especially if your data has any sort of information that could be used to identify your participants. If at all in doubt, it is always safer to keep your data safely enrypted on your own machine.\n",
    "\n",
    "In addition to the various ways to install Python, there are also a variety of ways to send commands to Python. Although you may eventually want to simply write your Python code in a text file, and run it directly from the command line of your computer, a much easier way to interact with Python is either using a so-called IDE (Integrated Development Environment), which is a kind of software whose role in life is to make it easier for you to write Python code, or using an interactive web application like [Jupyter Notebooks](https://jupyter.org). Unless your instructor tells you otherwise, I strongly reccomend Jupyter Notebooks as the best way to get started writing Python code. This book was written in Jupyter Notebooks, and assembled using [Jupyter Book](https://jupyterbook.org/intro.html)"
   ]
  },
  {
   "cell_type": "markdown",
   "id": "aging-jungle",
   "metadata": {},
   "source": [
    "## Using the code in this book\n",
    "\n",
    "Most of the code in this book should be usable no matter what environment you are using. I have tried to make the blocks of code in this book as self-sufficient as possible, so that you can simply copy/paste into your own Python interface. In practice, this means I have (as much as I remember to) imported the necessary modules into each block of code, even when this wasn't necessary for the code to run, although here and there I have deviated from this, when I though it was clear that I was showing a series of commands to be run right after each other.\n",
    "\n",
    "Although most of the time you should be able to copy and paste the code from this book, there is one exception: in order to make figures with captions that I can link to elsewhere in the text, I have used a function called `glue`. Anywhere you see a line of code with `glue`in it, you can probably just ignore it: it's just there to make this book work right, and doesn't have anything to do with the code you will need for analysing data."
   ]
  },
  {
   "cell_type": "markdown",
   "id": "synthetic-battlefield",
   "metadata": {},
   "source": [
    "(firstcommand)=\n",
    "\n",
    "# Typing commands at the Python console\n",
    "\n",
    "One of the easiest things you can do with Python is use it as a simple calculator, so it's a good place to start. For instance, try typing `10 + 20`, and hitting enter.[^note2] When you do this, you've entered a ***command***, and Python will \"execute\" that command. If you are using Jupyter Notebooks, what you will see on screen will look something like this:\n",
    "\n",
    "[^note2]: Seriously. If you're in a position to do so, open up R and start typing. The simple act of typing it rather than \"just reading\" makes a big difference. It makes the concepts more concrete, and it ties the abstract ideas (programming and statistics) to the actual context in which you need to use them. Statistics is something you *do*, not just something you read about in a textbook."
   ]
  },
  {
   "cell_type": "code",
   "execution_count": 1,
   "id": "running-athletics",
   "metadata": {},
   "outputs": [
    {
     "data": {
      "text/plain": [
       "30"
      ]
     },
     "execution_count": 1,
     "metadata": {},
     "output_type": "execute_result"
    }
   ],
   "source": [
    "10 + 20"
   ]
  },
  {
   "cell_type": "markdown",
   "id": "minimal-burns",
   "metadata": {},
   "source": [
    "Not a lot of surprises in this extract. But there's a few things worth talking about, even with such a simple example. Firstly, it's important that you understand how to read the extract. In this example, what *I* typed was the `10 + 20` part. I didn't type the `In [1]:`. \n",
    "\n",
    "Secondly, it's important to understand how the output is formatted. Obviously, the correct answer to the sum `10 + 20` is `30`, and not surprisingly Python has printed that out as part of its response. But it's also printed out this `Out [2]` part, which probably doesn't make a lot of sense to you right now. You're going to see that a lot. I'll talk about what this means in a bit more detail later on, but for now you can think of `Out [1]: 30` as if Python were saying \"the answer to the 1st question you asked is 30\". That's not quite the truth, but it's close enough for now. And in any case it's not really very interesting at the moment: we only asked Python to calculate one thing, so obviously there's only one answer printed on the screen. Later on this will change, and the `[1]` part will start to make a bit more sense. For now, I just don't want you to get confused or concerned by it. "
   ]
  },
  {
   "cell_type": "code",
   "execution_count": null,
   "id": "mobile-pilot",
   "metadata": {},
   "outputs": [],
   "source": []
  }
 ],
 "metadata": {
  "kernelspec": {
   "display_name": "Python 3",
   "language": "python",
   "name": "python3"
  },
  "language_info": {
   "codemirror_mode": {
    "name": "ipython",
    "version": 3
   },
   "file_extension": ".py",
   "mimetype": "text/x-python",
   "name": "python",
   "nbconvert_exporter": "python",
   "pygments_lexer": "ipython3",
   "version": "3.9.2"
  }
 },
 "nbformat": 4,
 "nbformat_minor": 5
}
