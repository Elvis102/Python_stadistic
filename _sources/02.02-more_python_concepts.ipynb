{
 "cells": [
  {
   "cell_type": "markdown",
   "metadata": {},
   "source": [
    "# More Python Concepts"
   ]
  },
  {
   "cell_type": "markdown",
   "metadata": {},
   "source": [
    "(mechanics)=\n",
    "\n",
    "> *Form follows function*\n",
    ">\n",
    ">-- Louis Sullivan"
   ]
  },
  {
   "cell_type": "markdown",
   "metadata": {},
   "source": [
    "In the chapter on [Getting started with Python](getting-started-with-python) our main goal was to, well, get started with Python. As we go through the book we'll run into a lot of new  Python concepts, which I'll explain alongside the relevant data analysis concepts. However, there's still quite a few things that I need to talk about now, otherwise we'll run into problems when we start trying to work with data and do statistics. So that's the goal in this chapter: to build on the introductory content from the last chapter, to get you to the point that we can start using Python for statistics. Broadly speaking, the chapter comes in two parts. The first half of the chapter is devoted to the \"mechanics\" of Python: installing and loading packages, managing the workspace, navigating the file system, and loading and saving data. In the second half, I'll talk more about what kinds of variables exist in Python, and introduce three new kinds of variables: factors, data frames and formulas. I'll finish up by talking a little bit about the help documentation in Python as well as some other avenues for finding assistance. In general, I'm not trying to be comprehensive in this chapter, I'm trying to make sure that you've got the basic foundations needed to tackle the content that comes later in the book. However, a lot of the topics are revisited in more detail later. "
   ]
  },
  {
   "cell_type": "markdown",
   "metadata": {},
   "source": [
    "## Using comments\n",
    "\n",
    "Before discussing any of the more complicated stuff, I want to introduce the **_comment_** character, `#`. It has a simple meaning: it tells Python to ignore everything else you've written on this line. You won't have much need of the `#` character immediately, but it's very useful later on when writing scripts. However, while you don't need to use it, I want to be able to include comments in my Python extracts. For instance, if you read this: [^note1]\n",
    "\n",
    "[^note1]: Notice that I used `print(keeper)` rather than just typing `keeper`. Later on in the text I'll sometimes use the `print()` function to display things because I think it helps make clear what I'm doing, but in practice people rarely do this.\n"
   ]
  },
  {
   "cell_type": "code",
   "execution_count": 2,
   "metadata": {},
   "outputs": [
    {
     "name": "stdout",
     "output_type": "stream",
     "text": [
      "8.539539450000001\n"
     ]
    }
   ],
   "source": [
    "\n",
    "seeker = 3.1415           # create the first variable\n",
    "lover = 2.7183            # create the second variable\n",
    "keeper = seeker * lover   # now multiply them to create a third one\n",
    "print( keeper )           # print out the value of 'keeper'\n"
   ]
  },
  {
   "cell_type": "markdown",
   "metadata": {},
   "source": [
    "it's a lot easier to understand what I'm doing than if I just write this:"
   ]
  },
  {
   "cell_type": "code",
   "execution_count": 3,
   "metadata": {},
   "outputs": [
    {
     "name": "stdout",
     "output_type": "stream",
     "text": [
      "8.539539450000001\n"
     ]
    }
   ],
   "source": [
    "\n",
    "seeker = 3.1415\n",
    "lover = 2.7183\n",
    "keeper = seeker * lover\n",
    "print( keeper )    \n"
   ]
  },
  {
   "cell_type": "markdown",
   "metadata": {},
   "source": [
    "From now on, you'll start seeing `#` characters appearing in the code extracts, with some human-readable explanatory remarks next to them. These are still perfectly legitimate commands, since Python knows that it should ignore the `#` character and everything after it. But hopefully they'll help make things a little easier to understand."
   ]
  },
  {
   "cell_type": "markdown",
   "metadata": {},
   "source": [
    "(packageinstall)=\n",
    "\n",
    "## Installing and importing \n",
    "\n",
    "\n",
    "There is lots to love about Python as a programming language. Although it has its quirks and peculiarities like any language (programming or natural), it is relatively flexible and welcoming to newcomers, while still be very, very powerful. But one of the best things about Python isn't even the language itself, it is the rich ecosystem of code written by other people that you can use to make Python do things for you. These **libraries** or **packages** [^note2] contain code that people have written to solve particular problems, and then kindly made available for other people, like you and me, so that we don't have to spend our time reinventing the wheel. By installing and importing libraries, you can achieve very complicated things with only a few lines of your own code, by standing on the shoulders of others. Just ask Cueball from the webcomic xkcd:[^note3]\n",
    "\n",
    "[^note2]: There are some subtle differences between libraries, packages, and modules, but we don't need to concern ourselves with these here, and I may well mix up these words in the text. The key thing is, they are bits of code that we need to import to make stuff happen in Python.  \n",
    "[^note3]: https://xkcd.com/353/"
   ]
  },
  {
   "cell_type": "markdown",
   "metadata": {},
   "source": [
    "![xkcdpython](https://imgs.xkcd.com/comics/python.png)"
   ]
  },
  {
   "cell_type": "markdown",
   "metadata": {},
   "source": [
    "When doing anything other than the very most basic forms of data analysis in Python, we will almost always need to use libraries. However, before we get started, there's a critical distinction that you need to understand, which is the difference between having a package **_installed_** on your computer, and having a package **_imported_** in Python. I do not have any idea how many Python libraries are available out there, but it is a lot. Thousands. If you install Python on your computer, you won't get all of them, just a handfull of the standard ones. Depending on how you install Python on your computer, you may have more or fewer libraries installed, but either way, there are thousands more out there that you do not currently have installed. So that's what installed means: it means \"it's on your computer somewhere\". The critical thing to remember is that just because something is on your computer doesn't mean Python can use it. In order for Python to be able to *use* one of your installed libraries, that library must also be \"imported\". Basically what it boils down to is this:\n",
    "\n",
    ">A library must be installed before it can be imported.\n",
    "\n",
    ">A library must be imported before it can be used.\n",
    "\n",
    "This two step process might seem a little odd at first, but the designers of Python had very good reasons to do it this way,[^note4] and you get the hang of it pretty quickly.\n",
    "\n",
    "I won't get into the details of installing libraries here, simply because it is too much for me to tackle. If you are using Python in an online enviroment, you may already have access to all the libraries mentioned in this book. If you are working with Python on your own computer, the exact details of how you install packages may vary. If you want to use Python on your own computer, and are just getting started, I recommend [Anaconda](https://www.anaconda.com/products/individual#Downloads) as a relatively easy way to install Python and get quick access to all the most common and important libraries.\n",
    "\n",
    "[^note4]: Basically, the reason is that there are thousands of libraries, and probably thousands of authors of libraries, and no-one really knows what all of them do. Keeping the installation separate from the loading minimizes the chances that two libraries will interact with each other in a nasty way. "
   ]
  },
  {
   "cell_type": "markdown",
   "metadata": {},
   "source": [
    "### What libraries does this book use?\n",
    "\n",
    "In this book, I have made a concerted effort to limit the number of libraries needed. Often you will find that you can use different libraries to achieve the same results, and sometimes one of these may suit your needs more than another. This is something that can make doing analysis by code rather than pointing and clicking in a dedicated statistics program a bit off-putting; in Excel, there is usually only way to do things, while in Python, there are many. I think this is part of what makes doing statistics using code better, though: you can make your own informed choices, and do *exactly* the analysis you want to do; you don't have to accept some piece of software's default settings. However, point of this book is to get you started doing data analysis and statistics in Python, not to show you all the different ways you could achieve the same goal, so in an effort to keep things simple, I have tried to limit the libraries used in this book to a few of the most important and most common ones for doing statistics with Python. The most prominent ones are: `numpy`, `scipy`, `pandas`, `matplotlib`, `seaborn`, `statistics`, `math`, and `statsmodels`, but I may use others as well, as needed.\n"
   ]
  },
  {
   "cell_type": "markdown",
   "metadata": {},
   "source": [
    "### Importing libraries\n",
    "\n",
    "Assuming you have the libraries you need installed on your computer, or can access them in the virtual Python environment you are using in your browser, you will need to import them before you can actually use them. So, for instance, if I want to find the sum of five numbers, I can write"
   ]
  },
  {
   "cell_type": "code",
   "execution_count": 13,
   "metadata": {},
   "outputs": [
    {
     "data": {
      "text/plain": [
       "18"
      ]
     },
     "execution_count": 13,
     "metadata": {},
     "output_type": "execute_result"
    }
   ],
   "source": [
    "numbers = [4, 5, 1, 2, 6]\n",
    "sum(numbers)"
   ]
  },
  {
   "cell_type": "markdown",
   "metadata": {},
   "source": [
    "because the authors of Python felt that adding numbers together was such a basic thing that there should be a built-in command for it. At least, I assume so. I don't really know what the authors of Python thought. But, oddly, enough, Python doesn't have a built-in command called \"mean\". So if I want to know the mean of those same five numbers, I cannot just write"
   ]
  },
  {
   "cell_type": "code",
   "execution_count": 14,
   "metadata": {},
   "outputs": [
    {
     "ename": "NameError",
     "evalue": "name 'mean' is not defined",
     "output_type": "error",
     "traceback": [
      "\u001b[0;31m---------------------------------------------------------------------------\u001b[0m",
      "\u001b[0;31mNameError\u001b[0m                                 Traceback (most recent call last)",
      "\u001b[0;32m<ipython-input-14-a21faee3aca1>\u001b[0m in \u001b[0;36m<module>\u001b[0;34m\u001b[0m\n\u001b[0;32m----> 1\u001b[0;31m \u001b[0mmean\u001b[0m\u001b[0;34m(\u001b[0m\u001b[0mnumbers\u001b[0m\u001b[0;34m)\u001b[0m\u001b[0;34m\u001b[0m\u001b[0;34m\u001b[0m\u001b[0m\n\u001b[0m",
      "\u001b[0;31mNameError\u001b[0m: name 'mean' is not defined"
     ]
    }
   ],
   "source": [
    "mean(numbers)"
   ]
  },
  {
   "cell_type": "markdown",
   "metadata": {},
   "source": [
    "because Python doesn't know what mean, er, means. Luckily, we don't have to resort to first finding the sum and then dividing by the number of numbers, because there are libraries that _do_ have built-in commands for finding means. The `statistics` library is one. To use the commands in this library, we first have to `import` it. This gives us access to all the many useful commands in the `statistics` library, one of which is `mean`:"
   ]
  },
  {
   "cell_type": "code",
   "execution_count": 16,
   "metadata": {},
   "outputs": [
    {
     "data": {
      "text/plain": [
       "3.6"
      ]
     },
     "execution_count": 16,
     "metadata": {},
     "output_type": "execute_result"
    }
   ],
   "source": [
    "import statistics\n",
    "\n",
    "numbers = [4, 5, 1, 2, 6]\n",
    "\n",
    "statistics.mean(numbers)"
   ]
  },
  {
   "cell_type": "markdown",
   "metadata": {},
   "source": [
    "You probably noticed the `.` in the code above. This is the way we tell Python that we want to use a command called `mean` which is found inside the library `statistics`. Without the `.`, even though we have imported `statistics`, which has a command called `mean`, we still can't just write `mean(numbers)`. We have to tell Python where to look for this command. This all seems very cumbersome, but it's really not so bad, there are good reasons for doing it this way[^note4], and you will get used to it fairly quickly."
   ]
  },
  {
   "cell_type": "markdown",
   "metadata": {},
   "source": [
    "One of the ways in which Python is quite flexible is that it gives you some options in terms of how you import libraries. More precisely, you can:\n",
    "\n",
    ">Choose to import only a portion of a library\n",
    ">rename libraries of portions of libraries when importing\n",
    "\n",
    "Let's say we don't want to import the entire `statistics` library — we only want the `mean` command. We can achieve this like this:"
   ]
  },
  {
   "cell_type": "code",
   "execution_count": 25,
   "metadata": {},
   "outputs": [],
   "source": [
    "from statistics import mean"
   ]
  },
  {
   "cell_type": "markdown",
   "metadata": {},
   "source": [
    "Why would we want to do this? Well, one good reason is that now we *can* simply write `mean(numbers)`; we no longer have to write out `statistics.mean(numbers`:"
   ]
  },
  {
   "cell_type": "code",
   "execution_count": 26,
   "metadata": {},
   "outputs": [
    {
     "data": {
      "text/plain": [
       "3.6"
      ]
     },
     "execution_count": 26,
     "metadata": {},
     "output_type": "execute_result"
    }
   ],
   "source": [
    "numbers = [4, 5, 1, 2, 6]\n",
    "mean(numbers)"
   ]
  },
  {
   "cell_type": "markdown",
   "metadata": {},
   "source": [
    "Is this the height of laziness? Maybe. But if you start writing the same thing over and over again, saving a few characters here and there is pretty sweet. And this brings us to the other import option: renaming libraries. It is common practice in Python to give libraries abbreviations when we import them. Many of the most common libraries have conventional abbreviations, although you could use anything you like. Thus, you will often see e.g."
   ]
  },
  {
   "cell_type": "code",
   "execution_count": 27,
   "metadata": {},
   "outputs": [],
   "source": [
    "import numpy as np\n",
    "import seaborn as sns"
   ]
  },
  {
   "cell_type": "markdown",
   "metadata": {},
   "source": [
    "This is very convenient, but be careful: if you e.g. import `numpy` as `np`, the Python will only recognize it as `np`, at least for the time your code is in Python's active memory. Also, although you can use whatever abbreviations you like, I highly recommend sticking to the conventional ones, for your sake and others. It's kind of fun the first time to do something like"
   ]
  },
  {
   "cell_type": "code",
   "execution_count": 28,
   "metadata": {},
   "outputs": [
    {
     "data": {
      "text/plain": [
       "3.6"
      ]
     },
     "execution_count": 28,
     "metadata": {},
     "output_type": "execute_result"
    }
   ],
   "source": [
    "import statistics as why_you_gotta_be_so\n",
    "\n",
    "why_you_gotta_be_so.mean(numbers)"
   ]
  },
  {
   "cell_type": "markdown",
   "metadata": {},
   "source": [
    "but good code should be easy to read by yourself and others, and if you start playing too fast and loose with renaming, it starts to get less clear what's going on."
   ]
  },
  {
   "cell_type": "markdown",
   "metadata": {},
   "source": [
    "## Listing the objects in active memory\n",
    "\n",
    "Let's suppose that you're reading through this book, and what you're doing is sitting down with it once a week and working through a whole chapter in each sitting. Not only that, you've been following my advice and typing in all these commands into Python. So far during this chapter, you'd have typed quite a few commands, although not all of them actually created variables.\n",
    "\n",
    "An important part of learning to program is to develop the ability to keep a mental model of what Python knows and doesn't know at any given time active in your mind. This sounds very abstract, and it is, but as you become more familar with coding I think you will see what I mean. I won't dwell on this here, but it may be useful to take a quick peak at what I mean. If you are working in e.g. a Jupyter Notebook (and I do suggest you do this, at least at first), then by typing `%who` you can see a list of all the variable that Python is currently aware of. So, in my case, I get the following:"
   ]
  },
  {
   "cell_type": "code",
   "execution_count": 35,
   "metadata": {},
   "outputs": [
    {
     "name": "stdout",
     "output_type": "stream",
     "text": [
      "keeper\t lover\t mean\t mean_numbers\t np\t numbers\t seeker\t sns\t statistics\t \n",
      "sum_numbers\t why_you_gotta_be_so\t \n"
     ]
    }
   ],
   "source": [
    "%who"
   ]
  },
  {
   "cell_type": "markdown",
   "metadata": {},
   "source": [
    "Here we can see variable that we defined, like `keeper` and `lover`, and also libraries that we imported (and renamed), like `np` and `sns`, as well as the library `statistics` which I then ill-advisedly re-imported and renamed `why_you_gotta_be_so`. To see more details on these variables, we can type `%whos`"
   ]
  },
  {
   "cell_type": "code",
   "execution_count": 36,
   "metadata": {},
   "outputs": [
    {
     "name": "stdout",
     "output_type": "stream",
     "text": [
      "Variable              Type        Data/Info\n",
      "-------------------------------------------\n",
      "keeper                float       8.539539450000001\n",
      "lover                 float       2.7183\n",
      "mean                  function    <function mean at 0x7fd3d2cdfc20>\n",
      "mean_numbers          float       3.6\n",
      "np                    module      <module 'numpy' from '/op<...>kages/numpy/__init__.py'>\n",
      "numbers               list        n=5\n",
      "seeker                float       3.1415\n",
      "sns                   module      <module 'seaborn' from '/<...>ges/seaborn/__init__.py'>\n",
      "statistics            module      <module 'statistics' from<...>python3.7/statistics.py'>\n",
      "sum_numbers           int         18\n",
      "why_you_gotta_be_so   module      <module 'statistics' from<...>python3.7/statistics.py'>\n"
     ]
    }
   ],
   "source": [
    "%whos"
   ]
  },
  {
   "cell_type": "markdown",
   "metadata": {},
   "source": [
    "This tells us that e.g. `keeper` is a floating-point decimal number with the value 8.539539450000001, and shows us the true names of the objects we have renamed on import. These commands that start with a `%` sign, by the way, are called \"magic\" commands, and can only be used in environments like Jupyter, which support them. If you are not working in such an environment, you can use the command `dir()`, which achieve the same thing, but will also show you lots of information you probably aren't interested in at this stage."
   ]
  },
  {
   "cell_type": "markdown",
   "metadata": {},
   "source": [
    "### Removing variables from the workspace\n",
    "\n",
    "Looking over that list of variables, it occurs to me that I really don't need them any more. I created them originally just to make a point, but they don't serve any useful purpose anymore, and now I want to get rid of them.  I'll show you how to do this, but first I want to warn you -- there's no \"undo\" option for variable removal. Once a variable is removed, it's gone forever unless you save it to disk. I'll show you how to do *that* in a later section, but quite clearly we have no need for these variables at all, so we can safely get rid of them by using the `del()` command."
   ]
  },
  {
   "cell_type": "code",
   "execution_count": 37,
   "metadata": {},
   "outputs": [],
   "source": [
    "del(keeper, lover)"
   ]
  },
  {
   "cell_type": "markdown",
   "metadata": {},
   "source": [
    "With `%who` or `dir()` we can check that they are gone."
   ]
  },
  {
   "cell_type": "code",
   "execution_count": 38,
   "metadata": {},
   "outputs": [
    {
     "name": "stdout",
     "output_type": "stream",
     "text": [
      "mean\t mean_numbers\t np\t numbers\t seeker\t sns\t statistics\t sum_numbers\t why_you_gotta_be_so\t \n",
      "\n"
     ]
    }
   ],
   "source": [
    "%who"
   ]
  },
  {
   "cell_type": "markdown",
   "metadata": {},
   "source": [
    "If you want to remove all the variables in memory, and you are working in a Jupyter environment, then `%reset` is a handy way to do this, although I must say that in practice I rarely, if ever, have a need to remove variables from memory. There is usually no harm in them sitting around unused, and if you define a new variable with the same name as an old one, it will just write over the old variable with the same name."
   ]
  },
  {
   "cell_type": "markdown",
   "metadata": {},
   "source": [
    "(load)=\n",
    "## Loading and saving data\n",
    "\n",
    "\n",
    "There are two main types of files that are likely to be relevant to us when doing data analysis. There are three in particular that are especially important from the perspective of this book:\n",
    "\n",
    "\n",
    "- *Comma separated value (CSV) files* are those with a .csv file extension. These are just regular old text files, and they can be opened with almost any software. It's quite typical for people to store data in CSV files, precisely because they're so simple.\n",
    "- *Script files* are those with a .py file extension or an .ipynb extension. These aren't data files at all; rather, they're used to save a collection of commands that you want Python to execute later. They're just text files, but we won't make use of them until later.\n",
    " \n",
    "\n",
    "In this section I'll talk about how to import data from a CSV file, and how to save your workspace to a workspace file. Throughout this section I'll first describe the (sometimes awkward) R commands that do all the work, and then I'll show you the (much easier) way to do it using RStudio."
   ]
  },
  {
   "cell_type": "markdown",
   "metadata": {},
   "source": [
    "(loadingcsv)=\n",
    "\n",
    "### Importing data from CSV files using loadingcsv\n",
    "\n",
    "One quite commonly used data format is the humble \"comma separated value\" file, also called a CSV file, and usually bearing the file extension .csv. CSV files are just plain old-fashioned text files, and what they store is basically just a table of data. This is illustrated in Figure \\@ref(fig:booksalescsv), which shows a file called booksales.csv that I've created. As you can see, each row corresponds to a variable, and each row represents the book sales data for one month. The first row doesn't contain actual data though: it has the names of the variables.\n",
    "\n",
    "    \n",
    "    "
   ]
  },
  {
   "cell_type": "markdown",
   "metadata": {},
   "source": [
    "```{image} ..img/mechanics/booksalescsv.jpg\n",
    ":alt: biased-random-sample\n",
    ":width: 600px\n",
    ":align: center\n",
    "```"
   ]
  },
  {
   "cell_type": "code",
   "execution_count": null,
   "metadata": {},
   "outputs": [],
   "source": [
    "```{r booksalescsv, fig.cap=\"The booksales.csv data file. On the left, I've opened the file in using a spreadsheet program (OpenOffice), which shows that the file is basically a table. On the right, the same file is open in a standard text editor (the TextEdit program on a Mac), which shows how the file is formatted. The entries in the table are wrapped in quote marks and separated by commas.\", echo=FALSE}\n",
    "\n",
    "knitr::include_graphics(here::here(\"bookdown\", \"img\", \"mechanics\", \"booksalescsv.jpg\"))\n",
    "\n",
    "```\n",
    "\n",
    "If RStudio were not available to you, the easiest way to open this file would be to use the `read.csv()` function.^[In a lot of books you'll see the `read.table()` function used for this purpose instead of `read.csv()`. They're more or less identical functions, with the same arguments and everything. They differ only in the default values.] This function is pretty flexible, and I'll talk a lot more about it's capabilities in Section \\@ref(importing) for more details, but for now there's only two arguments to the function that I'll mention:\n",
    "\n",
    "- `file`. This should be a character string that specifies a path to the file that needs to be loaded. You can use an absolute path or a relative path to do so.\n",
    "- `header`. This is a logical value indicating whether or not the first row of the file contains variable names. The default value is `TRUE`. \n",
    "\n",
    "Therefore, to import the CSV file, the command I need is:\n",
    "\n",
    "```{r echo=FALSE}\n",
    "books <- read.csv( file = \"./data/booksales.csv\" )\n",
    "```\n",
    "\n",
    "```{r eval=FALSE}\n",
    "books <- read.csv( file = \"booksales.csv\" )\n",
    "```\n",
    "There are two very important points to notice here. Firstly, notice that I *didn't* try to use the `load()` function, because that function is only meant to be used for .Rdata files. If you try to use `load()` on other types of data, you get an error. Secondly, notice that when I imported the CSV file I assigned the result to a variable, which I imaginatively called `books`.^[Note that I didn't to this in my earlier example when loading the .Rdata] file. There's a reason for this. The idea behind an `.Rdata` file is that it stores a whole workspace. So, if you had the ability to look inside the file yourself you'd see that the data file keeps track of all the variables and their names. So when you `load()` the file, R restores all those original names. CSV files are treated differently: as far as R is concerned, the CSV only stores *one* variable, but that variable is big table. So when you import that table into the workspace, R expects *you* to give it a name.] Let's have a look at what we've got:\n",
    "```{r}\n",
    "print( books )\n",
    "```\n",
    "Clearly, it's worked, but the format of this output is a bit unfamiliar. We haven't seen anything like this before. What you're looking at is a *data frame*, which is a very important kind of variable in R, and one I'll discuss in Section \\@ref(dataframes). For now, let's just be happy that we imported the data and that it looks about right.\n",
    "\n",
    "\n",
    "### Importing data from CSV files using RStudio\n",
    "\n",
    "Yet again, it's easier in RStudio. In the environment panel in RStudio you should see a button called \"Import Dataset\". Click on that, and it will give you a couple of options: select the \"From Text File...\" option, and it will open up a very familiar dialog box asking you to select a file: if you're on a Mac, it'll look like the usual Finder window that you use to choose a file; on Windows it looks like an Explorer window. An example of what it looks like on a Mac is shown in Figure \\@ref(fig:fileopen). I'm assuming that you're familiar with your own computer, so you should have no problem finding the CSV file that you want to import! Find the one you want, then click on the \"Open\" button. When you do this, you'll see a window that looks like the one in Figure \\@ref(fig:import).\n",
    "\n",
    "```{r fileopen, fig.cap=\"A dialog box on a Mac asking you to select the CSV file R should try to import. Mac users will recognise this immediately: it's the usual way in which a Mac asks you to find a file. Windows users won't see this: they'll see the usual explorer window that Windows always gives you when it wants you to select a file.\", echo=FALSE}\n",
    "\n",
    "knitr::include_graphics(here::here(\"bookdown\", \"img\", \"mechanics\", \"openscreen.png\"))\n",
    "\n",
    "```\n",
    "\n",
    "\n",
    "\n",
    "\n",
    "\n",
    "The import data set window is relatively straightforward to understand. \n",
    "\n",
    "```{r import, fig.cap=\"The RStudio window for importing a CSV file into R\", echo=FALSE}\n",
    "\n",
    "knitr::include_graphics(here::here(\"bookdown\", \"img\", \"mechanics\", \"import.png\"))\n",
    "\n",
    "```\n",
    "\n",
    "In the top left corner, you need to type the name of the variable you R to create. By default, that will be the same as the file name: our file is called `booksales.csv`, so RStudio suggests the name `booksales`. If you're happy with that, leave it alone. If not, type something else. Immediately below this are a few things that you can tweak to make sure that the data gets imported correctly: \n",
    "\n",
    "\n",
    "- Heading. Does the first row of the file contain raw data, or does it contain headings for each variable? The `booksales.csv` file has a header at the top, so I selected \"yes\".\n",
    "- Separator. What character is used to separate different entries? In most CSV files this will be a comma (it is \"comma separated\" after all). But you can change this if your file is different. \n",
    "- Decimal. What character is used to specify the decimal point? In English speaking countries, this is almost always a period (i.e., `.`). That's not universally true: many European countries use a comma. So you can change that if you need to.\n",
    "- Quote. What character is used to denote a block of text? That's usually going to be a double quote mark. It is for the `booksales.csv` file, so that's what I selected.\n",
    "\n",
    "The nice thing about the RStudio window is that it shows you the raw data file at the top of the window, and it shows you a preview of the data at the bottom. If the data at the bottom doesn't look right, try changing some of the settings on the left hand side. Once you're happy, click \"Import\". When you do, two commands appear in the R console:\n",
    "```\n",
    "booksales <- read.csv(\"~/Rbook/data/booksales.csv\")\n",
    "View(booksales)\n",
    "```\n",
    "The first of these commands is the one that loads the data. The second one will display a pretty table showing the data in RStudio. \n",
    "\n",
    "\n",
    "### Saving a workspace file using `save`\n",
    "\n",
    "Not surprisingly, saving data is very similar to loading data. Although RStudio provides a simple way to save files (see below), it's worth understanding the actual commands involved. There are two commands you can use to do this, `save()` and `save.image()`. If you're happy to save *all* of the variables in your workspace into the data file, then you should use `save.image()`. And if you're happy for R to save the file into the current working directory, all you have to do is this:\n",
    "```{r eval=FALSE}\n",
    "save.image( file = \"myfile.Rdata\" )\n",
    "```\n",
    "Since `file` is the first argument, you can shorten this to `save.image(\"myfile.Rdata\")`; and if you want to save to a different directory, then (as always) you need to be more explicit about specifying the path to the file, just as we discussed in Section \\@ref(navigation). Suppose, however, I have several variables in my workspace, and I only want to save some of them. For instance, I might have this as my workspace:\n",
    "```{r eval=FALSE}\n",
    "who()\n",
    "##   -- Name --   -- Class --   -- Size --\n",
    "##   data         data.frame    3 x 2     \n",
    "##   handy        character     1         \n",
    "##   junk         numeric       1        \n",
    "```\n",
    "I want to save `data` and `handy`, but not `junk`. But I don't want to delete `junk` right now, because I want to use it for something else later on. This is where the `save()` function is useful, since it lets me indicate exactly which variables I want to save. Here is one way I can use the `save` function to solve my problem:\n",
    "```{r eval=FALSE}\n",
    "save(data, handy, file = \"myfile.Rdata\")\n",
    "```\n",
    "Importantly, you *must* specify the name of the `file` argument. The reason is that if you don't do so, R will think that `\"myfile.Rdata\"` is actually a *variable* that you want to save, and you'll get an error message. Finally, I should mention a second way to specify which variables the `save()` function should save, which is to use the `list` argument. You do so like this:\n",
    "```{r eval = FALSE}\n",
    "save.me <- c(\"data\", \"handy\")   # the variables to be saved\n",
    "save( file = \"booksales2.Rdata\", list = save.me )   # the command to save them\n",
    "```\n",
    "\n",
    "### Saving a workspace file using RStudio{#save1}\n",
    "\n",
    "RStudio allows you to save the workspace pretty easily. In the environment panel (Figures \\@ref(fig:workspace) and \\@ref(fig:workspace2)) you can see the \"save\" button. There's no text, but it's the same icon that gets used on every computer everywhere: it's the one that looks like a floppy disk. You know, those things that haven't been used in about 20 years. Alternatively, go to the \"Session\" menu and click on the \"Save Workspace As...\" option.^[A word of warning: what you *don't* want to do is use the \"File\" menu. If you look in the \"File\" menu you will see \"Save\" and \"Save As...\" options, but they don't save the workspace. Those options are used for dealing with *scripts*, and so they'll produce `.R` files. We won't get to those until Chapter \\@ref(scripting).] This will bring up the standard \"save\" dialog box for your operating system (e.g., on a Mac it'll look a little bit like the loading dialog box in Figure \\@ref(fig:fileopen)). Type in the name of the file that you want to save it to, and all the variables in your workspace will be saved to disk. You'll see an R command like this one\n",
    "```{r eval=FALSE}\n",
    "save.image(\"~/Desktop/Untitled.RData\")\n",
    "```\n",
    "Pretty straightforward, really.\n",
    "\n",
    "\n",
    "\n",
    "### Other things you might want to save\n",
    "\n",
    "Until now, we've talked mostly about loading and saving *data*. Other things you might want to save include:\n",
    "\n",
    "\n",
    "\n",
    "- *The output*. Sometimes you might also want to keep a copy of all your interactions with R, including everything that you typed in and everything that R did in response. There are some functions that you can use to get R to write its output to a file rather than to print onscreen (e.g., `sink()`), but to be honest, if you do want to save the R output, the easiest thing to do is to use the mouse to select the relevant text in the R console, go to the \"Edit\" menu in RStudio and select \"Copy\". The output has now been copied to the clipboard. Now open up your favourite text editor or word processing software, and paste it. And you're done.  However, this will only save the contents of the console, not the plots you've drawn (assuming you've drawn some). We'll talk about saving images later on.\n",
    "\n",
    "\n",
    "- *A script*. While it is possible -- and sometimes handy -- to save the R output as a method for keeping a copy of your statistical analyses, another option that people use a lot (especially when you move beyond simple \"toy\" analyses) is to write *scripts*. A script is a text file in which you write out all the commands that you want R to run. You can write your script using whatever software you like. In real world data analysis writing scripts is a key skill -- and as you become familiar with R you'll probably find that most of what you do involves scripting rather than typing commands at the R prompt. However, you won't need to do much scripting initially, so we'll leave that until Chapter \\@ref(scripting).\n",
    "\n",
    "\n",
    "\n",
    "\n",
    "\n",
    "\n",
    "## Useful things to know about variables{#useful}\n",
    "\n",
    "In Chapter \\@ref(introR) I talked a lot about variables, how they're assigned and some of the things you can do with them, but there's a lot of additional complexities. That's not a surprise of course. However, some of those issues are worth drawing your attention to now. So that's the goal of this section; to cover a few extra topics. As a consequence, this section is basically a bunch of things that I want to briefly mention, but don't really fit in anywhere else. In short, I'll talk about several different issues in this section, which are only loosely connected to one another.\n",
    "\n",
    "\n",
    "\n",
    "### Special values{#specials}\n",
    "\n",
    "The first thing I want to mention are some of the \"special\" values that you might see R produce. Most likely you'll see them in situations where you were expecting a number, but there are quite a few other ways you can encounter them. These values are `Inf`, `NaN`, `NA` and `NULL`. These values can crop up in various different places, and so it's important to understand what they mean. \n",
    "\n",
    "\n",
    "- *Infinity* (`Inf`). The easiest of the special values to explain is `Inf`, since it corresponds to a value that is infinitely large. You can also have `-Inf`. The easiest way to get `Inf` is to divide a positive number by 0:\n",
    "```{r}\n",
    "1 / 0\n",
    "```\n",
    "In most real world data analysis situations, if you're ending up with infinite numbers in your data, then something has gone awry. Hopefully you'll never have to see them.\n",
    "\n",
    "\n",
    "- *Not a Number* (`NaN`). The special value of `NaN` is short for \"not a number\", and it's basically a reserved keyword that means \"there isn't a mathematically defined number for this\". If you can remember your high school maths, remember that it is conventional to say that $0/0$ doesn't have a proper answer: mathematicians would say that $0/0$ is *undefined*. R says that it's not a number:\n",
    "```{r}\n",
    " 0 / 0\n",
    "```\n",
    "Nevertheless, it's still treated as a \"numeric\" value. To oversimplify, `NaN` corresponds to cases where you asked a proper numerical question that genuinely has *no meaningful answer*. \n",
    "\n",
    "- *Not available* (`NA`). \n",
    "`NA` indicates that the value that is \"supposed\" to be stored here is missing. To understand what this means, it helps to recognise that the `NA` value is something that you're most likely to see when analysing data from real world experiments. Sometimes you get equipment failures, or you lose some of the data, or whatever. The point is that some of the information that you were \"expecting\" to get from your study is just plain missing. Note the difference between `NA` and `NaN`. For `NaN`, we really do know what's supposed to be stored; it's just that it happens to correspond to something like $0/0$ that doesn't make any sense at all. In contrast, `NA` indicates that we actually don't know what was supposed to be there. The information is *missing*.\n",
    "\n",
    "- *No value* (`NULL`).\n",
    "The `NULL` value takes this \"absence\" concept even further. It basically asserts that the variable genuinely has no value whatsoever. This is quite different to both `NaN` and `NA`. For `NaN` we actually know what the value is, because it's something insane like $0/0$. For `NA`, we believe that there is supposed to be a value \"out there\", but a dog ate our homework and so we don't quite know what it is. But for `NULL` we strongly believe that there is *no value at all*.  \n",
    "\n",
    "\n",
    "### Assigning names to vector elements{#names}\n",
    "\n",
    "One thing that is sometimes a little unsatisfying about the way that R prints out a vector is that the elements come out unlabelled. Here's what I mean. Suppose I've got data reporting the quarterly profits for some company. If I just create a no-frills vector, I have to rely on memory to know which element corresponds to which event. That is:\n",
    "```{r}\n",
    "profit <- c( 3.1, 0.1, -1.4, 1.1 )\n",
    "profit\n",
    "\n",
    "```\n",
    "You can probably guess that the first element corresponds to the first quarter, the second element to the second quarter, and so on, but that's only because I've told you the back story and because this happens to be a very simple example. In general, it can be quite difficult. This is where it can be helpful to assign `names` to each of the elements. Here's how you do it:\n",
    "```{r}\n",
    "names(profit) <- c(\"Q1\",\"Q2\",\"Q3\",\"Q4\")\n",
    "profit\n",
    "```\n",
    "This is a slightly odd looking command, admittedly, but it's not too difficult to follow. All we're doing is assigning a vector of labels (character strings) to `names(profit)`. You can always delete the names again by using the command `names(profit) <- NULL`. It's also worth noting that you don't have to do this as a two stage process. You can get the same result with this command:\n",
    "```{r}\n",
    "profit <- c( \"Q1\" = 3.1, \"Q2\" = 0.1, \"Q3\" = -1.4, \"Q4\" = 1.1 )\n",
    "profit\n",
    "```\n",
    "The important things to notice are that (a) this does make things much easier to read, but (b) the names at the top aren't the \"real\" data. The *value* of `profit[1]` is still `3.1`; all I've done is added a *name* to `profit[1]` as well. Nevertheless, names aren't purely cosmetic, since R allows you to pull out particular elements of the vector by referring to their names:\n",
    "```{r}\n",
    "profit[\"Q1\"]\n",
    "```\n",
    "And if I ever need to pull out the names themselves, then I just type `names(profit)`. \n",
    "\n",
    "### Variable classes\n",
    "\n",
    "As we've seen, R allows you to store different kinds of data. In particular, the variables we've defined so far have either been character data (text), numeric data, or logical data.^[Or functions. But let's ignore functions for the moment.] It's important that we remember what kind of information each variable stores (and even more important that R remembers) since different kinds of variables allow you to do different things to them. For instance, if your variables have numerical information in them, then it's okay to multiply them together:\n",
    "```{r}\n",
    "x <- 5   # x is numeric\n",
    "y <- 4   # y is numeric\n",
    "x * y    \n",
    "```\n",
    "But if they contain character data, multiplication makes no sense whatsoever, and R will complain if you try to do it:\n",
    "```{r error=TRUE}\n",
    "x <- \"apples\"   # x is character\n",
    "y <- \"oranges\"  # y is character\n",
    "x * y           \n",
    "```\n",
    "Even R is smart enough to know you can't multiply `\"apples\"` by `\"oranges\"`. It knows this because the quote marks are indicators that the variable is supposed to be treated as text, not as a number. \n",
    "\n",
    "This is quite useful, but notice that it means that R makes a big distinction between `5` and `\"5\"`. Without quote marks, R treats `5` as the number five, and will allow you to do calculations with it. With the quote marks, R treats `\"5\"` as the textual character five, and doesn't recognise it as a number any more than it recognises `\"p\"` or `\"five\"` as numbers.  As a consequence, there's a big difference between typing `x <- 5` and typing `x <- \"5\"`. In the former, we're storing the number `5`; in the latter, we're storing the character `\"5\"`. Thus, if we try to do multiplication with the character versions, R gets stroppy:\n",
    "```{r error=TRUE}\n",
    "x <- \"5\"   # x is character\n",
    "y <- \"4\"   # y is character\n",
    "x * y     \n",
    "\n",
    "```\n",
    "\n",
    "Okay, let's suppose that I've forgotten what kind of data I stored in the variable `x` (which happens depressingly often). R provides a function that will let us find out. Or, more precisely, it provides *three* functions: `class()`, `mode()` and `typeof()`. Why the heck does it provide three functions, you might be wondering? Basically, because R actually keeps track of three different kinds of information about a variable:\n",
    "\n",
    "1. The **_class_** of a variable is a \"high level\" classification, and it captures psychologically (or statistically) meaningful distinctions. For instance `\"2011-09-12\"` and `\"my birthday\"` are both text strings, but there's an important difference between the two: one of them is a date. So it would be nice if we could get R to recognise that `\"2011-09-12\"` is a date, and allow us to do things like add or subtract from it. The class of a variable is what R uses to keep track of things like that. Because the class of a variable is critical for determining what R can or can't do with it, the `class()` function is very handy.\n",
    "2. The **_mode_** of a variable refers to the format of the information that the variable stores. It tells you whether R has stored text data or numeric data, for instance, which is kind of useful, but it only makes these \"simple\" distinctions. It can be useful to know about, but it's not the main thing we care about. So I'm not going to use the `mode()` function very much.^[Actually, I don't think I *ever* use this in practice. I don't know why I bother to talk about it in the book anymore.] \n",
    "3. The **_type_** of a variable is a very low level classification. We won't use it in this book, but (for those of you that care about these details) this is where you can see the distinction between integer data, double precision numeric, etc. Almost none of you actually will care about this, so I'm not even going to bother demonstrating the `typeof()` function.\n",
    "\n",
    "\n",
    "\n",
    "For purposes, it's the `class()` of the variable that we care most about. Later on, I'll talk a bit about how you can convince R to \"coerce\" a variable to change from one class to another (Section \\@ref(coercion)). That's a useful skill for real world data analysis, but it's not something that we need right now. In the meantime, the following examples illustrate the use of the `class()` function:\n",
    "```{r}\n",
    "x <- \"hello world\"     # x is text\n",
    "class(x)\n",
    "\n",
    "\n",
    "x <- TRUE     # x is logical \n",
    "class(x)\n",
    "\n",
    "x <- 100     # x is a number\n",
    "class(x)\n",
    "```\n",
    "Exciting, no?\n",
    "\n",
    "\n",
    "\n",
    "\n",
    "\n",
    "## Factors{#factors}\n",
    "\n",
    "\n",
    "Okay, it's time to start introducing some of the data types that are somewhat more specific to statistics. If you remember back to Chapter \\@ref(studydesign), when we assign numbers to possible outcomes, these numbers can mean quite different things depending on what kind of variable we are attempting to measure. In particular, we commonly make the distinction between *nominal*, *ordinal*, *interval* and *ratio* scale data. How do we capture this distinction in R? Currently, we only seem to have a single numeric data type. That's probably not going to be enough, is it?\n",
    "\n",
    "A little thought suggests that the numeric variable class in R is perfectly suited for capturing ratio scale data. For instance, if I were to measure response time (RT) for five different events, I could store the data in R like this:\n",
    "```{r}\n",
    "RT <- c(342, 401, 590, 391, 554)\n",
    "```\n",
    "where the data here are measured in milliseconds, as is conventional in the psychological literature. It's perfectly sensible to talk about \"twice the response time\", $2 \\times \\mbox{RT}$, or the \"response time plus 1 second\", $\\mbox{RT} + 1000$, and so both of the following are perfectly reasonable things for R to do:\n",
    "```{r}\n",
    "2 * RT\n",
    "\n",
    "RT + 1000\n",
    "``` \n",
    "And to a lesser extent, the \"numeric\" class is okay for interval scale data, as long as we remember that multiplication and division aren't terribly interesting for these sorts of variables. That is, if my IQ score is 110 and yours is 120, it's perfectly okay to say that you're 10 IQ points smarter than me^[Taking all the usual caveats that attach to IQ measurement as a given, of course.], but it's not okay to say that I'm only 92% as smart as you are, because intelligence doesn't have a natural zero.^[Or, more precisely, we don't know how to measure it. Arguably, a rock has zero intelligence. But it doesn't make sense to say that the IQ of a rock is 0 in the same way that we can say that the average human has an IQ of 100. And without knowing what the IQ value is that corresponds to a literal absence of any capacity to think, reason or learn, then we really can't multiply or divide IQ scores and expect a meaningful answer.] We might even be willing to tolerate the use of numeric variables to represent ordinal scale variables, such as those that you typically get when you ask people to rank order items (e.g., like we do in Australian elections), though as we will see R actually has a built in tool for representing ordinal data (see Section \\@ref(orderedfactors)) However, when it comes to nominal scale data, it becomes completely unacceptable, because almost all of the \"usual\" rules for what you're allowed to do with numbers don't apply to nominal scale data. It is for this reason that R has **_factors_**. \n",
    "\n",
    "\n",
    "\n",
    "### Introducing factors\n",
    "\n",
    "Suppose, I was doing a study in which people could belong to one of three different treatment conditions. Each group of people were asked to complete the same task, but each group received different instructions. Not surprisingly, I might want to have a variable that keeps track of what group people were in. So I could type in something like this\n",
    "```{r}\n",
    "group <- c(1,1,1,2,2,2,3,3,3)\n",
    "```\n",
    "so that `group[i]` contains the group membership of the `i`-th person in my study. Clearly, this is numeric data, but equally obviously this is a nominal scale variable. There's no sense in which \"group 1\" plus \"group 2\" equals \"group 3\", but nevertheless if I try to do that, R won't stop me because it doesn't know any better:\n",
    "```{r}\n",
    "group + 2\n",
    "```\n",
    "Apparently R seems to think that it's allowed to invent \"group 4\" and \"group 5\", even though they didn't actually exist. Unfortunately, R is too stupid to know any better: it thinks that `3` is an ordinary number in this context, so it sees no problem in calculating `3 + 2`. But since *we're* not that stupid, we'd like to stop R from doing this. We can do so by instructing R to treat `group` as a factor.  This is easy to do using the `as.factor()` function.^[Once again, this is an example of *coercing* a variable from one class to another. I'll talk about coercion in more detail in Section \\@ref(coercion).] \n",
    "```{r}\n",
    "group <- as.factor(group)\n",
    "group\n",
    "\n",
    "```\n",
    "It looks more or less the same as before (though it's not immediately obvious what all that `Levels` rubbish is about), but if we ask R to tell us what the class of the `group` variable is now, it's clear that it has done what we asked:\n",
    "```{R}\n",
    "class(group)\n",
    "\n",
    "```\n",
    "Neat. Better yet, now that I've converted `group` to a factor, look what happens when I try to add 2 to it:\n",
    "```{r}\n",
    "group + 2\n",
    "\n",
    "```\n",
    "This time even R is smart enough to know that I'm being an idiot, so it tells me off and then produces a vector of missing values. (i.e., `NA`: see Section \\@ref(specials)).\n",
    "\n",
    "\n",
    "### Labelling the factor levels\n",
    "\n",
    "I have a confession to make. My memory is not infinite in capacity; and it seems to be getting worse as I get older. So it kind of annoys me when I get data sets where there's a nominal scale variable called `gender`, with two levels corresponding to males and females. But when I go to print out the variable I get something like this:\n",
    "```{r echo=FALSE}\n",
    "gender<-as.factor(c(1, 1 ,1, 1 ,1, 2 ,2, 2 , 2))\n",
    "```\n",
    "\n",
    "\n",
    "```{r}\n",
    "gender\n",
    "\n",
    "```\n",
    "Okaaaay. That's not helpful at all, and it makes me very sad. Which number corresponds to the males and which one corresponds to the females? Wouldn't it be nice if R could actually keep track of this? It's way too hard to remember which number corresponds to which gender. To fix this problem what we need to do is assign meaningful labels to the different *levels* of each factor. We can do that like this:\n",
    "```{r}\n",
    "levels(group) <- c(\"group 1\", \"group 2\", \"group 3\")\n",
    "print(group)\n",
    "\n",
    "levels(gender) <- c(\"male\", \"female\")\n",
    "print(gender)\n",
    "```\n",
    "That's much easier on the eye.\n",
    "\n",
    "\n",
    "### Moving on...\n",
    "\n",
    "Factors are very useful things, and we'll use them a lot in this book: they're *the* main way to represent a nominal scale variable. And there are lots of nominal scale variables out there. I'll talk more about factors in Section \\@ref(orderedfactors), but for now you know enough to be able to get started.\n",
    "\n",
    "\n",
    "\n",
    "\n",
    "## Data frames{#dataframes}\n",
    "\n",
    "It's now time to go back and deal with the somewhat confusing thing that happened in Section \\@ref(loadingcsv) when we tried to open up a CSV file. Apparently we succeeded in loading the data, but it came to us in a very odd looking format. At the time, I told you that this was a **_data frame_**. Now I'd better explain what that means.\n",
    "\n",
    "\n",
    "\n",
    "### Introducing data frames\n",
    "\n",
    "```{r echo=FALSE}\n",
    "rm(books, keeper, profit, RT, x, y)\n",
    "```\n",
    "\n",
    "\n",
    "In order to understand why R has created this funny thing called a data frame, it helps to try to see what problem it solves. So let's go back to the little scenario that I used when introducing factors in Section \\@ref(factors). In that section I recorded the `group` and `gender` for all 9 participants in my study. Let's also suppose I recorded their ages and their `score` on \"Dan's Terribly Exciting Psychological Test\":\n",
    "```{r}\n",
    "age <- c(17, 19, 21, 37, 18, 19, 47, 18, 19)\n",
    "score <- c(12, 10, 11, 15, 16, 14, 25, 21, 29)\n",
    "```\n",
    "Assuming no other variables are in the workspace, if I type `who()` I get this:\n",
    "```{r}\n",
    "who()\n",
    "```\n",
    "So there are four variables in the workspace, `age`, `gender`, `group` and `score`. And it just so happens that all four of them are the same size (i.e., they're all vectors with 9 elements). Aaaand it just so happens that `age[1]` corresponds to the age of the first person, and `gender[1]` is the gender of that very same person, etc. In other words, you and I both know that all four of these variables correspond to the *same* data set, and all four of them are organised in exactly the same way. \n",
    "\n",
    "However, R *doesn't* know this! As far as it's concerned, there's no reason why the `age` variable has to be the same length as the `gender` variable; and there's no particular reason to think that `age[1]` has any special relationship to `gender[1]` any more than it has a special relationship to `gender[4]`. In other words, when we store everything in separate variables like this, R doesn't know anything about the relationships between things. It doesn't even really know that these variables actually refer to a proper data set. The data frame fixes this: if we store our variables inside a data frame, we're telling R to treat these variables as a single, fairly coherent data set. \n",
    "\n",
    "To see how they do this, let's create one. So how do we create a data frame? One way we've already seen: if we import our data from a CSV file, R will store it as a data frame. A second way is to create it directly from some existing variables using the `data.frame()` function. All you have to do is type a list of variables that you want to include in the data frame. The output of a `data.frame()` command is, well, a data frame. So, if I want to store all four variables from my experiment in a data frame called `expt` I can do so like this:\n",
    "```{r}\n",
    "expt <- data.frame ( age, gender, group, score ) \n",
    "expt \n",
    "```\n",
    "Note that `expt` is a completely self-contained variable. Once you've created it, it no longer depends on the original variables from which it was constructed. That is, if we make changes to the original `age` variable, it will *not* lead to any changes to the age data stored in `expt`. \n",
    "\n",
    "\n",
    "\n",
    "### Pulling out the contents of the data frame using `$`\n",
    "\n",
    "```{r echo=FALSE}\n",
    "rm(age, gender, group, score)\n",
    "```\n",
    "\n",
    "\n",
    "At this point, our workspace contains only the one variable, a data frame called `expt`. But as we can see when we told R to print the variable out, this data frame contains 4 variables, each of which has 9 observations. So how do we get this information out again? After all, there's no point in storing information if you don't use it, and there's no way to use information if you can't access it. So let's talk a bit about how to pull information out of a data frame. \n",
    "\n",
    "The first thing we might want to do is pull out one of our stored variables, let's say `score`. One thing you might try to do is ignore the fact that `score` is locked up inside the `expt` data frame. For instance, you might try to print it out like this:\n",
    "```{r error=TRUE}\n",
    "score\n",
    "```\n",
    "This doesn't work, because R doesn't go \"peeking\" inside the data frame unless you explicitly tell it to do so. There's actually a very good reason for this, which I'll explain in a moment, but for now let's just assume R knows what it's doing. How do we tell R to look inside the data frame? As is always the case with R there are several ways. The simplest way is to use the `$` operator to extract the variable you're interested in, like this:\n",
    "```{r}\n",
    "expt$score\n",
    "```\n",
    "\n",
    "\n",
    "\n",
    "### Getting information about a data frame\n",
    "\n",
    "One problem that sometimes comes up in practice is that you forget what you called all your variables. Normally you might try to type `objects()` or `who()`, but neither of those commands will tell you what the names are for those variables inside a data frame! One way is to ask R to tell you what the *names* of all the variables stored in the data frame are, which you can do using the `names()` function:\n",
    "```{r}\n",
    "names(expt)\n",
    "```\n",
    "An alternative method is to use the `who()` function, as long as you tell it to look at the variables inside data frames. If you set `expand = TRUE` then it will not only list the variables in the workspace, but it will \"expand\" any data frames that you've got in the workspace, so that you can see what they look like. That is:\n",
    "```{r}\n",
    "who(expand = TRUE)\n",
    "```\n",
    "or, since `expand` is the first argument in the `who()` function you can just type `who(TRUE)`. I'll do that a lot in this book.\n",
    "\n",
    "\n",
    "### Looking for more on data frames?\n",
    "\n",
    "There's a lot more that can be said about data frames: they're fairly complicated beasts, and the longer you use R the more important it is to make sure you really understand them. We'll talk a lot more about them in Chapter \\@ref(datahandling).\n",
    "\n",
    "\n",
    "\n",
    "\n",
    "\n",
    "\n",
    "\n",
    "## Lists{#lists}\n",
    "\n",
    "The next kind of data I want to mention are **_lists_**. Lists are an extremely fundamental data structure in R, and as you start making the transition from a novice to a savvy R user you will use lists all the time. I don't use lists very often in this book -- not directly -- but most of the advanced data structures in R are built from lists (e.g., data frames are actually a specific type of list). Because lists are so important to how R stores things, it's useful to have a basic understanding of them. Okay, so what is a list, exactly? Like data frames, lists are just \"collections of variables.\" However, unlike data frames -- which are basically supposed to look like a nice \"rectangular\" table of data -- there are no constraints on what kinds of variables we include, and no requirement that the variables have any particular relationship to one another. In order to understand what this actually *means*, the best thing to do is create a list, which we can do using the `list()` function. If I type this as my command:\n",
    "```{r}\n",
    "Dan <- list( age = 34,\n",
    "            nerd = TRUE,\n",
    "            parents = c(\"Joe\",\"Liz\") \n",
    ")\n",
    "```\n",
    "R creates a new list variable called `Dan`, which is a bundle of three different variables: `age`, `nerd` and `parents`. Notice, that the `parents` variable is longer than the others. This is perfectly acceptable for a list, but it wouldn't be for a data frame. If we now print out the variable, you can see the way that R stores the list:\n",
    "```{r}\n",
    "print( Dan )\n",
    "```\n",
    "As you might have guessed from those `$` symbols everywhere, the variables are stored in exactly the same way that they are for a data frame (again, this is not surprising: data frames *are* a type of list). So you will (I hope) be entirely unsurprised and probably quite bored when I tell you that you can extract the variables from the list using the `$` operator, like so:\n",
    "```{r}\n",
    "Dan$nerd\n",
    "```\n",
    "If you need to add new entries to the list, the easiest way to do so is to again use `$`, as the following example illustrates. If I type a command like this\n",
    "```{r}\n",
    "Dan$children <- \"Alex\"\n",
    "```\n",
    "then R creates a new entry to the end of the list called `children`, and assigns it a value of `\"Alex\"`. If I were now to `print()` this list out, you'd see a new entry at the bottom of the printout. Finally, it's actually possible for lists to contain other lists, so it's quite possible that I would end up using a command like `Dan$children$age` to find out how old my son is. Or I could try to remember it myself I suppose. \n",
    "\n",
    "\n",
    "\n",
    "\n",
    "## Formulas{#formulas}\n",
    " \n",
    "The last kind of variable that I want to introduce before finally being able to start talking about statistics is the **_formula_**. Formulas were originally introduced into R as a convenient way to specify a particular type of statistical model (see Chapter \\@ref(regression)) but they're such handy things that they've spread. Formulas are now used in a lot of different contexts, so it makes sense to introduce them early.\n",
    "\n",
    "Stated simply, a formula object is a variable, but it's a special type of variable that specifies a relationship between other variables. A formula is specified using the \"tilde operator\" `~`. A very simple example of a formula is shown below:^[Note that, when I write out the formula, R doesn't check to see if the `out` and `pred` variables actually exist: it's only later on when you try to use the formula for something that this happens.]\n",
    "```{r}\n",
    "formula1 <- out ~ pred\n",
    "formula1\n",
    "```\n",
    "The *precise* meaning of this formula depends on exactly what you want to do with it, but in broad terms it means \"the `out` (outcome) variable, analysed in terms of the `pred` (predictor) variable\". That said, although the simplest and most common form of a formula uses the  \"one variable on the left, one variable on the right\" format, there are others. For instance, the following examples are all reasonably common\n",
    "```{r}\n",
    "formula2 <-  out ~ pred1 + pred2   # more than one variable on the right\n",
    "formula3 <-  out ~ pred1 * pred2   # different relationship between predictors \n",
    "formula4 <-  ~ var1 + var2         # a 'one-sided' formula\n",
    "```\n",
    "and there are many more variants besides. Formulas are pretty flexible things, and so different functions will make use of different formats, depending on what the function is intended to do.\n",
    "\n",
    "\n",
    "## Generic functions{#generics}\n",
    "\n",
    "There's one really important thing that I omitted when I discussed functions earlier on in Section \\@ref(usingfunctions), and that's the concept of a **_generic function_**. The two most notable examples that you'll see in the next few chapters are `summary()` and `plot()`, although you've already seen an example of one working behind the scenes, and that's the `print()` function. The thing that makes generics different from the other functions is that their behaviour changes, often quite dramatically, depending on the `class()` of the input you give it. The easiest way to explain the concept is with an example. With that in mind, lets take a closer look at what the `print()` function actually does. I'll do this by creating a formula, and printing it out in a few different ways. First, let's stick with what we know:\n",
    "```{r}\n",
    "my.formula <- blah ~ blah.blah    # create a variable of class \"formula\"\n",
    "print( my.formula )               # print it out using the generic print() function\n",
    "```\n",
    "So far, there's nothing very surprising here. But there's actually a lot going on behind the scenes here. When I type `print( my.formula )`, what actually happens is the `print()` function checks the class of the `my.formula` variable. When the function discovers that the variable it's been given is a formula, it goes looking for a function called `print.formula()`, and then delegates the whole business of printing out the variable to the `print.formula()` function.^[For readers with a programming background: what I'm describing is the very basics of how S3 methods work. However, you should be aware that R has two entirely distinct systems for doing object oriented programming, known as S3 and S4. Of the two, S3 is simpler and more informal, whereas S4 supports all the stuff that you might expect of a fully object oriented language. Most of the generics we'll run into in this book use the S3 system, which is convenient for me because I'm still trying to figure out S4. ] For what it's worth, the name for a \"dedicated\" function like `print.formula()` that exists only to be a special case of a generic function like `print()` is a **_method_**, and the name for the process in which the generic function passes off all the hard work onto a method is called **_method dispatch_**. You won't need to understand the details at all for this book, but you do need to know the gist of it; if only because a lot of the functions we'll use are actually generics. Anyway, to help expose a little more of the workings to you, let's bypass the `print()` function entirely and call the formula method directly:\n",
    "```{r eval=FALSE}\n",
    "print.formula( my.formula )       # print it out using the print.formula() method\n",
    "\n",
    "## Appears to be deprecated\n",
    "```\n",
    "There's no difference in the output at all. But this shouldn't surprise you because it was actually the `print.formula()` method that was doing all the hard work in the first place. The `print()` function itself is a lazy bastard that doesn't do anything other than select which of the methods is going to do the actual printing. \n",
    "\n",
    "Okay, fair enough, but you might be wondering what would have happened if `print.formula()` didn't exist? That is, what happens if there isn't a specific method defined for the class of variable that you're using? In that case, the generic function passes off the hard work to a \"default\" method, whose name in this case would be `print.default()`. Let's see what happens if we bypass the `print()` formula, and try to print out `my.formula` using the  `print.default()` function:\n",
    "```{r}\n",
    "print.default( my.formula )      # print it out using the print.default() method\n",
    "```\n",
    "Hm. You can kind of see that it is trying to print out the same formula, but there's a bunch of ugly low-level details that have also turned up on screen. This is because the `print.default()` method doesn't know anything about formulas, and doesn't know that it's supposed to be hiding the obnoxious internal gibberish that R produces sometimes. \n",
    "\n",
    "At this stage, this is about as much as we need to know about generic functions and their methods. In fact, you can get through the entire book without learning any more about them than this, so it's probably a good idea to end this discussion here.\n",
    "\n",
    "## Getting help{#help}\n",
    "\n",
    "The very last topic I want to mention in this chapter is where to go to find help. Obviously, I've tried to make this book as helpful as possible, but it's not even close to being a comprehensive guide, and there's thousands of things it doesn't cover. So where should you go for help? \n",
    "\n",
    "\n",
    "### How to read the help documentation\n",
    "\n",
    "I have somewhat mixed feelings about the help documentation in R. On the plus side, there’s a lot of it, and it’s very thorough. On the minus side, there’s a lot of it, and it’s very thorough. There’s so much help documentation that it sometimes doesn’t help, and most of it is written with an advanced user in mind. Often it feels like most of the help ﬁles work on the assumption that the reader already understands everything about R except for the speciﬁc topic that it’s providing help for. What that means is that, once you’ve been using R for a long time and are beginning to get a feel for how to use it, the help documentation is awesome. These days, I ﬁnd myself really liking the help ﬁles (most of them anyway). But when I ﬁrst started using R I found it very dense.\n",
    "\n",
    "To some extent, there’s not much I can do to help you with this. You just have to work at it yourself; once you’re moving away from being a pure beginner and are becoming a skilled user, you’ll start ﬁnding the help documentation more and more helpful. In the meantime, I’ll help as much as I can by trying to explain to you what you’re looking at when you open a help ﬁle. To that end, let’s look at the help documentation for the `load()` function. To do so, I type either of the following:\n",
    "\n",
    "```{r eval=FALSE}\n",
    "?load \n",
    "help(\"load\")\n",
    "```\n",
    "\n",
    "When I do that, R goes looking for the help ﬁle for the \"load\" topic. If it ﬁnds one, Rstudio takes it and displays it in the help panel. Alternatively, you can try a fuzzy search for a help topic\n",
    "\n",
    "```{r eval=FALSE}\n",
    "??load \n",
    "help.search(\"load\")\n",
    "\n",
    "```\n",
    "\n",
    "This will bring up a list of possible topics that you might want to follow up in. Regardless, at some point you’ll ﬁnd yourself looking at an actual help ﬁle. And when you do, you’ll see there’s a quite a lot of stuﬀ written down there, and it comes in a pretty standardised format. So let’s go through it slowly, using the \"`load`\" topic as our example. Firstly, at the very top we see this:\n",
    "```{block2, type='rmdnote'}\n",
    "<table width=\"100%\" summary=\"page for load {base}\"><tr><td>load {base}</td><td style=\"text-align: right;\">R Documentation</td></tr></table>\n",
    "\n",
    "<h4>Reload Saved Datasets</h4>\n",
    "\n",
    "<h5>Description</h5>\n",
    "\n",
    "<p>Reload datasets written with the function <code>save</code>.\n",
    "</p>\n",
    "```\n",
    "\n",
    "\n",
    "Fairly straightforward. The next section describes how the function is used:\n",
    "```{block2, type='rmdnote'}\n",
    "<h5>Usage</h5>\n",
    "\n",
    "<pre>\n",
    "load(file, envir = parent.frame(), verbose = FALSE)\n",
    "</pre>\n",
    "```\n",
    "In this instance, the usage section is actually pretty readable. It’s telling you that there are two arguments to the `load()` function: the ﬁrst one is called `file`, and the second one is called `envir`. It’s also telling you that there is a default value for the envir argument; so if the user doesn’t specify what the value of envir should be, then R will assume that `envir = parent.frame()`. In contrast, the file argument has no default value at all, so the user must specify a value for it. So in one sense, this section is very straightforward.\n",
    "\n",
    "The problem, of course, is that you don’t know what the `parent.frame()` function actually does, so it’s hard for you to know what the `envir = parent.frame()` bit is all about. What you could do is then go look up the help documents for the `parent.frame()` function (and sometimes that’s actually a good idea), but often you’ll ﬁnd that the help documents for those functions are just as dense (if not more dense) than the help ﬁle that you’re currently reading. As an alternative, my general approach when faced with something like this is to skim over it, see if I can make any sense of it. If so, great. If not, I ﬁnd that the best thing to do is ignore it. In fact, the ﬁrst time I read the help ﬁle for the load() function, I had no idea what any of the `envir` related stuﬀ was about. But fortunately I didn’t have to: the default setting here (i.e., `envir = parent.frame()`) is actually the thing you want in about 99% of cases, so it’s safe to ignore it. \n",
    "\n",
    "Basically, what I’m trying to say is: don’t let the scary, incomprehensible parts of the help ﬁle intimidate you. Especially because there’s often some parts of the help ﬁle that will make sense. Of course, I guarantee you that sometimes this strategy will lead you to make mistakes... often embarrassing mistakes. But it’s still better than getting paralysed with fear. \n",
    "\n",
    "So, let’s continue on. The next part of the help documentation discusses each of the arguments, and what they’re supposed to do:\n",
    "```{block2, type='rmdnote'}\n",
    "<h5>Arguments</h5>\n",
    "\n",
    "<table summary=\"R argblock\">\n",
    "<tr valign=\"top\"><td><code>file</code></td>\n",
    "<td>\n",
    "<p>a (readable binary-mode) <a href=\"../../base/help/connection\">connection</a> or a character string\n",
    "giving the name of the file to load (when <a href=\"../../base/help/tilde expansion\">tilde expansion</a>\n",
    "is done).</p>\n",
    "</td></tr>\n",
    "<tr valign=\"top\"><td><code>envir</code></td>\n",
    "<td>\n",
    "<p>the environment where the data should be loaded.</p>\n",
    "</td></tr>\n",
    "<tr valign=\"top\"><td><code>verbose</code></td>\n",
    "<td>\n",
    "<p>should item names be printed during loading?</p>\n",
    "</td></tr>\n",
    "</table>\n",
    "```\n",
    "\n",
    "Okay, so what this is telling us is that the `file` argument needs to be a string (i.e., text data) which tells R the name of the ﬁle to load. It also seems to be hinting that there’s other possibilities too (e.g., a “binary mode connection”), and you probably aren’t quite sure what “tilde expansion” means^[It’s extremely simple, by the way. We discussed it in Section 4.4, though I didn’t call it by that name. Tilde expansion is the thing where R recognises that, in the context of specifying a ﬁle location, the tilde symbol ~ corresponds to the user home directory (e.g., /Users/dan/).]. But overall, the meaning is pretty clear.\n",
    "\n",
    "Turning to the `envir` argument, it’s now a little clearer what the Usage section was babbling about. The `envir` argument speciﬁes the name of an environment (see Section 4.3 if you’ve forgotten what environments are) into which R should place the variables when it loads the ﬁle. Almost always, this is a no-brainer: you want R to load the data into the same damn environment in which you’re invoking the `load()` command. That is, if you’re typing `load()` at the R prompt, then you want the data to be loaded into your workspace (i.e., the global environment). But if you’re writing your own function that needs to load some data, you want the data to be loaded inside that function’s private workspace. And in fact, that’s exactly what the `parent.frame()` thing is all about. It’s telling the `load()` function to send the data to the same place that the `load()` command itself was coming from. As it turns out, if we’d just ignored the envir bit we would have been totally safe. Which is nice to know. \n",
    "\n",
    "Moving on, next up we get a detailed description of what the function actually does:\n",
    "```{block2, type='rmdnote'}\n",
    "<h5>Details</h5>\n",
    "\n",
    "<p><code>load</code> can load <span style=\"font-family: Courier New, Courier; color: #666666;\"><b>R</b></span> objects saved in the current or any earlier\n",
    "format.  It can read a compressed file (see <code><a href=\"../../base/help/save\">save</a></code>)\n",
    "directly from a file or from a suitable connection (including a call\n",
    "to <code><a href=\"../../base/help/url\">url</a></code>).\n",
    "</p>\n",
    "<p>A not-open connection will be opened in mode <code>\"rb\"</code> and closed\n",
    "after use.  Any connection other than a <code><a href=\"../../base/help/gzfile\">gzfile</a></code> or\n",
    "<code><a href=\"../../base/help/gzcon\">gzcon</a></code> connection will be wrapped in <code><a href=\"../../base/help/gzcon\">gzcon</a></code>\n",
    "to allow compressed saves to be handled: note that this leaves the\n",
    "connection in an altered state (in particular, binary-only), and that\n",
    "it needs to be closed explicitly (it will not be garbage-collected).\n",
    "</p>\n",
    "<p>Only <span style=\"font-family: Courier New, Courier; color: #666666;\"><b>R</b></span> objects saved in the current format (used since <span style=\"font-family: Courier New, Courier; color: #666666;\"><b>R</b></span> 1.4.0)\n",
    "can be read from a connection.  If no input is available on a\n",
    "connection a warning will be given, but any input not in the current\n",
    "format will result in a error.\n",
    "</p>\n",
    "<p>Loading from an earlier version will give a warning about the\n",
    "&lsquo;magic number&rsquo;: magic numbers <code>1971:1977</code> are from <span style=\"font-family: Courier New, Courier; color: #666666;\"><b>R</b></span> &lt;\n",
    "0.99.0, and <code>RD[ABX]1</code> from <span style=\"font-family: Courier New, Courier; color: #666666;\"><b>R</b></span> 0.99.0 to <span style=\"font-family: Courier New, Courier; color: #666666;\"><b>R</b></span> 1.3.1.  These are all\n",
    "obsolete, and you are strongly recommended to re-save such files in a\n",
    "current format.\n",
    "</p>\n",
    "<p>The <code>verbose</code> argument is mainly intended for debugging.  If it\n",
    "is <code>TRUE</code>, then as objects from the file are loaded, their\n",
    "names will be printed to the console.  If <code>verbose</code> is set to\n",
    "an integer value greater than one, additional names corresponding to\n",
    "attributes and other parts of individual objects will also be printed.\n",
    "Larger values will print names to a greater depth.\n",
    "</p>\n",
    "<p>Objects can be saved with references to namespaces, usually as part of\n",
    "the environment of a function or formula.  Such objects can be loaded\n",
    "even if the namespace is not available: it is replaced by a reference\n",
    "to the global environment with a warning.  The warning identifies the\n",
    "first object with such a reference (but there may be more than one).\n",
    "</p>\n",
    "```\n",
    "\n",
    "Then it tells you what the output value of the function is:\n",
    "\n",
    "```{block2, type='rmdnote'}\n",
    "<h5>Value</h5>\n",
    "\n",
    "<p>A character vector of the names of objects created, invisibly.\n",
    "</p>\n",
    "```\n",
    "\n",
    "This is usually a bit more interesting, but since the `load()` function is mainly used to load variables into the workspace rather than to return a value, it’s no surprise that this doesn’t do much or say much. Moving on, we sometimes see a few additional sections in the help ﬁle, which can be diﬀerent depending on what the function is:\n",
    "\n",
    "```{block2, type='rmdnote'}\n",
    "<h5>Warning</h5>\n",
    "\n",
    "<p>Saved <span style=\"font-family: Courier New, Courier; color: #666666;\"><b>R</b></span> objects are binary files, even those saved with\n",
    "<code>ascii = TRUE</code>, so ensure that they are transferred without\n",
    "conversion of end of line markers.  <code>load</code> tries to detect such a\n",
    "conversion and gives an informative error message.\n",
    "</p>\n",
    "<p><code>load(&lt;file&gt;)</code> replaces all existing objects with the same names\n",
    "in the current environment (typically your workspace,\n",
    "<code><a href=\"../../base/help/.GlobalEnv\">.GlobalEnv</a></code>) and hence potentially overwrites important data.\n",
    "It is considerably safer to use <code>envir = </code> to load into a\n",
    "different environment, or to <code><a href=\"../../base/help/attach\">attach</a>(file)</code> which\n",
    "<code>load()</code>s into a new entry in the <code><a href=\"../../base/help/search\">search</a></code> path.\n",
    "</p>\n",
    "\n",
    "<h5>Note</h5>\n",
    "\n",
    "<p><code>file</code> can be a UTF-8-encoded filepath that cannot be translated to\n",
    "the current locale.\n",
    "</p>\n",
    "```\n",
    "\n",
    "Yeah, yeah. Warning, warning, blah blah blah. Towards the bottom of the help ﬁle, we see something like this, which suggests a bunch of related topics that you might want to look at. These can be quite helpful:\n",
    "\n",
    "```{block2, type='rmdnote'}\n",
    "<h5>See Also</h5>\n",
    "\n",
    "<p><code><a href=\"../../base/help/save\">save</a></code>, <code><a href=\"../../base/help/download.file\">download.file</a></code>; further\n",
    "<code><a href=\"../../base/help/attach\">attach</a></code> as wrapper for <code>load()</code>.\n",
    "</p>\n",
    "<p>For other interfaces to the underlying serialization format, see\n",
    "<code><a href=\"../../base/help/unserialize\">unserialize</a></code> and <code><a href=\"../../base/help/readRDS\">readRDS</a></code>.\n",
    "</p>\n",
    "```\n",
    "\n",
    "Finally, it gives you some examples of how to use the function(s) that the help ﬁle describes. These are supposed to be proper R commands, meaning that you should be able to type them into the console yourself and they’ll actually work. Sometimes it can be quite helpful to try the examples yourself. Anyway, here they are for the \"`load`\" help ﬁle:\n",
    "```{block2, type='rmdnote'}\n",
    "<h5>Examples</h5>\n",
    "\n",
    "<pre>\n",
    "\n",
    "\n",
    "## save all data\n",
    "xx &lt;- pi # to ensure there is some data\n",
    "save(list = ls(all = TRUE), file= \"all.rda\")\n",
    "rm(xx)\n",
    "\n",
    "## restore the saved values to the current environment\n",
    "local({\n",
    "   load(\"all.rda\")\n",
    "   ls()\n",
    "})\n",
    "\n",
    "xx &lt;- exp(1:3)\n",
    "## restore the saved values to the user's workspace\n",
    "load(\"all.rda\") ## which is here *equivalent* to\n",
    "## load(\"all.rda\", .GlobalEnv)\n",
    "## This however annihilates all objects in .GlobalEnv with the same names !\n",
    "xx # no longer exp(1:3)\n",
    "rm(xx)\n",
    "attach(\"all.rda\") # safer and will warn about masked objects w/ same name in .GlobalEnv\n",
    "ls(pos = 2)\n",
    "##  also typically need to cleanup the search path:\n",
    "detach(\"file:all.rda\")\n",
    "\n",
    "## clean up (the example):\n",
    "unlink(\"all.rda\")\n",
    "\n",
    "\n",
    "## Not run: \n",
    "con &lt;- url(\"http://some.where.net/R/data/example.rda\")\n",
    "## print the value to see what objects were created.\n",
    "print(load(con))\n",
    "close(con) # url() always opens the connection\n",
    "\n",
    "## End(Not run)</pre>\n",
    "```\n",
    "As you can see, they’re pretty dense, and not at all obvious to the novice user. However, they do provide good examples of the various diﬀerent things that you can do with the `load()` function, so it’s not a bad idea to have a look at them, and to try not to ﬁnd them too intimidating.\n",
    "\n",
    "### Other resources\n",
    "\n",
    "- The Rseek website (www.rseek.org). One thing that I really find annoying about the R help documentation is that it's hard to search properly. When coupled with the fact that the documentation is dense and highly technical, it's often a better idea to search or ask online for answers to your questions. With that in mind, the Rseek website is great: it's an R specific search engine. I find it really useful, and it's almost always my first port of call when I'm looking around.\n",
    "- The R-help mailing list (see http://www.r-project.org/mail.html for details). This is the official R help mailing list. It can be very helpful, but it's *very* important that you do your homework before posting a question. The list gets a lot of traffic. While the people on the list try as hard as they can to answer questions, they do so for free, and you *really* don't want to know how much money they could charge on an hourly rate if they wanted to apply market rates. In short, they are doing you a favour, so be polite. Don't waste their time asking questions that can be easily answered by a quick search on Rseek (it's rude), make sure your question is clear, and all of the relevant information is included. In short, read the posting guidelines carefully (http://www.r-project.org/posting-guide.html), and make use of the `help.request()` function that R provides to check that you're actually doing what you're expected.\n",
    "\n",
    "\n",
    "## Summary\n",
    "\n",
    "This chapter continued where Chapter \\@ref(introR) left off. The focus was still primarily on introducing basic R concepts, but this time at least you can see how those concepts are related to data analysis:\n",
    "\n",
    "- [Installing, loading and updating packages](#packageinstall). Knowing how to extend the functionality of R by installing and using packages is critical to becoming an effective R user\n",
    "- Getting around. Section \\@ref(workspace) talked about how to manage your workspace and how to keep it tidy. Similarly, Section \\@ref(navigation) talked about how to get R to interact with the rest of the file system.\n",
    "- [Loading and saving data](#load). Finally, we encountered actual data files. Loading and saving data is obviously a crucial skill, one we discussed in Section \\@ref(load).\n",
    "- [Useful things to know about variables](#useful). In particular, we talked about special values, element names and classes.\n",
    "- More complex types of variables. R has a number of important variable types that will be useful when analysing real data. I talked about factors in Section \\@ref(factors), data frames in Section \\@ref(dataframes), lists in Section \\@ref(lists) and formulas in Section \\@ref(formulas).\n",
    "- [Generic functions](#generics). How is it that some function seem to be able to do lots of different things? Section \\@ref(generics) tells you how.\n",
    "- [Getting help](#help). Assuming that you're not looking for counselling, Section \\@ref(help) covers several possibilities. If you are looking for counselling, well, this book really can't help you there. Sorry. \n",
    "\n",
    "Taken together, Chapters \\@ref(introR) and \\@ref(mechanics) provide enough of a background that you can finally get started doing some statistics! Yes, there's a lot more R concepts that you ought to know (and we'll talk about some of them in Chapters\\@ref(datahandling) and\\@ref(scripting)), but I think that we've talked quite enough about programming for the moment. It's time to see how your experience with programming can be used to do some data analysis..."
   ]
  }
 ],
 "metadata": {
  "kernelspec": {
   "display_name": "Python 3",
   "language": "python",
   "name": "python3"
  },
  "language_info": {
   "codemirror_mode": {
    "name": "ipython",
    "version": 3
   },
   "file_extension": ".py",
   "mimetype": "text/x-python",
   "name": "python",
   "nbconvert_exporter": "python",
   "pygments_lexer": "ipython3",
   "version": "3.7.6"
  }
 },
 "nbformat": 4,
 "nbformat_minor": 5
}
